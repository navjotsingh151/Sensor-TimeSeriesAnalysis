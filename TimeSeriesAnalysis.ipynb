{
  "nbformat": 4,
  "nbformat_minor": 0,
  "metadata": {
    "colab": {
      "name": "TimeSeriesAnalysis.ipynb",
      "provenance": [],
      "collapsed_sections": [],
      "mount_file_id": "1dQug0BQbyG8NgXacdOsq6tfKsKsBfu-w",
      "authorship_tag": "ABX9TyO1IOZUPC7iVX8CjPyx/C+T",
      "include_colab_link": true
    },
    "kernelspec": {
      "name": "python3",
      "display_name": "Python 3"
    },
    "accelerator": "GPU"
  },
  "cells": [
    {
      "cell_type": "markdown",
      "metadata": {
        "id": "view-in-github",
        "colab_type": "text"
      },
      "source": [
        "<a href=\"https://colab.research.google.com/github/navjotsingh151/Sensor-TimeSeriesAnalysis/blob/master/TimeSeriesAnalysis.ipynb\" target=\"_parent\"><img src=\"https://colab.research.google.com/assets/colab-badge.svg\" alt=\"Open In Colab\"/></a>"
      ]
    },
    {
      "cell_type": "markdown",
      "metadata": {
        "id": "w7axj8PsvY_w",
        "colab_type": "text"
      },
      "source": [
        "## Time Series analysis\n",
        "Data  is collected from sensor A at **3 minutes interval** i.e. 480 cycles per day. Data is gathered for a week time frame "
      ]
    },
    {
      "cell_type": "markdown",
      "metadata": {
        "id": "pVryrg9fHCtL",
        "colab_type": "text"
      },
      "source": [
        "# Data Cleaning"
      ]
    },
    {
      "cell_type": "code",
      "metadata": {
        "id": "0SLjScXjHLxK",
        "colab_type": "code",
        "colab": {}
      },
      "source": [
        "!pip install plotly==4.8.1\n",
        "!pip install chart_studio\n"
      ],
      "execution_count": 0,
      "outputs": []
    },
    {
      "cell_type": "code",
      "metadata": {
        "id": "e99vSH6FIVYI",
        "colab_type": "code",
        "outputId": "1fa8869c-ac2a-421f-869f-6a30da45e501",
        "colab": {
          "base_uri": "https://localhost:8080/",
          "height": 74
        }
      },
      "source": [
        "import numpy as np\n",
        "import pandas as pd\n",
        "import matplotlib.pyplot as plt\n",
        "import seaborn as sns\n",
        "from scipy.stats import norm\n",
        "import chart_studio.plotly as py\n",
        "import plotly.graph_objs as go\n",
        "from plotly.offline import init_notebook_mode, plot, iplot"
      ],
      "execution_count": 11,
      "outputs": [
        {
          "output_type": "stream",
          "text": [
            "/usr/local/lib/python3.6/dist-packages/statsmodels/tools/_testing.py:19: FutureWarning: pandas.util.testing is deprecated. Use the functions in the public API at pandas.testing instead.\n",
            "  import pandas.util.testing as tm\n"
          ],
          "name": "stderr"
        }
      ]
    },
    {
      "cell_type": "code",
      "metadata": {
        "id": "lBhQv8Dxv89n",
        "colab_type": "code",
        "colab": {}
      },
      "source": [
        "data_a = pd.read_csv(\"https://raw.githubusercontent.com/navjotsingh151/Sensor-TimeSeriesAnalysis/master/Data/Data_A.csv\")\n",
        "data_a.head()\n",
        "data_a.rename(columns={\"Timestamp \":\"Timestamp\"}, inplace=True)"
      ],
      "execution_count": 0,
      "outputs": []
    },
    {
      "cell_type": "code",
      "metadata": {
        "id": "w7U5k09FzwtD",
        "colab_type": "code",
        "outputId": "c81cd4f3-bc8e-4ff4-8da4-e2a00d158b84",
        "colab": {
          "base_uri": "https://localhost:8080/",
          "height": 206
        }
      },
      "source": [
        "data_a = data_a.sort_values([\"Timestamp\"], ascending = (True))\n",
        "data_a.reset_index(inplace=True)\n",
        "data_a.drop('index', axis = 1, inplace = True)\n",
        "data_a.head()"
      ],
      "execution_count": 13,
      "outputs": [
        {
          "output_type": "execute_result",
          "data": {
            "text/html": [
              "<div>\n",
              "<style scoped>\n",
              "    .dataframe tbody tr th:only-of-type {\n",
              "        vertical-align: middle;\n",
              "    }\n",
              "\n",
              "    .dataframe tbody tr th {\n",
              "        vertical-align: top;\n",
              "    }\n",
              "\n",
              "    .dataframe thead th {\n",
              "        text-align: right;\n",
              "    }\n",
              "</style>\n",
              "<table border=\"1\" class=\"dataframe\">\n",
              "  <thead>\n",
              "    <tr style=\"text-align: right;\">\n",
              "      <th></th>\n",
              "      <th>Date</th>\n",
              "      <th>Timestamp</th>\n",
              "      <th>Value</th>\n",
              "    </tr>\n",
              "  </thead>\n",
              "  <tbody>\n",
              "    <tr>\n",
              "      <th>0</th>\n",
              "      <td>18-May</td>\n",
              "      <td>20200518451</td>\n",
              "      <td>25340</td>\n",
              "    </tr>\n",
              "    <tr>\n",
              "      <th>1</th>\n",
              "      <td>18-May</td>\n",
              "      <td>20200518452</td>\n",
              "      <td>25361</td>\n",
              "    </tr>\n",
              "    <tr>\n",
              "      <th>2</th>\n",
              "      <td>18-May</td>\n",
              "      <td>20200518453</td>\n",
              "      <td>25365</td>\n",
              "    </tr>\n",
              "    <tr>\n",
              "      <th>3</th>\n",
              "      <td>18-May</td>\n",
              "      <td>20200518454</td>\n",
              "      <td>25368</td>\n",
              "    </tr>\n",
              "    <tr>\n",
              "      <th>4</th>\n",
              "      <td>18-May</td>\n",
              "      <td>20200518455</td>\n",
              "      <td>25356</td>\n",
              "    </tr>\n",
              "  </tbody>\n",
              "</table>\n",
              "</div>"
            ],
            "text/plain": [
              "     Date    Timestamp  Value\n",
              "0  18-May  20200518451  25340\n",
              "1  18-May  20200518452  25361\n",
              "2  18-May  20200518453  25365\n",
              "3  18-May  20200518454  25368\n",
              "4  18-May  20200518455  25356"
            ]
          },
          "metadata": {
            "tags": []
          },
          "execution_count": 13
        }
      ]
    },
    {
      "cell_type": "code",
      "metadata": {
        "id": "0JquG5TT1RnM",
        "colab_type": "code",
        "outputId": "52e546a9-9920-40ed-f95f-a32c99c363e4",
        "colab": {
          "base_uri": "https://localhost:8080/",
          "height": 201
        }
      },
      "source": [
        "\n",
        "\n",
        "data_a.info()"
      ],
      "execution_count": 14,
      "outputs": [
        {
          "output_type": "stream",
          "text": [
            "<class 'pandas.core.frame.DataFrame'>\n",
            "RangeIndex: 3412 entries, 0 to 3411\n",
            "Data columns (total 3 columns):\n",
            " #   Column     Non-Null Count  Dtype \n",
            "---  ------     --------------  ----- \n",
            " 0   Date       3412 non-null   object\n",
            " 1   Timestamp  3412 non-null   int64 \n",
            " 2   Value      3412 non-null   int64 \n",
            "dtypes: int64(2), object(1)\n",
            "memory usage: 80.1+ KB\n"
          ],
          "name": "stdout"
        }
      ]
    },
    {
      "cell_type": "code",
      "metadata": {
        "id": "gb9AmZko0nct",
        "colab_type": "code",
        "outputId": "6c3f8dcb-aecb-42c5-8b86-d627c9ef1fd2",
        "colab": {
          "base_uri": "https://localhost:8080/",
          "height": 206
        }
      },
      "source": [
        "data_a['year']= data_a.Timestamp.apply(lambda x : int(str(x)[:4]))\n",
        "data_a['month']= data_a.Timestamp.apply(lambda x : int(str(x)[4:6]))\n",
        "data_a['day']= data_a.Timestamp.apply(lambda x : int(str(x)[6:8]))\n",
        "data_a.head()"
      ],
      "execution_count": 15,
      "outputs": [
        {
          "output_type": "execute_result",
          "data": {
            "text/html": [
              "<div>\n",
              "<style scoped>\n",
              "    .dataframe tbody tr th:only-of-type {\n",
              "        vertical-align: middle;\n",
              "    }\n",
              "\n",
              "    .dataframe tbody tr th {\n",
              "        vertical-align: top;\n",
              "    }\n",
              "\n",
              "    .dataframe thead th {\n",
              "        text-align: right;\n",
              "    }\n",
              "</style>\n",
              "<table border=\"1\" class=\"dataframe\">\n",
              "  <thead>\n",
              "    <tr style=\"text-align: right;\">\n",
              "      <th></th>\n",
              "      <th>Date</th>\n",
              "      <th>Timestamp</th>\n",
              "      <th>Value</th>\n",
              "      <th>year</th>\n",
              "      <th>month</th>\n",
              "      <th>day</th>\n",
              "    </tr>\n",
              "  </thead>\n",
              "  <tbody>\n",
              "    <tr>\n",
              "      <th>0</th>\n",
              "      <td>18-May</td>\n",
              "      <td>20200518451</td>\n",
              "      <td>25340</td>\n",
              "      <td>2020</td>\n",
              "      <td>5</td>\n",
              "      <td>18</td>\n",
              "    </tr>\n",
              "    <tr>\n",
              "      <th>1</th>\n",
              "      <td>18-May</td>\n",
              "      <td>20200518452</td>\n",
              "      <td>25361</td>\n",
              "      <td>2020</td>\n",
              "      <td>5</td>\n",
              "      <td>18</td>\n",
              "    </tr>\n",
              "    <tr>\n",
              "      <th>2</th>\n",
              "      <td>18-May</td>\n",
              "      <td>20200518453</td>\n",
              "      <td>25365</td>\n",
              "      <td>2020</td>\n",
              "      <td>5</td>\n",
              "      <td>18</td>\n",
              "    </tr>\n",
              "    <tr>\n",
              "      <th>3</th>\n",
              "      <td>18-May</td>\n",
              "      <td>20200518454</td>\n",
              "      <td>25368</td>\n",
              "      <td>2020</td>\n",
              "      <td>5</td>\n",
              "      <td>18</td>\n",
              "    </tr>\n",
              "    <tr>\n",
              "      <th>4</th>\n",
              "      <td>18-May</td>\n",
              "      <td>20200518455</td>\n",
              "      <td>25356</td>\n",
              "      <td>2020</td>\n",
              "      <td>5</td>\n",
              "      <td>18</td>\n",
              "    </tr>\n",
              "  </tbody>\n",
              "</table>\n",
              "</div>"
            ],
            "text/plain": [
              "     Date    Timestamp  Value  year  month  day\n",
              "0  18-May  20200518451  25340  2020      5   18\n",
              "1  18-May  20200518452  25361  2020      5   18\n",
              "2  18-May  20200518453  25365  2020      5   18\n",
              "3  18-May  20200518454  25368  2020      5   18\n",
              "4  18-May  20200518455  25356  2020      5   18"
            ]
          },
          "metadata": {
            "tags": []
          },
          "execution_count": 15
        }
      ]
    },
    {
      "cell_type": "code",
      "metadata": {
        "id": "w0vtBMQj18gx",
        "colab_type": "code",
        "outputId": "32f8f57c-bb45-4b69-fd02-a2fdd3046fa8",
        "colab": {
          "base_uri": "https://localhost:8080/",
          "height": 225
        }
      },
      "source": [
        "#Adding time part for 8 days\n",
        "\n",
        "# i = pd.date_range('2020-05-18', periods=480, freq='3S')\n",
        "# s = pd.DataFrame(i)\n",
        "data_timedf = pd.DataFrame()\n",
        "dates = ['2020-05-19', '2020-05-20', '2020-05-21', '2020-05-22', '2020-05-23', '2020-05-24' , '2020-05-25' ]\n",
        "for i in dates:\n",
        "  series_ty = pd.date_range(i, periods=480, freq='3min')\n",
        "  s = pd.DataFrame(series_ty, columns=['time'])\n",
        "  data_timedf = pd.concat([data_timedf, s])\n",
        "\n",
        "print(len(data_timedf))\n",
        "data_timedf.head()\n"
      ],
      "execution_count": 16,
      "outputs": [
        {
          "output_type": "stream",
          "text": [
            "3360\n"
          ],
          "name": "stdout"
        },
        {
          "output_type": "execute_result",
          "data": {
            "text/html": [
              "<div>\n",
              "<style scoped>\n",
              "    .dataframe tbody tr th:only-of-type {\n",
              "        vertical-align: middle;\n",
              "    }\n",
              "\n",
              "    .dataframe tbody tr th {\n",
              "        vertical-align: top;\n",
              "    }\n",
              "\n",
              "    .dataframe thead th {\n",
              "        text-align: right;\n",
              "    }\n",
              "</style>\n",
              "<table border=\"1\" class=\"dataframe\">\n",
              "  <thead>\n",
              "    <tr style=\"text-align: right;\">\n",
              "      <th></th>\n",
              "      <th>time</th>\n",
              "    </tr>\n",
              "  </thead>\n",
              "  <tbody>\n",
              "    <tr>\n",
              "      <th>0</th>\n",
              "      <td>2020-05-19 00:00:00</td>\n",
              "    </tr>\n",
              "    <tr>\n",
              "      <th>1</th>\n",
              "      <td>2020-05-19 00:03:00</td>\n",
              "    </tr>\n",
              "    <tr>\n",
              "      <th>2</th>\n",
              "      <td>2020-05-19 00:06:00</td>\n",
              "    </tr>\n",
              "    <tr>\n",
              "      <th>3</th>\n",
              "      <td>2020-05-19 00:09:00</td>\n",
              "    </tr>\n",
              "    <tr>\n",
              "      <th>4</th>\n",
              "      <td>2020-05-19 00:12:00</td>\n",
              "    </tr>\n",
              "  </tbody>\n",
              "</table>\n",
              "</div>"
            ],
            "text/plain": [
              "                 time\n",
              "0 2020-05-19 00:00:00\n",
              "1 2020-05-19 00:03:00\n",
              "2 2020-05-19 00:06:00\n",
              "3 2020-05-19 00:09:00\n",
              "4 2020-05-19 00:12:00"
            ]
          },
          "metadata": {
            "tags": []
          },
          "execution_count": 16
        }
      ]
    },
    {
      "cell_type": "code",
      "metadata": {
        "id": "H7iv63f96Ubu",
        "colab_type": "code",
        "outputId": "9c51b40f-3784-42ff-cc08-8a1ca597ce20",
        "colab": {
          "base_uri": "https://localhost:8080/",
          "height": 243
        }
      },
      "source": [
        "# Time creation for 18- May\n",
        "i = pd.date_range('2020-05-18', periods=480, freq='3min')\n",
        "data_timedf_18 = pd.DataFrame(i, columns=['time'])\n",
        "data_timedf_18 = data_timedf_18.sort_values(['time'], ascending= False)[:30]\n",
        "data_timedf_18 = data_timedf_18.sort_values(['time'], ascending= True)\n",
        "print(len(data_timedf_18))\n",
        "data_timedf_18\n",
        "\n",
        "# Time creation for 26 - May\n",
        "i = pd.date_range('2020-05-26', periods=480, freq='3min')\n",
        "data_timedf_26 = pd.DataFrame(i, columns=['time'])\n",
        "data_timedf_26 = data_timedf_26.sort_values(['time'], ascending= True)[:22]\n",
        "# data_timedf_26 = data_timedf_26.sort_values(['time'], ascending= True)[:22]\n",
        "print(len(data_timedf_26))\n",
        "data_timedf_26.head()\n",
        "\n"
      ],
      "execution_count": 17,
      "outputs": [
        {
          "output_type": "stream",
          "text": [
            "30\n",
            "22\n"
          ],
          "name": "stdout"
        },
        {
          "output_type": "execute_result",
          "data": {
            "text/html": [
              "<div>\n",
              "<style scoped>\n",
              "    .dataframe tbody tr th:only-of-type {\n",
              "        vertical-align: middle;\n",
              "    }\n",
              "\n",
              "    .dataframe tbody tr th {\n",
              "        vertical-align: top;\n",
              "    }\n",
              "\n",
              "    .dataframe thead th {\n",
              "        text-align: right;\n",
              "    }\n",
              "</style>\n",
              "<table border=\"1\" class=\"dataframe\">\n",
              "  <thead>\n",
              "    <tr style=\"text-align: right;\">\n",
              "      <th></th>\n",
              "      <th>time</th>\n",
              "    </tr>\n",
              "  </thead>\n",
              "  <tbody>\n",
              "    <tr>\n",
              "      <th>0</th>\n",
              "      <td>2020-05-26 00:00:00</td>\n",
              "    </tr>\n",
              "    <tr>\n",
              "      <th>1</th>\n",
              "      <td>2020-05-26 00:03:00</td>\n",
              "    </tr>\n",
              "    <tr>\n",
              "      <th>2</th>\n",
              "      <td>2020-05-26 00:06:00</td>\n",
              "    </tr>\n",
              "    <tr>\n",
              "      <th>3</th>\n",
              "      <td>2020-05-26 00:09:00</td>\n",
              "    </tr>\n",
              "    <tr>\n",
              "      <th>4</th>\n",
              "      <td>2020-05-26 00:12:00</td>\n",
              "    </tr>\n",
              "  </tbody>\n",
              "</table>\n",
              "</div>"
            ],
            "text/plain": [
              "                 time\n",
              "0 2020-05-26 00:00:00\n",
              "1 2020-05-26 00:03:00\n",
              "2 2020-05-26 00:06:00\n",
              "3 2020-05-26 00:09:00\n",
              "4 2020-05-26 00:12:00"
            ]
          },
          "metadata": {
            "tags": []
          },
          "execution_count": 17
        }
      ]
    },
    {
      "cell_type": "code",
      "metadata": {
        "id": "yJ5txDmj_fmB",
        "colab_type": "code",
        "outputId": "faa7b582-9505-4b52-859e-3a21a1fbe428",
        "colab": {
          "base_uri": "https://localhost:8080/",
          "height": 206
        }
      },
      "source": [
        "## Concatenate all time series \n",
        "\n",
        "data_timedf = pd.concat([data_timedf_18, data_timedf, data_timedf_26], axis = 0, sort=True)\n",
        "data_timedf.sort_values('time', ascending=True)\n",
        "data_timedf.reset_index(inplace=True)\n",
        "data_timedf.drop('index', axis = 1, inplace= True)\n",
        "data_timedf.head()"
      ],
      "execution_count": 18,
      "outputs": [
        {
          "output_type": "execute_result",
          "data": {
            "text/html": [
              "<div>\n",
              "<style scoped>\n",
              "    .dataframe tbody tr th:only-of-type {\n",
              "        vertical-align: middle;\n",
              "    }\n",
              "\n",
              "    .dataframe tbody tr th {\n",
              "        vertical-align: top;\n",
              "    }\n",
              "\n",
              "    .dataframe thead th {\n",
              "        text-align: right;\n",
              "    }\n",
              "</style>\n",
              "<table border=\"1\" class=\"dataframe\">\n",
              "  <thead>\n",
              "    <tr style=\"text-align: right;\">\n",
              "      <th></th>\n",
              "      <th>time</th>\n",
              "    </tr>\n",
              "  </thead>\n",
              "  <tbody>\n",
              "    <tr>\n",
              "      <th>0</th>\n",
              "      <td>2020-05-18 22:30:00</td>\n",
              "    </tr>\n",
              "    <tr>\n",
              "      <th>1</th>\n",
              "      <td>2020-05-18 22:33:00</td>\n",
              "    </tr>\n",
              "    <tr>\n",
              "      <th>2</th>\n",
              "      <td>2020-05-18 22:36:00</td>\n",
              "    </tr>\n",
              "    <tr>\n",
              "      <th>3</th>\n",
              "      <td>2020-05-18 22:39:00</td>\n",
              "    </tr>\n",
              "    <tr>\n",
              "      <th>4</th>\n",
              "      <td>2020-05-18 22:42:00</td>\n",
              "    </tr>\n",
              "  </tbody>\n",
              "</table>\n",
              "</div>"
            ],
            "text/plain": [
              "                 time\n",
              "0 2020-05-18 22:30:00\n",
              "1 2020-05-18 22:33:00\n",
              "2 2020-05-18 22:36:00\n",
              "3 2020-05-18 22:39:00\n",
              "4 2020-05-18 22:42:00"
            ]
          },
          "metadata": {
            "tags": []
          },
          "execution_count": 18
        }
      ]
    },
    {
      "cell_type": "code",
      "metadata": {
        "id": "ttAJaUl19XNa",
        "colab_type": "code",
        "outputId": "a02d7bb7-3510-483a-badc-f189c310e161",
        "colab": {
          "base_uri": "https://localhost:8080/",
          "height": 206
        }
      },
      "source": [
        "# Making the complete dataset\n",
        "data_a = pd.concat([data_a, data_timedf], axis = 1)\n",
        "data_a.head()"
      ],
      "execution_count": 19,
      "outputs": [
        {
          "output_type": "execute_result",
          "data": {
            "text/html": [
              "<div>\n",
              "<style scoped>\n",
              "    .dataframe tbody tr th:only-of-type {\n",
              "        vertical-align: middle;\n",
              "    }\n",
              "\n",
              "    .dataframe tbody tr th {\n",
              "        vertical-align: top;\n",
              "    }\n",
              "\n",
              "    .dataframe thead th {\n",
              "        text-align: right;\n",
              "    }\n",
              "</style>\n",
              "<table border=\"1\" class=\"dataframe\">\n",
              "  <thead>\n",
              "    <tr style=\"text-align: right;\">\n",
              "      <th></th>\n",
              "      <th>Date</th>\n",
              "      <th>Timestamp</th>\n",
              "      <th>Value</th>\n",
              "      <th>year</th>\n",
              "      <th>month</th>\n",
              "      <th>day</th>\n",
              "      <th>time</th>\n",
              "    </tr>\n",
              "  </thead>\n",
              "  <tbody>\n",
              "    <tr>\n",
              "      <th>0</th>\n",
              "      <td>18-May</td>\n",
              "      <td>20200518451</td>\n",
              "      <td>25340</td>\n",
              "      <td>2020</td>\n",
              "      <td>5</td>\n",
              "      <td>18</td>\n",
              "      <td>2020-05-18 22:30:00</td>\n",
              "    </tr>\n",
              "    <tr>\n",
              "      <th>1</th>\n",
              "      <td>18-May</td>\n",
              "      <td>20200518452</td>\n",
              "      <td>25361</td>\n",
              "      <td>2020</td>\n",
              "      <td>5</td>\n",
              "      <td>18</td>\n",
              "      <td>2020-05-18 22:33:00</td>\n",
              "    </tr>\n",
              "    <tr>\n",
              "      <th>2</th>\n",
              "      <td>18-May</td>\n",
              "      <td>20200518453</td>\n",
              "      <td>25365</td>\n",
              "      <td>2020</td>\n",
              "      <td>5</td>\n",
              "      <td>18</td>\n",
              "      <td>2020-05-18 22:36:00</td>\n",
              "    </tr>\n",
              "    <tr>\n",
              "      <th>3</th>\n",
              "      <td>18-May</td>\n",
              "      <td>20200518454</td>\n",
              "      <td>25368</td>\n",
              "      <td>2020</td>\n",
              "      <td>5</td>\n",
              "      <td>18</td>\n",
              "      <td>2020-05-18 22:39:00</td>\n",
              "    </tr>\n",
              "    <tr>\n",
              "      <th>4</th>\n",
              "      <td>18-May</td>\n",
              "      <td>20200518455</td>\n",
              "      <td>25356</td>\n",
              "      <td>2020</td>\n",
              "      <td>5</td>\n",
              "      <td>18</td>\n",
              "      <td>2020-05-18 22:42:00</td>\n",
              "    </tr>\n",
              "  </tbody>\n",
              "</table>\n",
              "</div>"
            ],
            "text/plain": [
              "     Date    Timestamp  Value  year  month  day                time\n",
              "0  18-May  20200518451  25340  2020      5   18 2020-05-18 22:30:00\n",
              "1  18-May  20200518452  25361  2020      5   18 2020-05-18 22:33:00\n",
              "2  18-May  20200518453  25365  2020      5   18 2020-05-18 22:36:00\n",
              "3  18-May  20200518454  25368  2020      5   18 2020-05-18 22:39:00\n",
              "4  18-May  20200518455  25356  2020      5   18 2020-05-18 22:42:00"
            ]
          },
          "metadata": {
            "tags": []
          },
          "execution_count": 19
        }
      ]
    },
    {
      "cell_type": "code",
      "metadata": {
        "id": "LJvgQsaN9zgN",
        "colab_type": "code",
        "colab": {}
      },
      "source": [
        "data_a.drop(['Date', 'year', 'month', 'day'], axis = 1, inplace = True)\n",
        "data_a['Value'].astype(int)\n",
        "data_a.to_csv(\"data_input.csv\", index = False)"
      ],
      "execution_count": 0,
      "outputs": []
    },
    {
      "cell_type": "markdown",
      "metadata": {
        "id": "BmrtBpkkHPS0",
        "colab_type": "text"
      },
      "source": [
        "# EDA\n"
      ]
    },
    {
      "cell_type": "code",
      "metadata": {
        "id": "CiuSWPvaHSM0",
        "colab_type": "code",
        "colab": {}
      },
      "source": [
        "!pip install auto_ts"
      ],
      "execution_count": 0,
      "outputs": []
    },
    {
      "cell_type": "code",
      "metadata": {
        "id": "29k2FN_YJ-KA",
        "colab_type": "code",
        "colab": {}
      },
      "source": [
        "import matplotlib as mpl\n",
        "import matplotlib.pyplot as plt\n",
        "from datetime import datetime\n",
        "import auto_ts as AT \n",
        "import pandas as pd\n",
        "pd.options.plotting.backend = \"plotly\"\n",
        "\n",
        "mpl.rcParams['figure.figsize'] = (8,6)\n",
        "mpl.rcParams['axes.grid'] = False\n"
      ],
      "execution_count": 0,
      "outputs": []
    },
    {
      "cell_type": "code",
      "metadata": {
        "id": "Aoq2wP6aJgPz",
        "colab_type": "code",
        "outputId": "f01e34f3-5f9b-4842-8289-478ecf0e3c8f",
        "colab": {
          "base_uri": "https://localhost:8080/",
          "height": 311
        }
      },
      "source": [
        "data = pd.read_csv(\"/content/data_input.csv\")\n",
        "data.drop('Timestamp', axis = 1, inplace = True)\n",
        "data['time']= pd.to_datetime(data['time']) \n",
        "print(data.head())\n",
        "print(data.info())"
      ],
      "execution_count": 23,
      "outputs": [
        {
          "output_type": "stream",
          "text": [
            "   Value                time\n",
            "0  25340 2020-05-18 22:30:00\n",
            "1  25361 2020-05-18 22:33:00\n",
            "2  25365 2020-05-18 22:36:00\n",
            "3  25368 2020-05-18 22:39:00\n",
            "4  25356 2020-05-18 22:42:00\n",
            "<class 'pandas.core.frame.DataFrame'>\n",
            "RangeIndex: 3412 entries, 0 to 3411\n",
            "Data columns (total 2 columns):\n",
            " #   Column  Non-Null Count  Dtype         \n",
            "---  ------  --------------  -----         \n",
            " 0   Value   3412 non-null   int64         \n",
            " 1   time    3412 non-null   datetime64[ns]\n",
            "dtypes: datetime64[ns](1), int64(1)\n",
            "memory usage: 53.4 KB\n",
            "None\n"
          ],
          "name": "stdout"
        }
      ]
    },
    {
      "cell_type": "code",
      "metadata": {
        "id": "f_3LKGetNk9l",
        "colab_type": "code",
        "colab": {}
      },
      "source": [
        "data_df = data.set_index('time')"
      ],
      "execution_count": 0,
      "outputs": []
    },
    {
      "cell_type": "code",
      "metadata": {
        "id": "8-2xTwKKO2u9",
        "colab_type": "code",
        "outputId": "0f14e6fc-7947-491e-99f3-3a85715843d0",
        "colab": {
          "base_uri": "https://localhost:8080/",
          "height": 542
        }
      },
      "source": [
        "data_df.plot()"
      ],
      "execution_count": 25,
      "outputs": [
        {
          "output_type": "display_data",
          "data": {
            "text/html": [
              "<html>\n",
              "<head><meta charset=\"utf-8\" /></head>\n",
              "<body>\n",
              "    <div>\n",
              "            <script src=\"https://cdnjs.cloudflare.com/ajax/libs/mathjax/2.7.5/MathJax.js?config=TeX-AMS-MML_SVG\"></script><script type=\"text/javascript\">if (window.MathJax) {MathJax.Hub.Config({SVG: {font: \"STIX-Web\"}});}</script>\n",
              "                <script type=\"text/javascript\">window.PlotlyConfig = {MathJaxConfig: 'local'};</script>\n",
              "        <script src=\"https://cdn.plot.ly/plotly-latest.min.js\"></script>    \n",
              "            <div id=\"ae961824-7eb9-4f0d-80db-3f8b7391fca8\" class=\"plotly-graph-div\" style=\"height:525px; width:100%;\"></div>\n",
              "            <script type=\"text/javascript\">\n",
              "                \n",
              "                    window.PLOTLYENV=window.PLOTLYENV || {};\n",
              "                    \n",
              "                if (document.getElementById(\"ae961824-7eb9-4f0d-80db-3f8b7391fca8\")) {\n",
              "                    Plotly.newPlot(\n",
              "                        'ae961824-7eb9-4f0d-80db-3f8b7391fca8',\n",
              "                        [{\"hovertemplate\": \"variable=Value<br>time=%{x}<br>value=%{y}<extra></extra>\", \"legendgroup\": \"Value\", \"line\": {\"color\": \"#636efa\", \"dash\": \"solid\"}, \"mode\": \"lines\", \"name\": \"Value\", \"showlegend\": true, \"type\": \"scattergl\", \"x\": [\"2020-05-18T22:30:00\", \"2020-05-18T22:33:00\", \"2020-05-18T22:36:00\", \"2020-05-18T22:39:00\", \"2020-05-18T22:42:00\", \"2020-05-18T22:45:00\", \"2020-05-18T22:48:00\", \"2020-05-18T22:51:00\", \"2020-05-18T22:54:00\", \"2020-05-18T22:57:00\", \"2020-05-18T23:00:00\", \"2020-05-18T23:03:00\", \"2020-05-18T23:06:00\", \"2020-05-18T23:09:00\", \"2020-05-18T23:12:00\", \"2020-05-18T23:15:00\", \"2020-05-18T23:18:00\", \"2020-05-18T23:21:00\", \"2020-05-18T23:24:00\", \"2020-05-18T23:27:00\", \"2020-05-18T23:30:00\", \"2020-05-18T23:33:00\", \"2020-05-18T23:36:00\", \"2020-05-18T23:39:00\", \"2020-05-18T23:42:00\", \"2020-05-18T23:45:00\", \"2020-05-18T23:48:00\", \"2020-05-18T23:51:00\", \"2020-05-18T23:54:00\", \"2020-05-18T23:57:00\", \"2020-05-19T00:00:00\", \"2020-05-19T00:03:00\", \"2020-05-19T00:06:00\", \"2020-05-19T00:09:00\", \"2020-05-19T00:12:00\", \"2020-05-19T00:15:00\", \"2020-05-19T00:18:00\", \"2020-05-19T00:21:00\", \"2020-05-19T00:24:00\", \"2020-05-19T00:27:00\", \"2020-05-19T00:30:00\", \"2020-05-19T00:33:00\", \"2020-05-19T00:36:00\", \"2020-05-19T00:39:00\", \"2020-05-19T00:42:00\", \"2020-05-19T00:45:00\", \"2020-05-19T00:48:00\", \"2020-05-19T00:51:00\", \"2020-05-19T00:54:00\", \"2020-05-19T00:57:00\", \"2020-05-19T01:00:00\", \"2020-05-19T01:03:00\", \"2020-05-19T01:06:00\", \"2020-05-19T01:09:00\", \"2020-05-19T01:12:00\", \"2020-05-19T01:15:00\", \"2020-05-19T01:18:00\", \"2020-05-19T01:21:00\", \"2020-05-19T01:24:00\", \"2020-05-19T01:27:00\", \"2020-05-19T01:30:00\", \"2020-05-19T01:33:00\", \"2020-05-19T01:36:00\", \"2020-05-19T01:39:00\", \"2020-05-19T01:42:00\", \"2020-05-19T01:45:00\", \"2020-05-19T01:48:00\", \"2020-05-19T01:51:00\", \"2020-05-19T01:54:00\", \"2020-05-19T01:57:00\", \"2020-05-19T02:00:00\", \"2020-05-19T02:03:00\", \"2020-05-19T02:06:00\", \"2020-05-19T02:09:00\", \"2020-05-19T02:12:00\", \"2020-05-19T02:15:00\", \"2020-05-19T02:18:00\", \"2020-05-19T02:21:00\", \"2020-05-19T02:24:00\", \"2020-05-19T02:27:00\", \"2020-05-19T02:30:00\", \"2020-05-19T02:33:00\", \"2020-05-19T02:36:00\", \"2020-05-19T02:39:00\", \"2020-05-19T02:42:00\", \"2020-05-19T02:45:00\", \"2020-05-19T02:48:00\", \"2020-05-19T02:51:00\", \"2020-05-19T02:54:00\", \"2020-05-19T02:57:00\", \"2020-05-19T03:00:00\", \"2020-05-19T03:03:00\", \"2020-05-19T03:06:00\", \"2020-05-19T03:09:00\", \"2020-05-19T03:12:00\", \"2020-05-19T03:15:00\", \"2020-05-19T03:18:00\", \"2020-05-19T03:21:00\", \"2020-05-19T03:24:00\", \"2020-05-19T03:27:00\", \"2020-05-19T03:30:00\", \"2020-05-19T03:33:00\", \"2020-05-19T03:36:00\", \"2020-05-19T03:39:00\", \"2020-05-19T03:42:00\", \"2020-05-19T03:45:00\", \"2020-05-19T03:48:00\", \"2020-05-19T03:51:00\", \"2020-05-19T03:54:00\", \"2020-05-19T03:57:00\", \"2020-05-19T04:00:00\", \"2020-05-19T04:03:00\", \"2020-05-19T04:06:00\", \"2020-05-19T04:09:00\", \"2020-05-19T04:12:00\", \"2020-05-19T04:15:00\", \"2020-05-19T04:18:00\", \"2020-05-19T04:21:00\", \"2020-05-19T04:24:00\", \"2020-05-19T04:27:00\", \"2020-05-19T04:30:00\", \"2020-05-19T04:33:00\", \"2020-05-19T04:36:00\", \"2020-05-19T04:39:00\", \"2020-05-19T04:42:00\", \"2020-05-19T04:45:00\", \"2020-05-19T04:48:00\", \"2020-05-19T04:51:00\", \"2020-05-19T04:54:00\", \"2020-05-19T04:57:00\", \"2020-05-19T05:00:00\", \"2020-05-19T05:03:00\", \"2020-05-19T05:06:00\", \"2020-05-19T05:09:00\", \"2020-05-19T05:12:00\", \"2020-05-19T05:15:00\", \"2020-05-19T05:18:00\", \"2020-05-19T05:21:00\", \"2020-05-19T05:24:00\", \"2020-05-19T05:27:00\", \"2020-05-19T05:30:00\", \"2020-05-19T05:33:00\", \"2020-05-19T05:36:00\", \"2020-05-19T05:39:00\", \"2020-05-19T05:42:00\", \"2020-05-19T05:45:00\", \"2020-05-19T05:48:00\", \"2020-05-19T05:51:00\", \"2020-05-19T05:54:00\", \"2020-05-19T05:57:00\", \"2020-05-19T06:00:00\", \"2020-05-19T06:03:00\", \"2020-05-19T06:06:00\", \"2020-05-19T06:09:00\", \"2020-05-19T06:12:00\", \"2020-05-19T06:15:00\", \"2020-05-19T06:18:00\", \"2020-05-19T06:21:00\", \"2020-05-19T06:24:00\", \"2020-05-19T06:27:00\", \"2020-05-19T06:30:00\", \"2020-05-19T06:33:00\", \"2020-05-19T06:36:00\", \"2020-05-19T06:39:00\", \"2020-05-19T06:42:00\", \"2020-05-19T06:45:00\", \"2020-05-19T06:48:00\", \"2020-05-19T06:51:00\", \"2020-05-19T06:54:00\", \"2020-05-19T06:57:00\", \"2020-05-19T07:00:00\", \"2020-05-19T07:03:00\", \"2020-05-19T07:06:00\", \"2020-05-19T07:09:00\", \"2020-05-19T07:12:00\", \"2020-05-19T07:15:00\", \"2020-05-19T07:18:00\", \"2020-05-19T07:21:00\", \"2020-05-19T07:24:00\", \"2020-05-19T07:27:00\", \"2020-05-19T07:30:00\", \"2020-05-19T07:33:00\", \"2020-05-19T07:36:00\", \"2020-05-19T07:39:00\", \"2020-05-19T07:42:00\", \"2020-05-19T07:45:00\", \"2020-05-19T07:48:00\", \"2020-05-19T07:51:00\", \"2020-05-19T07:54:00\", \"2020-05-19T07:57:00\", \"2020-05-19T08:00:00\", \"2020-05-19T08:03:00\", \"2020-05-19T08:06:00\", \"2020-05-19T08:09:00\", \"2020-05-19T08:12:00\", \"2020-05-19T08:15:00\", \"2020-05-19T08:18:00\", \"2020-05-19T08:21:00\", \"2020-05-19T08:24:00\", \"2020-05-19T08:27:00\", \"2020-05-19T08:30:00\", \"2020-05-19T08:33:00\", \"2020-05-19T08:36:00\", \"2020-05-19T08:39:00\", \"2020-05-19T08:42:00\", \"2020-05-19T08:45:00\", \"2020-05-19T08:48:00\", \"2020-05-19T08:51:00\", \"2020-05-19T08:54:00\", \"2020-05-19T08:57:00\", \"2020-05-19T09:00:00\", \"2020-05-19T09:03:00\", \"2020-05-19T09:06:00\", \"2020-05-19T09:09:00\", \"2020-05-19T09:12:00\", \"2020-05-19T09:15:00\", \"2020-05-19T09:18:00\", \"2020-05-19T09:21:00\", \"2020-05-19T09:24:00\", \"2020-05-19T09:27:00\", \"2020-05-19T09:30:00\", \"2020-05-19T09:33:00\", \"2020-05-19T09:36:00\", \"2020-05-19T09:39:00\", \"2020-05-19T09:42:00\", \"2020-05-19T09:45:00\", \"2020-05-19T09:48:00\", \"2020-05-19T09:51:00\", \"2020-05-19T09:54:00\", \"2020-05-19T09:57:00\", \"2020-05-19T10:00:00\", \"2020-05-19T10:03:00\", \"2020-05-19T10:06:00\", \"2020-05-19T10:09:00\", \"2020-05-19T10:12:00\", \"2020-05-19T10:15:00\", \"2020-05-19T10:18:00\", \"2020-05-19T10:21:00\", \"2020-05-19T10:24:00\", \"2020-05-19T10:27:00\", \"2020-05-19T10:30:00\", \"2020-05-19T10:33:00\", \"2020-05-19T10:36:00\", \"2020-05-19T10:39:00\", \"2020-05-19T10:42:00\", \"2020-05-19T10:45:00\", \"2020-05-19T10:48:00\", \"2020-05-19T10:51:00\", \"2020-05-19T10:54:00\", \"2020-05-19T10:57:00\", \"2020-05-19T11:00:00\", \"2020-05-19T11:03:00\", \"2020-05-19T11:06:00\", \"2020-05-19T11:09:00\", \"2020-05-19T11:12:00\", \"2020-05-19T11:15:00\", \"2020-05-19T11:18:00\", \"2020-05-19T11:21:00\", \"2020-05-19T11:24:00\", \"2020-05-19T11:27:00\", \"2020-05-19T11:30:00\", \"2020-05-19T11:33:00\", \"2020-05-19T11:36:00\", \"2020-05-19T11:39:00\", \"2020-05-19T11:42:00\", \"2020-05-19T11:45:00\", \"2020-05-19T11:48:00\", \"2020-05-19T11:51:00\", \"2020-05-19T11:54:00\", \"2020-05-19T11:57:00\", \"2020-05-19T12:00:00\", \"2020-05-19T12:03:00\", \"2020-05-19T12:06:00\", \"2020-05-19T12:09:00\", \"2020-05-19T12:12:00\", \"2020-05-19T12:15:00\", \"2020-05-19T12:18:00\", \"2020-05-19T12:21:00\", \"2020-05-19T12:24:00\", \"2020-05-19T12:27:00\", \"2020-05-19T12:30:00\", \"2020-05-19T12:33:00\", \"2020-05-19T12:36:00\", \"2020-05-19T12:39:00\", \"2020-05-19T12:42:00\", \"2020-05-19T12:45:00\", \"2020-05-19T12:48:00\", \"2020-05-19T12:51:00\", \"2020-05-19T12:54:00\", \"2020-05-19T12:57:00\", \"2020-05-19T13:00:00\", \"2020-05-19T13:03:00\", \"2020-05-19T13:06:00\", \"2020-05-19T13:09:00\", \"2020-05-19T13:12:00\", \"2020-05-19T13:15:00\", \"2020-05-19T13:18:00\", \"2020-05-19T13:21:00\", \"2020-05-19T13:24:00\", \"2020-05-19T13:27:00\", \"2020-05-19T13:30:00\", \"2020-05-19T13:33:00\", \"2020-05-19T13:36:00\", \"2020-05-19T13:39:00\", \"2020-05-19T13:42:00\", \"2020-05-19T13:45:00\", \"2020-05-19T13:48:00\", \"2020-05-19T13:51:00\", \"2020-05-19T13:54:00\", \"2020-05-19T13:57:00\", \"2020-05-19T14:00:00\", \"2020-05-19T14:03:00\", \"2020-05-19T14:06:00\", \"2020-05-19T14:09:00\", \"2020-05-19T14:12:00\", \"2020-05-19T14:15:00\", \"2020-05-19T14:18:00\", \"2020-05-19T14:21:00\", \"2020-05-19T14:24:00\", \"2020-05-19T14:27:00\", \"2020-05-19T14:30:00\", \"2020-05-19T14:33:00\", \"2020-05-19T14:36:00\", \"2020-05-19T14:39:00\", \"2020-05-19T14:42:00\", \"2020-05-19T14:45:00\", \"2020-05-19T14:48:00\", \"2020-05-19T14:51:00\", \"2020-05-19T14:54:00\", \"2020-05-19T14:57:00\", \"2020-05-19T15:00:00\", \"2020-05-19T15:03:00\", \"2020-05-19T15:06:00\", \"2020-05-19T15:09:00\", \"2020-05-19T15:12:00\", \"2020-05-19T15:15:00\", \"2020-05-19T15:18:00\", \"2020-05-19T15:21:00\", \"2020-05-19T15:24:00\", \"2020-05-19T15:27:00\", \"2020-05-19T15:30:00\", \"2020-05-19T15:33:00\", \"2020-05-19T15:36:00\", \"2020-05-19T15:39:00\", \"2020-05-19T15:42:00\", \"2020-05-19T15:45:00\", \"2020-05-19T15:48:00\", \"2020-05-19T15:51:00\", \"2020-05-19T15:54:00\", \"2020-05-19T15:57:00\", \"2020-05-19T16:00:00\", \"2020-05-19T16:03:00\", \"2020-05-19T16:06:00\", \"2020-05-19T16:09:00\", \"2020-05-19T16:12:00\", \"2020-05-19T16:15:00\", \"2020-05-19T16:18:00\", \"2020-05-19T16:21:00\", \"2020-05-19T16:24:00\", \"2020-05-19T16:27:00\", \"2020-05-19T16:30:00\", \"2020-05-19T16:33:00\", \"2020-05-19T16:36:00\", \"2020-05-19T16:39:00\", \"2020-05-19T16:42:00\", \"2020-05-19T16:45:00\", \"2020-05-19T16:48:00\", \"2020-05-19T16:51:00\", \"2020-05-19T16:54:00\", \"2020-05-19T16:57:00\", \"2020-05-19T17:00:00\", \"2020-05-19T17:03:00\", \"2020-05-19T17:06:00\", \"2020-05-19T17:09:00\", \"2020-05-19T17:12:00\", \"2020-05-19T17:15:00\", \"2020-05-19T17:18:00\", \"2020-05-19T17:21:00\", \"2020-05-19T17:24:00\", \"2020-05-19T17:27:00\", \"2020-05-19T17:30:00\", \"2020-05-19T17:33:00\", \"2020-05-19T17:36:00\", \"2020-05-19T17:39:00\", \"2020-05-19T17:42:00\", \"2020-05-19T17:45:00\", \"2020-05-19T17:48:00\", \"2020-05-19T17:51:00\", \"2020-05-19T17:54:00\", \"2020-05-19T17:57:00\", \"2020-05-19T18:00:00\", \"2020-05-19T18:03:00\", \"2020-05-19T18:06:00\", \"2020-05-19T18:09:00\", \"2020-05-19T18:12:00\", \"2020-05-19T18:15:00\", \"2020-05-19T18:18:00\", \"2020-05-19T18:21:00\", \"2020-05-19T18:24:00\", \"2020-05-19T18:27:00\", \"2020-05-19T18:30:00\", \"2020-05-19T18:33:00\", \"2020-05-19T18:36:00\", \"2020-05-19T18:39:00\", \"2020-05-19T18:42:00\", \"2020-05-19T18:45:00\", \"2020-05-19T18:48:00\", \"2020-05-19T18:51:00\", \"2020-05-19T18:54:00\", \"2020-05-19T18:57:00\", \"2020-05-19T19:00:00\", \"2020-05-19T19:03:00\", \"2020-05-19T19:06:00\", \"2020-05-19T19:09:00\", \"2020-05-19T19:12:00\", \"2020-05-19T19:15:00\", \"2020-05-19T19:18:00\", \"2020-05-19T19:21:00\", \"2020-05-19T19:24:00\", \"2020-05-19T19:27:00\", \"2020-05-19T19:30:00\", \"2020-05-19T19:33:00\", \"2020-05-19T19:36:00\", \"2020-05-19T19:39:00\", \"2020-05-19T19:42:00\", \"2020-05-19T19:45:00\", \"2020-05-19T19:48:00\", \"2020-05-19T19:51:00\", \"2020-05-19T19:54:00\", \"2020-05-19T19:57:00\", \"2020-05-19T20:00:00\", \"2020-05-19T20:03:00\", \"2020-05-19T20:06:00\", \"2020-05-19T20:09:00\", \"2020-05-19T20:12:00\", \"2020-05-19T20:15:00\", \"2020-05-19T20:18:00\", \"2020-05-19T20:21:00\", \"2020-05-19T20:24:00\", \"2020-05-19T20:27:00\", \"2020-05-19T20:30:00\", \"2020-05-19T20:33:00\", \"2020-05-19T20:36:00\", \"2020-05-19T20:39:00\", \"2020-05-19T20:42:00\", \"2020-05-19T20:45:00\", \"2020-05-19T20:48:00\", \"2020-05-19T20:51:00\", \"2020-05-19T20:54:00\", \"2020-05-19T20:57:00\", \"2020-05-19T21:00:00\", \"2020-05-19T21:03:00\", \"2020-05-19T21:06:00\", \"2020-05-19T21:09:00\", \"2020-05-19T21:12:00\", \"2020-05-19T21:15:00\", \"2020-05-19T21:18:00\", \"2020-05-19T21:21:00\", \"2020-05-19T21:24:00\", \"2020-05-19T21:27:00\", \"2020-05-19T21:30:00\", \"2020-05-19T21:33:00\", \"2020-05-19T21:36:00\", \"2020-05-19T21:39:00\", \"2020-05-19T21:42:00\", \"2020-05-19T21:45:00\", \"2020-05-19T21:48:00\", \"2020-05-19T21:51:00\", \"2020-05-19T21:54:00\", \"2020-05-19T21:57:00\", \"2020-05-19T22:00:00\", \"2020-05-19T22:03:00\", \"2020-05-19T22:06:00\", \"2020-05-19T22:09:00\", \"2020-05-19T22:12:00\", \"2020-05-19T22:15:00\", \"2020-05-19T22:18:00\", \"2020-05-19T22:21:00\", \"2020-05-19T22:24:00\", \"2020-05-19T22:27:00\", \"2020-05-19T22:30:00\", \"2020-05-19T22:33:00\", \"2020-05-19T22:36:00\", \"2020-05-19T22:39:00\", \"2020-05-19T22:42:00\", \"2020-05-19T22:45:00\", \"2020-05-19T22:48:00\", \"2020-05-19T22:51:00\", \"2020-05-19T22:54:00\", \"2020-05-19T22:57:00\", \"2020-05-19T23:00:00\", \"2020-05-19T23:03:00\", \"2020-05-19T23:06:00\", \"2020-05-19T23:09:00\", \"2020-05-19T23:12:00\", \"2020-05-19T23:15:00\", \"2020-05-19T23:18:00\", \"2020-05-19T23:21:00\", \"2020-05-19T23:24:00\", \"2020-05-19T23:27:00\", \"2020-05-19T23:30:00\", \"2020-05-19T23:33:00\", \"2020-05-19T23:36:00\", \"2020-05-19T23:39:00\", \"2020-05-19T23:42:00\", \"2020-05-19T23:45:00\", \"2020-05-19T23:48:00\", \"2020-05-19T23:51:00\", \"2020-05-19T23:54:00\", \"2020-05-19T23:57:00\", \"2020-05-20T00:00:00\", \"2020-05-20T00:03:00\", \"2020-05-20T00:06:00\", \"2020-05-20T00:09:00\", \"2020-05-20T00:12:00\", \"2020-05-20T00:15:00\", \"2020-05-20T00:18:00\", \"2020-05-20T00:21:00\", \"2020-05-20T00:24:00\", \"2020-05-20T00:27:00\", \"2020-05-20T00:30:00\", \"2020-05-20T00:33:00\", \"2020-05-20T00:36:00\", \"2020-05-20T00:39:00\", \"2020-05-20T00:42:00\", \"2020-05-20T00:45:00\", \"2020-05-20T00:48:00\", \"2020-05-20T00:51:00\", \"2020-05-20T00:54:00\", \"2020-05-20T00:57:00\", \"2020-05-20T01:00:00\", \"2020-05-20T01:03:00\", \"2020-05-20T01:06:00\", \"2020-05-20T01:09:00\", \"2020-05-20T01:12:00\", \"2020-05-20T01:15:00\", \"2020-05-20T01:18:00\", \"2020-05-20T01:21:00\", \"2020-05-20T01:24:00\", \"2020-05-20T01:27:00\", \"2020-05-20T01:30:00\", \"2020-05-20T01:33:00\", \"2020-05-20T01:36:00\", \"2020-05-20T01:39:00\", \"2020-05-20T01:42:00\", \"2020-05-20T01:45:00\", \"2020-05-20T01:48:00\", \"2020-05-20T01:51:00\", \"2020-05-20T01:54:00\", \"2020-05-20T01:57:00\", \"2020-05-20T02:00:00\", \"2020-05-20T02:03:00\", \"2020-05-20T02:06:00\", \"2020-05-20T02:09:00\", \"2020-05-20T02:12:00\", \"2020-05-20T02:15:00\", \"2020-05-20T02:18:00\", \"2020-05-20T02:21:00\", \"2020-05-20T02:24:00\", \"2020-05-20T02:27:00\", \"2020-05-20T02:30:00\", \"2020-05-20T02:33:00\", \"2020-05-20T02:36:00\", \"2020-05-20T02:39:00\", \"2020-05-20T02:42:00\", \"2020-05-20T02:45:00\", \"2020-05-20T02:48:00\", \"2020-05-20T02:51:00\", \"2020-05-20T02:54:00\", \"2020-05-20T02:57:00\", \"2020-05-20T03:00:00\", \"2020-05-20T03:03:00\", \"2020-05-20T03:06:00\", \"2020-05-20T03:09:00\", \"2020-05-20T03:12:00\", \"2020-05-20T03:15:00\", \"2020-05-20T03:18:00\", \"2020-05-20T03:21:00\", \"2020-05-20T03:24:00\", \"2020-05-20T03:27:00\", \"2020-05-20T03:30:00\", \"2020-05-20T03:33:00\", \"2020-05-20T03:36:00\", \"2020-05-20T03:39:00\", \"2020-05-20T03:42:00\", \"2020-05-20T03:45:00\", \"2020-05-20T03:48:00\", \"2020-05-20T03:51:00\", \"2020-05-20T03:54:00\", \"2020-05-20T03:57:00\", \"2020-05-20T04:00:00\", \"2020-05-20T04:03:00\", \"2020-05-20T04:06:00\", \"2020-05-20T04:09:00\", \"2020-05-20T04:12:00\", \"2020-05-20T04:15:00\", \"2020-05-20T04:18:00\", \"2020-05-20T04:21:00\", \"2020-05-20T04:24:00\", \"2020-05-20T04:27:00\", \"2020-05-20T04:30:00\", \"2020-05-20T04:33:00\", \"2020-05-20T04:36:00\", \"2020-05-20T04:39:00\", \"2020-05-20T04:42:00\", \"2020-05-20T04:45:00\", \"2020-05-20T04:48:00\", \"2020-05-20T04:51:00\", \"2020-05-20T04:54:00\", \"2020-05-20T04:57:00\", \"2020-05-20T05:00:00\", \"2020-05-20T05:03:00\", \"2020-05-20T05:06:00\", \"2020-05-20T05:09:00\", \"2020-05-20T05:12:00\", \"2020-05-20T05:15:00\", \"2020-05-20T05:18:00\", \"2020-05-20T05:21:00\", \"2020-05-20T05:24:00\", \"2020-05-20T05:27:00\", \"2020-05-20T05:30:00\", \"2020-05-20T05:33:00\", \"2020-05-20T05:36:00\", \"2020-05-20T05:39:00\", \"2020-05-20T05:42:00\", \"2020-05-20T05:45:00\", \"2020-05-20T05:48:00\", \"2020-05-20T05:51:00\", \"2020-05-20T05:54:00\", \"2020-05-20T05:57:00\", \"2020-05-20T06:00:00\", \"2020-05-20T06:03:00\", \"2020-05-20T06:06:00\", \"2020-05-20T06:09:00\", \"2020-05-20T06:12:00\", \"2020-05-20T06:15:00\", \"2020-05-20T06:18:00\", \"2020-05-20T06:21:00\", \"2020-05-20T06:24:00\", \"2020-05-20T06:27:00\", \"2020-05-20T06:30:00\", \"2020-05-20T06:33:00\", \"2020-05-20T06:36:00\", \"2020-05-20T06:39:00\", \"2020-05-20T06:42:00\", \"2020-05-20T06:45:00\", \"2020-05-20T06:48:00\", \"2020-05-20T06:51:00\", \"2020-05-20T06:54:00\", \"2020-05-20T06:57:00\", \"2020-05-20T07:00:00\", \"2020-05-20T07:03:00\", \"2020-05-20T07:06:00\", \"2020-05-20T07:09:00\", \"2020-05-20T07:12:00\", \"2020-05-20T07:15:00\", \"2020-05-20T07:18:00\", \"2020-05-20T07:21:00\", \"2020-05-20T07:24:00\", \"2020-05-20T07:27:00\", \"2020-05-20T07:30:00\", \"2020-05-20T07:33:00\", \"2020-05-20T07:36:00\", \"2020-05-20T07:39:00\", \"2020-05-20T07:42:00\", \"2020-05-20T07:45:00\", \"2020-05-20T07:48:00\", \"2020-05-20T07:51:00\", \"2020-05-20T07:54:00\", \"2020-05-20T07:57:00\", \"2020-05-20T08:00:00\", \"2020-05-20T08:03:00\", \"2020-05-20T08:06:00\", \"2020-05-20T08:09:00\", \"2020-05-20T08:12:00\", \"2020-05-20T08:15:00\", \"2020-05-20T08:18:00\", \"2020-05-20T08:21:00\", \"2020-05-20T08:24:00\", \"2020-05-20T08:27:00\", \"2020-05-20T08:30:00\", \"2020-05-20T08:33:00\", \"2020-05-20T08:36:00\", \"2020-05-20T08:39:00\", \"2020-05-20T08:42:00\", \"2020-05-20T08:45:00\", \"2020-05-20T08:48:00\", \"2020-05-20T08:51:00\", \"2020-05-20T08:54:00\", \"2020-05-20T08:57:00\", \"2020-05-20T09:00:00\", \"2020-05-20T09:03:00\", \"2020-05-20T09:06:00\", \"2020-05-20T09:09:00\", \"2020-05-20T09:12:00\", \"2020-05-20T09:15:00\", \"2020-05-20T09:18:00\", \"2020-05-20T09:21:00\", \"2020-05-20T09:24:00\", \"2020-05-20T09:27:00\", \"2020-05-20T09:30:00\", \"2020-05-20T09:33:00\", \"2020-05-20T09:36:00\", \"2020-05-20T09:39:00\", \"2020-05-20T09:42:00\", \"2020-05-20T09:45:00\", \"2020-05-20T09:48:00\", \"2020-05-20T09:51:00\", \"2020-05-20T09:54:00\", \"2020-05-20T09:57:00\", \"2020-05-20T10:00:00\", \"2020-05-20T10:03:00\", \"2020-05-20T10:06:00\", \"2020-05-20T10:09:00\", \"2020-05-20T10:12:00\", \"2020-05-20T10:15:00\", \"2020-05-20T10:18:00\", \"2020-05-20T10:21:00\", \"2020-05-20T10:24:00\", \"2020-05-20T10:27:00\", \"2020-05-20T10:30:00\", \"2020-05-20T10:33:00\", \"2020-05-20T10:36:00\", \"2020-05-20T10:39:00\", \"2020-05-20T10:42:00\", \"2020-05-20T10:45:00\", \"2020-05-20T10:48:00\", \"2020-05-20T10:51:00\", \"2020-05-20T10:54:00\", \"2020-05-20T10:57:00\", \"2020-05-20T11:00:00\", \"2020-05-20T11:03:00\", \"2020-05-20T11:06:00\", \"2020-05-20T11:09:00\", \"2020-05-20T11:12:00\", \"2020-05-20T11:15:00\", \"2020-05-20T11:18:00\", \"2020-05-20T11:21:00\", \"2020-05-20T11:24:00\", \"2020-05-20T11:27:00\", \"2020-05-20T11:30:00\", \"2020-05-20T11:33:00\", \"2020-05-20T11:36:00\", \"2020-05-20T11:39:00\", \"2020-05-20T11:42:00\", \"2020-05-20T11:45:00\", \"2020-05-20T11:48:00\", \"2020-05-20T11:51:00\", \"2020-05-20T11:54:00\", \"2020-05-20T11:57:00\", \"2020-05-20T12:00:00\", \"2020-05-20T12:03:00\", \"2020-05-20T12:06:00\", \"2020-05-20T12:09:00\", \"2020-05-20T12:12:00\", \"2020-05-20T12:15:00\", \"2020-05-20T12:18:00\", \"2020-05-20T12:21:00\", \"2020-05-20T12:24:00\", \"2020-05-20T12:27:00\", \"2020-05-20T12:30:00\", \"2020-05-20T12:33:00\", \"2020-05-20T12:36:00\", \"2020-05-20T12:39:00\", \"2020-05-20T12:42:00\", \"2020-05-20T12:45:00\", \"2020-05-20T12:48:00\", \"2020-05-20T12:51:00\", \"2020-05-20T12:54:00\", \"2020-05-20T12:57:00\", \"2020-05-20T13:00:00\", \"2020-05-20T13:03:00\", \"2020-05-20T13:06:00\", \"2020-05-20T13:09:00\", \"2020-05-20T13:12:00\", \"2020-05-20T13:15:00\", \"2020-05-20T13:18:00\", \"2020-05-20T13:21:00\", \"2020-05-20T13:24:00\", \"2020-05-20T13:27:00\", \"2020-05-20T13:30:00\", \"2020-05-20T13:33:00\", \"2020-05-20T13:36:00\", \"2020-05-20T13:39:00\", \"2020-05-20T13:42:00\", \"2020-05-20T13:45:00\", \"2020-05-20T13:48:00\", \"2020-05-20T13:51:00\", \"2020-05-20T13:54:00\", \"2020-05-20T13:57:00\", \"2020-05-20T14:00:00\", \"2020-05-20T14:03:00\", \"2020-05-20T14:06:00\", \"2020-05-20T14:09:00\", \"2020-05-20T14:12:00\", \"2020-05-20T14:15:00\", \"2020-05-20T14:18:00\", \"2020-05-20T14:21:00\", \"2020-05-20T14:24:00\", \"2020-05-20T14:27:00\", \"2020-05-20T14:30:00\", \"2020-05-20T14:33:00\", \"2020-05-20T14:36:00\", \"2020-05-20T14:39:00\", \"2020-05-20T14:42:00\", \"2020-05-20T14:45:00\", \"2020-05-20T14:48:00\", \"2020-05-20T14:51:00\", \"2020-05-20T14:54:00\", \"2020-05-20T14:57:00\", \"2020-05-20T15:00:00\", \"2020-05-20T15:03:00\", \"2020-05-20T15:06:00\", \"2020-05-20T15:09:00\", \"2020-05-20T15:12:00\", \"2020-05-20T15:15:00\", \"2020-05-20T15:18:00\", \"2020-05-20T15:21:00\", \"2020-05-20T15:24:00\", \"2020-05-20T15:27:00\", \"2020-05-20T15:30:00\", \"2020-05-20T15:33:00\", \"2020-05-20T15:36:00\", \"2020-05-20T15:39:00\", \"2020-05-20T15:42:00\", \"2020-05-20T15:45:00\", \"2020-05-20T15:48:00\", \"2020-05-20T15:51:00\", \"2020-05-20T15:54:00\", \"2020-05-20T15:57:00\", \"2020-05-20T16:00:00\", \"2020-05-20T16:03:00\", \"2020-05-20T16:06:00\", \"2020-05-20T16:09:00\", \"2020-05-20T16:12:00\", \"2020-05-20T16:15:00\", \"2020-05-20T16:18:00\", \"2020-05-20T16:21:00\", \"2020-05-20T16:24:00\", \"2020-05-20T16:27:00\", \"2020-05-20T16:30:00\", \"2020-05-20T16:33:00\", \"2020-05-20T16:36:00\", \"2020-05-20T16:39:00\", \"2020-05-20T16:42:00\", \"2020-05-20T16:45:00\", \"2020-05-20T16:48:00\", \"2020-05-20T16:51:00\", \"2020-05-20T16:54:00\", \"2020-05-20T16:57:00\", \"2020-05-20T17:00:00\", \"2020-05-20T17:03:00\", \"2020-05-20T17:06:00\", \"2020-05-20T17:09:00\", \"2020-05-20T17:12:00\", \"2020-05-20T17:15:00\", \"2020-05-20T17:18:00\", \"2020-05-20T17:21:00\", \"2020-05-20T17:24:00\", \"2020-05-20T17:27:00\", \"2020-05-20T17:30:00\", \"2020-05-20T17:33:00\", \"2020-05-20T17:36:00\", \"2020-05-20T17:39:00\", \"2020-05-20T17:42:00\", \"2020-05-20T17:45:00\", \"2020-05-20T17:48:00\", \"2020-05-20T17:51:00\", \"2020-05-20T17:54:00\", \"2020-05-20T17:57:00\", \"2020-05-20T18:00:00\", \"2020-05-20T18:03:00\", \"2020-05-20T18:06:00\", \"2020-05-20T18:09:00\", \"2020-05-20T18:12:00\", \"2020-05-20T18:15:00\", \"2020-05-20T18:18:00\", \"2020-05-20T18:21:00\", \"2020-05-20T18:24:00\", \"2020-05-20T18:27:00\", \"2020-05-20T18:30:00\", \"2020-05-20T18:33:00\", \"2020-05-20T18:36:00\", \"2020-05-20T18:39:00\", \"2020-05-20T18:42:00\", \"2020-05-20T18:45:00\", \"2020-05-20T18:48:00\", \"2020-05-20T18:51:00\", \"2020-05-20T18:54:00\", \"2020-05-20T18:57:00\", \"2020-05-20T19:00:00\", \"2020-05-20T19:03:00\", \"2020-05-20T19:06:00\", \"2020-05-20T19:09:00\", \"2020-05-20T19:12:00\", \"2020-05-20T19:15:00\", \"2020-05-20T19:18:00\", \"2020-05-20T19:21:00\", \"2020-05-20T19:24:00\", \"2020-05-20T19:27:00\", \"2020-05-20T19:30:00\", \"2020-05-20T19:33:00\", \"2020-05-20T19:36:00\", \"2020-05-20T19:39:00\", \"2020-05-20T19:42:00\", \"2020-05-20T19:45:00\", \"2020-05-20T19:48:00\", \"2020-05-20T19:51:00\", \"2020-05-20T19:54:00\", \"2020-05-20T19:57:00\", \"2020-05-20T20:00:00\", \"2020-05-20T20:03:00\", \"2020-05-20T20:06:00\", \"2020-05-20T20:09:00\", \"2020-05-20T20:12:00\", \"2020-05-20T20:15:00\", \"2020-05-20T20:18:00\", \"2020-05-20T20:21:00\", \"2020-05-20T20:24:00\", \"2020-05-20T20:27:00\", \"2020-05-20T20:30:00\", \"2020-05-20T20:33:00\", \"2020-05-20T20:36:00\", \"2020-05-20T20:39:00\", \"2020-05-20T20:42:00\", \"2020-05-20T20:45:00\", \"2020-05-20T20:48:00\", \"2020-05-20T20:51:00\", \"2020-05-20T20:54:00\", \"2020-05-20T20:57:00\", \"2020-05-20T21:00:00\", \"2020-05-20T21:03:00\", \"2020-05-20T21:06:00\", \"2020-05-20T21:09:00\", \"2020-05-20T21:12:00\", \"2020-05-20T21:15:00\", \"2020-05-20T21:18:00\", \"2020-05-20T21:21:00\", \"2020-05-20T21:24:00\", \"2020-05-20T21:27:00\", \"2020-05-20T21:30:00\", \"2020-05-20T21:33:00\", \"2020-05-20T21:36:00\", \"2020-05-20T21:39:00\", \"2020-05-20T21:42:00\", \"2020-05-20T21:45:00\", \"2020-05-20T21:48:00\", \"2020-05-20T21:51:00\", \"2020-05-20T21:54:00\", \"2020-05-20T21:57:00\", \"2020-05-20T22:00:00\", \"2020-05-20T22:03:00\", \"2020-05-20T22:06:00\", \"2020-05-20T22:09:00\", \"2020-05-20T22:12:00\", \"2020-05-20T22:15:00\", \"2020-05-20T22:18:00\", \"2020-05-20T22:21:00\", \"2020-05-20T22:24:00\", \"2020-05-20T22:27:00\", \"2020-05-20T22:30:00\", \"2020-05-20T22:33:00\", \"2020-05-20T22:36:00\", \"2020-05-20T22:39:00\", \"2020-05-20T22:42:00\", \"2020-05-20T22:45:00\", \"2020-05-20T22:48:00\", \"2020-05-20T22:51:00\", \"2020-05-20T22:54:00\", \"2020-05-20T22:57:00\", \"2020-05-20T23:00:00\", \"2020-05-20T23:03:00\", \"2020-05-20T23:06:00\", \"2020-05-20T23:09:00\", \"2020-05-20T23:12:00\", \"2020-05-20T23:15:00\", \"2020-05-20T23:18:00\", \"2020-05-20T23:21:00\", \"2020-05-20T23:24:00\", \"2020-05-20T23:27:00\", \"2020-05-20T23:30:00\", \"2020-05-20T23:33:00\", \"2020-05-20T23:36:00\", \"2020-05-20T23:39:00\", \"2020-05-20T23:42:00\", \"2020-05-20T23:45:00\", \"2020-05-20T23:48:00\", \"2020-05-20T23:51:00\", \"2020-05-20T23:54:00\", \"2020-05-20T23:57:00\", \"2020-05-21T00:00:00\", \"2020-05-21T00:03:00\", \"2020-05-21T00:06:00\", \"2020-05-21T00:09:00\", \"2020-05-21T00:12:00\", \"2020-05-21T00:15:00\", \"2020-05-21T00:18:00\", \"2020-05-21T00:21:00\", \"2020-05-21T00:24:00\", \"2020-05-21T00:27:00\", \"2020-05-21T00:30:00\", \"2020-05-21T00:33:00\", \"2020-05-21T00:36:00\", \"2020-05-21T00:39:00\", \"2020-05-21T00:42:00\", \"2020-05-21T00:45:00\", \"2020-05-21T00:48:00\", \"2020-05-21T00:51:00\", \"2020-05-21T00:54:00\", \"2020-05-21T00:57:00\", \"2020-05-21T01:00:00\", \"2020-05-21T01:03:00\", \"2020-05-21T01:06:00\", \"2020-05-21T01:09:00\", \"2020-05-21T01:12:00\", \"2020-05-21T01:15:00\", \"2020-05-21T01:18:00\", \"2020-05-21T01:21:00\", \"2020-05-21T01:24:00\", \"2020-05-21T01:27:00\", \"2020-05-21T01:30:00\", \"2020-05-21T01:33:00\", \"2020-05-21T01:36:00\", \"2020-05-21T01:39:00\", \"2020-05-21T01:42:00\", \"2020-05-21T01:45:00\", \"2020-05-21T01:48:00\", \"2020-05-21T01:51:00\", \"2020-05-21T01:54:00\", \"2020-05-21T01:57:00\", \"2020-05-21T02:00:00\", \"2020-05-21T02:03:00\", \"2020-05-21T02:06:00\", \"2020-05-21T02:09:00\", \"2020-05-21T02:12:00\", \"2020-05-21T02:15:00\", \"2020-05-21T02:18:00\", \"2020-05-21T02:21:00\", \"2020-05-21T02:24:00\", \"2020-05-21T02:27:00\", \"2020-05-21T02:30:00\", \"2020-05-21T02:33:00\", \"2020-05-21T02:36:00\", \"2020-05-21T02:39:00\", \"2020-05-21T02:42:00\", \"2020-05-21T02:45:00\", \"2020-05-21T02:48:00\", \"2020-05-21T02:51:00\", \"2020-05-21T02:54:00\", \"2020-05-21T02:57:00\", \"2020-05-21T03:00:00\", \"2020-05-21T03:03:00\", \"2020-05-21T03:06:00\", \"2020-05-21T03:09:00\", \"2020-05-21T03:12:00\", \"2020-05-21T03:15:00\", \"2020-05-21T03:18:00\", \"2020-05-21T03:21:00\", \"2020-05-21T03:24:00\", \"2020-05-21T03:27:00\", \"2020-05-21T03:30:00\", \"2020-05-21T03:33:00\", \"2020-05-21T03:36:00\", \"2020-05-21T03:39:00\", \"2020-05-21T03:42:00\", \"2020-05-21T03:45:00\", \"2020-05-21T03:48:00\", \"2020-05-21T03:51:00\", \"2020-05-21T03:54:00\", \"2020-05-21T03:57:00\", \"2020-05-21T04:00:00\", \"2020-05-21T04:03:00\", \"2020-05-21T04:06:00\", \"2020-05-21T04:09:00\", \"2020-05-21T04:12:00\", \"2020-05-21T04:15:00\", \"2020-05-21T04:18:00\", \"2020-05-21T04:21:00\", \"2020-05-21T04:24:00\", \"2020-05-21T04:27:00\", \"2020-05-21T04:30:00\", \"2020-05-21T04:33:00\", \"2020-05-21T04:36:00\", \"2020-05-21T04:39:00\", \"2020-05-21T04:42:00\", \"2020-05-21T04:45:00\", \"2020-05-21T04:48:00\", \"2020-05-21T04:51:00\", \"2020-05-21T04:54:00\", \"2020-05-21T04:57:00\", \"2020-05-21T05:00:00\", \"2020-05-21T05:03:00\", \"2020-05-21T05:06:00\", \"2020-05-21T05:09:00\", \"2020-05-21T05:12:00\", \"2020-05-21T05:15:00\", \"2020-05-21T05:18:00\", \"2020-05-21T05:21:00\", \"2020-05-21T05:24:00\", \"2020-05-21T05:27:00\", \"2020-05-21T05:30:00\", \"2020-05-21T05:33:00\", \"2020-05-21T05:36:00\", \"2020-05-21T05:39:00\", \"2020-05-21T05:42:00\", \"2020-05-21T05:45:00\", \"2020-05-21T05:48:00\", \"2020-05-21T05:51:00\", \"2020-05-21T05:54:00\", \"2020-05-21T05:57:00\", \"2020-05-21T06:00:00\", \"2020-05-21T06:03:00\", \"2020-05-21T06:06:00\", \"2020-05-21T06:09:00\", \"2020-05-21T06:12:00\", \"2020-05-21T06:15:00\", \"2020-05-21T06:18:00\", \"2020-05-21T06:21:00\", \"2020-05-21T06:24:00\", \"2020-05-21T06:27:00\", \"2020-05-21T06:30:00\", \"2020-05-21T06:33:00\", \"2020-05-21T06:36:00\", \"2020-05-21T06:39:00\", \"2020-05-21T06:42:00\", \"2020-05-21T06:45:00\", \"2020-05-21T06:48:00\", \"2020-05-21T06:51:00\", \"2020-05-21T06:54:00\", \"2020-05-21T06:57:00\", \"2020-05-21T07:00:00\", \"2020-05-21T07:03:00\", \"2020-05-21T07:06:00\", \"2020-05-21T07:09:00\", \"2020-05-21T07:12:00\", \"2020-05-21T07:15:00\", \"2020-05-21T07:18:00\", \"2020-05-21T07:21:00\", \"2020-05-21T07:24:00\", \"2020-05-21T07:27:00\", \"2020-05-21T07:30:00\", \"2020-05-21T07:33:00\", \"2020-05-21T07:36:00\", \"2020-05-21T07:39:00\", \"2020-05-21T07:42:00\", \"2020-05-21T07:45:00\", \"2020-05-21T07:48:00\", \"2020-05-21T07:51:00\", \"2020-05-21T07:54:00\", \"2020-05-21T07:57:00\", \"2020-05-21T08:00:00\", \"2020-05-21T08:03:00\", \"2020-05-21T08:06:00\", \"2020-05-21T08:09:00\", \"2020-05-21T08:12:00\", \"2020-05-21T08:15:00\", \"2020-05-21T08:18:00\", \"2020-05-21T08:21:00\", \"2020-05-21T08:24:00\", \"2020-05-21T08:27:00\", \"2020-05-21T08:30:00\", \"2020-05-21T08:33:00\", \"2020-05-21T08:36:00\", \"2020-05-21T08:39:00\", \"2020-05-21T08:42:00\", \"2020-05-21T08:45:00\", \"2020-05-21T08:48:00\", \"2020-05-21T08:51:00\", \"2020-05-21T08:54:00\", \"2020-05-21T08:57:00\", \"2020-05-21T09:00:00\", \"2020-05-21T09:03:00\", \"2020-05-21T09:06:00\", \"2020-05-21T09:09:00\", \"2020-05-21T09:12:00\", \"2020-05-21T09:15:00\", \"2020-05-21T09:18:00\", \"2020-05-21T09:21:00\", \"2020-05-21T09:24:00\", \"2020-05-21T09:27:00\", \"2020-05-21T09:30:00\", \"2020-05-21T09:33:00\", \"2020-05-21T09:36:00\", \"2020-05-21T09:39:00\", \"2020-05-21T09:42:00\", \"2020-05-21T09:45:00\", \"2020-05-21T09:48:00\", \"2020-05-21T09:51:00\", \"2020-05-21T09:54:00\", \"2020-05-21T09:57:00\", \"2020-05-21T10:00:00\", \"2020-05-21T10:03:00\", \"2020-05-21T10:06:00\", \"2020-05-21T10:09:00\", \"2020-05-21T10:12:00\", \"2020-05-21T10:15:00\", \"2020-05-21T10:18:00\", \"2020-05-21T10:21:00\", \"2020-05-21T10:24:00\", \"2020-05-21T10:27:00\", \"2020-05-21T10:30:00\", \"2020-05-21T10:33:00\", \"2020-05-21T10:36:00\", \"2020-05-21T10:39:00\", \"2020-05-21T10:42:00\", \"2020-05-21T10:45:00\", \"2020-05-21T10:48:00\", \"2020-05-21T10:51:00\", \"2020-05-21T10:54:00\", \"2020-05-21T10:57:00\", \"2020-05-21T11:00:00\", \"2020-05-21T11:03:00\", \"2020-05-21T11:06:00\", \"2020-05-21T11:09:00\", \"2020-05-21T11:12:00\", \"2020-05-21T11:15:00\", \"2020-05-21T11:18:00\", \"2020-05-21T11:21:00\", \"2020-05-21T11:24:00\", \"2020-05-21T11:27:00\", \"2020-05-21T11:30:00\", \"2020-05-21T11:33:00\", \"2020-05-21T11:36:00\", \"2020-05-21T11:39:00\", \"2020-05-21T11:42:00\", \"2020-05-21T11:45:00\", \"2020-05-21T11:48:00\", \"2020-05-21T11:51:00\", \"2020-05-21T11:54:00\", \"2020-05-21T11:57:00\", \"2020-05-21T12:00:00\", \"2020-05-21T12:03:00\", \"2020-05-21T12:06:00\", \"2020-05-21T12:09:00\", \"2020-05-21T12:12:00\", \"2020-05-21T12:15:00\", \"2020-05-21T12:18:00\", \"2020-05-21T12:21:00\", \"2020-05-21T12:24:00\", \"2020-05-21T12:27:00\", \"2020-05-21T12:30:00\", \"2020-05-21T12:33:00\", \"2020-05-21T12:36:00\", \"2020-05-21T12:39:00\", \"2020-05-21T12:42:00\", \"2020-05-21T12:45:00\", \"2020-05-21T12:48:00\", \"2020-05-21T12:51:00\", \"2020-05-21T12:54:00\", \"2020-05-21T12:57:00\", \"2020-05-21T13:00:00\", \"2020-05-21T13:03:00\", \"2020-05-21T13:06:00\", \"2020-05-21T13:09:00\", \"2020-05-21T13:12:00\", \"2020-05-21T13:15:00\", \"2020-05-21T13:18:00\", \"2020-05-21T13:21:00\", \"2020-05-21T13:24:00\", \"2020-05-21T13:27:00\", \"2020-05-21T13:30:00\", \"2020-05-21T13:33:00\", \"2020-05-21T13:36:00\", \"2020-05-21T13:39:00\", \"2020-05-21T13:42:00\", \"2020-05-21T13:45:00\", \"2020-05-21T13:48:00\", \"2020-05-21T13:51:00\", \"2020-05-21T13:54:00\", \"2020-05-21T13:57:00\", \"2020-05-21T14:00:00\", \"2020-05-21T14:03:00\", \"2020-05-21T14:06:00\", \"2020-05-21T14:09:00\", \"2020-05-21T14:12:00\", \"2020-05-21T14:15:00\", \"2020-05-21T14:18:00\", \"2020-05-21T14:21:00\", \"2020-05-21T14:24:00\", \"2020-05-21T14:27:00\", \"2020-05-21T14:30:00\", \"2020-05-21T14:33:00\", \"2020-05-21T14:36:00\", \"2020-05-21T14:39:00\", \"2020-05-21T14:42:00\", \"2020-05-21T14:45:00\", \"2020-05-21T14:48:00\", \"2020-05-21T14:51:00\", \"2020-05-21T14:54:00\", \"2020-05-21T14:57:00\", \"2020-05-21T15:00:00\", \"2020-05-21T15:03:00\", \"2020-05-21T15:06:00\", \"2020-05-21T15:09:00\", \"2020-05-21T15:12:00\", \"2020-05-21T15:15:00\", \"2020-05-21T15:18:00\", \"2020-05-21T15:21:00\", \"2020-05-21T15:24:00\", \"2020-05-21T15:27:00\", \"2020-05-21T15:30:00\", \"2020-05-21T15:33:00\", \"2020-05-21T15:36:00\", \"2020-05-21T15:39:00\", \"2020-05-21T15:42:00\", \"2020-05-21T15:45:00\", \"2020-05-21T15:48:00\", \"2020-05-21T15:51:00\", \"2020-05-21T15:54:00\", \"2020-05-21T15:57:00\", \"2020-05-21T16:00:00\", \"2020-05-21T16:03:00\", \"2020-05-21T16:06:00\", \"2020-05-21T16:09:00\", \"2020-05-21T16:12:00\", \"2020-05-21T16:15:00\", \"2020-05-21T16:18:00\", \"2020-05-21T16:21:00\", \"2020-05-21T16:24:00\", \"2020-05-21T16:27:00\", \"2020-05-21T16:30:00\", \"2020-05-21T16:33:00\", \"2020-05-21T16:36:00\", \"2020-05-21T16:39:00\", \"2020-05-21T16:42:00\", \"2020-05-21T16:45:00\", \"2020-05-21T16:48:00\", \"2020-05-21T16:51:00\", \"2020-05-21T16:54:00\", \"2020-05-21T16:57:00\", \"2020-05-21T17:00:00\", \"2020-05-21T17:03:00\", \"2020-05-21T17:06:00\", \"2020-05-21T17:09:00\", \"2020-05-21T17:12:00\", \"2020-05-21T17:15:00\", \"2020-05-21T17:18:00\", \"2020-05-21T17:21:00\", \"2020-05-21T17:24:00\", \"2020-05-21T17:27:00\", \"2020-05-21T17:30:00\", \"2020-05-21T17:33:00\", \"2020-05-21T17:36:00\", \"2020-05-21T17:39:00\", \"2020-05-21T17:42:00\", \"2020-05-21T17:45:00\", \"2020-05-21T17:48:00\", \"2020-05-21T17:51:00\", \"2020-05-21T17:54:00\", \"2020-05-21T17:57:00\", \"2020-05-21T18:00:00\", \"2020-05-21T18:03:00\", \"2020-05-21T18:06:00\", \"2020-05-21T18:09:00\", \"2020-05-21T18:12:00\", \"2020-05-21T18:15:00\", \"2020-05-21T18:18:00\", \"2020-05-21T18:21:00\", \"2020-05-21T18:24:00\", \"2020-05-21T18:27:00\", \"2020-05-21T18:30:00\", \"2020-05-21T18:33:00\", \"2020-05-21T18:36:00\", \"2020-05-21T18:39:00\", \"2020-05-21T18:42:00\", \"2020-05-21T18:45:00\", \"2020-05-21T18:48:00\", \"2020-05-21T18:51:00\", \"2020-05-21T18:54:00\", \"2020-05-21T18:57:00\", \"2020-05-21T19:00:00\", \"2020-05-21T19:03:00\", \"2020-05-21T19:06:00\", \"2020-05-21T19:09:00\", \"2020-05-21T19:12:00\", \"2020-05-21T19:15:00\", \"2020-05-21T19:18:00\", \"2020-05-21T19:21:00\", \"2020-05-21T19:24:00\", \"2020-05-21T19:27:00\", \"2020-05-21T19:30:00\", \"2020-05-21T19:33:00\", \"2020-05-21T19:36:00\", \"2020-05-21T19:39:00\", \"2020-05-21T19:42:00\", \"2020-05-21T19:45:00\", \"2020-05-21T19:48:00\", \"2020-05-21T19:51:00\", \"2020-05-21T19:54:00\", \"2020-05-21T19:57:00\", \"2020-05-21T20:00:00\", \"2020-05-21T20:03:00\", \"2020-05-21T20:06:00\", \"2020-05-21T20:09:00\", \"2020-05-21T20:12:00\", \"2020-05-21T20:15:00\", \"2020-05-21T20:18:00\", \"2020-05-21T20:21:00\", \"2020-05-21T20:24:00\", \"2020-05-21T20:27:00\", \"2020-05-21T20:30:00\", \"2020-05-21T20:33:00\", \"2020-05-21T20:36:00\", \"2020-05-21T20:39:00\", \"2020-05-21T20:42:00\", \"2020-05-21T20:45:00\", \"2020-05-21T20:48:00\", \"2020-05-21T20:51:00\", \"2020-05-21T20:54:00\", \"2020-05-21T20:57:00\", \"2020-05-21T21:00:00\", \"2020-05-21T21:03:00\", \"2020-05-21T21:06:00\", \"2020-05-21T21:09:00\", \"2020-05-21T21:12:00\", \"2020-05-21T21:15:00\", \"2020-05-21T21:18:00\", \"2020-05-21T21:21:00\", \"2020-05-21T21:24:00\", \"2020-05-21T21:27:00\", \"2020-05-21T21:30:00\", \"2020-05-21T21:33:00\", \"2020-05-21T21:36:00\", \"2020-05-21T21:39:00\", \"2020-05-21T21:42:00\", \"2020-05-21T21:45:00\", \"2020-05-21T21:48:00\", \"2020-05-21T21:51:00\", \"2020-05-21T21:54:00\", \"2020-05-21T21:57:00\", \"2020-05-21T22:00:00\", \"2020-05-21T22:03:00\", \"2020-05-21T22:06:00\", \"2020-05-21T22:09:00\", \"2020-05-21T22:12:00\", \"2020-05-21T22:15:00\", \"2020-05-21T22:18:00\", \"2020-05-21T22:21:00\", \"2020-05-21T22:24:00\", \"2020-05-21T22:27:00\", \"2020-05-21T22:30:00\", \"2020-05-21T22:33:00\", \"2020-05-21T22:36:00\", \"2020-05-21T22:39:00\", \"2020-05-21T22:42:00\", \"2020-05-21T22:45:00\", \"2020-05-21T22:48:00\", \"2020-05-21T22:51:00\", \"2020-05-21T22:54:00\", \"2020-05-21T22:57:00\", \"2020-05-21T23:00:00\", \"2020-05-21T23:03:00\", \"2020-05-21T23:06:00\", \"2020-05-21T23:09:00\", \"2020-05-21T23:12:00\", \"2020-05-21T23:15:00\", \"2020-05-21T23:18:00\", \"2020-05-21T23:21:00\", \"2020-05-21T23:24:00\", \"2020-05-21T23:27:00\", \"2020-05-21T23:30:00\", \"2020-05-21T23:33:00\", \"2020-05-21T23:36:00\", \"2020-05-21T23:39:00\", \"2020-05-21T23:42:00\", \"2020-05-21T23:45:00\", \"2020-05-21T23:48:00\", \"2020-05-21T23:51:00\", \"2020-05-21T23:54:00\", \"2020-05-21T23:57:00\", \"2020-05-22T00:00:00\", \"2020-05-22T00:03:00\", \"2020-05-22T00:06:00\", \"2020-05-22T00:09:00\", \"2020-05-22T00:12:00\", \"2020-05-22T00:15:00\", \"2020-05-22T00:18:00\", \"2020-05-22T00:21:00\", \"2020-05-22T00:24:00\", \"2020-05-22T00:27:00\", \"2020-05-22T00:30:00\", \"2020-05-22T00:33:00\", \"2020-05-22T00:36:00\", \"2020-05-22T00:39:00\", \"2020-05-22T00:42:00\", \"2020-05-22T00:45:00\", \"2020-05-22T00:48:00\", \"2020-05-22T00:51:00\", \"2020-05-22T00:54:00\", \"2020-05-22T00:57:00\", \"2020-05-22T01:00:00\", \"2020-05-22T01:03:00\", \"2020-05-22T01:06:00\", \"2020-05-22T01:09:00\", \"2020-05-22T01:12:00\", \"2020-05-22T01:15:00\", \"2020-05-22T01:18:00\", \"2020-05-22T01:21:00\", \"2020-05-22T01:24:00\", \"2020-05-22T01:27:00\", \"2020-05-22T01:30:00\", \"2020-05-22T01:33:00\", \"2020-05-22T01:36:00\", \"2020-05-22T01:39:00\", \"2020-05-22T01:42:00\", \"2020-05-22T01:45:00\", \"2020-05-22T01:48:00\", \"2020-05-22T01:51:00\", \"2020-05-22T01:54:00\", \"2020-05-22T01:57:00\", \"2020-05-22T02:00:00\", \"2020-05-22T02:03:00\", \"2020-05-22T02:06:00\", \"2020-05-22T02:09:00\", \"2020-05-22T02:12:00\", \"2020-05-22T02:15:00\", \"2020-05-22T02:18:00\", \"2020-05-22T02:21:00\", \"2020-05-22T02:24:00\", \"2020-05-22T02:27:00\", \"2020-05-22T02:30:00\", \"2020-05-22T02:33:00\", \"2020-05-22T02:36:00\", \"2020-05-22T02:39:00\", \"2020-05-22T02:42:00\", \"2020-05-22T02:45:00\", \"2020-05-22T02:48:00\", \"2020-05-22T02:51:00\", \"2020-05-22T02:54:00\", \"2020-05-22T02:57:00\", \"2020-05-22T03:00:00\", \"2020-05-22T03:03:00\", \"2020-05-22T03:06:00\", \"2020-05-22T03:09:00\", \"2020-05-22T03:12:00\", \"2020-05-22T03:15:00\", \"2020-05-22T03:18:00\", \"2020-05-22T03:21:00\", \"2020-05-22T03:24:00\", \"2020-05-22T03:27:00\", \"2020-05-22T03:30:00\", \"2020-05-22T03:33:00\", \"2020-05-22T03:36:00\", \"2020-05-22T03:39:00\", \"2020-05-22T03:42:00\", \"2020-05-22T03:45:00\", \"2020-05-22T03:48:00\", \"2020-05-22T03:51:00\", \"2020-05-22T03:54:00\", \"2020-05-22T03:57:00\", \"2020-05-22T04:00:00\", \"2020-05-22T04:03:00\", \"2020-05-22T04:06:00\", \"2020-05-22T04:09:00\", \"2020-05-22T04:12:00\", \"2020-05-22T04:15:00\", \"2020-05-22T04:18:00\", \"2020-05-22T04:21:00\", \"2020-05-22T04:24:00\", \"2020-05-22T04:27:00\", \"2020-05-22T04:30:00\", \"2020-05-22T04:33:00\", \"2020-05-22T04:36:00\", \"2020-05-22T04:39:00\", \"2020-05-22T04:42:00\", \"2020-05-22T04:45:00\", \"2020-05-22T04:48:00\", \"2020-05-22T04:51:00\", \"2020-05-22T04:54:00\", \"2020-05-22T04:57:00\", \"2020-05-22T05:00:00\", \"2020-05-22T05:03:00\", \"2020-05-22T05:06:00\", \"2020-05-22T05:09:00\", \"2020-05-22T05:12:00\", \"2020-05-22T05:15:00\", \"2020-05-22T05:18:00\", \"2020-05-22T05:21:00\", \"2020-05-22T05:24:00\", \"2020-05-22T05:27:00\", \"2020-05-22T05:30:00\", \"2020-05-22T05:33:00\", \"2020-05-22T05:36:00\", \"2020-05-22T05:39:00\", \"2020-05-22T05:42:00\", \"2020-05-22T05:45:00\", \"2020-05-22T05:48:00\", \"2020-05-22T05:51:00\", \"2020-05-22T05:54:00\", \"2020-05-22T05:57:00\", \"2020-05-22T06:00:00\", \"2020-05-22T06:03:00\", \"2020-05-22T06:06:00\", \"2020-05-22T06:09:00\", \"2020-05-22T06:12:00\", \"2020-05-22T06:15:00\", \"2020-05-22T06:18:00\", \"2020-05-22T06:21:00\", \"2020-05-22T06:24:00\", \"2020-05-22T06:27:00\", \"2020-05-22T06:30:00\", \"2020-05-22T06:33:00\", \"2020-05-22T06:36:00\", \"2020-05-22T06:39:00\", \"2020-05-22T06:42:00\", \"2020-05-22T06:45:00\", \"2020-05-22T06:48:00\", \"2020-05-22T06:51:00\", \"2020-05-22T06:54:00\", \"2020-05-22T06:57:00\", \"2020-05-22T07:00:00\", \"2020-05-22T07:03:00\", \"2020-05-22T07:06:00\", \"2020-05-22T07:09:00\", \"2020-05-22T07:12:00\", \"2020-05-22T07:15:00\", \"2020-05-22T07:18:00\", \"2020-05-22T07:21:00\", \"2020-05-22T07:24:00\", \"2020-05-22T07:27:00\", \"2020-05-22T07:30:00\", \"2020-05-22T07:33:00\", \"2020-05-22T07:36:00\", \"2020-05-22T07:39:00\", \"2020-05-22T07:42:00\", \"2020-05-22T07:45:00\", \"2020-05-22T07:48:00\", \"2020-05-22T07:51:00\", \"2020-05-22T07:54:00\", \"2020-05-22T07:57:00\", \"2020-05-22T08:00:00\", \"2020-05-22T08:03:00\", \"2020-05-22T08:06:00\", \"2020-05-22T08:09:00\", \"2020-05-22T08:12:00\", \"2020-05-22T08:15:00\", \"2020-05-22T08:18:00\", \"2020-05-22T08:21:00\", \"2020-05-22T08:24:00\", \"2020-05-22T08:27:00\", \"2020-05-22T08:30:00\", \"2020-05-22T08:33:00\", \"2020-05-22T08:36:00\", \"2020-05-22T08:39:00\", \"2020-05-22T08:42:00\", \"2020-05-22T08:45:00\", \"2020-05-22T08:48:00\", \"2020-05-22T08:51:00\", \"2020-05-22T08:54:00\", \"2020-05-22T08:57:00\", \"2020-05-22T09:00:00\", \"2020-05-22T09:03:00\", \"2020-05-22T09:06:00\", \"2020-05-22T09:09:00\", \"2020-05-22T09:12:00\", \"2020-05-22T09:15:00\", \"2020-05-22T09:18:00\", \"2020-05-22T09:21:00\", \"2020-05-22T09:24:00\", \"2020-05-22T09:27:00\", \"2020-05-22T09:30:00\", \"2020-05-22T09:33:00\", \"2020-05-22T09:36:00\", \"2020-05-22T09:39:00\", \"2020-05-22T09:42:00\", \"2020-05-22T09:45:00\", \"2020-05-22T09:48:00\", \"2020-05-22T09:51:00\", \"2020-05-22T09:54:00\", \"2020-05-22T09:57:00\", \"2020-05-22T10:00:00\", \"2020-05-22T10:03:00\", \"2020-05-22T10:06:00\", \"2020-05-22T10:09:00\", \"2020-05-22T10:12:00\", \"2020-05-22T10:15:00\", \"2020-05-22T10:18:00\", \"2020-05-22T10:21:00\", \"2020-05-22T10:24:00\", \"2020-05-22T10:27:00\", \"2020-05-22T10:30:00\", \"2020-05-22T10:33:00\", \"2020-05-22T10:36:00\", \"2020-05-22T10:39:00\", \"2020-05-22T10:42:00\", \"2020-05-22T10:45:00\", \"2020-05-22T10:48:00\", \"2020-05-22T10:51:00\", \"2020-05-22T10:54:00\", \"2020-05-22T10:57:00\", \"2020-05-22T11:00:00\", \"2020-05-22T11:03:00\", \"2020-05-22T11:06:00\", \"2020-05-22T11:09:00\", \"2020-05-22T11:12:00\", \"2020-05-22T11:15:00\", \"2020-05-22T11:18:00\", \"2020-05-22T11:21:00\", \"2020-05-22T11:24:00\", \"2020-05-22T11:27:00\", \"2020-05-22T11:30:00\", \"2020-05-22T11:33:00\", \"2020-05-22T11:36:00\", \"2020-05-22T11:39:00\", \"2020-05-22T11:42:00\", \"2020-05-22T11:45:00\", \"2020-05-22T11:48:00\", \"2020-05-22T11:51:00\", \"2020-05-22T11:54:00\", \"2020-05-22T11:57:00\", \"2020-05-22T12:00:00\", \"2020-05-22T12:03:00\", \"2020-05-22T12:06:00\", \"2020-05-22T12:09:00\", \"2020-05-22T12:12:00\", \"2020-05-22T12:15:00\", \"2020-05-22T12:18:00\", \"2020-05-22T12:21:00\", \"2020-05-22T12:24:00\", \"2020-05-22T12:27:00\", \"2020-05-22T12:30:00\", \"2020-05-22T12:33:00\", \"2020-05-22T12:36:00\", \"2020-05-22T12:39:00\", \"2020-05-22T12:42:00\", \"2020-05-22T12:45:00\", \"2020-05-22T12:48:00\", \"2020-05-22T12:51:00\", \"2020-05-22T12:54:00\", \"2020-05-22T12:57:00\", \"2020-05-22T13:00:00\", \"2020-05-22T13:03:00\", \"2020-05-22T13:06:00\", \"2020-05-22T13:09:00\", \"2020-05-22T13:12:00\", \"2020-05-22T13:15:00\", \"2020-05-22T13:18:00\", \"2020-05-22T13:21:00\", \"2020-05-22T13:24:00\", \"2020-05-22T13:27:00\", \"2020-05-22T13:30:00\", \"2020-05-22T13:33:00\", \"2020-05-22T13:36:00\", \"2020-05-22T13:39:00\", \"2020-05-22T13:42:00\", \"2020-05-22T13:45:00\", \"2020-05-22T13:48:00\", \"2020-05-22T13:51:00\", \"2020-05-22T13:54:00\", \"2020-05-22T13:57:00\", \"2020-05-22T14:00:00\", \"2020-05-22T14:03:00\", \"2020-05-22T14:06:00\", \"2020-05-22T14:09:00\", \"2020-05-22T14:12:00\", \"2020-05-22T14:15:00\", \"2020-05-22T14:18:00\", \"2020-05-22T14:21:00\", \"2020-05-22T14:24:00\", \"2020-05-22T14:27:00\", \"2020-05-22T14:30:00\", \"2020-05-22T14:33:00\", \"2020-05-22T14:36:00\", \"2020-05-22T14:39:00\", \"2020-05-22T14:42:00\", \"2020-05-22T14:45:00\", \"2020-05-22T14:48:00\", \"2020-05-22T14:51:00\", \"2020-05-22T14:54:00\", \"2020-05-22T14:57:00\", \"2020-05-22T15:00:00\", \"2020-05-22T15:03:00\", \"2020-05-22T15:06:00\", \"2020-05-22T15:09:00\", \"2020-05-22T15:12:00\", \"2020-05-22T15:15:00\", \"2020-05-22T15:18:00\", \"2020-05-22T15:21:00\", \"2020-05-22T15:24:00\", \"2020-05-22T15:27:00\", \"2020-05-22T15:30:00\", \"2020-05-22T15:33:00\", \"2020-05-22T15:36:00\", \"2020-05-22T15:39:00\", \"2020-05-22T15:42:00\", \"2020-05-22T15:45:00\", \"2020-05-22T15:48:00\", \"2020-05-22T15:51:00\", \"2020-05-22T15:54:00\", \"2020-05-22T15:57:00\", \"2020-05-22T16:00:00\", \"2020-05-22T16:03:00\", \"2020-05-22T16:06:00\", \"2020-05-22T16:09:00\", \"2020-05-22T16:12:00\", \"2020-05-22T16:15:00\", \"2020-05-22T16:18:00\", \"2020-05-22T16:21:00\", \"2020-05-22T16:24:00\", \"2020-05-22T16:27:00\", \"2020-05-22T16:30:00\", \"2020-05-22T16:33:00\", \"2020-05-22T16:36:00\", \"2020-05-22T16:39:00\", \"2020-05-22T16:42:00\", \"2020-05-22T16:45:00\", \"2020-05-22T16:48:00\", \"2020-05-22T16:51:00\", \"2020-05-22T16:54:00\", \"2020-05-22T16:57:00\", \"2020-05-22T17:00:00\", \"2020-05-22T17:03:00\", \"2020-05-22T17:06:00\", \"2020-05-22T17:09:00\", \"2020-05-22T17:12:00\", \"2020-05-22T17:15:00\", \"2020-05-22T17:18:00\", \"2020-05-22T17:21:00\", \"2020-05-22T17:24:00\", \"2020-05-22T17:27:00\", \"2020-05-22T17:30:00\", \"2020-05-22T17:33:00\", \"2020-05-22T17:36:00\", \"2020-05-22T17:39:00\", \"2020-05-22T17:42:00\", \"2020-05-22T17:45:00\", \"2020-05-22T17:48:00\", \"2020-05-22T17:51:00\", \"2020-05-22T17:54:00\", \"2020-05-22T17:57:00\", \"2020-05-22T18:00:00\", \"2020-05-22T18:03:00\", \"2020-05-22T18:06:00\", \"2020-05-22T18:09:00\", \"2020-05-22T18:12:00\", \"2020-05-22T18:15:00\", \"2020-05-22T18:18:00\", \"2020-05-22T18:21:00\", \"2020-05-22T18:24:00\", \"2020-05-22T18:27:00\", \"2020-05-22T18:30:00\", \"2020-05-22T18:33:00\", \"2020-05-22T18:36:00\", \"2020-05-22T18:39:00\", \"2020-05-22T18:42:00\", \"2020-05-22T18:45:00\", \"2020-05-22T18:48:00\", \"2020-05-22T18:51:00\", \"2020-05-22T18:54:00\", \"2020-05-22T18:57:00\", \"2020-05-22T19:00:00\", \"2020-05-22T19:03:00\", \"2020-05-22T19:06:00\", \"2020-05-22T19:09:00\", \"2020-05-22T19:12:00\", \"2020-05-22T19:15:00\", \"2020-05-22T19:18:00\", \"2020-05-22T19:21:00\", \"2020-05-22T19:24:00\", \"2020-05-22T19:27:00\", \"2020-05-22T19:30:00\", \"2020-05-22T19:33:00\", \"2020-05-22T19:36:00\", \"2020-05-22T19:39:00\", \"2020-05-22T19:42:00\", \"2020-05-22T19:45:00\", \"2020-05-22T19:48:00\", \"2020-05-22T19:51:00\", \"2020-05-22T19:54:00\", \"2020-05-22T19:57:00\", \"2020-05-22T20:00:00\", \"2020-05-22T20:03:00\", \"2020-05-22T20:06:00\", \"2020-05-22T20:09:00\", \"2020-05-22T20:12:00\", \"2020-05-22T20:15:00\", \"2020-05-22T20:18:00\", \"2020-05-22T20:21:00\", \"2020-05-22T20:24:00\", \"2020-05-22T20:27:00\", \"2020-05-22T20:30:00\", \"2020-05-22T20:33:00\", \"2020-05-22T20:36:00\", \"2020-05-22T20:39:00\", \"2020-05-22T20:42:00\", \"2020-05-22T20:45:00\", \"2020-05-22T20:48:00\", \"2020-05-22T20:51:00\", \"2020-05-22T20:54:00\", \"2020-05-22T20:57:00\", \"2020-05-22T21:00:00\", \"2020-05-22T21:03:00\", \"2020-05-22T21:06:00\", \"2020-05-22T21:09:00\", \"2020-05-22T21:12:00\", \"2020-05-22T21:15:00\", \"2020-05-22T21:18:00\", \"2020-05-22T21:21:00\", \"2020-05-22T21:24:00\", \"2020-05-22T21:27:00\", \"2020-05-22T21:30:00\", \"2020-05-22T21:33:00\", \"2020-05-22T21:36:00\", \"2020-05-22T21:39:00\", \"2020-05-22T21:42:00\", \"2020-05-22T21:45:00\", \"2020-05-22T21:48:00\", \"2020-05-22T21:51:00\", \"2020-05-22T21:54:00\", \"2020-05-22T21:57:00\", \"2020-05-22T22:00:00\", \"2020-05-22T22:03:00\", \"2020-05-22T22:06:00\", \"2020-05-22T22:09:00\", \"2020-05-22T22:12:00\", \"2020-05-22T22:15:00\", \"2020-05-22T22:18:00\", \"2020-05-22T22:21:00\", \"2020-05-22T22:24:00\", \"2020-05-22T22:27:00\", \"2020-05-22T22:30:00\", \"2020-05-22T22:33:00\", \"2020-05-22T22:36:00\", \"2020-05-22T22:39:00\", \"2020-05-22T22:42:00\", \"2020-05-22T22:45:00\", \"2020-05-22T22:48:00\", \"2020-05-22T22:51:00\", \"2020-05-22T22:54:00\", \"2020-05-22T22:57:00\", \"2020-05-22T23:00:00\", \"2020-05-22T23:03:00\", \"2020-05-22T23:06:00\", \"2020-05-22T23:09:00\", \"2020-05-22T23:12:00\", \"2020-05-22T23:15:00\", \"2020-05-22T23:18:00\", \"2020-05-22T23:21:00\", \"2020-05-22T23:24:00\", \"2020-05-22T23:27:00\", \"2020-05-22T23:30:00\", \"2020-05-22T23:33:00\", \"2020-05-22T23:36:00\", \"2020-05-22T23:39:00\", \"2020-05-22T23:42:00\", \"2020-05-22T23:45:00\", \"2020-05-22T23:48:00\", \"2020-05-22T23:51:00\", \"2020-05-22T23:54:00\", \"2020-05-22T23:57:00\", \"2020-05-23T00:00:00\", \"2020-05-23T00:03:00\", \"2020-05-23T00:06:00\", \"2020-05-23T00:09:00\", \"2020-05-23T00:12:00\", \"2020-05-23T00:15:00\", \"2020-05-23T00:18:00\", \"2020-05-23T00:21:00\", \"2020-05-23T00:24:00\", \"2020-05-23T00:27:00\", \"2020-05-23T00:30:00\", \"2020-05-23T00:33:00\", \"2020-05-23T00:36:00\", \"2020-05-23T00:39:00\", \"2020-05-23T00:42:00\", \"2020-05-23T00:45:00\", \"2020-05-23T00:48:00\", \"2020-05-23T00:51:00\", \"2020-05-23T00:54:00\", \"2020-05-23T00:57:00\", \"2020-05-23T01:00:00\", \"2020-05-23T01:03:00\", \"2020-05-23T01:06:00\", \"2020-05-23T01:09:00\", \"2020-05-23T01:12:00\", \"2020-05-23T01:15:00\", \"2020-05-23T01:18:00\", \"2020-05-23T01:21:00\", \"2020-05-23T01:24:00\", \"2020-05-23T01:27:00\", \"2020-05-23T01:30:00\", \"2020-05-23T01:33:00\", \"2020-05-23T01:36:00\", \"2020-05-23T01:39:00\", \"2020-05-23T01:42:00\", \"2020-05-23T01:45:00\", \"2020-05-23T01:48:00\", \"2020-05-23T01:51:00\", \"2020-05-23T01:54:00\", \"2020-05-23T01:57:00\", \"2020-05-23T02:00:00\", \"2020-05-23T02:03:00\", \"2020-05-23T02:06:00\", \"2020-05-23T02:09:00\", \"2020-05-23T02:12:00\", \"2020-05-23T02:15:00\", \"2020-05-23T02:18:00\", \"2020-05-23T02:21:00\", \"2020-05-23T02:24:00\", \"2020-05-23T02:27:00\", \"2020-05-23T02:30:00\", \"2020-05-23T02:33:00\", \"2020-05-23T02:36:00\", \"2020-05-23T02:39:00\", \"2020-05-23T02:42:00\", \"2020-05-23T02:45:00\", \"2020-05-23T02:48:00\", \"2020-05-23T02:51:00\", \"2020-05-23T02:54:00\", \"2020-05-23T02:57:00\", \"2020-05-23T03:00:00\", \"2020-05-23T03:03:00\", \"2020-05-23T03:06:00\", \"2020-05-23T03:09:00\", \"2020-05-23T03:12:00\", \"2020-05-23T03:15:00\", \"2020-05-23T03:18:00\", \"2020-05-23T03:21:00\", \"2020-05-23T03:24:00\", \"2020-05-23T03:27:00\", \"2020-05-23T03:30:00\", \"2020-05-23T03:33:00\", \"2020-05-23T03:36:00\", \"2020-05-23T03:39:00\", \"2020-05-23T03:42:00\", \"2020-05-23T03:45:00\", \"2020-05-23T03:48:00\", \"2020-05-23T03:51:00\", \"2020-05-23T03:54:00\", \"2020-05-23T03:57:00\", \"2020-05-23T04:00:00\", \"2020-05-23T04:03:00\", \"2020-05-23T04:06:00\", \"2020-05-23T04:09:00\", \"2020-05-23T04:12:00\", \"2020-05-23T04:15:00\", \"2020-05-23T04:18:00\", \"2020-05-23T04:21:00\", \"2020-05-23T04:24:00\", \"2020-05-23T04:27:00\", \"2020-05-23T04:30:00\", \"2020-05-23T04:33:00\", \"2020-05-23T04:36:00\", \"2020-05-23T04:39:00\", \"2020-05-23T04:42:00\", \"2020-05-23T04:45:00\", \"2020-05-23T04:48:00\", \"2020-05-23T04:51:00\", \"2020-05-23T04:54:00\", \"2020-05-23T04:57:00\", \"2020-05-23T05:00:00\", \"2020-05-23T05:03:00\", \"2020-05-23T05:06:00\", \"2020-05-23T05:09:00\", \"2020-05-23T05:12:00\", \"2020-05-23T05:15:00\", \"2020-05-23T05:18:00\", \"2020-05-23T05:21:00\", \"2020-05-23T05:24:00\", \"2020-05-23T05:27:00\", \"2020-05-23T05:30:00\", \"2020-05-23T05:33:00\", \"2020-05-23T05:36:00\", \"2020-05-23T05:39:00\", \"2020-05-23T05:42:00\", \"2020-05-23T05:45:00\", \"2020-05-23T05:48:00\", \"2020-05-23T05:51:00\", \"2020-05-23T05:54:00\", \"2020-05-23T05:57:00\", \"2020-05-23T06:00:00\", \"2020-05-23T06:03:00\", \"2020-05-23T06:06:00\", \"2020-05-23T06:09:00\", \"2020-05-23T06:12:00\", \"2020-05-23T06:15:00\", \"2020-05-23T06:18:00\", \"2020-05-23T06:21:00\", \"2020-05-23T06:24:00\", \"2020-05-23T06:27:00\", \"2020-05-23T06:30:00\", \"2020-05-23T06:33:00\", \"2020-05-23T06:36:00\", \"2020-05-23T06:39:00\", \"2020-05-23T06:42:00\", \"2020-05-23T06:45:00\", \"2020-05-23T06:48:00\", \"2020-05-23T06:51:00\", \"2020-05-23T06:54:00\", \"2020-05-23T06:57:00\", \"2020-05-23T07:00:00\", \"2020-05-23T07:03:00\", \"2020-05-23T07:06:00\", \"2020-05-23T07:09:00\", \"2020-05-23T07:12:00\", \"2020-05-23T07:15:00\", \"2020-05-23T07:18:00\", \"2020-05-23T07:21:00\", \"2020-05-23T07:24:00\", \"2020-05-23T07:27:00\", \"2020-05-23T07:30:00\", \"2020-05-23T07:33:00\", \"2020-05-23T07:36:00\", \"2020-05-23T07:39:00\", \"2020-05-23T07:42:00\", \"2020-05-23T07:45:00\", \"2020-05-23T07:48:00\", \"2020-05-23T07:51:00\", \"2020-05-23T07:54:00\", \"2020-05-23T07:57:00\", \"2020-05-23T08:00:00\", \"2020-05-23T08:03:00\", \"2020-05-23T08:06:00\", \"2020-05-23T08:09:00\", \"2020-05-23T08:12:00\", \"2020-05-23T08:15:00\", \"2020-05-23T08:18:00\", \"2020-05-23T08:21:00\", \"2020-05-23T08:24:00\", \"2020-05-23T08:27:00\", \"2020-05-23T08:30:00\", \"2020-05-23T08:33:00\", \"2020-05-23T08:36:00\", \"2020-05-23T08:39:00\", \"2020-05-23T08:42:00\", \"2020-05-23T08:45:00\", \"2020-05-23T08:48:00\", \"2020-05-23T08:51:00\", \"2020-05-23T08:54:00\", \"2020-05-23T08:57:00\", \"2020-05-23T09:00:00\", \"2020-05-23T09:03:00\", \"2020-05-23T09:06:00\", \"2020-05-23T09:09:00\", \"2020-05-23T09:12:00\", \"2020-05-23T09:15:00\", \"2020-05-23T09:18:00\", \"2020-05-23T09:21:00\", \"2020-05-23T09:24:00\", \"2020-05-23T09:27:00\", \"2020-05-23T09:30:00\", \"2020-05-23T09:33:00\", \"2020-05-23T09:36:00\", \"2020-05-23T09:39:00\", \"2020-05-23T09:42:00\", \"2020-05-23T09:45:00\", \"2020-05-23T09:48:00\", \"2020-05-23T09:51:00\", \"2020-05-23T09:54:00\", \"2020-05-23T09:57:00\", \"2020-05-23T10:00:00\", \"2020-05-23T10:03:00\", \"2020-05-23T10:06:00\", \"2020-05-23T10:09:00\", \"2020-05-23T10:12:00\", \"2020-05-23T10:15:00\", \"2020-05-23T10:18:00\", \"2020-05-23T10:21:00\", \"2020-05-23T10:24:00\", \"2020-05-23T10:27:00\", \"2020-05-23T10:30:00\", \"2020-05-23T10:33:00\", \"2020-05-23T10:36:00\", \"2020-05-23T10:39:00\", \"2020-05-23T10:42:00\", \"2020-05-23T10:45:00\", \"2020-05-23T10:48:00\", \"2020-05-23T10:51:00\", \"2020-05-23T10:54:00\", \"2020-05-23T10:57:00\", \"2020-05-23T11:00:00\", \"2020-05-23T11:03:00\", \"2020-05-23T11:06:00\", \"2020-05-23T11:09:00\", \"2020-05-23T11:12:00\", \"2020-05-23T11:15:00\", \"2020-05-23T11:18:00\", \"2020-05-23T11:21:00\", \"2020-05-23T11:24:00\", \"2020-05-23T11:27:00\", \"2020-05-23T11:30:00\", \"2020-05-23T11:33:00\", \"2020-05-23T11:36:00\", \"2020-05-23T11:39:00\", \"2020-05-23T11:42:00\", \"2020-05-23T11:45:00\", \"2020-05-23T11:48:00\", \"2020-05-23T11:51:00\", \"2020-05-23T11:54:00\", \"2020-05-23T11:57:00\", \"2020-05-23T12:00:00\", \"2020-05-23T12:03:00\", \"2020-05-23T12:06:00\", \"2020-05-23T12:09:00\", \"2020-05-23T12:12:00\", \"2020-05-23T12:15:00\", \"2020-05-23T12:18:00\", \"2020-05-23T12:21:00\", \"2020-05-23T12:24:00\", \"2020-05-23T12:27:00\", \"2020-05-23T12:30:00\", \"2020-05-23T12:33:00\", \"2020-05-23T12:36:00\", \"2020-05-23T12:39:00\", \"2020-05-23T12:42:00\", \"2020-05-23T12:45:00\", \"2020-05-23T12:48:00\", \"2020-05-23T12:51:00\", \"2020-05-23T12:54:00\", \"2020-05-23T12:57:00\", \"2020-05-23T13:00:00\", \"2020-05-23T13:03:00\", \"2020-05-23T13:06:00\", \"2020-05-23T13:09:00\", \"2020-05-23T13:12:00\", \"2020-05-23T13:15:00\", \"2020-05-23T13:18:00\", \"2020-05-23T13:21:00\", \"2020-05-23T13:24:00\", \"2020-05-23T13:27:00\", \"2020-05-23T13:30:00\", \"2020-05-23T13:33:00\", \"2020-05-23T13:36:00\", \"2020-05-23T13:39:00\", \"2020-05-23T13:42:00\", \"2020-05-23T13:45:00\", \"2020-05-23T13:48:00\", \"2020-05-23T13:51:00\", \"2020-05-23T13:54:00\", \"2020-05-23T13:57:00\", \"2020-05-23T14:00:00\", \"2020-05-23T14:03:00\", \"2020-05-23T14:06:00\", \"2020-05-23T14:09:00\", \"2020-05-23T14:12:00\", \"2020-05-23T14:15:00\", \"2020-05-23T14:18:00\", \"2020-05-23T14:21:00\", \"2020-05-23T14:24:00\", \"2020-05-23T14:27:00\", \"2020-05-23T14:30:00\", \"2020-05-23T14:33:00\", \"2020-05-23T14:36:00\", \"2020-05-23T14:39:00\", \"2020-05-23T14:42:00\", \"2020-05-23T14:45:00\", \"2020-05-23T14:48:00\", \"2020-05-23T14:51:00\", \"2020-05-23T14:54:00\", \"2020-05-23T14:57:00\", \"2020-05-23T15:00:00\", \"2020-05-23T15:03:00\", \"2020-05-23T15:06:00\", \"2020-05-23T15:09:00\", \"2020-05-23T15:12:00\", \"2020-05-23T15:15:00\", \"2020-05-23T15:18:00\", \"2020-05-23T15:21:00\", \"2020-05-23T15:24:00\", \"2020-05-23T15:27:00\", \"2020-05-23T15:30:00\", \"2020-05-23T15:33:00\", \"2020-05-23T15:36:00\", \"2020-05-23T15:39:00\", \"2020-05-23T15:42:00\", \"2020-05-23T15:45:00\", \"2020-05-23T15:48:00\", \"2020-05-23T15:51:00\", \"2020-05-23T15:54:00\", \"2020-05-23T15:57:00\", \"2020-05-23T16:00:00\", \"2020-05-23T16:03:00\", \"2020-05-23T16:06:00\", \"2020-05-23T16:09:00\", \"2020-05-23T16:12:00\", \"2020-05-23T16:15:00\", \"2020-05-23T16:18:00\", \"2020-05-23T16:21:00\", \"2020-05-23T16:24:00\", \"2020-05-23T16:27:00\", \"2020-05-23T16:30:00\", \"2020-05-23T16:33:00\", \"2020-05-23T16:36:00\", \"2020-05-23T16:39:00\", \"2020-05-23T16:42:00\", \"2020-05-23T16:45:00\", \"2020-05-23T16:48:00\", \"2020-05-23T16:51:00\", \"2020-05-23T16:54:00\", \"2020-05-23T16:57:00\", \"2020-05-23T17:00:00\", \"2020-05-23T17:03:00\", \"2020-05-23T17:06:00\", \"2020-05-23T17:09:00\", \"2020-05-23T17:12:00\", \"2020-05-23T17:15:00\", \"2020-05-23T17:18:00\", \"2020-05-23T17:21:00\", \"2020-05-23T17:24:00\", \"2020-05-23T17:27:00\", \"2020-05-23T17:30:00\", \"2020-05-23T17:33:00\", \"2020-05-23T17:36:00\", \"2020-05-23T17:39:00\", \"2020-05-23T17:42:00\", \"2020-05-23T17:45:00\", \"2020-05-23T17:48:00\", \"2020-05-23T17:51:00\", \"2020-05-23T17:54:00\", \"2020-05-23T17:57:00\", \"2020-05-23T18:00:00\", \"2020-05-23T18:03:00\", \"2020-05-23T18:06:00\", \"2020-05-23T18:09:00\", \"2020-05-23T18:12:00\", \"2020-05-23T18:15:00\", \"2020-05-23T18:18:00\", \"2020-05-23T18:21:00\", \"2020-05-23T18:24:00\", \"2020-05-23T18:27:00\", \"2020-05-23T18:30:00\", \"2020-05-23T18:33:00\", \"2020-05-23T18:36:00\", \"2020-05-23T18:39:00\", \"2020-05-23T18:42:00\", \"2020-05-23T18:45:00\", \"2020-05-23T18:48:00\", \"2020-05-23T18:51:00\", \"2020-05-23T18:54:00\", \"2020-05-23T18:57:00\", \"2020-05-23T19:00:00\", \"2020-05-23T19:03:00\", \"2020-05-23T19:06:00\", \"2020-05-23T19:09:00\", \"2020-05-23T19:12:00\", \"2020-05-23T19:15:00\", \"2020-05-23T19:18:00\", \"2020-05-23T19:21:00\", \"2020-05-23T19:24:00\", \"2020-05-23T19:27:00\", \"2020-05-23T19:30:00\", \"2020-05-23T19:33:00\", \"2020-05-23T19:36:00\", \"2020-05-23T19:39:00\", \"2020-05-23T19:42:00\", \"2020-05-23T19:45:00\", \"2020-05-23T19:48:00\", \"2020-05-23T19:51:00\", \"2020-05-23T19:54:00\", \"2020-05-23T19:57:00\", \"2020-05-23T20:00:00\", \"2020-05-23T20:03:00\", \"2020-05-23T20:06:00\", \"2020-05-23T20:09:00\", \"2020-05-23T20:12:00\", \"2020-05-23T20:15:00\", \"2020-05-23T20:18:00\", \"2020-05-23T20:21:00\", \"2020-05-23T20:24:00\", \"2020-05-23T20:27:00\", \"2020-05-23T20:30:00\", \"2020-05-23T20:33:00\", \"2020-05-23T20:36:00\", \"2020-05-23T20:39:00\", \"2020-05-23T20:42:00\", \"2020-05-23T20:45:00\", \"2020-05-23T20:48:00\", \"2020-05-23T20:51:00\", \"2020-05-23T20:54:00\", \"2020-05-23T20:57:00\", \"2020-05-23T21:00:00\", \"2020-05-23T21:03:00\", \"2020-05-23T21:06:00\", \"2020-05-23T21:09:00\", \"2020-05-23T21:12:00\", \"2020-05-23T21:15:00\", \"2020-05-23T21:18:00\", \"2020-05-23T21:21:00\", \"2020-05-23T21:24:00\", \"2020-05-23T21:27:00\", \"2020-05-23T21:30:00\", \"2020-05-23T21:33:00\", \"2020-05-23T21:36:00\", \"2020-05-23T21:39:00\", \"2020-05-23T21:42:00\", \"2020-05-23T21:45:00\", \"2020-05-23T21:48:00\", \"2020-05-23T21:51:00\", \"2020-05-23T21:54:00\", \"2020-05-23T21:57:00\", \"2020-05-23T22:00:00\", \"2020-05-23T22:03:00\", \"2020-05-23T22:06:00\", \"2020-05-23T22:09:00\", \"2020-05-23T22:12:00\", \"2020-05-23T22:15:00\", \"2020-05-23T22:18:00\", \"2020-05-23T22:21:00\", \"2020-05-23T22:24:00\", \"2020-05-23T22:27:00\", \"2020-05-23T22:30:00\", \"2020-05-23T22:33:00\", \"2020-05-23T22:36:00\", \"2020-05-23T22:39:00\", \"2020-05-23T22:42:00\", \"2020-05-23T22:45:00\", \"2020-05-23T22:48:00\", \"2020-05-23T22:51:00\", \"2020-05-23T22:54:00\", \"2020-05-23T22:57:00\", \"2020-05-23T23:00:00\", \"2020-05-23T23:03:00\", \"2020-05-23T23:06:00\", \"2020-05-23T23:09:00\", \"2020-05-23T23:12:00\", \"2020-05-23T23:15:00\", \"2020-05-23T23:18:00\", \"2020-05-23T23:21:00\", \"2020-05-23T23:24:00\", \"2020-05-23T23:27:00\", \"2020-05-23T23:30:00\", \"2020-05-23T23:33:00\", \"2020-05-23T23:36:00\", \"2020-05-23T23:39:00\", \"2020-05-23T23:42:00\", \"2020-05-23T23:45:00\", \"2020-05-23T23:48:00\", \"2020-05-23T23:51:00\", \"2020-05-23T23:54:00\", \"2020-05-23T23:57:00\", \"2020-05-24T00:00:00\", \"2020-05-24T00:03:00\", \"2020-05-24T00:06:00\", \"2020-05-24T00:09:00\", \"2020-05-24T00:12:00\", \"2020-05-24T00:15:00\", \"2020-05-24T00:18:00\", \"2020-05-24T00:21:00\", \"2020-05-24T00:24:00\", \"2020-05-24T00:27:00\", \"2020-05-24T00:30:00\", \"2020-05-24T00:33:00\", \"2020-05-24T00:36:00\", \"2020-05-24T00:39:00\", \"2020-05-24T00:42:00\", \"2020-05-24T00:45:00\", \"2020-05-24T00:48:00\", \"2020-05-24T00:51:00\", \"2020-05-24T00:54:00\", \"2020-05-24T00:57:00\", \"2020-05-24T01:00:00\", \"2020-05-24T01:03:00\", \"2020-05-24T01:06:00\", \"2020-05-24T01:09:00\", \"2020-05-24T01:12:00\", \"2020-05-24T01:15:00\", \"2020-05-24T01:18:00\", \"2020-05-24T01:21:00\", \"2020-05-24T01:24:00\", \"2020-05-24T01:27:00\", \"2020-05-24T01:30:00\", \"2020-05-24T01:33:00\", \"2020-05-24T01:36:00\", \"2020-05-24T01:39:00\", \"2020-05-24T01:42:00\", \"2020-05-24T01:45:00\", \"2020-05-24T01:48:00\", \"2020-05-24T01:51:00\", \"2020-05-24T01:54:00\", \"2020-05-24T01:57:00\", \"2020-05-24T02:00:00\", \"2020-05-24T02:03:00\", \"2020-05-24T02:06:00\", \"2020-05-24T02:09:00\", \"2020-05-24T02:12:00\", \"2020-05-24T02:15:00\", \"2020-05-24T02:18:00\", \"2020-05-24T02:21:00\", \"2020-05-24T02:24:00\", \"2020-05-24T02:27:00\", \"2020-05-24T02:30:00\", \"2020-05-24T02:33:00\", \"2020-05-24T02:36:00\", \"2020-05-24T02:39:00\", \"2020-05-24T02:42:00\", \"2020-05-24T02:45:00\", \"2020-05-24T02:48:00\", \"2020-05-24T02:51:00\", \"2020-05-24T02:54:00\", \"2020-05-24T02:57:00\", \"2020-05-24T03:00:00\", \"2020-05-24T03:03:00\", \"2020-05-24T03:06:00\", \"2020-05-24T03:09:00\", \"2020-05-24T03:12:00\", \"2020-05-24T03:15:00\", \"2020-05-24T03:18:00\", \"2020-05-24T03:21:00\", \"2020-05-24T03:24:00\", \"2020-05-24T03:27:00\", \"2020-05-24T03:30:00\", \"2020-05-24T03:33:00\", \"2020-05-24T03:36:00\", \"2020-05-24T03:39:00\", \"2020-05-24T03:42:00\", \"2020-05-24T03:45:00\", \"2020-05-24T03:48:00\", \"2020-05-24T03:51:00\", \"2020-05-24T03:54:00\", \"2020-05-24T03:57:00\", \"2020-05-24T04:00:00\", \"2020-05-24T04:03:00\", \"2020-05-24T04:06:00\", \"2020-05-24T04:09:00\", \"2020-05-24T04:12:00\", \"2020-05-24T04:15:00\", \"2020-05-24T04:18:00\", \"2020-05-24T04:21:00\", \"2020-05-24T04:24:00\", \"2020-05-24T04:27:00\", \"2020-05-24T04:30:00\", \"2020-05-24T04:33:00\", \"2020-05-24T04:36:00\", \"2020-05-24T04:39:00\", \"2020-05-24T04:42:00\", \"2020-05-24T04:45:00\", \"2020-05-24T04:48:00\", \"2020-05-24T04:51:00\", \"2020-05-24T04:54:00\", \"2020-05-24T04:57:00\", \"2020-05-24T05:00:00\", \"2020-05-24T05:03:00\", \"2020-05-24T05:06:00\", \"2020-05-24T05:09:00\", \"2020-05-24T05:12:00\", \"2020-05-24T05:15:00\", \"2020-05-24T05:18:00\", \"2020-05-24T05:21:00\", \"2020-05-24T05:24:00\", \"2020-05-24T05:27:00\", \"2020-05-24T05:30:00\", \"2020-05-24T05:33:00\", \"2020-05-24T05:36:00\", \"2020-05-24T05:39:00\", \"2020-05-24T05:42:00\", \"2020-05-24T05:45:00\", \"2020-05-24T05:48:00\", \"2020-05-24T05:51:00\", \"2020-05-24T05:54:00\", \"2020-05-24T05:57:00\", \"2020-05-24T06:00:00\", \"2020-05-24T06:03:00\", \"2020-05-24T06:06:00\", \"2020-05-24T06:09:00\", \"2020-05-24T06:12:00\", \"2020-05-24T06:15:00\", \"2020-05-24T06:18:00\", \"2020-05-24T06:21:00\", \"2020-05-24T06:24:00\", \"2020-05-24T06:27:00\", \"2020-05-24T06:30:00\", \"2020-05-24T06:33:00\", \"2020-05-24T06:36:00\", \"2020-05-24T06:39:00\", \"2020-05-24T06:42:00\", \"2020-05-24T06:45:00\", \"2020-05-24T06:48:00\", \"2020-05-24T06:51:00\", \"2020-05-24T06:54:00\", \"2020-05-24T06:57:00\", \"2020-05-24T07:00:00\", \"2020-05-24T07:03:00\", \"2020-05-24T07:06:00\", \"2020-05-24T07:09:00\", \"2020-05-24T07:12:00\", \"2020-05-24T07:15:00\", \"2020-05-24T07:18:00\", \"2020-05-24T07:21:00\", \"2020-05-24T07:24:00\", \"2020-05-24T07:27:00\", \"2020-05-24T07:30:00\", \"2020-05-24T07:33:00\", \"2020-05-24T07:36:00\", \"2020-05-24T07:39:00\", \"2020-05-24T07:42:00\", \"2020-05-24T07:45:00\", \"2020-05-24T07:48:00\", \"2020-05-24T07:51:00\", \"2020-05-24T07:54:00\", \"2020-05-24T07:57:00\", \"2020-05-24T08:00:00\", \"2020-05-24T08:03:00\", \"2020-05-24T08:06:00\", \"2020-05-24T08:09:00\", \"2020-05-24T08:12:00\", \"2020-05-24T08:15:00\", \"2020-05-24T08:18:00\", \"2020-05-24T08:21:00\", \"2020-05-24T08:24:00\", \"2020-05-24T08:27:00\", \"2020-05-24T08:30:00\", \"2020-05-24T08:33:00\", \"2020-05-24T08:36:00\", \"2020-05-24T08:39:00\", \"2020-05-24T08:42:00\", \"2020-05-24T08:45:00\", \"2020-05-24T08:48:00\", \"2020-05-24T08:51:00\", \"2020-05-24T08:54:00\", \"2020-05-24T08:57:00\", \"2020-05-24T09:00:00\", \"2020-05-24T09:03:00\", \"2020-05-24T09:06:00\", \"2020-05-24T09:09:00\", \"2020-05-24T09:12:00\", \"2020-05-24T09:15:00\", \"2020-05-24T09:18:00\", \"2020-05-24T09:21:00\", \"2020-05-24T09:24:00\", \"2020-05-24T09:27:00\", \"2020-05-24T09:30:00\", \"2020-05-24T09:33:00\", \"2020-05-24T09:36:00\", \"2020-05-24T09:39:00\", \"2020-05-24T09:42:00\", \"2020-05-24T09:45:00\", \"2020-05-24T09:48:00\", \"2020-05-24T09:51:00\", \"2020-05-24T09:54:00\", \"2020-05-24T09:57:00\", \"2020-05-24T10:00:00\", \"2020-05-24T10:03:00\", \"2020-05-24T10:06:00\", \"2020-05-24T10:09:00\", \"2020-05-24T10:12:00\", \"2020-05-24T10:15:00\", \"2020-05-24T10:18:00\", \"2020-05-24T10:21:00\", \"2020-05-24T10:24:00\", \"2020-05-24T10:27:00\", \"2020-05-24T10:30:00\", \"2020-05-24T10:33:00\", \"2020-05-24T10:36:00\", \"2020-05-24T10:39:00\", \"2020-05-24T10:42:00\", \"2020-05-24T10:45:00\", \"2020-05-24T10:48:00\", \"2020-05-24T10:51:00\", \"2020-05-24T10:54:00\", \"2020-05-24T10:57:00\", \"2020-05-24T11:00:00\", \"2020-05-24T11:03:00\", \"2020-05-24T11:06:00\", \"2020-05-24T11:09:00\", \"2020-05-24T11:12:00\", \"2020-05-24T11:15:00\", \"2020-05-24T11:18:00\", \"2020-05-24T11:21:00\", \"2020-05-24T11:24:00\", \"2020-05-24T11:27:00\", \"2020-05-24T11:30:00\", \"2020-05-24T11:33:00\", \"2020-05-24T11:36:00\", \"2020-05-24T11:39:00\", \"2020-05-24T11:42:00\", \"2020-05-24T11:45:00\", \"2020-05-24T11:48:00\", \"2020-05-24T11:51:00\", \"2020-05-24T11:54:00\", \"2020-05-24T11:57:00\", \"2020-05-24T12:00:00\", \"2020-05-24T12:03:00\", \"2020-05-24T12:06:00\", \"2020-05-24T12:09:00\", \"2020-05-24T12:12:00\", \"2020-05-24T12:15:00\", \"2020-05-24T12:18:00\", \"2020-05-24T12:21:00\", \"2020-05-24T12:24:00\", \"2020-05-24T12:27:00\", \"2020-05-24T12:30:00\", \"2020-05-24T12:33:00\", \"2020-05-24T12:36:00\", \"2020-05-24T12:39:00\", \"2020-05-24T12:42:00\", \"2020-05-24T12:45:00\", \"2020-05-24T12:48:00\", \"2020-05-24T12:51:00\", \"2020-05-24T12:54:00\", \"2020-05-24T12:57:00\", \"2020-05-24T13:00:00\", \"2020-05-24T13:03:00\", \"2020-05-24T13:06:00\", \"2020-05-24T13:09:00\", \"2020-05-24T13:12:00\", \"2020-05-24T13:15:00\", \"2020-05-24T13:18:00\", \"2020-05-24T13:21:00\", \"2020-05-24T13:24:00\", \"2020-05-24T13:27:00\", \"2020-05-24T13:30:00\", \"2020-05-24T13:33:00\", \"2020-05-24T13:36:00\", \"2020-05-24T13:39:00\", \"2020-05-24T13:42:00\", \"2020-05-24T13:45:00\", \"2020-05-24T13:48:00\", \"2020-05-24T13:51:00\", \"2020-05-24T13:54:00\", \"2020-05-24T13:57:00\", \"2020-05-24T14:00:00\", \"2020-05-24T14:03:00\", \"2020-05-24T14:06:00\", \"2020-05-24T14:09:00\", \"2020-05-24T14:12:00\", \"2020-05-24T14:15:00\", \"2020-05-24T14:18:00\", \"2020-05-24T14:21:00\", \"2020-05-24T14:24:00\", \"2020-05-24T14:27:00\", \"2020-05-24T14:30:00\", \"2020-05-24T14:33:00\", \"2020-05-24T14:36:00\", \"2020-05-24T14:39:00\", \"2020-05-24T14:42:00\", \"2020-05-24T14:45:00\", \"2020-05-24T14:48:00\", \"2020-05-24T14:51:00\", \"2020-05-24T14:54:00\", \"2020-05-24T14:57:00\", \"2020-05-24T15:00:00\", \"2020-05-24T15:03:00\", \"2020-05-24T15:06:00\", \"2020-05-24T15:09:00\", \"2020-05-24T15:12:00\", \"2020-05-24T15:15:00\", \"2020-05-24T15:18:00\", \"2020-05-24T15:21:00\", \"2020-05-24T15:24:00\", \"2020-05-24T15:27:00\", \"2020-05-24T15:30:00\", \"2020-05-24T15:33:00\", \"2020-05-24T15:36:00\", \"2020-05-24T15:39:00\", \"2020-05-24T15:42:00\", \"2020-05-24T15:45:00\", \"2020-05-24T15:48:00\", \"2020-05-24T15:51:00\", \"2020-05-24T15:54:00\", \"2020-05-24T15:57:00\", \"2020-05-24T16:00:00\", \"2020-05-24T16:03:00\", \"2020-05-24T16:06:00\", \"2020-05-24T16:09:00\", \"2020-05-24T16:12:00\", \"2020-05-24T16:15:00\", \"2020-05-24T16:18:00\", \"2020-05-24T16:21:00\", \"2020-05-24T16:24:00\", \"2020-05-24T16:27:00\", \"2020-05-24T16:30:00\", \"2020-05-24T16:33:00\", \"2020-05-24T16:36:00\", \"2020-05-24T16:39:00\", \"2020-05-24T16:42:00\", \"2020-05-24T16:45:00\", \"2020-05-24T16:48:00\", \"2020-05-24T16:51:00\", \"2020-05-24T16:54:00\", \"2020-05-24T16:57:00\", \"2020-05-24T17:00:00\", \"2020-05-24T17:03:00\", \"2020-05-24T17:06:00\", \"2020-05-24T17:09:00\", \"2020-05-24T17:12:00\", \"2020-05-24T17:15:00\", \"2020-05-24T17:18:00\", \"2020-05-24T17:21:00\", \"2020-05-24T17:24:00\", \"2020-05-24T17:27:00\", \"2020-05-24T17:30:00\", \"2020-05-24T17:33:00\", \"2020-05-24T17:36:00\", \"2020-05-24T17:39:00\", \"2020-05-24T17:42:00\", \"2020-05-24T17:45:00\", \"2020-05-24T17:48:00\", \"2020-05-24T17:51:00\", \"2020-05-24T17:54:00\", \"2020-05-24T17:57:00\", \"2020-05-24T18:00:00\", \"2020-05-24T18:03:00\", \"2020-05-24T18:06:00\", \"2020-05-24T18:09:00\", \"2020-05-24T18:12:00\", \"2020-05-24T18:15:00\", \"2020-05-24T18:18:00\", \"2020-05-24T18:21:00\", \"2020-05-24T18:24:00\", \"2020-05-24T18:27:00\", \"2020-05-24T18:30:00\", \"2020-05-24T18:33:00\", \"2020-05-24T18:36:00\", \"2020-05-24T18:39:00\", \"2020-05-24T18:42:00\", \"2020-05-24T18:45:00\", \"2020-05-24T18:48:00\", \"2020-05-24T18:51:00\", \"2020-05-24T18:54:00\", \"2020-05-24T18:57:00\", \"2020-05-24T19:00:00\", \"2020-05-24T19:03:00\", \"2020-05-24T19:06:00\", \"2020-05-24T19:09:00\", \"2020-05-24T19:12:00\", \"2020-05-24T19:15:00\", \"2020-05-24T19:18:00\", \"2020-05-24T19:21:00\", \"2020-05-24T19:24:00\", \"2020-05-24T19:27:00\", \"2020-05-24T19:30:00\", \"2020-05-24T19:33:00\", \"2020-05-24T19:36:00\", \"2020-05-24T19:39:00\", \"2020-05-24T19:42:00\", \"2020-05-24T19:45:00\", \"2020-05-24T19:48:00\", \"2020-05-24T19:51:00\", \"2020-05-24T19:54:00\", \"2020-05-24T19:57:00\", \"2020-05-24T20:00:00\", \"2020-05-24T20:03:00\", \"2020-05-24T20:06:00\", \"2020-05-24T20:09:00\", \"2020-05-24T20:12:00\", \"2020-05-24T20:15:00\", \"2020-05-24T20:18:00\", \"2020-05-24T20:21:00\", \"2020-05-24T20:24:00\", \"2020-05-24T20:27:00\", \"2020-05-24T20:30:00\", \"2020-05-24T20:33:00\", \"2020-05-24T20:36:00\", \"2020-05-24T20:39:00\", \"2020-05-24T20:42:00\", \"2020-05-24T20:45:00\", \"2020-05-24T20:48:00\", \"2020-05-24T20:51:00\", \"2020-05-24T20:54:00\", \"2020-05-24T20:57:00\", \"2020-05-24T21:00:00\", \"2020-05-24T21:03:00\", \"2020-05-24T21:06:00\", \"2020-05-24T21:09:00\", \"2020-05-24T21:12:00\", \"2020-05-24T21:15:00\", \"2020-05-24T21:18:00\", \"2020-05-24T21:21:00\", \"2020-05-24T21:24:00\", \"2020-05-24T21:27:00\", \"2020-05-24T21:30:00\", \"2020-05-24T21:33:00\", \"2020-05-24T21:36:00\", \"2020-05-24T21:39:00\", \"2020-05-24T21:42:00\", \"2020-05-24T21:45:00\", \"2020-05-24T21:48:00\", \"2020-05-24T21:51:00\", \"2020-05-24T21:54:00\", \"2020-05-24T21:57:00\", \"2020-05-24T22:00:00\", \"2020-05-24T22:03:00\", \"2020-05-24T22:06:00\", \"2020-05-24T22:09:00\", \"2020-05-24T22:12:00\", \"2020-05-24T22:15:00\", \"2020-05-24T22:18:00\", \"2020-05-24T22:21:00\", \"2020-05-24T22:24:00\", \"2020-05-24T22:27:00\", \"2020-05-24T22:30:00\", \"2020-05-24T22:33:00\", \"2020-05-24T22:36:00\", \"2020-05-24T22:39:00\", \"2020-05-24T22:42:00\", \"2020-05-24T22:45:00\", \"2020-05-24T22:48:00\", \"2020-05-24T22:51:00\", \"2020-05-24T22:54:00\", \"2020-05-24T22:57:00\", \"2020-05-24T23:00:00\", \"2020-05-24T23:03:00\", \"2020-05-24T23:06:00\", \"2020-05-24T23:09:00\", \"2020-05-24T23:12:00\", \"2020-05-24T23:15:00\", \"2020-05-24T23:18:00\", \"2020-05-24T23:21:00\", \"2020-05-24T23:24:00\", \"2020-05-24T23:27:00\", \"2020-05-24T23:30:00\", \"2020-05-24T23:33:00\", \"2020-05-24T23:36:00\", \"2020-05-24T23:39:00\", \"2020-05-24T23:42:00\", \"2020-05-24T23:45:00\", \"2020-05-24T23:48:00\", \"2020-05-24T23:51:00\", \"2020-05-24T23:54:00\", \"2020-05-24T23:57:00\", \"2020-05-25T00:00:00\", \"2020-05-25T00:03:00\", \"2020-05-25T00:06:00\", \"2020-05-25T00:09:00\", \"2020-05-25T00:12:00\", \"2020-05-25T00:15:00\", \"2020-05-25T00:18:00\", \"2020-05-25T00:21:00\", \"2020-05-25T00:24:00\", \"2020-05-25T00:27:00\", \"2020-05-25T00:30:00\", \"2020-05-25T00:33:00\", \"2020-05-25T00:36:00\", \"2020-05-25T00:39:00\", \"2020-05-25T00:42:00\", \"2020-05-25T00:45:00\", \"2020-05-25T00:48:00\", \"2020-05-25T00:51:00\", \"2020-05-25T00:54:00\", \"2020-05-25T00:57:00\", \"2020-05-25T01:00:00\", \"2020-05-25T01:03:00\", \"2020-05-25T01:06:00\", \"2020-05-25T01:09:00\", \"2020-05-25T01:12:00\", \"2020-05-25T01:15:00\", \"2020-05-25T01:18:00\", \"2020-05-25T01:21:00\", \"2020-05-25T01:24:00\", \"2020-05-25T01:27:00\", \"2020-05-25T01:30:00\", \"2020-05-25T01:33:00\", \"2020-05-25T01:36:00\", \"2020-05-25T01:39:00\", \"2020-05-25T01:42:00\", \"2020-05-25T01:45:00\", \"2020-05-25T01:48:00\", \"2020-05-25T01:51:00\", \"2020-05-25T01:54:00\", \"2020-05-25T01:57:00\", \"2020-05-25T02:00:00\", \"2020-05-25T02:03:00\", \"2020-05-25T02:06:00\", \"2020-05-25T02:09:00\", \"2020-05-25T02:12:00\", \"2020-05-25T02:15:00\", \"2020-05-25T02:18:00\", \"2020-05-25T02:21:00\", \"2020-05-25T02:24:00\", \"2020-05-25T02:27:00\", \"2020-05-25T02:30:00\", \"2020-05-25T02:33:00\", \"2020-05-25T02:36:00\", \"2020-05-25T02:39:00\", \"2020-05-25T02:42:00\", \"2020-05-25T02:45:00\", \"2020-05-25T02:48:00\", \"2020-05-25T02:51:00\", \"2020-05-25T02:54:00\", \"2020-05-25T02:57:00\", \"2020-05-25T03:00:00\", \"2020-05-25T03:03:00\", \"2020-05-25T03:06:00\", \"2020-05-25T03:09:00\", \"2020-05-25T03:12:00\", \"2020-05-25T03:15:00\", \"2020-05-25T03:18:00\", \"2020-05-25T03:21:00\", \"2020-05-25T03:24:00\", \"2020-05-25T03:27:00\", \"2020-05-25T03:30:00\", \"2020-05-25T03:33:00\", \"2020-05-25T03:36:00\", \"2020-05-25T03:39:00\", \"2020-05-25T03:42:00\", \"2020-05-25T03:45:00\", \"2020-05-25T03:48:00\", \"2020-05-25T03:51:00\", \"2020-05-25T03:54:00\", \"2020-05-25T03:57:00\", \"2020-05-25T04:00:00\", \"2020-05-25T04:03:00\", \"2020-05-25T04:06:00\", \"2020-05-25T04:09:00\", \"2020-05-25T04:12:00\", \"2020-05-25T04:15:00\", \"2020-05-25T04:18:00\", \"2020-05-25T04:21:00\", \"2020-05-25T04:24:00\", \"2020-05-25T04:27:00\", \"2020-05-25T04:30:00\", \"2020-05-25T04:33:00\", \"2020-05-25T04:36:00\", \"2020-05-25T04:39:00\", \"2020-05-25T04:42:00\", \"2020-05-25T04:45:00\", \"2020-05-25T04:48:00\", \"2020-05-25T04:51:00\", \"2020-05-25T04:54:00\", \"2020-05-25T04:57:00\", \"2020-05-25T05:00:00\", \"2020-05-25T05:03:00\", \"2020-05-25T05:06:00\", \"2020-05-25T05:09:00\", \"2020-05-25T05:12:00\", \"2020-05-25T05:15:00\", \"2020-05-25T05:18:00\", \"2020-05-25T05:21:00\", \"2020-05-25T05:24:00\", \"2020-05-25T05:27:00\", \"2020-05-25T05:30:00\", \"2020-05-25T05:33:00\", \"2020-05-25T05:36:00\", \"2020-05-25T05:39:00\", \"2020-05-25T05:42:00\", \"2020-05-25T05:45:00\", \"2020-05-25T05:48:00\", \"2020-05-25T05:51:00\", \"2020-05-25T05:54:00\", \"2020-05-25T05:57:00\", \"2020-05-25T06:00:00\", \"2020-05-25T06:03:00\", \"2020-05-25T06:06:00\", \"2020-05-25T06:09:00\", \"2020-05-25T06:12:00\", \"2020-05-25T06:15:00\", \"2020-05-25T06:18:00\", \"2020-05-25T06:21:00\", \"2020-05-25T06:24:00\", \"2020-05-25T06:27:00\", \"2020-05-25T06:30:00\", \"2020-05-25T06:33:00\", \"2020-05-25T06:36:00\", \"2020-05-25T06:39:00\", \"2020-05-25T06:42:00\", \"2020-05-25T06:45:00\", \"2020-05-25T06:48:00\", \"2020-05-25T06:51:00\", \"2020-05-25T06:54:00\", \"2020-05-25T06:57:00\", \"2020-05-25T07:00:00\", \"2020-05-25T07:03:00\", \"2020-05-25T07:06:00\", \"2020-05-25T07:09:00\", \"2020-05-25T07:12:00\", \"2020-05-25T07:15:00\", \"2020-05-25T07:18:00\", \"2020-05-25T07:21:00\", \"2020-05-25T07:24:00\", \"2020-05-25T07:27:00\", \"2020-05-25T07:30:00\", \"2020-05-25T07:33:00\", \"2020-05-25T07:36:00\", \"2020-05-25T07:39:00\", \"2020-05-25T07:42:00\", \"2020-05-25T07:45:00\", \"2020-05-25T07:48:00\", \"2020-05-25T07:51:00\", \"2020-05-25T07:54:00\", \"2020-05-25T07:57:00\", \"2020-05-25T08:00:00\", \"2020-05-25T08:03:00\", \"2020-05-25T08:06:00\", \"2020-05-25T08:09:00\", \"2020-05-25T08:12:00\", \"2020-05-25T08:15:00\", \"2020-05-25T08:18:00\", \"2020-05-25T08:21:00\", \"2020-05-25T08:24:00\", \"2020-05-25T08:27:00\", \"2020-05-25T08:30:00\", \"2020-05-25T08:33:00\", \"2020-05-25T08:36:00\", \"2020-05-25T08:39:00\", \"2020-05-25T08:42:00\", \"2020-05-25T08:45:00\", \"2020-05-25T08:48:00\", \"2020-05-25T08:51:00\", \"2020-05-25T08:54:00\", \"2020-05-25T08:57:00\", \"2020-05-25T09:00:00\", \"2020-05-25T09:03:00\", \"2020-05-25T09:06:00\", \"2020-05-25T09:09:00\", \"2020-05-25T09:12:00\", \"2020-05-25T09:15:00\", \"2020-05-25T09:18:00\", \"2020-05-25T09:21:00\", \"2020-05-25T09:24:00\", \"2020-05-25T09:27:00\", \"2020-05-25T09:30:00\", \"2020-05-25T09:33:00\", \"2020-05-25T09:36:00\", \"2020-05-25T09:39:00\", \"2020-05-25T09:42:00\", \"2020-05-25T09:45:00\", \"2020-05-25T09:48:00\", \"2020-05-25T09:51:00\", \"2020-05-25T09:54:00\", \"2020-05-25T09:57:00\", \"2020-05-25T10:00:00\", \"2020-05-25T10:03:00\", \"2020-05-25T10:06:00\", \"2020-05-25T10:09:00\", \"2020-05-25T10:12:00\", \"2020-05-25T10:15:00\", \"2020-05-25T10:18:00\", \"2020-05-25T10:21:00\", \"2020-05-25T10:24:00\", \"2020-05-25T10:27:00\", \"2020-05-25T10:30:00\", \"2020-05-25T10:33:00\", \"2020-05-25T10:36:00\", \"2020-05-25T10:39:00\", \"2020-05-25T10:42:00\", \"2020-05-25T10:45:00\", \"2020-05-25T10:48:00\", \"2020-05-25T10:51:00\", \"2020-05-25T10:54:00\", \"2020-05-25T10:57:00\", \"2020-05-25T11:00:00\", \"2020-05-25T11:03:00\", \"2020-05-25T11:06:00\", \"2020-05-25T11:09:00\", \"2020-05-25T11:12:00\", \"2020-05-25T11:15:00\", \"2020-05-25T11:18:00\", \"2020-05-25T11:21:00\", \"2020-05-25T11:24:00\", \"2020-05-25T11:27:00\", \"2020-05-25T11:30:00\", \"2020-05-25T11:33:00\", \"2020-05-25T11:36:00\", \"2020-05-25T11:39:00\", \"2020-05-25T11:42:00\", \"2020-05-25T11:45:00\", \"2020-05-25T11:48:00\", \"2020-05-25T11:51:00\", \"2020-05-25T11:54:00\", \"2020-05-25T11:57:00\", \"2020-05-25T12:00:00\", \"2020-05-25T12:03:00\", \"2020-05-25T12:06:00\", \"2020-05-25T12:09:00\", \"2020-05-25T12:12:00\", \"2020-05-25T12:15:00\", \"2020-05-25T12:18:00\", \"2020-05-25T12:21:00\", \"2020-05-25T12:24:00\", \"2020-05-25T12:27:00\", \"2020-05-25T12:30:00\", \"2020-05-25T12:33:00\", \"2020-05-25T12:36:00\", \"2020-05-25T12:39:00\", \"2020-05-25T12:42:00\", \"2020-05-25T12:45:00\", \"2020-05-25T12:48:00\", \"2020-05-25T12:51:00\", \"2020-05-25T12:54:00\", \"2020-05-25T12:57:00\", \"2020-05-25T13:00:00\", \"2020-05-25T13:03:00\", \"2020-05-25T13:06:00\", \"2020-05-25T13:09:00\", \"2020-05-25T13:12:00\", \"2020-05-25T13:15:00\", \"2020-05-25T13:18:00\", \"2020-05-25T13:21:00\", \"2020-05-25T13:24:00\", \"2020-05-25T13:27:00\", \"2020-05-25T13:30:00\", \"2020-05-25T13:33:00\", \"2020-05-25T13:36:00\", \"2020-05-25T13:39:00\", \"2020-05-25T13:42:00\", \"2020-05-25T13:45:00\", \"2020-05-25T13:48:00\", \"2020-05-25T13:51:00\", \"2020-05-25T13:54:00\", \"2020-05-25T13:57:00\", \"2020-05-25T14:00:00\", \"2020-05-25T14:03:00\", \"2020-05-25T14:06:00\", \"2020-05-25T14:09:00\", \"2020-05-25T14:12:00\", \"2020-05-25T14:15:00\", \"2020-05-25T14:18:00\", \"2020-05-25T14:21:00\", \"2020-05-25T14:24:00\", \"2020-05-25T14:27:00\", \"2020-05-25T14:30:00\", \"2020-05-25T14:33:00\", \"2020-05-25T14:36:00\", \"2020-05-25T14:39:00\", \"2020-05-25T14:42:00\", \"2020-05-25T14:45:00\", \"2020-05-25T14:48:00\", \"2020-05-25T14:51:00\", \"2020-05-25T14:54:00\", \"2020-05-25T14:57:00\", \"2020-05-25T15:00:00\", \"2020-05-25T15:03:00\", \"2020-05-25T15:06:00\", \"2020-05-25T15:09:00\", \"2020-05-25T15:12:00\", \"2020-05-25T15:15:00\", \"2020-05-25T15:18:00\", \"2020-05-25T15:21:00\", \"2020-05-25T15:24:00\", \"2020-05-25T15:27:00\", \"2020-05-25T15:30:00\", \"2020-05-25T15:33:00\", \"2020-05-25T15:36:00\", \"2020-05-25T15:39:00\", \"2020-05-25T15:42:00\", \"2020-05-25T15:45:00\", \"2020-05-25T15:48:00\", \"2020-05-25T15:51:00\", \"2020-05-25T15:54:00\", \"2020-05-25T15:57:00\", \"2020-05-25T16:00:00\", \"2020-05-25T16:03:00\", \"2020-05-25T16:06:00\", \"2020-05-25T16:09:00\", \"2020-05-25T16:12:00\", \"2020-05-25T16:15:00\", \"2020-05-25T16:18:00\", \"2020-05-25T16:21:00\", \"2020-05-25T16:24:00\", \"2020-05-25T16:27:00\", \"2020-05-25T16:30:00\", \"2020-05-25T16:33:00\", \"2020-05-25T16:36:00\", \"2020-05-25T16:39:00\", \"2020-05-25T16:42:00\", \"2020-05-25T16:45:00\", \"2020-05-25T16:48:00\", \"2020-05-25T16:51:00\", \"2020-05-25T16:54:00\", \"2020-05-25T16:57:00\", \"2020-05-25T17:00:00\", \"2020-05-25T17:03:00\", \"2020-05-25T17:06:00\", \"2020-05-25T17:09:00\", \"2020-05-25T17:12:00\", \"2020-05-25T17:15:00\", \"2020-05-25T17:18:00\", \"2020-05-25T17:21:00\", \"2020-05-25T17:24:00\", \"2020-05-25T17:27:00\", \"2020-05-25T17:30:00\", \"2020-05-25T17:33:00\", \"2020-05-25T17:36:00\", \"2020-05-25T17:39:00\", \"2020-05-25T17:42:00\", \"2020-05-25T17:45:00\", \"2020-05-25T17:48:00\", \"2020-05-25T17:51:00\", \"2020-05-25T17:54:00\", \"2020-05-25T17:57:00\", \"2020-05-25T18:00:00\", \"2020-05-25T18:03:00\", \"2020-05-25T18:06:00\", \"2020-05-25T18:09:00\", \"2020-05-25T18:12:00\", \"2020-05-25T18:15:00\", \"2020-05-25T18:18:00\", \"2020-05-25T18:21:00\", \"2020-05-25T18:24:00\", \"2020-05-25T18:27:00\", \"2020-05-25T18:30:00\", \"2020-05-25T18:33:00\", \"2020-05-25T18:36:00\", \"2020-05-25T18:39:00\", \"2020-05-25T18:42:00\", \"2020-05-25T18:45:00\", \"2020-05-25T18:48:00\", \"2020-05-25T18:51:00\", \"2020-05-25T18:54:00\", \"2020-05-25T18:57:00\", \"2020-05-25T19:00:00\", \"2020-05-25T19:03:00\", \"2020-05-25T19:06:00\", \"2020-05-25T19:09:00\", \"2020-05-25T19:12:00\", \"2020-05-25T19:15:00\", \"2020-05-25T19:18:00\", \"2020-05-25T19:21:00\", \"2020-05-25T19:24:00\", \"2020-05-25T19:27:00\", \"2020-05-25T19:30:00\", \"2020-05-25T19:33:00\", \"2020-05-25T19:36:00\", \"2020-05-25T19:39:00\", \"2020-05-25T19:42:00\", \"2020-05-25T19:45:00\", \"2020-05-25T19:48:00\", \"2020-05-25T19:51:00\", \"2020-05-25T19:54:00\", \"2020-05-25T19:57:00\", \"2020-05-25T20:00:00\", \"2020-05-25T20:03:00\", \"2020-05-25T20:06:00\", \"2020-05-25T20:09:00\", \"2020-05-25T20:12:00\", \"2020-05-25T20:15:00\", \"2020-05-25T20:18:00\", \"2020-05-25T20:21:00\", \"2020-05-25T20:24:00\", \"2020-05-25T20:27:00\", \"2020-05-25T20:30:00\", \"2020-05-25T20:33:00\", \"2020-05-25T20:36:00\", \"2020-05-25T20:39:00\", \"2020-05-25T20:42:00\", \"2020-05-25T20:45:00\", \"2020-05-25T20:48:00\", \"2020-05-25T20:51:00\", \"2020-05-25T20:54:00\", \"2020-05-25T20:57:00\", \"2020-05-25T21:00:00\", \"2020-05-25T21:03:00\", \"2020-05-25T21:06:00\", \"2020-05-25T21:09:00\", \"2020-05-25T21:12:00\", \"2020-05-25T21:15:00\", \"2020-05-25T21:18:00\", \"2020-05-25T21:21:00\", \"2020-05-25T21:24:00\", \"2020-05-25T21:27:00\", \"2020-05-25T21:30:00\", \"2020-05-25T21:33:00\", \"2020-05-25T21:36:00\", \"2020-05-25T21:39:00\", \"2020-05-25T21:42:00\", \"2020-05-25T21:45:00\", \"2020-05-25T21:48:00\", \"2020-05-25T21:51:00\", \"2020-05-25T21:54:00\", \"2020-05-25T21:57:00\", \"2020-05-25T22:00:00\", \"2020-05-25T22:03:00\", \"2020-05-25T22:06:00\", \"2020-05-25T22:09:00\", \"2020-05-25T22:12:00\", \"2020-05-25T22:15:00\", \"2020-05-25T22:18:00\", \"2020-05-25T22:21:00\", \"2020-05-25T22:24:00\", \"2020-05-25T22:27:00\", \"2020-05-25T22:30:00\", \"2020-05-25T22:33:00\", \"2020-05-25T22:36:00\", \"2020-05-25T22:39:00\", \"2020-05-25T22:42:00\", \"2020-05-25T22:45:00\", \"2020-05-25T22:48:00\", \"2020-05-25T22:51:00\", \"2020-05-25T22:54:00\", \"2020-05-25T22:57:00\", \"2020-05-25T23:00:00\", \"2020-05-25T23:03:00\", \"2020-05-25T23:06:00\", \"2020-05-25T23:09:00\", \"2020-05-25T23:12:00\", \"2020-05-25T23:15:00\", \"2020-05-25T23:18:00\", \"2020-05-25T23:21:00\", \"2020-05-25T23:24:00\", \"2020-05-25T23:27:00\", \"2020-05-25T23:30:00\", \"2020-05-25T23:33:00\", \"2020-05-25T23:36:00\", \"2020-05-25T23:39:00\", \"2020-05-25T23:42:00\", \"2020-05-25T23:45:00\", \"2020-05-25T23:48:00\", \"2020-05-25T23:51:00\", \"2020-05-25T23:54:00\", \"2020-05-25T23:57:00\", \"2020-05-26T00:00:00\", \"2020-05-26T00:03:00\", \"2020-05-26T00:06:00\", \"2020-05-26T00:09:00\", \"2020-05-26T00:12:00\", \"2020-05-26T00:15:00\", \"2020-05-26T00:18:00\", \"2020-05-26T00:21:00\", \"2020-05-26T00:24:00\", \"2020-05-26T00:27:00\", \"2020-05-26T00:30:00\", \"2020-05-26T00:33:00\", \"2020-05-26T00:36:00\", \"2020-05-26T00:39:00\", \"2020-05-26T00:42:00\", \"2020-05-26T00:45:00\", \"2020-05-26T00:48:00\", \"2020-05-26T00:51:00\", \"2020-05-26T00:54:00\", \"2020-05-26T00:57:00\", \"2020-05-26T01:00:00\", \"2020-05-26T01:03:00\"], \"xaxis\": \"x\", \"y\": [25340, 25361, 25365, 25368, 25356, 25354, 25349, 25348, 25329, 25341, 25342, 25355, 25361, 25360, 25373, 25372, 25382, 25384, 25380, 25379, 25375, 25364, 25369, 25355, 25339, 25342, 25356, 25347, 25344, 25363, 25346, 25344, 25342, 25339, 25325, 25343, 25332, 25328, 25326, 25329, 25310, 25319, 25312, 25307, 25307, 25306, 25302, 25310, 25305, 25290, 25301, 25325, 25314, 25323, 25321, 25306, 25310, 25322, 25336, 25345, 25331, 25326, 25323, 25316, 25310, 25315, 25309, 25315, 25320, 25313, 25332, 25332, 25339, 25335, 25328, 25328, 25325, 25336, 25325, 25330, 25343, 25357, 25362, 25369, 25370, 25372, 25381, 25383, 25399, 25392, 25397, 25401, 25412, 25419, 25394, 25387, 25391, 25385, 25378, 25373, 25397, 25393, 25398, 25399, 25390, 25398, 25393, 25388, 25376, 25369, 25379, 25378, 25370, 25371, 25366, 25365, 25359, 25362, 25361, 25360, 25363, 25374, 25378, 25361, 25362, 25361, 25369, 25366, 25367, 25358, 25334, 25325, 25323, 25322, 25330, 25340, 25350, 25351, 25350, 25368, 25373, 25376, 25374, 25367, 25382, 25384, 25380, 25378, 25365, 25367, 25359, 25339, 25347, 25349, 25341, 25348, 25350, 25340, 25356, 25355, 25359, 25363, 25362, 25369, 25374, 25372, 25376, 25386, 25379, 25370, 25379, 25385, 25390, 25415, 25409, 25399, 25402, 25410, 25415, 25428, 25415, 25416, 25408, 25388, 25364, 25353, 25365, 25364, 25377, 25384, 25394, 25400, 25409, 25414, 25411, 25423, 25428, 25428, 25434, 25443, 25460, 25467, 25473, 25478, 25469, 25471, 25497, 25491, 25487, 25473, 25476, 25479, 25472, 25467, 25477, 25475, 25453, 25458, 25435, 25438, 25440, 25455, 25457, 25443, 25448, 25432, 25440, 25462, 25454, 25459, 25453, 25450, 25463, 25472, 25479, 25464, 25470, 25464, 25463, 25462, 25461, 25457, 25450, 25464, 25472, 25478, 25478, 25482, 25491, 25491, 25492, 25503, 25515, 25503, 25516, 25508, 25516, 25516, 25531, 25533, 25521, 25520, 25534, 25538, 25542, 25529, 25537, 25531, 25535, 25554, 25563, 25567, 25552, 25568, 25565, 25569, 25569, 25546, 25553, 25569, 25556, 25543, 25542, 25545, 25549, 25544, 25543, 25546, 25543, 25541, 25551, 25554, 25559, 25545, 25532, 25548, 25543, 25542, 25564, 25567, 25574, 25568, 25565, 25560, 25561, 25570, 25580, 25579, 25574, 25577, 25573, 25564, 25562, 25561, 25564, 25571, 25577, 25579, 25593, 25588, 25573, 25570, 25580, 25581, 25601, 25609, 25614, 25612, 25613, 25615, 25605, 25606, 25620, 25625, 25625, 25620, 25622, 25640, 25639, 25627, 25628, 25626, 25627, 25620, 25638, 25639, 25640, 25650, 25672, 25675, 25683, 25674, 25675, 25676, 25662, 25671, 25664, 25678, 25666, 25654, 25660, 25656, 25650, 25662, 25670, 25672, 25680, 25697, 25685, 25694, 25688, 25687, 25697, 25698, 25697, 25694, 25700, 25712, 25712, 25714, 25702, 25713, 25710, 25720, 25721, 25712, 25719, 25718, 25713, 25707, 25715, 25719, 25713, 25703, 25696, 25694, 25700, 25692, 25694, 25691, 25696, 25697, 25692, 25697, 25685, 25682, 25674, 25684, 25683, 25686, 25680, 25687, 25687, 25694, 25695, 25692, 25698, 25693, 25700, 25714, 25714, 25720, 25709, 25714, 25718, 25715, 25698, 25694, 25701, 25706, 25706, 25693, 25695, 25685, 25676, 25682, 25675, 25690, 25695, 25699, 25703, 25703, 25721, 25732, 25729, 25717, 25723, 25722, 25710, 25716, 25701, 25715, 25717, 25714, 25705, 25711, 25733, 25747, 25744, 25730, 25735, 25744, 25727, 25734, 25740, 25749, 25736, 25725, 25745, 25742, 25758, 25750, 25757, 25761, 25773, 25776, 25767, 25767, 25782, 25788, 25779, 25760, 25774, 25775, 25773, 25770, 25762, 25761, 25757, 25753, 25760, 25778, 25775, 25780, 25790, 25798, 25800, 25806, 25807, 25796, 25807, 25816, 25805, 25808, 25819, 25811, 25810, 25819, 25806, 25819, 25819, 25819, 25834, 25834, 25845, 25843, 25832, 25819, 25821, 25825, 25813, 25820, 25832, 25829, 25835, 25819, 25830, 25837, 25828, 25811, 25803, 25810, 25801, 25807, 25808, 25807, 25819, 25800, 25827, 25837, 25826, 25829, 25830, 25832, 25826, 25818, 25813, 25803, 25802, 25812, 25817, 25811, 25803, 25788, 25783, 25806, 25799, 25795, 25797, 25795, 25794, 25801, 25792, 25800, 25806, 25793, 25796, 25785, 25785, 25789, 25779, 25776, 25774, 25769, 25747, 25756, 25760, 25759, 25765, 25762, 25753, 25754, 25749, 25756, 25759, 25760, 25763, 25759, 25756, 25751, 25761, 25769, 25780, 25786, 25779, 25777, 25779, 25760, 25765, 25752, 25748, 25741, 25738, 25733, 25728, 25720, 25720, 25717, 25702, 25710, 25709, 25714, 25714, 25724, 25713, 25706, 25694, 25699, 25693, 25700, 25702, 25714, 25709, 25705, 25705, 25710, 25719, 25723, 25727, 25732, 25724, 25739, 25741, 25745, 25735, 25745, 25734, 25744, 25742, 25739, 25742, 25746, 25736, 25738, 25741, 25736, 25734, 25729, 25720, 25715, 25720, 25717, 25704, 25715, 25711, 25723, 25719, 25718, 25712, 25725, 25721, 25730, 25741, 25749, 25744, 25747, 25752, 25755, 25748, 25745, 25746, 25741, 25744, 25739, 25744, 25750, 25757, 25754, 25753, 25758, 25757, 25752, 25751, 25744, 25756, 25763, 25758, 25769, 25774, 25779, 25768, 25761, 25772, 25777, 25780, 25781, 25795, 25783, 25786, 25791, 25789, 25789, 25777, 25787, 25791, 25790, 25786, 25771, 25784, 25793, 25781, 25790, 25796, 25807, 25821, 25828, 25825, 25831, 25821, 25841, 25855, 25849, 25842, 25828, 25842, 25823, 25818, 25804, 25795, 25800, 25810, 25811, 25810, 25820, 25821, 25817, 25818, 25807, 25804, 25791, 25798, 25796, 25810, 25810, 25827, 25826, 25829, 25832, 25838, 25834, 25836, 25828, 25821, 25831, 25845, 25841, 25851, 25853, 25849, 25851, 25857, 25853, 25860, 25863, 25856, 25849, 25866, 25867, 25866, 25864, 25875, 25867, 25870, 25863, 25868, 25860, 25864, 25856, 25841, 25843, 25840, 25851, 25855, 25865, 25866, 25857, 25852, 25849, 25823, 25828, 25824, 25813, 25817, 25817, 25818, 25811, 25811, 25817, 25821, 25815, 25826, 25836, 25844, 25853, 25845, 25859, 25852, 25866, 25882, 25883, 25903, 25895, 25888, 25880, 25891, 25905, 25908, 25919, 25922, 25929, 25936, 25947, 25947, 25945, 25940, 25946, 25942, 25950, 25965, 25962, 25966, 25959, 25946, 25929, 25925, 25912, 25922, 25928, 25929, 25917, 25917, 25920, 25919, 25922, 25922, 25924, 25918, 25923, 25919, 25921, 25924, 25934, 25938, 25926, 25939, 25926, 25928, 25914, 25911, 25918, 25913, 25916, 25912, 25920, 25931, 25946, 25932, 25944, 25948, 25945, 25956, 25964, 25975, 25978, 25976, 25977, 25987, 25967, 25956, 25946, 25964, 25972, 25967, 25952, 25945, 25947, 25947, 25942, 25929, 25928, 25935, 25939, 25945, 25946, 25950, 25949, 25959, 25960, 25952, 25948, 25948, 25953, 25963, 25963, 25965, 25964, 25970, 25976, 25987, 25972, 25970, 25972, 25977, 25973, 25970, 25972, 25972, 25975, 25983, 26000, 26006, 26016, 26019, 25996, 25995, 26001, 26012, 26025, 26025, 26042, 26038, 26029, 26022, 26025, 26036, 26020, 26035, 26033, 26055, 26068, 26072, 26073, 26068, 26066, 26062, 26074, 26078, 26073, 26081, 26088, 26087, 26085, 26080, 26073, 26067, 26054, 26050, 26070, 26064, 26068, 26065, 26071, 26069, 26065, 26077, 26070, 26077, 26074, 26076, 26073, 26091, 26086, 26079, 26077, 26083, 26093, 26109, 26100, 26105, 26124, 26121, 26128, 26119, 26109, 26107, 26111, 26111, 26107, 26092, 26092, 26096, 26091, 26100, 26114, 26107, 26113, 26111, 26101, 26097, 26100, 26115, 26115, 26132, 26131, 26137, 26124, 26123, 26124, 26129, 26127, 26122, 26126, 26109, 26097, 26092, 26110, 26112, 26103, 26111, 26115, 26119, 26119, 26120, 26120, 26125, 26114, 26121, 26131, 26123, 26116, 26103, 26119, 26110, 26113, 26111, 26110, 26115, 26107, 26116, 26111, 26100, 26108, 26085, 26101, 26102, 26094, 26092, 26086, 26093, 26095, 26094, 26106, 26106, 26100, 26096, 26101, 26100, 26092, 26093, 26098, 26097, 26092, 26102, 26097, 26090, 26087, 26093, 26093, 26085, 26089, 26088, 26080, 26081, 26088, 26089, 26078, 26073, 26089, 26085, 26076, 26069, 26063, 26052, 26058, 26060, 26080, 26103, 26117, 26122, 26135, 26127, 26135, 26141, 26140, 26143, 26127, 26105, 26099, 26103, 26114, 26111, 26114, 26116, 26122, 26105, 26108, 26119, 26099, 26091, 26098, 26077, 26066, 26062, 26065, 26071, 26078, 26068, 26069, 26057, 26059, 26052, 26058, 26055, 26051, 26064, 26062, 26072, 26076, 26075, 26077, 26062, 26058, 26076, 26089, 26079, 26084, 26090, 26102, 26103, 26110, 26111, 26107, 26095, 26085, 26068, 26056, 26072, 26072, 26067, 26057, 26049, 26035, 26037, 26037, 26033, 26024, 26033, 26047, 26055, 26046, 26042, 26032, 26023, 26038, 26042, 26047, 26042, 26055, 26055, 26043, 26039, 26031, 26048, 26049, 26042, 26041, 26041, 26048, 26052, 26058, 26048, 26043, 26033, 26034, 26026, 26019, 26004, 26006, 26003, 25997, 26003, 26002, 26004, 26001, 26007, 26009, 26012, 26004, 26015, 26015, 26019, 26010, 26009, 25992, 25989, 25979, 25967, 25981, 25969, 25943, 25941, 25937, 25933, 25940, 25938, 25934, 25919, 25918, 25910, 25914, 25919, 25900, 25906, 25916, 25929, 25929, 25924, 25916, 25906, 25893, 25895, 25891, 25897, 25905, 25895, 25892, 25899, 25898, 25894, 25905, 25904, 25900, 25902, 25907, 25899, 25897, 25902, 25913, 25908, 25905, 25886, 25885, 25876, 25882, 25877, 25862, 25871, 25877, 25867, 25865, 25855, 25835, 25827, 25839, 25851, 25873, 25873, 25882, 25886, 25876, 25882, 25902, 25915, 25908, 25905, 25914, 25932, 25952, 25946, 25927, 25921, 25920, 25931, 25930, 25937, 25938, 25937, 25932, 25942, 25934, 25937, 25925, 25912, 25922, 25928, 25917, 25910, 25894, 25906, 25902, 25896, 25898, 25882, 25892, 25902, 25898, 25896, 25893, 25882, 25885, 25872, 25867, 25873, 25881, 25885, 25877, 25876, 25868, 25854, 25852, 25840, 25833, 25836, 25836, 25841, 25846, 25855, 25861, 25864, 25855, 25856, 25861, 25860, 25867, 25870, 25881, 25873, 25878, 25881, 25878, 25867, 25865, 25847, 25847, 25848, 25836, 25846, 25835, 25838, 25820, 25803, 25804, 25799, 25800, 25806, 25813, 25820, 25826, 25822, 25845, 25856, 25862, 25865, 25868, 25873, 25884, 25884, 25886, 25884, 25883, 25892, 25906, 25902, 25895, 25881, 25871, 25882, 25889, 25889, 25887, 25883, 25880, 25887, 25876, 25880, 25899, 25885, 25876, 25873, 25885, 25893, 25894, 25890, 25885, 25888, 25885, 25869, 25869, 25880, 25896, 25895, 25907, 25909, 25912, 25913, 25922, 25928, 25913, 25915, 25930, 25940, 25931, 25933, 25941, 25947, 25950, 25948, 25934, 25937, 25932, 25934, 25925, 25934, 25952, 25967, 25945, 25934, 25938, 25929, 25929, 25916, 25927, 25932, 25938, 25936, 25943, 25962, 25961, 25957, 25962, 25987, 25984, 25988, 25998, 25991, 26002, 25998, 25988, 25996, 25998, 26007, 25988, 25987, 25995, 25981, 25974, 25955, 25944, 25952, 25967, 25960, 25968, 25962, 25960, 25970, 25980, 25997, 25977, 25971, 25954, 25946, 25949, 25946, 25939, 25943, 25931, 25952, 25948, 25939, 25944, 25947, 25935, 25944, 25942, 25948, 25937, 25942, 25942, 25947, 25944, 25960, 25967, 25953, 25962, 25967, 25972, 25985, 25988, 25974, 25994, 25995, 25993, 25991, 26002, 26012, 26007, 26008, 25998, 25997, 25989, 25984, 25996, 25997, 25983, 25991, 26004, 26015, 26023, 26028, 26021, 26031, 26026, 26020, 26023, 26042, 26056, 26051, 26050, 26050, 26055, 26066, 26065, 26048, 26044, 26065, 26067, 26071, 26073, 26075, 26065, 26060, 26075, 26066, 26055, 26047, 26053, 26051, 26055, 26042, 26035, 26053, 26056, 26063, 26063, 26058, 26038, 26036, 26037, 26016, 26016, 26018, 26018, 26008, 25989, 25979, 25963, 25968, 25977, 25969, 25969, 25980, 25975, 25970, 25976, 25969, 25966, 25983, 25980, 25993, 25988, 25995, 25987, 25991, 25979, 25981, 25997, 26002, 26000, 25998, 25999, 25993, 25984, 25997, 25989, 26003, 26024, 26025, 26026, 26037, 26038, 26030, 26024, 26027, 26025, 26032, 26034, 26027, 26033, 26029, 26032, 26020, 26031, 26018, 26019, 26014, 26015, 26024, 26018, 26007, 25992, 25996, 26002, 26004, 26002, 25989, 25984, 25992, 26002, 26025, 26029, 26022, 26033, 26045, 26040, 26055, 26052, 26040, 26046, 26039, 26029, 26026, 26020, 26029, 26021, 26027, 26021, 26031, 26049, 26036, 26029, 26023, 26038, 26017, 26019, 26013, 26006, 26005, 26018, 26010, 26018, 26023, 26031, 26031, 26056, 26047, 26033, 26036, 26031, 26039, 26027, 26023, 26027, 26020, 26020, 26021, 26010, 26016, 26019, 26013, 26006, 26009, 26006, 26004, 26010, 26030, 26048, 26046, 26031, 26030, 26034, 26027, 26038, 26030, 26031, 26041, 26042, 26044, 26043, 26044, 26042, 26036, 26035, 26042, 26056, 26046, 26047, 26032, 26047, 26039, 26018, 26020, 26033, 26028, 26041, 26038, 26042, 26052, 26060, 26064, 26069, 26068, 26066, 26065, 26068, 26058, 26060, 26058, 26051, 26059, 26046, 26047, 26051, 26039, 26028, 26030, 26043, 26051, 26050, 26061, 26073, 26083, 26091, 26084, 26080, 26084, 26089, 26085, 26095, 26093, 26107, 26110, 26125, 26136, 26131, 26142, 26150, 26148, 26151, 26154, 26155, 26155, 26153, 26143, 26148, 26147, 26139, 26130, 26152, 26148, 26152, 26150, 26154, 26152, 26147, 26158, 26166, 26186, 26188, 26189, 26189, 26196, 26199, 26186, 26179, 26162, 26164, 26152, 26150, 26151, 26155, 26166, 26157, 26149, 26151, 26156, 26136, 26124, 26117, 26105, 26100, 26088, 26071, 26075, 26075, 26076, 26071, 26085, 26082, 26091, 26078, 26073, 26066, 26070, 26063, 26081, 26098, 26088, 26085, 26100, 26093, 26085, 26085, 26076, 26090, 26087, 26080, 26081, 26090, 26089, 26091, 26087, 26077, 26089, 26092, 26102, 26095, 26088, 26067, 26074, 26080, 26089, 26086, 26082, 26089, 26074, 26072, 26093, 26088, 26075, 26067, 26063, 26060, 26049, 26040, 26049, 26046, 26034, 26055, 26049, 26047, 26041, 26038, 26038, 26034, 26043, 26052, 26071, 26072, 26078, 26066, 26065, 26076, 26075, 26069, 26058, 26050, 26055, 26070, 26081, 26092, 26088, 26072, 26080, 26089, 26085, 26090, 26097, 26091, 26102, 26109, 26101, 26115, 26105, 26091, 26090, 26102, 26091, 26092, 26072, 26071, 26078, 26065, 26052, 26044, 26047, 26040, 26042, 26041, 26065, 26080, 26084, 26089, 26085, 26095, 26114, 26125, 26131, 26127, 26130, 26130, 26136, 26126, 26121, 26105, 26102, 26107, 26104, 26105, 26100, 26103, 26096, 26099, 26100, 26105, 26101, 26099, 26089, 26101, 26112, 26119, 26120, 26124, 26116, 26106, 26103, 26107, 26107, 26105, 26092, 26102, 26109, 26096, 26077, 26086, 26096, 26079, 26079, 26076, 26073, 26081, 26090, 26105, 26105, 26116, 26106, 26113, 26110, 26117, 26131, 26128, 26124, 26124, 26129, 26124, 26125, 26122, 26123, 26120, 26124, 26131, 26116, 26113, 26131, 26137, 26141, 26143, 26153, 26149, 26147, 26141, 26148, 26152, 26141, 26154, 26149, 26154, 26159, 26157, 26152, 26162, 26150, 26158, 26147, 26144, 26137, 26139, 26140, 26152, 26161, 26167, 26174, 26186, 26184, 26192, 26183, 26181, 26178, 26175, 26186, 26178, 26160, 26152, 26141, 26154, 26152, 26160, 26175, 26167, 26167, 26157, 26157, 26145, 26141, 26146, 26135, 26137, 26136, 26124, 26130, 26132, 26141, 26132, 26128, 26131, 26134, 26157, 26160, 26170, 26175, 26171, 26177, 26168, 26166, 26163, 26171, 26174, 26154, 26151, 26163, 26158, 26154, 26153, 26172, 26176, 26197, 26203, 26205, 26216, 26216, 26210, 26209, 26196, 26201, 26193, 26182, 26184, 26182, 26189, 26180, 26178, 26160, 26183, 26178, 26179, 26170, 26170, 26181, 26184, 26182, 26174, 26174, 26163, 26159, 26157, 26140, 26133, 26130, 26125, 26121, 26128, 26122, 26123, 26132, 26153, 26163, 26172, 26176, 26159, 26156, 26159, 26160, 26150, 26134, 26139, 26128, 26131, 26130, 26134, 26133, 26139, 26133, 26138, 26125, 26131, 26140, 26141, 26137, 26135, 26134, 26146, 26132, 26134, 26127, 26129, 26134, 26149, 26145, 26152, 26158, 26145, 26144, 26152, 26164, 26168, 26170, 26168, 26153, 26166, 26153, 26157, 26161, 26146, 26147, 26151, 26156, 26166, 26162, 26179, 26193, 26193, 26190, 26204, 26191, 26193, 26199, 26209, 26211, 26232, 26226, 26226, 26245, 26238, 26235, 26237, 26237, 26215, 26206, 26213, 26206, 26193, 26193, 26186, 26195, 26200, 26189, 26180, 26183, 26176, 26170, 26177, 26180, 26202, 26197, 26197, 26179, 26184, 26197, 26208, 26197, 26193, 26202, 26222, 26246, 26235, 26238, 26229, 26211, 26213, 26205, 26200, 26186, 26180, 26194, 26180, 26174, 26183, 26198, 26204, 26201, 26202, 26213, 26212, 26218, 26195, 26187, 26195, 26201, 26199, 26208, 26206, 26187, 26190, 26205, 26211, 26209, 26203, 26209, 26204, 26195, 26200, 26200, 26190, 26196, 26211, 26213, 26200, 26193, 26195, 26194, 26191, 26201, 26206, 26217, 26214, 26222, 26232, 26215, 26208, 26214, 26213, 26211, 26208, 26204, 26193, 26193, 26181, 26191, 26200, 26209, 26212, 26215, 26219, 26209, 26221, 26218, 26211, 26212, 26210, 26200, 26220, 26220, 26230, 26238, 26234, 26227, 26237, 26241, 26227, 26217, 26196, 26186, 26179, 26165, 26161, 26175, 26178, 26187, 26184, 26178, 26180, 26172, 26174, 26194, 26207, 26222, 26228, 26224, 26230, 26230, 26240, 26239, 26232, 26219, 26207, 26225, 26219, 26196, 26193, 26184, 26174, 26168, 26163, 26166, 26162, 26182, 26177, 26181, 26167, 26171, 26175, 26188, 26174, 26172, 26191, 26196, 26186, 26189, 26178, 26181, 26172, 26183, 26171, 26179, 26178, 26193, 26187, 26193, 26189, 26185, 26181, 26195, 26209, 26195, 26196, 26198, 26192, 26193, 26199, 26187, 26191, 26192, 26173, 26189, 26195, 26208, 26197, 26200, 26187, 26195, 26190, 26191, 26189, 26198, 26199, 26191, 26191, 26197, 26198, 26191, 26196, 26197, 26182, 26179, 26174, 26163, 26157, 26167, 26158, 26166, 26165, 26159, 26153, 26163, 26168, 26157, 26136, 26143, 26144, 26146, 26142, 26135, 26147, 26148, 26126, 26134, 26145, 26128, 26137, 26127, 26122, 26133, 26117, 26106, 26100, 26103, 26105, 26100, 26099, 26112, 26120, 26128, 26113, 26123, 26133, 26126, 26119, 26113, 26113, 26123, 26117, 26114, 26106, 26102, 26090, 26092, 26094, 26094, 26090, 26101, 26095, 26095, 26092, 26103, 26110, 26109, 26113, 26112, 26108, 26100, 26112, 26122, 26112, 26102, 26096, 26096, 26101, 26116, 26122, 26106, 26102, 26110, 26108, 26101, 26098, 26099, 26104, 26097, 26074, 26064, 26057, 26056, 26052, 26042, 26038, 26027, 26034, 26042, 26057, 26059, 26052, 26039, 26050, 26067, 26054, 26056, 26052, 26043, 26034, 26025, 26033, 26023, 26019, 26032, 26045, 26047, 26054, 26056, 26062, 26068, 26071, 26082, 26072, 26073, 26077, 26080, 26071, 26078, 26066, 26060, 26064, 26078, 26087, 26090, 26094, 26092, 26094, 26085, 26072, 26074, 26079, 26065, 26059, 26037, 26013, 26026, 26022, 26020, 26040, 26038, 26034, 26034, 26027, 26031, 26031, 26052, 26038, 26027, 26041, 26042, 26028, 26029, 26037, 26039, 26036, 26031, 26025, 26037, 26043, 26050, 26060, 26061, 26071, 26081, 26075, 26065, 26066, 26058, 26063, 26077, 26056, 26052, 26065, 26049, 26044, 26047, 26046, 26039, 26029, 26006, 26004, 26007, 26015, 26008, 26009, 26001, 26003, 26008, 26007, 26000, 26015, 26013, 26019, 26022, 26006, 26014, 26015, 26017, 26021, 26016, 26021, 26022, 26029, 26014, 26028, 26020, 26038, 26039, 26035, 26040, 26026, 26006, 26012, 26014, 26015, 26028, 26022, 26027, 26013, 26016, 26029, 26031, 26033, 26035, 26038, 26041, 26038, 26021, 26015, 26020, 26025, 26025, 26023, 26035, 26024, 26022, 26016, 26009, 26015, 26015, 26016, 26004, 26015, 26007, 26002, 26008, 26014, 26014, 25999, 26002, 25997, 25987, 25985, 25976, 25979, 25965, 25979, 25969, 25973, 25965, 25958, 25957, 25957, 25957, 25948, 25949, 25955, 25957, 25954, 25964, 25968, 25955, 25955, 25966, 25976, 25993, 26004, 26012, 25998, 26014, 26023, 26011, 26018, 26005, 26005, 25997, 25999, 25995, 25999, 25997, 25989, 25986, 25976, 25966, 25976, 25973, 25958, 25938, 25920, 25907, 25889, 25900, 25902, 25913, 25912, 25926, 25916, 25931, 25936, 25927, 25935, 25923, 25917, 25908, 25887, 25892, 25896, 25898, 25892, 25897, 25883, 25900, 25912, 25902, 25903, 25898, 25917, 25908, 25894, 25881, 25887, 25879, 25885, 25892, 25893, 25902, 25912, 25911, 25917, 25911, 25916, 25912, 25893, 25889, 25865, 25876, 25879, 25882, 25901, 25918, 25920, 25920, 25913, 25929, 25925, 25930, 25928, 25928, 25910, 25906, 25902, 25925, 25920, 25928, 25927, 25935, 25931, 25929, 25919, 25900, 25907, 25911, 25903, 25894, 25896, 25888, 25887, 25878, 25874, 25877, 25883, 25892, 25884, 25875, 25853, 25870, 25870, 25865, 25858, 25841, 25831, 25836, 25818, 25818, 25812, 25821, 25825, 25818, 25799, 25791, 25793, 25789, 25790, 25805, 25814, 25816, 25809, 25818, 25814, 25815, 25817, 25821, 25818, 25805, 25812, 25823, 25826, 25813, 25836, 25839, 25849, 25857, 25839, 25831, 25837, 25824, 25832, 25822, 25837, 25828, 25827, 25826, 25841, 25842, 25855, 25859, 25862, 25858, 25858, 25855, 25858, 25845, 25851, 25857, 25854, 25863, 25863, 25843, 25850, 25866, 25866, 25859, 25857, 25854, 25859, 25860, 25873, 25876, 25877, 25890, 25906, 25912, 25929, 25928, 25920, 25921, 25946, 25948, 25942, 25953, 25947, 25952, 25971, 25981, 25986, 25972, 25975, 25976, 25993, 25992, 25990, 25992, 25983, 25986, 25990, 25998, 25998, 26005, 26020, 26028, 26025, 26041, 26058, 26058, 26074, 26067, 26071, 26071, 26078, 26074, 26077, 26071, 26061, 26065, 26050, 26034, 26039, 26044, 26060, 26054, 26037, 26029, 26037, 26044, 26052, 26055, 26037, 26027, 26016, 26018, 26005, 26008, 26001, 25988, 25975, 25996, 26002, 26014, 26013, 26026, 26033, 26033, 26034, 26028, 26020, 26038, 26025, 26022, 26024, 26025, 26025, 26038, 26041, 26062, 26054, 26046, 26052, 26049, 26046, 26058, 26044, 26054, 26047, 26042, 26049, 26048, 26063, 26072, 26072, 26084, 26088, 26101, 26103, 26115, 26123, 26119, 26124, 26146, 26146, 26135, 26122, 26118, 26119, 26107, 26111, 26120, 26119, 26116, 26115, 26117, 26111, 26114, 26103, 26101, 26111, 26131, 26131, 26138, 26122, 26138, 26136, 26129, 26136, 26151, 26155, 26147, 26143, 26136, 26149, 26149, 26128, 26121, 26131, 26116, 26097, 26088, 26091, 26091, 26087, 26067, 26057, 26063, 26059, 26056, 26051, 26045, 26043, 26036, 26029, 26013, 26005, 26017, 26021, 26042, 26035, 26029, 26026, 26027, 26025, 26010, 26032, 26051, 26044, 26037, 26045, 26048, 26037, 26041, 26049, 26041, 26049, 26043, 26060, 26081, 26083, 26090, 26095, 26091, 26096, 26113, 26131, 26137, 26139, 26123, 26118, 26112, 26132, 26122, 26129, 26130, 26140, 26157, 26159, 26167, 26172, 26179, 26180, 26187, 26182, 26171, 26180, 26190, 26191, 26187, 26167, 26181, 26193, 26199, 26192, 26205, 26184, 26181, 26190, 26200, 26201, 26214, 26198, 26199, 26207, 26213, 26219, 26220, 26235, 26234, 26236, 26230, 26242, 26226, 26221, 26230, 26225, 26229, 26227, 26243, 26243, 26248, 26259, 26240, 26242, 26245, 26245, 26238, 26225, 26231, 26240, 26245, 26250, 26248, 26233, 26218, 26227, 26220, 26227, 26219, 26202, 26192, 26197, 26188, 26174, 26189, 26195, 26183, 26186, 26188, 26183, 26187, 26171, 26180, 26181, 26200, 26201, 26200, 26220, 26237, 26255, 26267, 26279, 26280, 26289, 26293, 26280, 26292, 26300, 26302, 26307, 26315, 26313, 26322, 26313, 26318, 26315, 26319, 26301, 26309, 26309, 26301, 26300, 26317, 26317, 26331, 26331, 26342, 26350, 26356, 26352, 26350, 26347, 26360, 26364, 26367, 26369, 26368, 26352, 26365, 26354, 26356, 26355, 26371, 26379, 26358, 26356, 26364, 26364, 26356, 26355, 26368, 26361, 26364, 26367, 26370, 26386, 26373, 26374, 26373, 26380, 26365, 26373, 26378, 26371, 26371, 26369, 26364, 26359, 26360, 26348, 26348, 26348, 26336, 26336, 26338, 26322, 26343, 26330, 26322, 26323, 26322, 26331, 26346, 26327, 26319, 26317, 26311, 26320, 26322, 26314, 26317, 26323, 26325, 26312, 26317, 26326, 26322, 26321, 26328, 26332, 26342, 26333, 26328, 26327, 26329, 26320, 26320, 26322, 26332, 26335, 26336, 26327, 26322, 26314, 26308, 26301, 26309, 26311, 26322, 26315, 26321, 26327, 26322, 26313, 26295, 26292, 26293, 26291, 26304, 26301, 26323, 26336, 26321, 26313, 26324, 26315, 26322, 26328, 26317, 26311, 26309, 26305, 26312, 26321, 26340, 26361, 26383, 26384, 26395, 26397, 26389, 26384, 26388, 26395, 26395, 26402, 26401, 26398, 26384, 26387, 26376, 26372, 26377, 26366, 26368, 26378, 26378, 26363, 26355, 26347, 26333, 26337, 26351, 26349, 26361, 26383, 26384, 26383, 26373, 26368, 26368, 26357, 26354, 26353, 26354, 26350, 26362, 26362, 26371, 26370, 26380, 26398, 26393, 26388, 26385, 26384, 26377, 26363, 26361, 26363, 26360, 26378, 26376, 26373, 26364, 26365, 26360, 26369, 26375, 26381, 26382, 26385, 26378, 26355, 26350, 26372, 26378, 26377, 26386, 26387, 26371, 26369, 26363, 26350, 26355, 26344, 26348, 26353, 26354, 26363, 26366, 26375, 26372, 26381, 26381, 26376, 26375, 26373, 26361, 26373, 26370, 26379, 26367, 26366, 26368, 26380, 26386, 26372, 26368, 26380, 26391, 26376, 26381, 26400, 26408, 26414, 26418, 26430, 26450, 26450, 26444, 26442, 26444, 26433, 26426, 26423, 26434, 26428, 26416, 26400, 26420, 26430, 26438, 26423, 26431, 26453, 26442, 26428], \"yaxis\": \"y\"}],\n",
              "                        {\"legend\": {\"title\": {\"text\": \"variable\"}, \"tracegroupgap\": 0}, \"margin\": {\"t\": 60}, \"template\": {\"data\": {\"bar\": [{\"error_x\": {\"color\": \"#2a3f5f\"}, \"error_y\": {\"color\": \"#2a3f5f\"}, \"marker\": {\"line\": {\"color\": \"#E5ECF6\", \"width\": 0.5}}, \"type\": \"bar\"}], \"barpolar\": [{\"marker\": {\"line\": {\"color\": \"#E5ECF6\", \"width\": 0.5}}, \"type\": \"barpolar\"}], \"carpet\": [{\"aaxis\": {\"endlinecolor\": \"#2a3f5f\", \"gridcolor\": \"white\", \"linecolor\": \"white\", \"minorgridcolor\": \"white\", \"startlinecolor\": \"#2a3f5f\"}, \"baxis\": {\"endlinecolor\": \"#2a3f5f\", \"gridcolor\": \"white\", \"linecolor\": \"white\", \"minorgridcolor\": \"white\", \"startlinecolor\": \"#2a3f5f\"}, \"type\": \"carpet\"}], \"choropleth\": [{\"colorbar\": {\"outlinewidth\": 0, \"ticks\": \"\"}, \"type\": \"choropleth\"}], \"contour\": [{\"colorbar\": {\"outlinewidth\": 0, \"ticks\": \"\"}, \"colorscale\": [[0.0, \"#0d0887\"], [0.1111111111111111, \"#46039f\"], [0.2222222222222222, \"#7201a8\"], [0.3333333333333333, \"#9c179e\"], [0.4444444444444444, \"#bd3786\"], [0.5555555555555556, \"#d8576b\"], [0.6666666666666666, \"#ed7953\"], [0.7777777777777778, \"#fb9f3a\"], [0.8888888888888888, \"#fdca26\"], [1.0, \"#f0f921\"]], \"type\": \"contour\"}], \"contourcarpet\": [{\"colorbar\": {\"outlinewidth\": 0, \"ticks\": \"\"}, \"type\": \"contourcarpet\"}], \"heatmap\": [{\"colorbar\": {\"outlinewidth\": 0, \"ticks\": \"\"}, \"colorscale\": [[0.0, \"#0d0887\"], [0.1111111111111111, \"#46039f\"], [0.2222222222222222, \"#7201a8\"], [0.3333333333333333, \"#9c179e\"], [0.4444444444444444, \"#bd3786\"], [0.5555555555555556, \"#d8576b\"], [0.6666666666666666, \"#ed7953\"], [0.7777777777777778, \"#fb9f3a\"], [0.8888888888888888, \"#fdca26\"], [1.0, \"#f0f921\"]], \"type\": \"heatmap\"}], \"heatmapgl\": [{\"colorbar\": {\"outlinewidth\": 0, \"ticks\": \"\"}, \"colorscale\": [[0.0, \"#0d0887\"], [0.1111111111111111, \"#46039f\"], [0.2222222222222222, \"#7201a8\"], [0.3333333333333333, \"#9c179e\"], [0.4444444444444444, \"#bd3786\"], [0.5555555555555556, \"#d8576b\"], [0.6666666666666666, \"#ed7953\"], [0.7777777777777778, \"#fb9f3a\"], [0.8888888888888888, \"#fdca26\"], [1.0, \"#f0f921\"]], \"type\": \"heatmapgl\"}], \"histogram\": [{\"marker\": {\"colorbar\": {\"outlinewidth\": 0, \"ticks\": \"\"}}, \"type\": \"histogram\"}], \"histogram2d\": [{\"colorbar\": {\"outlinewidth\": 0, \"ticks\": \"\"}, \"colorscale\": [[0.0, \"#0d0887\"], [0.1111111111111111, \"#46039f\"], [0.2222222222222222, \"#7201a8\"], [0.3333333333333333, \"#9c179e\"], [0.4444444444444444, \"#bd3786\"], [0.5555555555555556, \"#d8576b\"], [0.6666666666666666, \"#ed7953\"], [0.7777777777777778, \"#fb9f3a\"], [0.8888888888888888, \"#fdca26\"], [1.0, \"#f0f921\"]], \"type\": \"histogram2d\"}], \"histogram2dcontour\": [{\"colorbar\": {\"outlinewidth\": 0, \"ticks\": \"\"}, \"colorscale\": [[0.0, \"#0d0887\"], [0.1111111111111111, \"#46039f\"], [0.2222222222222222, \"#7201a8\"], [0.3333333333333333, \"#9c179e\"], [0.4444444444444444, \"#bd3786\"], [0.5555555555555556, \"#d8576b\"], [0.6666666666666666, \"#ed7953\"], [0.7777777777777778, \"#fb9f3a\"], [0.8888888888888888, \"#fdca26\"], [1.0, \"#f0f921\"]], \"type\": \"histogram2dcontour\"}], \"mesh3d\": [{\"colorbar\": {\"outlinewidth\": 0, \"ticks\": \"\"}, \"type\": \"mesh3d\"}], \"parcoords\": [{\"line\": {\"colorbar\": {\"outlinewidth\": 0, \"ticks\": \"\"}}, \"type\": \"parcoords\"}], \"pie\": [{\"automargin\": true, \"type\": \"pie\"}], \"scatter\": [{\"marker\": {\"colorbar\": {\"outlinewidth\": 0, \"ticks\": \"\"}}, \"type\": \"scatter\"}], \"scatter3d\": [{\"line\": {\"colorbar\": {\"outlinewidth\": 0, \"ticks\": \"\"}}, \"marker\": {\"colorbar\": {\"outlinewidth\": 0, \"ticks\": \"\"}}, \"type\": \"scatter3d\"}], \"scattercarpet\": [{\"marker\": {\"colorbar\": {\"outlinewidth\": 0, \"ticks\": \"\"}}, \"type\": \"scattercarpet\"}], \"scattergeo\": [{\"marker\": {\"colorbar\": {\"outlinewidth\": 0, \"ticks\": \"\"}}, \"type\": \"scattergeo\"}], \"scattergl\": [{\"marker\": {\"colorbar\": {\"outlinewidth\": 0, \"ticks\": \"\"}}, \"type\": \"scattergl\"}], \"scattermapbox\": [{\"marker\": {\"colorbar\": {\"outlinewidth\": 0, \"ticks\": \"\"}}, \"type\": \"scattermapbox\"}], \"scatterpolar\": [{\"marker\": {\"colorbar\": {\"outlinewidth\": 0, \"ticks\": \"\"}}, \"type\": \"scatterpolar\"}], \"scatterpolargl\": [{\"marker\": {\"colorbar\": {\"outlinewidth\": 0, \"ticks\": \"\"}}, \"type\": \"scatterpolargl\"}], \"scatterternary\": [{\"marker\": {\"colorbar\": {\"outlinewidth\": 0, \"ticks\": \"\"}}, \"type\": \"scatterternary\"}], \"surface\": [{\"colorbar\": {\"outlinewidth\": 0, \"ticks\": \"\"}, \"colorscale\": [[0.0, \"#0d0887\"], [0.1111111111111111, \"#46039f\"], [0.2222222222222222, \"#7201a8\"], [0.3333333333333333, \"#9c179e\"], [0.4444444444444444, \"#bd3786\"], [0.5555555555555556, \"#d8576b\"], [0.6666666666666666, \"#ed7953\"], [0.7777777777777778, \"#fb9f3a\"], [0.8888888888888888, \"#fdca26\"], [1.0, \"#f0f921\"]], \"type\": \"surface\"}], \"table\": [{\"cells\": {\"fill\": {\"color\": \"#EBF0F8\"}, \"line\": {\"color\": \"white\"}}, \"header\": {\"fill\": {\"color\": \"#C8D4E3\"}, \"line\": {\"color\": \"white\"}}, \"type\": \"table\"}]}, \"layout\": {\"annotationdefaults\": {\"arrowcolor\": \"#2a3f5f\", \"arrowhead\": 0, \"arrowwidth\": 1}, \"coloraxis\": {\"colorbar\": {\"outlinewidth\": 0, \"ticks\": \"\"}}, \"colorscale\": {\"diverging\": [[0, \"#8e0152\"], [0.1, \"#c51b7d\"], [0.2, \"#de77ae\"], [0.3, \"#f1b6da\"], [0.4, \"#fde0ef\"], [0.5, \"#f7f7f7\"], [0.6, \"#e6f5d0\"], [0.7, \"#b8e186\"], [0.8, \"#7fbc41\"], [0.9, \"#4d9221\"], [1, \"#276419\"]], \"sequential\": [[0.0, \"#0d0887\"], [0.1111111111111111, \"#46039f\"], [0.2222222222222222, \"#7201a8\"], [0.3333333333333333, \"#9c179e\"], [0.4444444444444444, \"#bd3786\"], [0.5555555555555556, \"#d8576b\"], [0.6666666666666666, \"#ed7953\"], [0.7777777777777778, \"#fb9f3a\"], [0.8888888888888888, \"#fdca26\"], [1.0, \"#f0f921\"]], \"sequentialminus\": [[0.0, \"#0d0887\"], [0.1111111111111111, \"#46039f\"], [0.2222222222222222, \"#7201a8\"], [0.3333333333333333, \"#9c179e\"], [0.4444444444444444, \"#bd3786\"], [0.5555555555555556, \"#d8576b\"], [0.6666666666666666, \"#ed7953\"], [0.7777777777777778, \"#fb9f3a\"], [0.8888888888888888, \"#fdca26\"], [1.0, \"#f0f921\"]]}, \"colorway\": [\"#636efa\", \"#EF553B\", \"#00cc96\", \"#ab63fa\", \"#FFA15A\", \"#19d3f3\", \"#FF6692\", \"#B6E880\", \"#FF97FF\", \"#FECB52\"], \"font\": {\"color\": \"#2a3f5f\"}, \"geo\": {\"bgcolor\": \"white\", \"lakecolor\": \"white\", \"landcolor\": \"#E5ECF6\", \"showlakes\": true, \"showland\": true, \"subunitcolor\": \"white\"}, \"hoverlabel\": {\"align\": \"left\"}, \"hovermode\": \"closest\", \"mapbox\": {\"style\": \"light\"}, \"paper_bgcolor\": \"white\", \"plot_bgcolor\": \"#E5ECF6\", \"polar\": {\"angularaxis\": {\"gridcolor\": \"white\", \"linecolor\": \"white\", \"ticks\": \"\"}, \"bgcolor\": \"#E5ECF6\", \"radialaxis\": {\"gridcolor\": \"white\", \"linecolor\": \"white\", \"ticks\": \"\"}}, \"scene\": {\"xaxis\": {\"backgroundcolor\": \"#E5ECF6\", \"gridcolor\": \"white\", \"gridwidth\": 2, \"linecolor\": \"white\", \"showbackground\": true, \"ticks\": \"\", \"zerolinecolor\": \"white\"}, \"yaxis\": {\"backgroundcolor\": \"#E5ECF6\", \"gridcolor\": \"white\", \"gridwidth\": 2, \"linecolor\": \"white\", \"showbackground\": true, \"ticks\": \"\", \"zerolinecolor\": \"white\"}, \"zaxis\": {\"backgroundcolor\": \"#E5ECF6\", \"gridcolor\": \"white\", \"gridwidth\": 2, \"linecolor\": \"white\", \"showbackground\": true, \"ticks\": \"\", \"zerolinecolor\": \"white\"}}, \"shapedefaults\": {\"line\": {\"color\": \"#2a3f5f\"}}, \"ternary\": {\"aaxis\": {\"gridcolor\": \"white\", \"linecolor\": \"white\", \"ticks\": \"\"}, \"baxis\": {\"gridcolor\": \"white\", \"linecolor\": \"white\", \"ticks\": \"\"}, \"bgcolor\": \"#E5ECF6\", \"caxis\": {\"gridcolor\": \"white\", \"linecolor\": \"white\", \"ticks\": \"\"}}, \"title\": {\"x\": 0.05}, \"xaxis\": {\"automargin\": true, \"gridcolor\": \"white\", \"linecolor\": \"white\", \"ticks\": \"\", \"title\": {\"standoff\": 15}, \"zerolinecolor\": \"white\", \"zerolinewidth\": 2}, \"yaxis\": {\"automargin\": true, \"gridcolor\": \"white\", \"linecolor\": \"white\", \"ticks\": \"\", \"title\": {\"standoff\": 15}, \"zerolinecolor\": \"white\", \"zerolinewidth\": 2}}}, \"xaxis\": {\"anchor\": \"y\", \"domain\": [0.0, 1.0], \"title\": {\"text\": \"time\"}}, \"yaxis\": {\"anchor\": \"x\", \"domain\": [0.0, 1.0], \"title\": {\"text\": \"value\"}}},\n",
              "                        {\"responsive\": true}\n",
              "                    ).then(function(){\n",
              "                            \n",
              "var gd = document.getElementById('ae961824-7eb9-4f0d-80db-3f8b7391fca8');\n",
              "var x = new MutationObserver(function (mutations, observer) {{\n",
              "        var display = window.getComputedStyle(gd).display;\n",
              "        if (!display || display === 'none') {{\n",
              "            console.log([gd, 'removed!']);\n",
              "            Plotly.purge(gd);\n",
              "            observer.disconnect();\n",
              "        }}\n",
              "}});\n",
              "\n",
              "// Listen for the removal of the full notebook cells\n",
              "var notebookContainer = gd.closest('#notebook-container');\n",
              "if (notebookContainer) {{\n",
              "    x.observe(notebookContainer, {childList: true});\n",
              "}}\n",
              "\n",
              "// Listen for the clearing of the current output cell\n",
              "var outputEl = gd.closest('.output');\n",
              "if (outputEl) {{\n",
              "    x.observe(outputEl, {childList: true});\n",
              "}}\n",
              "\n",
              "                        })\n",
              "                };\n",
              "                \n",
              "            </script>\n",
              "        </div>\n",
              "</body>\n",
              "</html>"
            ]
          },
          "metadata": {
            "tags": []
          }
        }
      ]
    },
    {
      "cell_type": "code",
      "metadata": {
        "id": "2m7On9sSQxBl",
        "colab_type": "code",
        "outputId": "ec64e511-53d9-4c2f-d9d8-3791ffcb8f12",
        "colab": {
          "base_uri": "https://localhost:8080/",
          "height": 225
        }
      },
      "source": [
        "data_final = data.copy()\n",
        "\n",
        "train = data_final[:-50]\n",
        "test = data_final[-50:]\n",
        "print(train.shape, test.shape)\n",
        "train.head()"
      ],
      "execution_count": 26,
      "outputs": [
        {
          "output_type": "stream",
          "text": [
            "(3362, 2) (50, 2)\n"
          ],
          "name": "stdout"
        },
        {
          "output_type": "execute_result",
          "data": {
            "text/html": [
              "<div>\n",
              "<style scoped>\n",
              "    .dataframe tbody tr th:only-of-type {\n",
              "        vertical-align: middle;\n",
              "    }\n",
              "\n",
              "    .dataframe tbody tr th {\n",
              "        vertical-align: top;\n",
              "    }\n",
              "\n",
              "    .dataframe thead th {\n",
              "        text-align: right;\n",
              "    }\n",
              "</style>\n",
              "<table border=\"1\" class=\"dataframe\">\n",
              "  <thead>\n",
              "    <tr style=\"text-align: right;\">\n",
              "      <th></th>\n",
              "      <th>Value</th>\n",
              "      <th>time</th>\n",
              "    </tr>\n",
              "  </thead>\n",
              "  <tbody>\n",
              "    <tr>\n",
              "      <th>0</th>\n",
              "      <td>25340</td>\n",
              "      <td>2020-05-18 22:30:00</td>\n",
              "    </tr>\n",
              "    <tr>\n",
              "      <th>1</th>\n",
              "      <td>25361</td>\n",
              "      <td>2020-05-18 22:33:00</td>\n",
              "    </tr>\n",
              "    <tr>\n",
              "      <th>2</th>\n",
              "      <td>25365</td>\n",
              "      <td>2020-05-18 22:36:00</td>\n",
              "    </tr>\n",
              "    <tr>\n",
              "      <th>3</th>\n",
              "      <td>25368</td>\n",
              "      <td>2020-05-18 22:39:00</td>\n",
              "    </tr>\n",
              "    <tr>\n",
              "      <th>4</th>\n",
              "      <td>25356</td>\n",
              "      <td>2020-05-18 22:42:00</td>\n",
              "    </tr>\n",
              "  </tbody>\n",
              "</table>\n",
              "</div>"
            ],
            "text/plain": [
              "   Value                time\n",
              "0  25340 2020-05-18 22:30:00\n",
              "1  25361 2020-05-18 22:33:00\n",
              "2  25365 2020-05-18 22:36:00\n",
              "3  25368 2020-05-18 22:39:00\n",
              "4  25356 2020-05-18 22:42:00"
            ]
          },
          "metadata": {
            "tags": []
          },
          "execution_count": 26
        }
      ]
    },
    {
      "cell_type": "markdown",
      "metadata": {
        "id": "DEaBYM6_ulfm",
        "colab_type": "text"
      },
      "source": [
        "# Time Series Analysis"
      ]
    },
    {
      "cell_type": "code",
      "metadata": {
        "id": "9iQary_NSqsI",
        "colab_type": "code",
        "colab": {}
      },
      "source": [
        "ts_column = 'time'\n",
        "sep = ','\n",
        "target = 'Value'"
      ],
      "execution_count": 0,
      "outputs": []
    },
    {
      "cell_type": "code",
      "metadata": {
        "id": "z8yF8oWYmbIz",
        "colab_type": "code",
        "outputId": "1c31c439-7034-4838-ab71-e5d22caa22ff",
        "colab": {
          "base_uri": "https://localhost:8080/",
          "height": 1000
        }
      },
      "source": [
        "ml_dict = AT.Auto_Timeseries(data, ts_column, target, sep, score_type='rmse', \n",
        "                             forecast_period=100, time_interval='H', seasonality=True, seasonal_period= 480,\n",
        "                             non_seasonal_pdq=None,  seasonal_PDQ=None, model_type='best', verbose = 2)"
      ],
      "execution_count": 28,
      "outputs": [
        {
          "output_type": "stream",
          "text": [
            "Input is data frame. Performing Time Series Analysis\n",
            "    Dataframe loaded successfully. Shape of data set = (3412, 1)\n",
            "    Target variable = Value\n",
            "Time Interval is given as H\n",
            "\u001b[1mWARNING: Running best models will take time... Be Patient...\u001b[0m\n",
            "\u001b[1m\n",
            "Running Facebook Prophet Model...\u001b[0m\n",
            "Preparing Time Series data for FB Prophet: sample row before\n",
            "                      Value\n",
            "time                      \n",
            "2020-05-18 22:30:00  25340\n",
            "Time Series data: sample row after transformation\n",
            "                    ds      y\n",
            "0 2020-05-18 22:30:00  25340\n",
            "    Fit-Predict data (shape=(3412, 2)) with Confidence Interval = 0.95...\n"
          ],
          "name": "stdout"
        },
        {
          "output_type": "stream",
          "text": [
            "INFO:numexpr.utils:NumExpr defaulting to 2 threads.\n"
          ],
          "name": "stderr"
        },
        {
          "output_type": "stream",
          "text": [
            "Building Forecast dataframe. Forecast Period = 100\n"
          ],
          "name": "stdout"
        },
        {
          "output_type": "display_data",
          "data": {
            "image/png": "[encoded data removed]",
            "text/plain": [
              "<Figure size 1440x720 with 1 Axes>"
            ]
          },
          "metadata": {
            "tags": []
          }
        },
        {
          "output_type": "stream",
          "text": [
            "    RMSE = 37.43\n",
            "    Std Deviation of Originals = 245.79\n",
            "    Normalized RMSE = 15%\n",
            "\u001b[1m\n",
            "Running PyFlux Model...\u001b[0m\n",
            "Cycling through various (p,d,q) parameters\n",
            "\n",
            "Best Params Selected (based on rmse): (3, 1, 3)\n",
            "Dynamic 100-period Forecasts:\n",
            "    RMSE = 28.33\n",
            "    Std Deviation of Originals = 238.64\n",
            "    Normalized RMSE = 12%\n",
            "\u001b[1m\n",
            "Running Non Seasonal ARIMA Model...\u001b[0m\n",
            "\n",
            "Differencing = 0\n",
            " Iteration 0 completed...\n",
            " Iteration 10 completed...\n",
            "    Best AR order p = 1, MA order q = 1, Interim metric = 24083.386\n",
            "\n",
            "Differencing = 1\n",
            "    Best AR order p = 0, MA order q = 0, Interim metric = 24056.215\n",
            "\n",
            "Best model is: Non Seasonal ARIMA(0,1,0), aic = 24056.215\n",
            "####    Fitting best model for full data set now. Will take time... ######\n",
            "Static Forecasts:\n",
            "Dynamic predictions erroring but continuing...\n",
            "\n",
            "Dynamic 100-period Forecasts:\n",
            "                             ARIMA Model Results                              \n",
            "==============================================================================\n",
            "Dep. Variable:                D.Value   No. Observations:                 3311\n",
            "Model:                 ARIMA(0, 1, 0)   Log Likelihood              -12026.107\n",
            "Method:                           css   S.D. of innovations              9.145\n",
            "Date:                Tue, 09 Jun 2020   AIC                          24056.215\n",
            "Time:                        01:52:46   BIC                          24068.425\n",
            "Sample:                    05-18-2020   HQIC                         24060.584\n",
            "                         - 05-25-2020                                         \n",
            "==============================================================================\n",
            "                 coef    std err          z      P>|z|      [0.025      0.975]\n",
            "------------------------------------------------------------------------------\n",
            "const          0.3150      0.159      1.982      0.048       0.004       0.627\n",
            "==============================================================================\n",
            "    RMSE = 26.63\n",
            "    Std Deviation of Originals = 238.64\n",
            "    Normalized RMSE = 11%\n",
            "\u001b[1m\n",
            "Running Seasonal SARIMAX Model...\u001b[0m\n",
            "\u001b[1mBuilding a Seasonal Model...\u001b[0m\n",
            "\u001b[1m\n",
            "    Finding best Non-Seasonal pdq Parameters:\u001b[0m\n",
            "\n",
            "Differencing = 0\n",
            "    Iteration 0 completed...\n",
            "    Best AR order p = 1, MA order q = 3, Interim metric = 24035.790\n",
            "\n",
            "Differencing = 1\n",
            "    D = 1 results in an empty ARMA set. Setting Seasonality to False since model might overfit\n",
            "\u001b[1m\n",
            "    Finding best Seasonal PDQ Model Parameters:\u001b[0m\n",
            "\n",
            "Differencing = 0\n",
            "    D = 0 results in an empty ARMA set. Setting Seasonality to False since model might overfit\n",
            "\n",
            "Differencing = 1\n",
            "    Iteration 0 completed...\n",
            "    Best AR order p = 0, MA order q = 3, Interim metric = 24030.243\n",
            "\n",
            "Best model is a Seasonal SARIMAX(1,0,3)*(0,1,3,24), aic = 24030.243\n",
            "\u001b[1mFitting best SARIMAX model for full data set\u001b[0m\n",
            "    Best aic metric = 24131.3\n",
            "Dynamic 100-Period Forecast:\n",
            "    RMSE = 135.75\n",
            "    Std Deviation of Originals = 238.64\n",
            "    Normalized RMSE = 57%\n",
            "\u001b[1m\n",
            "No VAR model created since no explanatory variables given in data set\u001b[0m\n",
            "No ML model since number of predictors is zero\n",
            "\u001b[1m\n",
            "Best Model is:\u001b[0m\n",
            "    ARIMA\n",
            "    Best Model Forecasts:                  mean  mean_se  mean_ci_lower  mean_ci_upper\n",
            "Forecast_1    26383.3   9.1452   26365.390748   26401.239273\n",
            "Forecast_2    26383.6  12.9333   26358.281285   26408.978757\n",
            "Forecast_3    26383.9    15.84   26352.899298   26414.990766\n",
            "Forecast_4    26384.3  18.2904   26348.411516   26420.108568\n",
            "Forecast_5    26384.6  20.4493   26344.495183   26424.654923\n",
            "...               ...      ...            ...            ...\n",
            "Forecast_96   26413.2  89.6043   26237.619822   26588.862207\n",
            "Forecast_97   26413.6  90.0698   26237.022509   26590.089542\n",
            "Forecast_98   26413.9  90.5329   26236.429886   26591.312186\n",
            "Forecast_99   26414.2  90.9936   26235.841882   26592.530211\n",
            "Forecast_100  26414.5   91.452   26235.258428   26593.743686\n",
            "\n",
            "[100 rows x 4 columns]\n",
            "    Best Model Score: 26.63\n"
          ],
          "name": "stdout"
        },
        {
          "output_type": "display_data",
          "data": {
            "image/png": "[encoded data removed]",
            "text/plain": [
              "<Figure size 648x432 with 2 Axes>"
            ]
          },
          "metadata": {
            "tags": []
          }
        }
      ]
    },
    {
      "cell_type": "code",
      "metadata": {
        "id": "hEgSQuaVClr5",
        "colab_type": "code",
        "outputId": "d62f4162-b3fd-4eef-daaa-424c07e131eb",
        "colab": {
          "base_uri": "https://localhost:8080/",
          "height": 641
        }
      },
      "source": [
        "# BestModel\n",
        "# forecast_val = ml_dict\n",
        "forecast_val = ml_dict['ARIMA']['forecast']['mean'].values\n",
        "forecast_val"
      ],
      "execution_count": 29,
      "outputs": [
        {
          "output_type": "execute_result",
          "data": {
            "text/plain": [
              "array([26383.315010570823, 26383.630021141646, 26383.94503171247,\n",
              "       26384.26004228329, 26384.575052854114, 26384.890063424937,\n",
              "       26385.20507399576, 26385.520084566582, 26385.835095137405,\n",
              "       26386.150105708228, 26386.46511627905, 26386.780126849873,\n",
              "       26387.095137420696, 26387.41014799152, 26387.72515856234,\n",
              "       26388.040169133164, 26388.355179703987, 26388.67019027481,\n",
              "       26388.985200845633, 26389.300211416456, 26389.61522198728,\n",
              "       26389.9302325581, 26390.245243128924, 26390.560253699747,\n",
              "       26390.87526427057, 26391.190274841392, 26391.505285412215,\n",
              "       26391.820295983038, 26392.13530655386, 26392.450317124683,\n",
              "       26392.765327695506, 26393.08033826633, 26393.39534883715,\n",
              "       26393.710359407974, 26394.025369978797, 26394.34038054962,\n",
              "       26394.655391120443, 26394.970401691266, 26395.28541226209,\n",
              "       26395.60042283291, 26395.915433403734, 26396.230443974557,\n",
              "       26396.54545454538, 26396.860465116202, 26397.175475687025,\n",
              "       26397.490486257848, 26397.80549682867, 26398.120507399493,\n",
              "       26398.435517970316, 26398.75052854114, 26399.06553911196,\n",
              "       26399.380549682784, 26399.695560253607, 26400.01057082443,\n",
              "       26400.325581395253, 26400.640591966076, 26400.9556025369,\n",
              "       26401.27061310772, 26401.585623678544, 26401.900634249367,\n",
              "       26402.21564482019, 26402.530655391012, 26402.845665961835,\n",
              "       26403.160676532658, 26403.47568710348, 26403.790697674303,\n",
              "       26404.105708245126, 26404.42071881595, 26404.73572938677,\n",
              "       26405.050739957594, 26405.365750528417, 26405.68076109924,\n",
              "       26405.995771670063, 26406.310782240886, 26406.62579281171,\n",
              "       26406.94080338253, 26407.255813953354, 26407.570824524177,\n",
              "       26407.885835095, 26408.200845665822, 26408.515856236645,\n",
              "       26408.830866807468, 26409.14587737829, 26409.460887949113,\n",
              "       26409.775898519936, 26410.09090909076, 26410.40591966158,\n",
              "       26410.720930232404, 26411.035940803227, 26411.35095137405,\n",
              "       26411.665961944873, 26411.980972515696, 26412.29598308652,\n",
              "       26412.61099365734, 26412.926004228164, 26413.241014798987,\n",
              "       26413.55602536981, 26413.871035940632, 26414.186046511455,\n",
              "       26414.501057082278], dtype=object)"
            ]
          },
          "metadata": {
            "tags": []
          },
          "execution_count": 29
        }
      ]
    },
    {
      "cell_type": "code",
      "metadata": {
        "id": "m7ZzxiiKI-4T",
        "colab_type": "code",
        "outputId": "ef71f578-851f-4b1f-bd88-a9cb96881cb7",
        "colab": {
          "base_uri": "https://localhost:8080/",
          "height": 54
        }
      },
      "source": [
        "forecast_val = ml_dict['FB_Prophet']['forecast']\n",
        "forecast_val"
      ],
      "execution_count": 30,
      "outputs": [
        {
          "output_type": "execute_result",
          "data": {
            "text/plain": [
              "array([25337.01551902, 25337.1283695 , 25337.23143075, ...,\n",
              "       28287.08416452, 28303.84191331, 28317.20478109])"
            ]
          },
          "metadata": {
            "tags": []
          },
          "execution_count": 30
        }
      ]
    },
    {
      "cell_type": "code",
      "metadata": {
        "id": "vQUWsS2YmpFg",
        "colab_type": "code",
        "outputId": "c4887af3-d93e-411c-8967-0a2302054fc8",
        "colab": {
          "base_uri": "https://localhost:8080/",
          "height": 35
        }
      },
      "source": [
        "i = pd.date_range('2020-05-26', periods=480, freq='3min')\n",
        "data_timedf_26 = pd.DataFrame(i, columns=['time'])\n",
        "data_timedf_26 = data_timedf_26.sort_values(['time'], ascending= True)[22:122]\n",
        "# data_timedf_26 = data_timedf_26.sort_values(['time'], ascending= True)[:22]\n",
        "print(len(data_timedf_26))\n",
        "data_timedf_26.reset_index(inplace = True)\n",
        "data_timedf_26.drop('index', inplace = True, axis = 1)"
      ],
      "execution_count": 31,
      "outputs": [
        {
          "output_type": "stream",
          "text": [
            "100\n"
          ],
          "name": "stdout"
        }
      ]
    },
    {
      "cell_type": "code",
      "metadata": {
        "id": "dLhKop8LmpIn",
        "colab_type": "code",
        "colab": {}
      },
      "source": [
        "\n",
        "t = np.array(data_timedf_26['time'].values)\n",
        "list_n = []\n",
        "for i in range(0, 100):\n",
        "  list_n.append([t[i], forecast_val[i]])\n",
        "\n",
        "data_predicted = pd.DataFrame(list_n, columns=['time', 'Value'])\n",
        "# data_predicted  = pd.DataFrame([t, forecast_val], columns = ['time', 'Value']) "
      ],
      "execution_count": 0,
      "outputs": []
    },
    {
      "cell_type": "code",
      "metadata": {
        "id": "nNnDJtqAFWP3",
        "colab_type": "code",
        "outputId": "f1d87589-0285-4d73-8a73-82e37d8d5262",
        "colab": {
          "base_uri": "https://localhost:8080/",
          "height": 542
        }
      },
      "source": [
        "data_predicted.plot(x = 'time', y = 'Value')"
      ],
      "execution_count": 33,
      "outputs": [
        {
          "output_type": "display_data",
          "data": {
            "text/html": [
              "<html>\n",
              "<head><meta charset=\"utf-8\" /></head>\n",
              "<body>\n",
              "    <div>\n",
              "            <script src=\"https://cdnjs.cloudflare.com/ajax/libs/mathjax/2.7.5/MathJax.js?config=TeX-AMS-MML_SVG\"></script><script type=\"text/javascript\">if (window.MathJax) {MathJax.Hub.Config({SVG: {font: \"STIX-Web\"}});}</script>\n",
              "                <script type=\"text/javascript\">window.PlotlyConfig = {MathJaxConfig: 'local'};</script>\n",
              "        <script src=\"https://cdn.plot.ly/plotly-latest.min.js\"></script>    \n",
              "            <div id=\"91b2f9f6-2b56-49be-968e-4006d7a47104\" class=\"plotly-graph-div\" style=\"height:525px; width:100%;\"></div>\n",
              "            <script type=\"text/javascript\">\n",
              "                \n",
              "                    window.PLOTLYENV=window.PLOTLYENV || {};\n",
              "                    \n",
              "                if (document.getElementById(\"91b2f9f6-2b56-49be-968e-4006d7a47104\")) {\n",
              "                    Plotly.newPlot(\n",
              "                        '91b2f9f6-2b56-49be-968e-4006d7a47104',\n",
              "                        [{\"hovertemplate\": \"time=%{x}<br>Value=%{y}<extra></extra>\", \"legendgroup\": \"\", \"line\": {\"color\": \"#636efa\", \"dash\": \"solid\"}, \"mode\": \"lines\", \"name\": \"\", \"orientation\": \"v\", \"showlegend\": false, \"type\": \"scatter\", \"x\": [\"2020-05-26T01:06:00\", \"2020-05-26T01:09:00\", \"2020-05-26T01:12:00\", \"2020-05-26T01:15:00\", \"2020-05-26T01:18:00\", \"2020-05-26T01:21:00\", \"2020-05-26T01:24:00\", \"2020-05-26T01:27:00\", \"2020-05-26T01:30:00\", \"2020-05-26T01:33:00\", \"2020-05-26T01:36:00\", \"2020-05-26T01:39:00\", \"2020-05-26T01:42:00\", \"2020-05-26T01:45:00\", \"2020-05-26T01:48:00\", \"2020-05-26T01:51:00\", \"2020-05-26T01:54:00\", \"2020-05-26T01:57:00\", \"2020-05-26T02:00:00\", \"2020-05-26T02:03:00\", \"2020-05-26T02:06:00\", \"2020-05-26T02:09:00\", \"2020-05-26T02:12:00\", \"2020-05-26T02:15:00\", \"2020-05-26T02:18:00\", \"2020-05-26T02:21:00\", \"2020-05-26T02:24:00\", \"2020-05-26T02:27:00\", \"2020-05-26T02:30:00\", \"2020-05-26T02:33:00\", \"2020-05-26T02:36:00\", \"2020-05-26T02:39:00\", \"2020-05-26T02:42:00\", \"2020-05-26T02:45:00\", \"2020-05-26T02:48:00\", \"2020-05-26T02:51:00\", \"2020-05-26T02:54:00\", \"2020-05-26T02:57:00\", \"2020-05-26T03:00:00\", \"2020-05-26T03:03:00\", \"2020-05-26T03:06:00\", \"2020-05-26T03:09:00\", \"2020-05-26T03:12:00\", \"2020-05-26T03:15:00\", \"2020-05-26T03:18:00\", \"2020-05-26T03:21:00\", \"2020-05-26T03:24:00\", \"2020-05-26T03:27:00\", \"2020-05-26T03:30:00\", \"2020-05-26T03:33:00\", \"2020-05-26T03:36:00\", \"2020-05-26T03:39:00\", \"2020-05-26T03:42:00\", \"2020-05-26T03:45:00\", \"2020-05-26T03:48:00\", \"2020-05-26T03:51:00\", \"2020-05-26T03:54:00\", \"2020-05-26T03:57:00\", \"2020-05-26T04:00:00\", \"2020-05-26T04:03:00\", \"2020-05-26T04:06:00\", \"2020-05-26T04:09:00\", \"2020-05-26T04:12:00\", \"2020-05-26T04:15:00\", \"2020-05-26T04:18:00\", \"2020-05-26T04:21:00\", \"2020-05-26T04:24:00\", \"2020-05-26T04:27:00\", \"2020-05-26T04:30:00\", \"2020-05-26T04:33:00\", \"2020-05-26T04:36:00\", \"2020-05-26T04:39:00\", \"2020-05-26T04:42:00\", \"2020-05-26T04:45:00\", \"2020-05-26T04:48:00\", \"2020-05-26T04:51:00\", \"2020-05-26T04:54:00\", \"2020-05-26T04:57:00\", \"2020-05-26T05:00:00\", \"2020-05-26T05:03:00\", \"2020-05-26T05:06:00\", \"2020-05-26T05:09:00\", \"2020-05-26T05:12:00\", \"2020-05-26T05:15:00\", \"2020-05-26T05:18:00\", \"2020-05-26T05:21:00\", \"2020-05-26T05:24:00\", \"2020-05-26T05:27:00\", \"2020-05-26T05:30:00\", \"2020-05-26T05:33:00\", \"2020-05-26T05:36:00\", \"2020-05-26T05:39:00\", \"2020-05-26T05:42:00\", \"2020-05-26T05:45:00\", \"2020-05-26T05:48:00\", \"2020-05-26T05:51:00\", \"2020-05-26T05:54:00\", \"2020-05-26T05:57:00\", \"2020-05-26T06:00:00\", \"2020-05-26T06:03:00\"], \"xaxis\": \"x\", \"y\": [25337.015519016695, 25337.128369499398, 25337.231430746124, 25337.32535631855, 25337.41083013734, 25337.488563639443, 25337.559292873637, 25337.623775539054, 25337.6827879785, 25337.7371221354, 25337.7875824834, 25337.83498293738, 25337.88014375706, 25337.923888449528, 25337.967040683645, 25338.010421222298, 25338.054844883955, 25338.10111754058, 25338.15003316418, 25338.20237092648, 25338.258892363017, 25338.32033861037, 25338.38742772265, 25338.460852076783, 25338.54127587391, 25338.62933274343, 25338.725623457896, 25338.83071376464, 25338.945132340064, 25339.06936887426, 25339.203872289927, 25339.349049099954, 25339.505261911316, 25339.67282807662, 25339.852018500496, 25340.0430565967, 25340.246117411665, 25340.461326904846, 25340.68876139239, 25340.928447157217, 25341.180360224298, 25341.444426304224, 25341.720520899067, 25342.00846957724, 25342.308048413848, 25342.618984592234, 25342.940957167786, 25343.273597993644, 25343.616492796624, 25343.969182412035, 25344.33116416444, 25344.70189339418, 25345.080785123773, 25345.467215858836, 25345.860525522214, 25346.26001950471, 25346.66497084048, 25347.07462249024, 25347.488189726966, 25347.90486262336, 25348.323808625013, 25348.744175203046, 25349.165092585827, 25349.58567655183, 25350.005031285244, 25350.422252266228, 25350.83642921959, 25351.24664908245, 25351.651998992453, 25352.051569295396, 25352.44445655149, 25352.829766542654, 25353.20661725409, 25353.574141842102, 25353.931491567004, 25354.277838682152, 25354.6123792738, 25354.934336044927, 25355.242961024825, 25355.53753820999, 25355.817386115916, 25356.08186024227, 25356.330355432423, 25356.562308130564, 25356.77719852566, 25356.974552569864, 25357.153943875477, 25357.31499547629, 25357.457381450375, 25357.580828399907, 25357.685116782806, 25357.77008208814, 25357.835615859065, 25357.88166655097, 25357.90824022863, 25357.915401095892, 25357.903271856925, 25357.87203390801, 25357.821927356712, 25357.753250870428], \"yaxis\": \"y\"}],\n",
              "                        {\"legend\": {\"tracegroupgap\": 0}, \"margin\": {\"t\": 60}, \"template\": {\"data\": {\"bar\": [{\"error_x\": {\"color\": \"#2a3f5f\"}, \"error_y\": {\"color\": \"#2a3f5f\"}, \"marker\": {\"line\": {\"color\": \"#E5ECF6\", \"width\": 0.5}}, \"type\": \"bar\"}], \"barpolar\": [{\"marker\": {\"line\": {\"color\": \"#E5ECF6\", \"width\": 0.5}}, \"type\": \"barpolar\"}], \"carpet\": [{\"aaxis\": {\"endlinecolor\": \"#2a3f5f\", \"gridcolor\": \"white\", \"linecolor\": \"white\", \"minorgridcolor\": \"white\", \"startlinecolor\": \"#2a3f5f\"}, \"baxis\": {\"endlinecolor\": \"#2a3f5f\", \"gridcolor\": \"white\", \"linecolor\": \"white\", \"minorgridcolor\": \"white\", \"startlinecolor\": \"#2a3f5f\"}, \"type\": \"carpet\"}], \"choropleth\": [{\"colorbar\": {\"outlinewidth\": 0, \"ticks\": \"\"}, \"type\": \"choropleth\"}], \"contour\": [{\"colorbar\": {\"outlinewidth\": 0, \"ticks\": \"\"}, \"colorscale\": [[0.0, \"#0d0887\"], [0.1111111111111111, \"#46039f\"], [0.2222222222222222, \"#7201a8\"], [0.3333333333333333, \"#9c179e\"], [0.4444444444444444, \"#bd3786\"], [0.5555555555555556, \"#d8576b\"], [0.6666666666666666, \"#ed7953\"], [0.7777777777777778, \"#fb9f3a\"], [0.8888888888888888, \"#fdca26\"], [1.0, \"#f0f921\"]], \"type\": \"contour\"}], \"contourcarpet\": [{\"colorbar\": {\"outlinewidth\": 0, \"ticks\": \"\"}, \"type\": \"contourcarpet\"}], \"heatmap\": [{\"colorbar\": {\"outlinewidth\": 0, \"ticks\": \"\"}, \"colorscale\": [[0.0, \"#0d0887\"], [0.1111111111111111, \"#46039f\"], [0.2222222222222222, \"#7201a8\"], [0.3333333333333333, \"#9c179e\"], [0.4444444444444444, \"#bd3786\"], [0.5555555555555556, \"#d8576b\"], [0.6666666666666666, \"#ed7953\"], [0.7777777777777778, \"#fb9f3a\"], [0.8888888888888888, \"#fdca26\"], [1.0, \"#f0f921\"]], \"type\": \"heatmap\"}], \"heatmapgl\": [{\"colorbar\": {\"outlinewidth\": 0, \"ticks\": \"\"}, \"colorscale\": [[0.0, \"#0d0887\"], [0.1111111111111111, \"#46039f\"], [0.2222222222222222, \"#7201a8\"], [0.3333333333333333, \"#9c179e\"], [0.4444444444444444, \"#bd3786\"], [0.5555555555555556, \"#d8576b\"], [0.6666666666666666, \"#ed7953\"], [0.7777777777777778, \"#fb9f3a\"], [0.8888888888888888, \"#fdca26\"], [1.0, \"#f0f921\"]], \"type\": \"heatmapgl\"}], \"histogram\": [{\"marker\": {\"colorbar\": {\"outlinewidth\": 0, \"ticks\": \"\"}}, \"type\": \"histogram\"}], \"histogram2d\": [{\"colorbar\": {\"outlinewidth\": 0, \"ticks\": \"\"}, \"colorscale\": [[0.0, \"#0d0887\"], [0.1111111111111111, \"#46039f\"], [0.2222222222222222, \"#7201a8\"], [0.3333333333333333, \"#9c179e\"], [0.4444444444444444, \"#bd3786\"], [0.5555555555555556, \"#d8576b\"], [0.6666666666666666, \"#ed7953\"], [0.7777777777777778, \"#fb9f3a\"], [0.8888888888888888, \"#fdca26\"], [1.0, \"#f0f921\"]], \"type\": \"histogram2d\"}], \"histogram2dcontour\": [{\"colorbar\": {\"outlinewidth\": 0, \"ticks\": \"\"}, \"colorscale\": [[0.0, \"#0d0887\"], [0.1111111111111111, \"#46039f\"], [0.2222222222222222, \"#7201a8\"], [0.3333333333333333, \"#9c179e\"], [0.4444444444444444, \"#bd3786\"], [0.5555555555555556, \"#d8576b\"], [0.6666666666666666, \"#ed7953\"], [0.7777777777777778, \"#fb9f3a\"], [0.8888888888888888, \"#fdca26\"], [1.0, \"#f0f921\"]], \"type\": \"histogram2dcontour\"}], \"mesh3d\": [{\"colorbar\": {\"outlinewidth\": 0, \"ticks\": \"\"}, \"type\": \"mesh3d\"}], \"parcoords\": [{\"line\": {\"colorbar\": {\"outlinewidth\": 0, \"ticks\": \"\"}}, \"type\": \"parcoords\"}], \"pie\": [{\"automargin\": true, \"type\": \"pie\"}], \"scatter\": [{\"marker\": {\"colorbar\": {\"outlinewidth\": 0, \"ticks\": \"\"}}, \"type\": \"scatter\"}], \"scatter3d\": [{\"line\": {\"colorbar\": {\"outlinewidth\": 0, \"ticks\": \"\"}}, \"marker\": {\"colorbar\": {\"outlinewidth\": 0, \"ticks\": \"\"}}, \"type\": \"scatter3d\"}], \"scattercarpet\": [{\"marker\": {\"colorbar\": {\"outlinewidth\": 0, \"ticks\": \"\"}}, \"type\": \"scattercarpet\"}], \"scattergeo\": [{\"marker\": {\"colorbar\": {\"outlinewidth\": 0, \"ticks\": \"\"}}, \"type\": \"scattergeo\"}], \"scattergl\": [{\"marker\": {\"colorbar\": {\"outlinewidth\": 0, \"ticks\": \"\"}}, \"type\": \"scattergl\"}], \"scattermapbox\": [{\"marker\": {\"colorbar\": {\"outlinewidth\": 0, \"ticks\": \"\"}}, \"type\": \"scattermapbox\"}], \"scatterpolar\": [{\"marker\": {\"colorbar\": {\"outlinewidth\": 0, \"ticks\": \"\"}}, \"type\": \"scatterpolar\"}], \"scatterpolargl\": [{\"marker\": {\"colorbar\": {\"outlinewidth\": 0, \"ticks\": \"\"}}, \"type\": \"scatterpolargl\"}], \"scatterternary\": [{\"marker\": {\"colorbar\": {\"outlinewidth\": 0, \"ticks\": \"\"}}, \"type\": \"scatterternary\"}], \"surface\": [{\"colorbar\": {\"outlinewidth\": 0, \"ticks\": \"\"}, \"colorscale\": [[0.0, \"#0d0887\"], [0.1111111111111111, \"#46039f\"], [0.2222222222222222, \"#7201a8\"], [0.3333333333333333, \"#9c179e\"], [0.4444444444444444, \"#bd3786\"], [0.5555555555555556, \"#d8576b\"], [0.6666666666666666, \"#ed7953\"], [0.7777777777777778, \"#fb9f3a\"], [0.8888888888888888, \"#fdca26\"], [1.0, \"#f0f921\"]], \"type\": \"surface\"}], \"table\": [{\"cells\": {\"fill\": {\"color\": \"#EBF0F8\"}, \"line\": {\"color\": \"white\"}}, \"header\": {\"fill\": {\"color\": \"#C8D4E3\"}, \"line\": {\"color\": \"white\"}}, \"type\": \"table\"}]}, \"layout\": {\"annotationdefaults\": {\"arrowcolor\": \"#2a3f5f\", \"arrowhead\": 0, \"arrowwidth\": 1}, \"coloraxis\": {\"colorbar\": {\"outlinewidth\": 0, \"ticks\": \"\"}}, \"colorscale\": {\"diverging\": [[0, \"#8e0152\"], [0.1, \"#c51b7d\"], [0.2, \"#de77ae\"], [0.3, \"#f1b6da\"], [0.4, \"#fde0ef\"], [0.5, \"#f7f7f7\"], [0.6, \"#e6f5d0\"], [0.7, \"#b8e186\"], [0.8, \"#7fbc41\"], [0.9, \"#4d9221\"], [1, \"#276419\"]], \"sequential\": [[0.0, \"#0d0887\"], [0.1111111111111111, \"#46039f\"], [0.2222222222222222, \"#7201a8\"], [0.3333333333333333, \"#9c179e\"], [0.4444444444444444, \"#bd3786\"], [0.5555555555555556, \"#d8576b\"], [0.6666666666666666, \"#ed7953\"], [0.7777777777777778, \"#fb9f3a\"], [0.8888888888888888, \"#fdca26\"], [1.0, \"#f0f921\"]], \"sequentialminus\": [[0.0, \"#0d0887\"], [0.1111111111111111, \"#46039f\"], [0.2222222222222222, \"#7201a8\"], [0.3333333333333333, \"#9c179e\"], [0.4444444444444444, \"#bd3786\"], [0.5555555555555556, \"#d8576b\"], [0.6666666666666666, \"#ed7953\"], [0.7777777777777778, \"#fb9f3a\"], [0.8888888888888888, \"#fdca26\"], [1.0, \"#f0f921\"]]}, \"colorway\": [\"#636efa\", \"#EF553B\", \"#00cc96\", \"#ab63fa\", \"#FFA15A\", \"#19d3f3\", \"#FF6692\", \"#B6E880\", \"#FF97FF\", \"#FECB52\"], \"font\": {\"color\": \"#2a3f5f\"}, \"geo\": {\"bgcolor\": \"white\", \"lakecolor\": \"white\", \"landcolor\": \"#E5ECF6\", \"showlakes\": true, \"showland\": true, \"subunitcolor\": \"white\"}, \"hoverlabel\": {\"align\": \"left\"}, \"hovermode\": \"closest\", \"mapbox\": {\"style\": \"light\"}, \"paper_bgcolor\": \"white\", \"plot_bgcolor\": \"#E5ECF6\", \"polar\": {\"angularaxis\": {\"gridcolor\": \"white\", \"linecolor\": \"white\", \"ticks\": \"\"}, \"bgcolor\": \"#E5ECF6\", \"radialaxis\": {\"gridcolor\": \"white\", \"linecolor\": \"white\", \"ticks\": \"\"}}, \"scene\": {\"xaxis\": {\"backgroundcolor\": \"#E5ECF6\", \"gridcolor\": \"white\", \"gridwidth\": 2, \"linecolor\": \"white\", \"showbackground\": true, \"ticks\": \"\", \"zerolinecolor\": \"white\"}, \"yaxis\": {\"backgroundcolor\": \"#E5ECF6\", \"gridcolor\": \"white\", \"gridwidth\": 2, \"linecolor\": \"white\", \"showbackground\": true, \"ticks\": \"\", \"zerolinecolor\": \"white\"}, \"zaxis\": {\"backgroundcolor\": \"#E5ECF6\", \"gridcolor\": \"white\", \"gridwidth\": 2, \"linecolor\": \"white\", \"showbackground\": true, \"ticks\": \"\", \"zerolinecolor\": \"white\"}}, \"shapedefaults\": {\"line\": {\"color\": \"#2a3f5f\"}}, \"ternary\": {\"aaxis\": {\"gridcolor\": \"white\", \"linecolor\": \"white\", \"ticks\": \"\"}, \"baxis\": {\"gridcolor\": \"white\", \"linecolor\": \"white\", \"ticks\": \"\"}, \"bgcolor\": \"#E5ECF6\", \"caxis\": {\"gridcolor\": \"white\", \"linecolor\": \"white\", \"ticks\": \"\"}}, \"title\": {\"x\": 0.05}, \"xaxis\": {\"automargin\": true, \"gridcolor\": \"white\", \"linecolor\": \"white\", \"ticks\": \"\", \"title\": {\"standoff\": 15}, \"zerolinecolor\": \"white\", \"zerolinewidth\": 2}, \"yaxis\": {\"automargin\": true, \"gridcolor\": \"white\", \"linecolor\": \"white\", \"ticks\": \"\", \"title\": {\"standoff\": 15}, \"zerolinecolor\": \"white\", \"zerolinewidth\": 2}}}, \"xaxis\": {\"anchor\": \"y\", \"domain\": [0.0, 1.0], \"title\": {\"text\": \"time\"}}, \"yaxis\": {\"anchor\": \"x\", \"domain\": [0.0, 1.0], \"title\": {\"text\": \"Value\"}}},\n",
              "                        {\"responsive\": true}\n",
              "                    ).then(function(){\n",
              "                            \n",
              "var gd = document.getElementById('91b2f9f6-2b56-49be-968e-4006d7a47104');\n",
              "var x = new MutationObserver(function (mutations, observer) {{\n",
              "        var display = window.getComputedStyle(gd).display;\n",
              "        if (!display || display === 'none') {{\n",
              "            console.log([gd, 'removed!']);\n",
              "            Plotly.purge(gd);\n",
              "            observer.disconnect();\n",
              "        }}\n",
              "}});\n",
              "\n",
              "// Listen for the removal of the full notebook cells\n",
              "var notebookContainer = gd.closest('#notebook-container');\n",
              "if (notebookContainer) {{\n",
              "    x.observe(notebookContainer, {childList: true});\n",
              "}}\n",
              "\n",
              "// Listen for the clearing of the current output cell\n",
              "var outputEl = gd.closest('.output');\n",
              "if (outputEl) {{\n",
              "    x.observe(outputEl, {childList: true});\n",
              "}}\n",
              "\n",
              "                        })\n",
              "                };\n",
              "                \n",
              "            </script>\n",
              "        </div>\n",
              "</body>\n",
              "</html>"
            ]
          },
          "metadata": {
            "tags": []
          }
        }
      ]
    },
    {
      "cell_type": "code",
      "metadata": {
        "id": "Uig3FRfRmpLM",
        "colab_type": "code",
        "outputId": "f7da50ae-8192-4fd3-9687-eb68cbfa5dc5",
        "colab": {
          "base_uri": "https://localhost:8080/",
          "height": 542
        }
      },
      "source": [
        "data_1 = data.copy()\n",
        "\n",
        "trace_1 = go.Scatter(\n",
        "        x=data_1.time,\n",
        "        y= data_1['Value'],\n",
        "        name = 'Actual Reading',\n",
        "        line = dict(color = '#29f3c9'),\n",
        "        opacity = 0.8)\n",
        "\n",
        "trace_2 = go.Scatter(\n",
        "        x=data_predicted.time,\n",
        "        y= data_predicted['Value'],\n",
        "        name = 'Forecasting',\n",
        "        line = dict(color = '#f4aaa8'),\n",
        "        opacity = 0.8)\n",
        "data_v = [trace_1, trace_2]\n",
        "# data = [trace_1]\n",
        "layout = dict(\n",
        "        title='Time series for Actual and Forecasting Value ',\n",
        "        xaxis_title='Time(sec)',\n",
        "        yaxis_title='Accel norm',\n",
        "        paper_bgcolor=\"#dec7f2\",\n",
        "#         paper_bgcolor='rgba(0,1,0,0)'\n",
        "        )\n",
        "fig = dict(data=data_v, layout= layout )\n",
        "iplot(fig)"
      ],
      "execution_count": 34,
      "outputs": [
        {
          "output_type": "display_data",
          "data": {
            "text/html": [
              "<html>\n",
              "<head><meta charset=\"utf-8\" /></head>\n",
              "<body>\n",
              "    <div>\n",
              "            <script src=\"https://cdnjs.cloudflare.com/ajax/libs/mathjax/2.7.5/MathJax.js?config=TeX-AMS-MML_SVG\"></script><script type=\"text/javascript\">if (window.MathJax) {MathJax.Hub.Config({SVG: {font: \"STIX-Web\"}});}</script>\n",
              "                <script type=\"text/javascript\">window.PlotlyConfig = {MathJaxConfig: 'local'};</script>\n",
              "        <script src=\"https://cdn.plot.ly/plotly-latest.min.js\"></script>    \n",
              "            <div id=\"c2bdcf1a-463e-4b49-9435-8377cecb8718\" class=\"plotly-graph-div\" style=\"height:525px; width:100%;\"></div>\n",
              "            <script type=\"text/javascript\">\n",
              "                \n",
              "                    window.PLOTLYENV=window.PLOTLYENV || {};\n",
              "                    \n",
              "                if (document.getElementById(\"c2bdcf1a-463e-4b49-9435-8377cecb8718\")) {\n",
              "                    Plotly.newPlot(\n",
              "                        'c2bdcf1a-463e-4b49-9435-8377cecb8718',\n",
              "                        [{\"line\": {\"color\": \"#29f3c9\"}, \"name\": \"Actual Reading\", \"opacity\": 0.8, \"type\": \"scatter\", \"x\": [\"2020-05-18T22:30:00\", \"2020-05-18T22:33:00\", \"2020-05-18T22:36:00\", \"2020-05-18T22:39:00\", \"2020-05-18T22:42:00\", \"2020-05-18T22:45:00\", \"2020-05-18T22:48:00\", \"2020-05-18T22:51:00\", \"2020-05-18T22:54:00\", \"2020-05-18T22:57:00\", \"2020-05-18T23:00:00\", \"2020-05-18T23:03:00\", \"2020-05-18T23:06:00\", \"2020-05-18T23:09:00\", \"2020-05-18T23:12:00\", \"2020-05-18T23:15:00\", \"2020-05-18T23:18:00\", \"2020-05-18T23:21:00\", \"2020-05-18T23:24:00\", \"2020-05-18T23:27:00\", \"2020-05-18T23:30:00\", \"2020-05-18T23:33:00\", \"2020-05-18T23:36:00\", \"2020-05-18T23:39:00\", \"2020-05-18T23:42:00\", \"2020-05-18T23:45:00\", \"2020-05-18T23:48:00\", \"2020-05-18T23:51:00\", \"2020-05-18T23:54:00\", \"2020-05-18T23:57:00\", \"2020-05-19T00:00:00\", \"2020-05-19T00:03:00\", \"2020-05-19T00:06:00\", \"2020-05-19T00:09:00\", \"2020-05-19T00:12:00\", \"2020-05-19T00:15:00\", \"2020-05-19T00:18:00\", \"2020-05-19T00:21:00\", \"2020-05-19T00:24:00\", \"2020-05-19T00:27:00\", \"2020-05-19T00:30:00\", \"2020-05-19T00:33:00\", \"2020-05-19T00:36:00\", \"2020-05-19T00:39:00\", \"2020-05-19T00:42:00\", \"2020-05-19T00:45:00\", \"2020-05-19T00:48:00\", \"2020-05-19T00:51:00\", \"2020-05-19T00:54:00\", \"2020-05-19T00:57:00\", \"2020-05-19T01:00:00\", \"2020-05-19T01:03:00\", \"2020-05-19T01:06:00\", \"2020-05-19T01:09:00\", \"2020-05-19T01:12:00\", \"2020-05-19T01:15:00\", \"2020-05-19T01:18:00\", \"2020-05-19T01:21:00\", \"2020-05-19T01:24:00\", \"2020-05-19T01:27:00\", \"2020-05-19T01:30:00\", \"2020-05-19T01:33:00\", \"2020-05-19T01:36:00\", \"2020-05-19T01:39:00\", \"2020-05-19T01:42:00\", \"2020-05-19T01:45:00\", \"2020-05-19T01:48:00\", \"2020-05-19T01:51:00\", \"2020-05-19T01:54:00\", \"2020-05-19T01:57:00\", \"2020-05-19T02:00:00\", \"2020-05-19T02:03:00\", \"2020-05-19T02:06:00\", \"2020-05-19T02:09:00\", \"2020-05-19T02:12:00\", \"2020-05-19T02:15:00\", \"2020-05-19T02:18:00\", \"2020-05-19T02:21:00\", \"2020-05-19T02:24:00\", \"2020-05-19T02:27:00\", \"2020-05-19T02:30:00\", \"2020-05-19T02:33:00\", \"2020-05-19T02:36:00\", \"2020-05-19T02:39:00\", \"2020-05-19T02:42:00\", \"2020-05-19T02:45:00\", \"2020-05-19T02:48:00\", \"2020-05-19T02:51:00\", \"2020-05-19T02:54:00\", \"2020-05-19T02:57:00\", \"2020-05-19T03:00:00\", \"2020-05-19T03:03:00\", \"2020-05-19T03:06:00\", \"2020-05-19T03:09:00\", \"2020-05-19T03:12:00\", \"2020-05-19T03:15:00\", \"2020-05-19T03:18:00\", \"2020-05-19T03:21:00\", \"2020-05-19T03:24:00\", \"2020-05-19T03:27:00\", \"2020-05-19T03:30:00\", \"2020-05-19T03:33:00\", \"2020-05-19T03:36:00\", \"2020-05-19T03:39:00\", \"2020-05-19T03:42:00\", \"2020-05-19T03:45:00\", \"2020-05-19T03:48:00\", \"2020-05-19T03:51:00\", \"2020-05-19T03:54:00\", \"2020-05-19T03:57:00\", \"2020-05-19T04:00:00\", \"2020-05-19T04:03:00\", \"2020-05-19T04:06:00\", \"2020-05-19T04:09:00\", \"2020-05-19T04:12:00\", \"2020-05-19T04:15:00\", \"2020-05-19T04:18:00\", \"2020-05-19T04:21:00\", \"2020-05-19T04:24:00\", \"2020-05-19T04:27:00\", \"2020-05-19T04:30:00\", \"2020-05-19T04:33:00\", \"2020-05-19T04:36:00\", \"2020-05-19T04:39:00\", \"2020-05-19T04:42:00\", \"2020-05-19T04:45:00\", \"2020-05-19T04:48:00\", \"2020-05-19T04:51:00\", \"2020-05-19T04:54:00\", \"2020-05-19T04:57:00\", \"2020-05-19T05:00:00\", \"2020-05-19T05:03:00\", \"2020-05-19T05:06:00\", \"2020-05-19T05:09:00\", \"2020-05-19T05:12:00\", \"2020-05-19T05:15:00\", \"2020-05-19T05:18:00\", \"2020-05-19T05:21:00\", \"2020-05-19T05:24:00\", \"2020-05-19T05:27:00\", \"2020-05-19T05:30:00\", \"2020-05-19T05:33:00\", \"2020-05-19T05:36:00\", \"2020-05-19T05:39:00\", \"2020-05-19T05:42:00\", \"2020-05-19T05:45:00\", \"2020-05-19T05:48:00\", \"2020-05-19T05:51:00\", \"2020-05-19T05:54:00\", \"2020-05-19T05:57:00\", \"2020-05-19T06:00:00\", \"2020-05-19T06:03:00\", \"2020-05-19T06:06:00\", \"2020-05-19T06:09:00\", \"2020-05-19T06:12:00\", \"2020-05-19T06:15:00\", \"2020-05-19T06:18:00\", \"2020-05-19T06:21:00\", \"2020-05-19T06:24:00\", \"2020-05-19T06:27:00\", \"2020-05-19T06:30:00\", \"2020-05-19T06:33:00\", \"2020-05-19T06:36:00\", \"2020-05-19T06:39:00\", \"2020-05-19T06:42:00\", \"2020-05-19T06:45:00\", \"2020-05-19T06:48:00\", \"2020-05-19T06:51:00\", \"2020-05-19T06:54:00\", \"2020-05-19T06:57:00\", \"2020-05-19T07:00:00\", \"2020-05-19T07:03:00\", \"2020-05-19T07:06:00\", \"2020-05-19T07:09:00\", \"2020-05-19T07:12:00\", \"2020-05-19T07:15:00\", \"2020-05-19T07:18:00\", \"2020-05-19T07:21:00\", \"2020-05-19T07:24:00\", \"2020-05-19T07:27:00\", \"2020-05-19T07:30:00\", \"2020-05-19T07:33:00\", \"2020-05-19T07:36:00\", \"2020-05-19T07:39:00\", \"2020-05-19T07:42:00\", \"2020-05-19T07:45:00\", \"2020-05-19T07:48:00\", \"2020-05-19T07:51:00\", \"2020-05-19T07:54:00\", \"2020-05-19T07:57:00\", \"2020-05-19T08:00:00\", \"2020-05-19T08:03:00\", \"2020-05-19T08:06:00\", \"2020-05-19T08:09:00\", \"2020-05-19T08:12:00\", \"2020-05-19T08:15:00\", \"2020-05-19T08:18:00\", \"2020-05-19T08:21:00\", \"2020-05-19T08:24:00\", \"2020-05-19T08:27:00\", \"2020-05-19T08:30:00\", \"2020-05-19T08:33:00\", \"2020-05-19T08:36:00\", \"2020-05-19T08:39:00\", \"2020-05-19T08:42:00\", \"2020-05-19T08:45:00\", \"2020-05-19T08:48:00\", \"2020-05-19T08:51:00\", \"2020-05-19T08:54:00\", \"2020-05-19T08:57:00\", \"2020-05-19T09:00:00\", \"2020-05-19T09:03:00\", \"2020-05-19T09:06:00\", \"2020-05-19T09:09:00\", \"2020-05-19T09:12:00\", \"2020-05-19T09:15:00\", \"2020-05-19T09:18:00\", \"2020-05-19T09:21:00\", \"2020-05-19T09:24:00\", \"2020-05-19T09:27:00\", \"2020-05-19T09:30:00\", \"2020-05-19T09:33:00\", \"2020-05-19T09:36:00\", \"2020-05-19T09:39:00\", \"2020-05-19T09:42:00\", \"2020-05-19T09:45:00\", \"2020-05-19T09:48:00\", \"2020-05-19T09:51:00\", \"2020-05-19T09:54:00\", \"2020-05-19T09:57:00\", \"2020-05-19T10:00:00\", \"2020-05-19T10:03:00\", \"2020-05-19T10:06:00\", \"2020-05-19T10:09:00\", \"2020-05-19T10:12:00\", \"2020-05-19T10:15:00\", \"2020-05-19T10:18:00\", \"2020-05-19T10:21:00\", \"2020-05-19T10:24:00\", \"2020-05-19T10:27:00\", \"2020-05-19T10:30:00\", \"2020-05-19T10:33:00\", \"2020-05-19T10:36:00\", \"2020-05-19T10:39:00\", \"2020-05-19T10:42:00\", \"2020-05-19T10:45:00\", \"2020-05-19T10:48:00\", \"2020-05-19T10:51:00\", \"2020-05-19T10:54:00\", \"2020-05-19T10:57:00\", \"2020-05-19T11:00:00\", \"2020-05-19T11:03:00\", \"2020-05-19T11:06:00\", \"2020-05-19T11:09:00\", \"2020-05-19T11:12:00\", \"2020-05-19T11:15:00\", \"2020-05-19T11:18:00\", \"2020-05-19T11:21:00\", \"2020-05-19T11:24:00\", \"2020-05-19T11:27:00\", \"2020-05-19T11:30:00\", \"2020-05-19T11:33:00\", \"2020-05-19T11:36:00\", \"2020-05-19T11:39:00\", \"2020-05-19T11:42:00\", \"2020-05-19T11:45:00\", \"2020-05-19T11:48:00\", \"2020-05-19T11:51:00\", \"2020-05-19T11:54:00\", \"2020-05-19T11:57:00\", \"2020-05-19T12:00:00\", \"2020-05-19T12:03:00\", \"2020-05-19T12:06:00\", \"2020-05-19T12:09:00\", \"2020-05-19T12:12:00\", \"2020-05-19T12:15:00\", \"2020-05-19T12:18:00\", \"2020-05-19T12:21:00\", \"2020-05-19T12:24:00\", \"2020-05-19T12:27:00\", \"2020-05-19T12:30:00\", \"2020-05-19T12:33:00\", \"2020-05-19T12:36:00\", \"2020-05-19T12:39:00\", \"2020-05-19T12:42:00\", \"2020-05-19T12:45:00\", \"2020-05-19T12:48:00\", \"2020-05-19T12:51:00\", \"2020-05-19T12:54:00\", \"2020-05-19T12:57:00\", \"2020-05-19T13:00:00\", \"2020-05-19T13:03:00\", \"2020-05-19T13:06:00\", \"2020-05-19T13:09:00\", \"2020-05-19T13:12:00\", \"2020-05-19T13:15:00\", \"2020-05-19T13:18:00\", \"2020-05-19T13:21:00\", \"2020-05-19T13:24:00\", \"2020-05-19T13:27:00\", \"2020-05-19T13:30:00\", \"2020-05-19T13:33:00\", \"2020-05-19T13:36:00\", \"2020-05-19T13:39:00\", \"2020-05-19T13:42:00\", \"2020-05-19T13:45:00\", \"2020-05-19T13:48:00\", \"2020-05-19T13:51:00\", \"2020-05-19T13:54:00\", \"2020-05-19T13:57:00\", \"2020-05-19T14:00:00\", \"2020-05-19T14:03:00\", \"2020-05-19T14:06:00\", \"2020-05-19T14:09:00\", \"2020-05-19T14:12:00\", \"2020-05-19T14:15:00\", \"2020-05-19T14:18:00\", \"2020-05-19T14:21:00\", \"2020-05-19T14:24:00\", \"2020-05-19T14:27:00\", \"2020-05-19T14:30:00\", \"2020-05-19T14:33:00\", \"2020-05-19T14:36:00\", \"2020-05-19T14:39:00\", \"2020-05-19T14:42:00\", \"2020-05-19T14:45:00\", \"2020-05-19T14:48:00\", \"2020-05-19T14:51:00\", \"2020-05-19T14:54:00\", \"2020-05-19T14:57:00\", \"2020-05-19T15:00:00\", \"2020-05-19T15:03:00\", \"2020-05-19T15:06:00\", \"2020-05-19T15:09:00\", \"2020-05-19T15:12:00\", \"2020-05-19T15:15:00\", \"2020-05-19T15:18:00\", \"2020-05-19T15:21:00\", \"2020-05-19T15:24:00\", \"2020-05-19T15:27:00\", \"2020-05-19T15:30:00\", \"2020-05-19T15:33:00\", \"2020-05-19T15:36:00\", \"2020-05-19T15:39:00\", \"2020-05-19T15:42:00\", \"2020-05-19T15:45:00\", \"2020-05-19T15:48:00\", \"2020-05-19T15:51:00\", \"2020-05-19T15:54:00\", \"2020-05-19T15:57:00\", \"2020-05-19T16:00:00\", \"2020-05-19T16:03:00\", \"2020-05-19T16:06:00\", \"2020-05-19T16:09:00\", \"2020-05-19T16:12:00\", \"2020-05-19T16:15:00\", \"2020-05-19T16:18:00\", \"2020-05-19T16:21:00\", \"2020-05-19T16:24:00\", \"2020-05-19T16:27:00\", \"2020-05-19T16:30:00\", \"2020-05-19T16:33:00\", \"2020-05-19T16:36:00\", \"2020-05-19T16:39:00\", \"2020-05-19T16:42:00\", \"2020-05-19T16:45:00\", \"2020-05-19T16:48:00\", \"2020-05-19T16:51:00\", \"2020-05-19T16:54:00\", \"2020-05-19T16:57:00\", \"2020-05-19T17:00:00\", \"2020-05-19T17:03:00\", \"2020-05-19T17:06:00\", \"2020-05-19T17:09:00\", \"2020-05-19T17:12:00\", \"2020-05-19T17:15:00\", \"2020-05-19T17:18:00\", \"2020-05-19T17:21:00\", \"2020-05-19T17:24:00\", \"2020-05-19T17:27:00\", \"2020-05-19T17:30:00\", \"2020-05-19T17:33:00\", \"2020-05-19T17:36:00\", \"2020-05-19T17:39:00\", \"2020-05-19T17:42:00\", \"2020-05-19T17:45:00\", \"2020-05-19T17:48:00\", \"2020-05-19T17:51:00\", \"2020-05-19T17:54:00\", \"2020-05-19T17:57:00\", \"2020-05-19T18:00:00\", \"2020-05-19T18:03:00\", \"2020-05-19T18:06:00\", \"2020-05-19T18:09:00\", \"2020-05-19T18:12:00\", \"2020-05-19T18:15:00\", \"2020-05-19T18:18:00\", \"2020-05-19T18:21:00\", \"2020-05-19T18:24:00\", \"2020-05-19T18:27:00\", \"2020-05-19T18:30:00\", \"2020-05-19T18:33:00\", \"2020-05-19T18:36:00\", \"2020-05-19T18:39:00\", \"2020-05-19T18:42:00\", \"2020-05-19T18:45:00\", \"2020-05-19T18:48:00\", \"2020-05-19T18:51:00\", \"2020-05-19T18:54:00\", \"2020-05-19T18:57:00\", \"2020-05-19T19:00:00\", \"2020-05-19T19:03:00\", \"2020-05-19T19:06:00\", \"2020-05-19T19:09:00\", \"2020-05-19T19:12:00\", \"2020-05-19T19:15:00\", \"2020-05-19T19:18:00\", \"2020-05-19T19:21:00\", \"2020-05-19T19:24:00\", \"2020-05-19T19:27:00\", \"2020-05-19T19:30:00\", \"2020-05-19T19:33:00\", \"2020-05-19T19:36:00\", \"2020-05-19T19:39:00\", \"2020-05-19T19:42:00\", \"2020-05-19T19:45:00\", \"2020-05-19T19:48:00\", \"2020-05-19T19:51:00\", \"2020-05-19T19:54:00\", \"2020-05-19T19:57:00\", \"2020-05-19T20:00:00\", \"2020-05-19T20:03:00\", \"2020-05-19T20:06:00\", \"2020-05-19T20:09:00\", \"2020-05-19T20:12:00\", \"2020-05-19T20:15:00\", \"2020-05-19T20:18:00\", \"2020-05-19T20:21:00\", \"2020-05-19T20:24:00\", \"2020-05-19T20:27:00\", \"2020-05-19T20:30:00\", \"2020-05-19T20:33:00\", \"2020-05-19T20:36:00\", \"2020-05-19T20:39:00\", \"2020-05-19T20:42:00\", \"2020-05-19T20:45:00\", \"2020-05-19T20:48:00\", \"2020-05-19T20:51:00\", \"2020-05-19T20:54:00\", \"2020-05-19T20:57:00\", \"2020-05-19T21:00:00\", \"2020-05-19T21:03:00\", \"2020-05-19T21:06:00\", \"2020-05-19T21:09:00\", \"2020-05-19T21:12:00\", \"2020-05-19T21:15:00\", \"2020-05-19T21:18:00\", \"2020-05-19T21:21:00\", \"2020-05-19T21:24:00\", \"2020-05-19T21:27:00\", \"2020-05-19T21:30:00\", \"2020-05-19T21:33:00\", \"2020-05-19T21:36:00\", \"2020-05-19T21:39:00\", \"2020-05-19T21:42:00\", \"2020-05-19T21:45:00\", \"2020-05-19T21:48:00\", \"2020-05-19T21:51:00\", \"2020-05-19T21:54:00\", \"2020-05-19T21:57:00\", \"2020-05-19T22:00:00\", \"2020-05-19T22:03:00\", \"2020-05-19T22:06:00\", \"2020-05-19T22:09:00\", \"2020-05-19T22:12:00\", \"2020-05-19T22:15:00\", \"2020-05-19T22:18:00\", \"2020-05-19T22:21:00\", \"2020-05-19T22:24:00\", \"2020-05-19T22:27:00\", \"2020-05-19T22:30:00\", \"2020-05-19T22:33:00\", \"2020-05-19T22:36:00\", \"2020-05-19T22:39:00\", \"2020-05-19T22:42:00\", \"2020-05-19T22:45:00\", \"2020-05-19T22:48:00\", \"2020-05-19T22:51:00\", \"2020-05-19T22:54:00\", \"2020-05-19T22:57:00\", \"2020-05-19T23:00:00\", \"2020-05-19T23:03:00\", \"2020-05-19T23:06:00\", \"2020-05-19T23:09:00\", \"2020-05-19T23:12:00\", \"2020-05-19T23:15:00\", \"2020-05-19T23:18:00\", \"2020-05-19T23:21:00\", \"2020-05-19T23:24:00\", \"2020-05-19T23:27:00\", \"2020-05-19T23:30:00\", \"2020-05-19T23:33:00\", \"2020-05-19T23:36:00\", \"2020-05-19T23:39:00\", \"2020-05-19T23:42:00\", \"2020-05-19T23:45:00\", \"2020-05-19T23:48:00\", \"2020-05-19T23:51:00\", \"2020-05-19T23:54:00\", \"2020-05-19T23:57:00\", \"2020-05-20T00:00:00\", \"2020-05-20T00:03:00\", \"2020-05-20T00:06:00\", \"2020-05-20T00:09:00\", \"2020-05-20T00:12:00\", \"2020-05-20T00:15:00\", \"2020-05-20T00:18:00\", \"2020-05-20T00:21:00\", \"2020-05-20T00:24:00\", \"2020-05-20T00:27:00\", \"2020-05-20T00:30:00\", \"2020-05-20T00:33:00\", \"2020-05-20T00:36:00\", \"2020-05-20T00:39:00\", \"2020-05-20T00:42:00\", \"2020-05-20T00:45:00\", \"2020-05-20T00:48:00\", \"2020-05-20T00:51:00\", \"2020-05-20T00:54:00\", \"2020-05-20T00:57:00\", \"2020-05-20T01:00:00\", \"2020-05-20T01:03:00\", \"2020-05-20T01:06:00\", \"2020-05-20T01:09:00\", \"2020-05-20T01:12:00\", \"2020-05-20T01:15:00\", \"2020-05-20T01:18:00\", \"2020-05-20T01:21:00\", \"2020-05-20T01:24:00\", \"2020-05-20T01:27:00\", \"2020-05-20T01:30:00\", \"2020-05-20T01:33:00\", \"2020-05-20T01:36:00\", \"2020-05-20T01:39:00\", \"2020-05-20T01:42:00\", \"2020-05-20T01:45:00\", \"2020-05-20T01:48:00\", \"2020-05-20T01:51:00\", \"2020-05-20T01:54:00\", \"2020-05-20T01:57:00\", \"2020-05-20T02:00:00\", \"2020-05-20T02:03:00\", \"2020-05-20T02:06:00\", \"2020-05-20T02:09:00\", \"2020-05-20T02:12:00\", \"2020-05-20T02:15:00\", \"2020-05-20T02:18:00\", \"2020-05-20T02:21:00\", \"2020-05-20T02:24:00\", \"2020-05-20T02:27:00\", \"2020-05-20T02:30:00\", \"2020-05-20T02:33:00\", \"2020-05-20T02:36:00\", \"2020-05-20T02:39:00\", \"2020-05-20T02:42:00\", \"2020-05-20T02:45:00\", \"2020-05-20T02:48:00\", \"2020-05-20T02:51:00\", \"2020-05-20T02:54:00\", \"2020-05-20T02:57:00\", \"2020-05-20T03:00:00\", \"2020-05-20T03:03:00\", \"2020-05-20T03:06:00\", \"2020-05-20T03:09:00\", \"2020-05-20T03:12:00\", \"2020-05-20T03:15:00\", \"2020-05-20T03:18:00\", \"2020-05-20T03:21:00\", \"2020-05-20T03:24:00\", \"2020-05-20T03:27:00\", \"2020-05-20T03:30:00\", \"2020-05-20T03:33:00\", \"2020-05-20T03:36:00\", \"2020-05-20T03:39:00\", \"2020-05-20T03:42:00\", \"2020-05-20T03:45:00\", \"2020-05-20T03:48:00\", \"2020-05-20T03:51:00\", \"2020-05-20T03:54:00\", \"2020-05-20T03:57:00\", \"2020-05-20T04:00:00\", \"2020-05-20T04:03:00\", \"2020-05-20T04:06:00\", \"2020-05-20T04:09:00\", \"2020-05-20T04:12:00\", \"2020-05-20T04:15:00\", \"2020-05-20T04:18:00\", \"2020-05-20T04:21:00\", \"2020-05-20T04:24:00\", \"2020-05-20T04:27:00\", \"2020-05-20T04:30:00\", \"2020-05-20T04:33:00\", \"2020-05-20T04:36:00\", \"2020-05-20T04:39:00\", \"2020-05-20T04:42:00\", \"2020-05-20T04:45:00\", \"2020-05-20T04:48:00\", \"2020-05-20T04:51:00\", \"2020-05-20T04:54:00\", \"2020-05-20T04:57:00\", \"2020-05-20T05:00:00\", \"2020-05-20T05:03:00\", \"2020-05-20T05:06:00\", \"2020-05-20T05:09:00\", \"2020-05-20T05:12:00\", \"2020-05-20T05:15:00\", \"2020-05-20T05:18:00\", \"2020-05-20T05:21:00\", \"2020-05-20T05:24:00\", \"2020-05-20T05:27:00\", \"2020-05-20T05:30:00\", \"2020-05-20T05:33:00\", \"2020-05-20T05:36:00\", \"2020-05-20T05:39:00\", \"2020-05-20T05:42:00\", \"2020-05-20T05:45:00\", \"2020-05-20T05:48:00\", \"2020-05-20T05:51:00\", \"2020-05-20T05:54:00\", \"2020-05-20T05:57:00\", \"2020-05-20T06:00:00\", \"2020-05-20T06:03:00\", \"2020-05-20T06:06:00\", \"2020-05-20T06:09:00\", \"2020-05-20T06:12:00\", \"2020-05-20T06:15:00\", \"2020-05-20T06:18:00\", \"2020-05-20T06:21:00\", \"2020-05-20T06:24:00\", \"2020-05-20T06:27:00\", \"2020-05-20T06:30:00\", \"2020-05-20T06:33:00\", \"2020-05-20T06:36:00\", \"2020-05-20T06:39:00\", \"2020-05-20T06:42:00\", \"2020-05-20T06:45:00\", \"2020-05-20T06:48:00\", \"2020-05-20T06:51:00\", \"2020-05-20T06:54:00\", \"2020-05-20T06:57:00\", \"2020-05-20T07:00:00\", \"2020-05-20T07:03:00\", \"2020-05-20T07:06:00\", \"2020-05-20T07:09:00\", \"2020-05-20T07:12:00\", \"2020-05-20T07:15:00\", \"2020-05-20T07:18:00\", \"2020-05-20T07:21:00\", \"2020-05-20T07:24:00\", \"2020-05-20T07:27:00\", \"2020-05-20T07:30:00\", \"2020-05-20T07:33:00\", \"2020-05-20T07:36:00\", \"2020-05-20T07:39:00\", \"2020-05-20T07:42:00\", \"2020-05-20T07:45:00\", \"2020-05-20T07:48:00\", \"2020-05-20T07:51:00\", \"2020-05-20T07:54:00\", \"2020-05-20T07:57:00\", \"2020-05-20T08:00:00\", \"2020-05-20T08:03:00\", \"2020-05-20T08:06:00\", \"2020-05-20T08:09:00\", \"2020-05-20T08:12:00\", \"2020-05-20T08:15:00\", \"2020-05-20T08:18:00\", \"2020-05-20T08:21:00\", \"2020-05-20T08:24:00\", \"2020-05-20T08:27:00\", \"2020-05-20T08:30:00\", \"2020-05-20T08:33:00\", \"2020-05-20T08:36:00\", \"2020-05-20T08:39:00\", \"2020-05-20T08:42:00\", \"2020-05-20T08:45:00\", \"2020-05-20T08:48:00\", \"2020-05-20T08:51:00\", \"2020-05-20T08:54:00\", \"2020-05-20T08:57:00\", \"2020-05-20T09:00:00\", \"2020-05-20T09:03:00\", \"2020-05-20T09:06:00\", \"2020-05-20T09:09:00\", \"2020-05-20T09:12:00\", \"2020-05-20T09:15:00\", \"2020-05-20T09:18:00\", \"2020-05-20T09:21:00\", \"2020-05-20T09:24:00\", \"2020-05-20T09:27:00\", \"2020-05-20T09:30:00\", \"2020-05-20T09:33:00\", \"2020-05-20T09:36:00\", \"2020-05-20T09:39:00\", \"2020-05-20T09:42:00\", \"2020-05-20T09:45:00\", \"2020-05-20T09:48:00\", \"2020-05-20T09:51:00\", \"2020-05-20T09:54:00\", \"2020-05-20T09:57:00\", \"2020-05-20T10:00:00\", \"2020-05-20T10:03:00\", \"2020-05-20T10:06:00\", \"2020-05-20T10:09:00\", \"2020-05-20T10:12:00\", \"2020-05-20T10:15:00\", \"2020-05-20T10:18:00\", \"2020-05-20T10:21:00\", \"2020-05-20T10:24:00\", \"2020-05-20T10:27:00\", \"2020-05-20T10:30:00\", \"2020-05-20T10:33:00\", \"2020-05-20T10:36:00\", \"2020-05-20T10:39:00\", \"2020-05-20T10:42:00\", \"2020-05-20T10:45:00\", \"2020-05-20T10:48:00\", \"2020-05-20T10:51:00\", \"2020-05-20T10:54:00\", \"2020-05-20T10:57:00\", \"2020-05-20T11:00:00\", \"2020-05-20T11:03:00\", \"2020-05-20T11:06:00\", \"2020-05-20T11:09:00\", \"2020-05-20T11:12:00\", \"2020-05-20T11:15:00\", \"2020-05-20T11:18:00\", \"2020-05-20T11:21:00\", \"2020-05-20T11:24:00\", \"2020-05-20T11:27:00\", \"2020-05-20T11:30:00\", \"2020-05-20T11:33:00\", \"2020-05-20T11:36:00\", \"2020-05-20T11:39:00\", \"2020-05-20T11:42:00\", \"2020-05-20T11:45:00\", \"2020-05-20T11:48:00\", \"2020-05-20T11:51:00\", \"2020-05-20T11:54:00\", \"2020-05-20T11:57:00\", \"2020-05-20T12:00:00\", \"2020-05-20T12:03:00\", \"2020-05-20T12:06:00\", \"2020-05-20T12:09:00\", \"2020-05-20T12:12:00\", \"2020-05-20T12:15:00\", \"2020-05-20T12:18:00\", \"2020-05-20T12:21:00\", \"2020-05-20T12:24:00\", \"2020-05-20T12:27:00\", \"2020-05-20T12:30:00\", \"2020-05-20T12:33:00\", \"2020-05-20T12:36:00\", \"2020-05-20T12:39:00\", \"2020-05-20T12:42:00\", \"2020-05-20T12:45:00\", \"2020-05-20T12:48:00\", \"2020-05-20T12:51:00\", \"2020-05-20T12:54:00\", \"2020-05-20T12:57:00\", \"2020-05-20T13:00:00\", \"2020-05-20T13:03:00\", \"2020-05-20T13:06:00\", \"2020-05-20T13:09:00\", \"2020-05-20T13:12:00\", \"2020-05-20T13:15:00\", \"2020-05-20T13:18:00\", \"2020-05-20T13:21:00\", \"2020-05-20T13:24:00\", \"2020-05-20T13:27:00\", \"2020-05-20T13:30:00\", \"2020-05-20T13:33:00\", \"2020-05-20T13:36:00\", \"2020-05-20T13:39:00\", \"2020-05-20T13:42:00\", \"2020-05-20T13:45:00\", \"2020-05-20T13:48:00\", \"2020-05-20T13:51:00\", \"2020-05-20T13:54:00\", \"2020-05-20T13:57:00\", \"2020-05-20T14:00:00\", \"2020-05-20T14:03:00\", \"2020-05-20T14:06:00\", \"2020-05-20T14:09:00\", \"2020-05-20T14:12:00\", \"2020-05-20T14:15:00\", \"2020-05-20T14:18:00\", \"2020-05-20T14:21:00\", \"2020-05-20T14:24:00\", \"2020-05-20T14:27:00\", \"2020-05-20T14:30:00\", \"2020-05-20T14:33:00\", \"2020-05-20T14:36:00\", \"2020-05-20T14:39:00\", \"2020-05-20T14:42:00\", \"2020-05-20T14:45:00\", \"2020-05-20T14:48:00\", \"2020-05-20T14:51:00\", \"2020-05-20T14:54:00\", \"2020-05-20T14:57:00\", \"2020-05-20T15:00:00\", \"2020-05-20T15:03:00\", \"2020-05-20T15:06:00\", \"2020-05-20T15:09:00\", \"2020-05-20T15:12:00\", \"2020-05-20T15:15:00\", \"2020-05-20T15:18:00\", \"2020-05-20T15:21:00\", \"2020-05-20T15:24:00\", \"2020-05-20T15:27:00\", \"2020-05-20T15:30:00\", \"2020-05-20T15:33:00\", \"2020-05-20T15:36:00\", \"2020-05-20T15:39:00\", \"2020-05-20T15:42:00\", \"2020-05-20T15:45:00\", \"2020-05-20T15:48:00\", \"2020-05-20T15:51:00\", \"2020-05-20T15:54:00\", \"2020-05-20T15:57:00\", \"2020-05-20T16:00:00\", \"2020-05-20T16:03:00\", \"2020-05-20T16:06:00\", \"2020-05-20T16:09:00\", \"2020-05-20T16:12:00\", \"2020-05-20T16:15:00\", \"2020-05-20T16:18:00\", \"2020-05-20T16:21:00\", \"2020-05-20T16:24:00\", \"2020-05-20T16:27:00\", \"2020-05-20T16:30:00\", \"2020-05-20T16:33:00\", \"2020-05-20T16:36:00\", \"2020-05-20T16:39:00\", \"2020-05-20T16:42:00\", \"2020-05-20T16:45:00\", \"2020-05-20T16:48:00\", \"2020-05-20T16:51:00\", \"2020-05-20T16:54:00\", \"2020-05-20T16:57:00\", \"2020-05-20T17:00:00\", \"2020-05-20T17:03:00\", \"2020-05-20T17:06:00\", \"2020-05-20T17:09:00\", \"2020-05-20T17:12:00\", \"2020-05-20T17:15:00\", \"2020-05-20T17:18:00\", \"2020-05-20T17:21:00\", \"2020-05-20T17:24:00\", \"2020-05-20T17:27:00\", \"2020-05-20T17:30:00\", \"2020-05-20T17:33:00\", \"2020-05-20T17:36:00\", \"2020-05-20T17:39:00\", \"2020-05-20T17:42:00\", \"2020-05-20T17:45:00\", \"2020-05-20T17:48:00\", \"2020-05-20T17:51:00\", \"2020-05-20T17:54:00\", \"2020-05-20T17:57:00\", \"2020-05-20T18:00:00\", \"2020-05-20T18:03:00\", \"2020-05-20T18:06:00\", \"2020-05-20T18:09:00\", \"2020-05-20T18:12:00\", \"2020-05-20T18:15:00\", \"2020-05-20T18:18:00\", \"2020-05-20T18:21:00\", \"2020-05-20T18:24:00\", \"2020-05-20T18:27:00\", \"2020-05-20T18:30:00\", \"2020-05-20T18:33:00\", \"2020-05-20T18:36:00\", \"2020-05-20T18:39:00\", \"2020-05-20T18:42:00\", \"2020-05-20T18:45:00\", \"2020-05-20T18:48:00\", \"2020-05-20T18:51:00\", \"2020-05-20T18:54:00\", \"2020-05-20T18:57:00\", \"2020-05-20T19:00:00\", \"2020-05-20T19:03:00\", \"2020-05-20T19:06:00\", \"2020-05-20T19:09:00\", \"2020-05-20T19:12:00\", \"2020-05-20T19:15:00\", \"2020-05-20T19:18:00\", \"2020-05-20T19:21:00\", \"2020-05-20T19:24:00\", \"2020-05-20T19:27:00\", \"2020-05-20T19:30:00\", \"2020-05-20T19:33:00\", \"2020-05-20T19:36:00\", \"2020-05-20T19:39:00\", \"2020-05-20T19:42:00\", \"2020-05-20T19:45:00\", \"2020-05-20T19:48:00\", \"2020-05-20T19:51:00\", \"2020-05-20T19:54:00\", \"2020-05-20T19:57:00\", \"2020-05-20T20:00:00\", \"2020-05-20T20:03:00\", \"2020-05-20T20:06:00\", \"2020-05-20T20:09:00\", \"2020-05-20T20:12:00\", \"2020-05-20T20:15:00\", \"2020-05-20T20:18:00\", \"2020-05-20T20:21:00\", \"2020-05-20T20:24:00\", \"2020-05-20T20:27:00\", \"2020-05-20T20:30:00\", \"2020-05-20T20:33:00\", \"2020-05-20T20:36:00\", \"2020-05-20T20:39:00\", \"2020-05-20T20:42:00\", \"2020-05-20T20:45:00\", \"2020-05-20T20:48:00\", \"2020-05-20T20:51:00\", \"2020-05-20T20:54:00\", \"2020-05-20T20:57:00\", \"2020-05-20T21:00:00\", \"2020-05-20T21:03:00\", \"2020-05-20T21:06:00\", \"2020-05-20T21:09:00\", \"2020-05-20T21:12:00\", \"2020-05-20T21:15:00\", \"2020-05-20T21:18:00\", \"2020-05-20T21:21:00\", \"2020-05-20T21:24:00\", \"2020-05-20T21:27:00\", \"2020-05-20T21:30:00\", \"2020-05-20T21:33:00\", \"2020-05-20T21:36:00\", \"2020-05-20T21:39:00\", \"2020-05-20T21:42:00\", \"2020-05-20T21:45:00\", \"2020-05-20T21:48:00\", \"2020-05-20T21:51:00\", \"2020-05-20T21:54:00\", \"2020-05-20T21:57:00\", \"2020-05-20T22:00:00\", \"2020-05-20T22:03:00\", \"2020-05-20T22:06:00\", \"2020-05-20T22:09:00\", \"2020-05-20T22:12:00\", \"2020-05-20T22:15:00\", \"2020-05-20T22:18:00\", \"2020-05-20T22:21:00\", \"2020-05-20T22:24:00\", \"2020-05-20T22:27:00\", \"2020-05-20T22:30:00\", \"2020-05-20T22:33:00\", \"2020-05-20T22:36:00\", \"2020-05-20T22:39:00\", \"2020-05-20T22:42:00\", \"2020-05-20T22:45:00\", \"2020-05-20T22:48:00\", \"2020-05-20T22:51:00\", \"2020-05-20T22:54:00\", \"2020-05-20T22:57:00\", \"2020-05-20T23:00:00\", \"2020-05-20T23:03:00\", \"2020-05-20T23:06:00\", \"2020-05-20T23:09:00\", \"2020-05-20T23:12:00\", \"2020-05-20T23:15:00\", \"2020-05-20T23:18:00\", \"2020-05-20T23:21:00\", \"2020-05-20T23:24:00\", \"2020-05-20T23:27:00\", \"2020-05-20T23:30:00\", \"2020-05-20T23:33:00\", \"2020-05-20T23:36:00\", \"2020-05-20T23:39:00\", \"2020-05-20T23:42:00\", \"2020-05-20T23:45:00\", \"2020-05-20T23:48:00\", \"2020-05-20T23:51:00\", \"2020-05-20T23:54:00\", \"2020-05-20T23:57:00\", \"2020-05-21T00:00:00\", \"2020-05-21T00:03:00\", \"2020-05-21T00:06:00\", \"2020-05-21T00:09:00\", \"2020-05-21T00:12:00\", \"2020-05-21T00:15:00\", \"2020-05-21T00:18:00\", \"2020-05-21T00:21:00\", \"2020-05-21T00:24:00\", \"2020-05-21T00:27:00\", \"2020-05-21T00:30:00\", \"2020-05-21T00:33:00\", \"2020-05-21T00:36:00\", \"2020-05-21T00:39:00\", \"2020-05-21T00:42:00\", \"2020-05-21T00:45:00\", \"2020-05-21T00:48:00\", \"2020-05-21T00:51:00\", \"2020-05-21T00:54:00\", \"2020-05-21T00:57:00\", \"2020-05-21T01:00:00\", \"2020-05-21T01:03:00\", \"2020-05-21T01:06:00\", \"2020-05-21T01:09:00\", \"2020-05-21T01:12:00\", \"2020-05-21T01:15:00\", \"2020-05-21T01:18:00\", \"2020-05-21T01:21:00\", \"2020-05-21T01:24:00\", \"2020-05-21T01:27:00\", \"2020-05-21T01:30:00\", \"2020-05-21T01:33:00\", \"2020-05-21T01:36:00\", \"2020-05-21T01:39:00\", \"2020-05-21T01:42:00\", \"2020-05-21T01:45:00\", \"2020-05-21T01:48:00\", \"2020-05-21T01:51:00\", \"2020-05-21T01:54:00\", \"2020-05-21T01:57:00\", \"2020-05-21T02:00:00\", \"2020-05-21T02:03:00\", \"2020-05-21T02:06:00\", \"2020-05-21T02:09:00\", \"2020-05-21T02:12:00\", \"2020-05-21T02:15:00\", \"2020-05-21T02:18:00\", \"2020-05-21T02:21:00\", \"2020-05-21T02:24:00\", \"2020-05-21T02:27:00\", \"2020-05-21T02:30:00\", \"2020-05-21T02:33:00\", \"2020-05-21T02:36:00\", \"2020-05-21T02:39:00\", \"2020-05-21T02:42:00\", \"2020-05-21T02:45:00\", \"2020-05-21T02:48:00\", \"2020-05-21T02:51:00\", \"2020-05-21T02:54:00\", \"2020-05-21T02:57:00\", \"2020-05-21T03:00:00\", \"2020-05-21T03:03:00\", \"2020-05-21T03:06:00\", \"2020-05-21T03:09:00\", \"2020-05-21T03:12:00\", \"2020-05-21T03:15:00\", \"2020-05-21T03:18:00\", \"2020-05-21T03:21:00\", \"2020-05-21T03:24:00\", \"2020-05-21T03:27:00\", \"2020-05-21T03:30:00\", \"2020-05-21T03:33:00\", \"2020-05-21T03:36:00\", \"2020-05-21T03:39:00\", \"2020-05-21T03:42:00\", \"2020-05-21T03:45:00\", \"2020-05-21T03:48:00\", \"2020-05-21T03:51:00\", \"2020-05-21T03:54:00\", \"2020-05-21T03:57:00\", \"2020-05-21T04:00:00\", \"2020-05-21T04:03:00\", \"2020-05-21T04:06:00\", \"2020-05-21T04:09:00\", \"2020-05-21T04:12:00\", \"2020-05-21T04:15:00\", \"2020-05-21T04:18:00\", \"2020-05-21T04:21:00\", \"2020-05-21T04:24:00\", \"2020-05-21T04:27:00\", \"2020-05-21T04:30:00\", \"2020-05-21T04:33:00\", \"2020-05-21T04:36:00\", \"2020-05-21T04:39:00\", \"2020-05-21T04:42:00\", \"2020-05-21T04:45:00\", \"2020-05-21T04:48:00\", \"2020-05-21T04:51:00\", \"2020-05-21T04:54:00\", \"2020-05-21T04:57:00\", \"2020-05-21T05:00:00\", \"2020-05-21T05:03:00\", \"2020-05-21T05:06:00\", \"2020-05-21T05:09:00\", \"2020-05-21T05:12:00\", \"2020-05-21T05:15:00\", \"2020-05-21T05:18:00\", \"2020-05-21T05:21:00\", \"2020-05-21T05:24:00\", \"2020-05-21T05:27:00\", \"2020-05-21T05:30:00\", \"2020-05-21T05:33:00\", \"2020-05-21T05:36:00\", \"2020-05-21T05:39:00\", \"2020-05-21T05:42:00\", \"2020-05-21T05:45:00\", \"2020-05-21T05:48:00\", \"2020-05-21T05:51:00\", \"2020-05-21T05:54:00\", \"2020-05-21T05:57:00\", \"2020-05-21T06:00:00\", \"2020-05-21T06:03:00\", \"2020-05-21T06:06:00\", \"2020-05-21T06:09:00\", \"2020-05-21T06:12:00\", \"2020-05-21T06:15:00\", \"2020-05-21T06:18:00\", \"2020-05-21T06:21:00\", \"2020-05-21T06:24:00\", \"2020-05-21T06:27:00\", \"2020-05-21T06:30:00\", \"2020-05-21T06:33:00\", \"2020-05-21T06:36:00\", \"2020-05-21T06:39:00\", \"2020-05-21T06:42:00\", \"2020-05-21T06:45:00\", \"2020-05-21T06:48:00\", \"2020-05-21T06:51:00\", \"2020-05-21T06:54:00\", \"2020-05-21T06:57:00\", \"2020-05-21T07:00:00\", \"2020-05-21T07:03:00\", \"2020-05-21T07:06:00\", \"2020-05-21T07:09:00\", \"2020-05-21T07:12:00\", \"2020-05-21T07:15:00\", \"2020-05-21T07:18:00\", \"2020-05-21T07:21:00\", \"2020-05-21T07:24:00\", \"2020-05-21T07:27:00\", \"2020-05-21T07:30:00\", \"2020-05-21T07:33:00\", \"2020-05-21T07:36:00\", \"2020-05-21T07:39:00\", \"2020-05-21T07:42:00\", \"2020-05-21T07:45:00\", \"2020-05-21T07:48:00\", \"2020-05-21T07:51:00\", \"2020-05-21T07:54:00\", \"2020-05-21T07:57:00\", \"2020-05-21T08:00:00\", \"2020-05-21T08:03:00\", \"2020-05-21T08:06:00\", \"2020-05-21T08:09:00\", \"2020-05-21T08:12:00\", \"2020-05-21T08:15:00\", \"2020-05-21T08:18:00\", \"2020-05-21T08:21:00\", \"2020-05-21T08:24:00\", \"2020-05-21T08:27:00\", \"2020-05-21T08:30:00\", \"2020-05-21T08:33:00\", \"2020-05-21T08:36:00\", \"2020-05-21T08:39:00\", \"2020-05-21T08:42:00\", \"2020-05-21T08:45:00\", \"2020-05-21T08:48:00\", \"2020-05-21T08:51:00\", \"2020-05-21T08:54:00\", \"2020-05-21T08:57:00\", \"2020-05-21T09:00:00\", \"2020-05-21T09:03:00\", \"2020-05-21T09:06:00\", \"2020-05-21T09:09:00\", \"2020-05-21T09:12:00\", \"2020-05-21T09:15:00\", \"2020-05-21T09:18:00\", \"2020-05-21T09:21:00\", \"2020-05-21T09:24:00\", \"2020-05-21T09:27:00\", \"2020-05-21T09:30:00\", \"2020-05-21T09:33:00\", \"2020-05-21T09:36:00\", \"2020-05-21T09:39:00\", \"2020-05-21T09:42:00\", \"2020-05-21T09:45:00\", \"2020-05-21T09:48:00\", \"2020-05-21T09:51:00\", \"2020-05-21T09:54:00\", \"2020-05-21T09:57:00\", \"2020-05-21T10:00:00\", \"2020-05-21T10:03:00\", \"2020-05-21T10:06:00\", \"2020-05-21T10:09:00\", \"2020-05-21T10:12:00\", \"2020-05-21T10:15:00\", \"2020-05-21T10:18:00\", \"2020-05-21T10:21:00\", \"2020-05-21T10:24:00\", \"2020-05-21T10:27:00\", \"2020-05-21T10:30:00\", \"2020-05-21T10:33:00\", \"2020-05-21T10:36:00\", \"2020-05-21T10:39:00\", \"2020-05-21T10:42:00\", \"2020-05-21T10:45:00\", \"2020-05-21T10:48:00\", \"2020-05-21T10:51:00\", \"2020-05-21T10:54:00\", \"2020-05-21T10:57:00\", \"2020-05-21T11:00:00\", \"2020-05-21T11:03:00\", \"2020-05-21T11:06:00\", \"2020-05-21T11:09:00\", \"2020-05-21T11:12:00\", \"2020-05-21T11:15:00\", \"2020-05-21T11:18:00\", \"2020-05-21T11:21:00\", \"2020-05-21T11:24:00\", \"2020-05-21T11:27:00\", \"2020-05-21T11:30:00\", \"2020-05-21T11:33:00\", \"2020-05-21T11:36:00\", \"2020-05-21T11:39:00\", \"2020-05-21T11:42:00\", \"2020-05-21T11:45:00\", \"2020-05-21T11:48:00\", \"2020-05-21T11:51:00\", \"2020-05-21T11:54:00\", \"2020-05-21T11:57:00\", \"2020-05-21T12:00:00\", \"2020-05-21T12:03:00\", \"2020-05-21T12:06:00\", \"2020-05-21T12:09:00\", \"2020-05-21T12:12:00\", \"2020-05-21T12:15:00\", \"2020-05-21T12:18:00\", \"2020-05-21T12:21:00\", \"2020-05-21T12:24:00\", \"2020-05-21T12:27:00\", \"2020-05-21T12:30:00\", \"2020-05-21T12:33:00\", \"2020-05-21T12:36:00\", \"2020-05-21T12:39:00\", \"2020-05-21T12:42:00\", \"2020-05-21T12:45:00\", \"2020-05-21T12:48:00\", \"2020-05-21T12:51:00\", \"2020-05-21T12:54:00\", \"2020-05-21T12:57:00\", \"2020-05-21T13:00:00\", \"2020-05-21T13:03:00\", \"2020-05-21T13:06:00\", \"2020-05-21T13:09:00\", \"2020-05-21T13:12:00\", \"2020-05-21T13:15:00\", \"2020-05-21T13:18:00\", \"2020-05-21T13:21:00\", \"2020-05-21T13:24:00\", \"2020-05-21T13:27:00\", \"2020-05-21T13:30:00\", \"2020-05-21T13:33:00\", \"2020-05-21T13:36:00\", \"2020-05-21T13:39:00\", \"2020-05-21T13:42:00\", \"2020-05-21T13:45:00\", \"2020-05-21T13:48:00\", \"2020-05-21T13:51:00\", \"2020-05-21T13:54:00\", \"2020-05-21T13:57:00\", \"2020-05-21T14:00:00\", \"2020-05-21T14:03:00\", \"2020-05-21T14:06:00\", \"2020-05-21T14:09:00\", \"2020-05-21T14:12:00\", \"2020-05-21T14:15:00\", \"2020-05-21T14:18:00\", \"2020-05-21T14:21:00\", \"2020-05-21T14:24:00\", \"2020-05-21T14:27:00\", \"2020-05-21T14:30:00\", \"2020-05-21T14:33:00\", \"2020-05-21T14:36:00\", \"2020-05-21T14:39:00\", \"2020-05-21T14:42:00\", \"2020-05-21T14:45:00\", \"2020-05-21T14:48:00\", \"2020-05-21T14:51:00\", \"2020-05-21T14:54:00\", \"2020-05-21T14:57:00\", \"2020-05-21T15:00:00\", \"2020-05-21T15:03:00\", \"2020-05-21T15:06:00\", \"2020-05-21T15:09:00\", \"2020-05-21T15:12:00\", \"2020-05-21T15:15:00\", \"2020-05-21T15:18:00\", \"2020-05-21T15:21:00\", \"2020-05-21T15:24:00\", \"2020-05-21T15:27:00\", \"2020-05-21T15:30:00\", \"2020-05-21T15:33:00\", \"2020-05-21T15:36:00\", \"2020-05-21T15:39:00\", \"2020-05-21T15:42:00\", \"2020-05-21T15:45:00\", \"2020-05-21T15:48:00\", \"2020-05-21T15:51:00\", \"2020-05-21T15:54:00\", \"2020-05-21T15:57:00\", \"2020-05-21T16:00:00\", \"2020-05-21T16:03:00\", \"2020-05-21T16:06:00\", \"2020-05-21T16:09:00\", \"2020-05-21T16:12:00\", \"2020-05-21T16:15:00\", \"2020-05-21T16:18:00\", \"2020-05-21T16:21:00\", \"2020-05-21T16:24:00\", \"2020-05-21T16:27:00\", \"2020-05-21T16:30:00\", \"2020-05-21T16:33:00\", \"2020-05-21T16:36:00\", \"2020-05-21T16:39:00\", \"2020-05-21T16:42:00\", \"2020-05-21T16:45:00\", \"2020-05-21T16:48:00\", \"2020-05-21T16:51:00\", \"2020-05-21T16:54:00\", \"2020-05-21T16:57:00\", \"2020-05-21T17:00:00\", \"2020-05-21T17:03:00\", \"2020-05-21T17:06:00\", \"2020-05-21T17:09:00\", \"2020-05-21T17:12:00\", \"2020-05-21T17:15:00\", \"2020-05-21T17:18:00\", \"2020-05-21T17:21:00\", \"2020-05-21T17:24:00\", \"2020-05-21T17:27:00\", \"2020-05-21T17:30:00\", \"2020-05-21T17:33:00\", \"2020-05-21T17:36:00\", \"2020-05-21T17:39:00\", \"2020-05-21T17:42:00\", \"2020-05-21T17:45:00\", \"2020-05-21T17:48:00\", \"2020-05-21T17:51:00\", \"2020-05-21T17:54:00\", \"2020-05-21T17:57:00\", \"2020-05-21T18:00:00\", \"2020-05-21T18:03:00\", \"2020-05-21T18:06:00\", \"2020-05-21T18:09:00\", \"2020-05-21T18:12:00\", \"2020-05-21T18:15:00\", \"2020-05-21T18:18:00\", \"2020-05-21T18:21:00\", \"2020-05-21T18:24:00\", \"2020-05-21T18:27:00\", \"2020-05-21T18:30:00\", \"2020-05-21T18:33:00\", \"2020-05-21T18:36:00\", \"2020-05-21T18:39:00\", \"2020-05-21T18:42:00\", \"2020-05-21T18:45:00\", \"2020-05-21T18:48:00\", \"2020-05-21T18:51:00\", \"2020-05-21T18:54:00\", \"2020-05-21T18:57:00\", \"2020-05-21T19:00:00\", \"2020-05-21T19:03:00\", \"2020-05-21T19:06:00\", \"2020-05-21T19:09:00\", \"2020-05-21T19:12:00\", \"2020-05-21T19:15:00\", \"2020-05-21T19:18:00\", \"2020-05-21T19:21:00\", \"2020-05-21T19:24:00\", \"2020-05-21T19:27:00\", \"2020-05-21T19:30:00\", \"2020-05-21T19:33:00\", \"2020-05-21T19:36:00\", \"2020-05-21T19:39:00\", \"2020-05-21T19:42:00\", \"2020-05-21T19:45:00\", \"2020-05-21T19:48:00\", \"2020-05-21T19:51:00\", \"2020-05-21T19:54:00\", \"2020-05-21T19:57:00\", \"2020-05-21T20:00:00\", \"2020-05-21T20:03:00\", \"2020-05-21T20:06:00\", \"2020-05-21T20:09:00\", \"2020-05-21T20:12:00\", \"2020-05-21T20:15:00\", \"2020-05-21T20:18:00\", \"2020-05-21T20:21:00\", \"2020-05-21T20:24:00\", \"2020-05-21T20:27:00\", \"2020-05-21T20:30:00\", \"2020-05-21T20:33:00\", \"2020-05-21T20:36:00\", \"2020-05-21T20:39:00\", \"2020-05-21T20:42:00\", \"2020-05-21T20:45:00\", \"2020-05-21T20:48:00\", \"2020-05-21T20:51:00\", \"2020-05-21T20:54:00\", \"2020-05-21T20:57:00\", \"2020-05-21T21:00:00\", \"2020-05-21T21:03:00\", \"2020-05-21T21:06:00\", \"2020-05-21T21:09:00\", \"2020-05-21T21:12:00\", \"2020-05-21T21:15:00\", \"2020-05-21T21:18:00\", \"2020-05-21T21:21:00\", \"2020-05-21T21:24:00\", \"2020-05-21T21:27:00\", \"2020-05-21T21:30:00\", \"2020-05-21T21:33:00\", \"2020-05-21T21:36:00\", \"2020-05-21T21:39:00\", \"2020-05-21T21:42:00\", \"2020-05-21T21:45:00\", \"2020-05-21T21:48:00\", \"2020-05-21T21:51:00\", \"2020-05-21T21:54:00\", \"2020-05-21T21:57:00\", \"2020-05-21T22:00:00\", \"2020-05-21T22:03:00\", \"2020-05-21T22:06:00\", \"2020-05-21T22:09:00\", \"2020-05-21T22:12:00\", \"2020-05-21T22:15:00\", \"2020-05-21T22:18:00\", \"2020-05-21T22:21:00\", \"2020-05-21T22:24:00\", \"2020-05-21T22:27:00\", \"2020-05-21T22:30:00\", \"2020-05-21T22:33:00\", \"2020-05-21T22:36:00\", \"2020-05-21T22:39:00\", \"2020-05-21T22:42:00\", \"2020-05-21T22:45:00\", \"2020-05-21T22:48:00\", \"2020-05-21T22:51:00\", \"2020-05-21T22:54:00\", \"2020-05-21T22:57:00\", \"2020-05-21T23:00:00\", \"2020-05-21T23:03:00\", \"2020-05-21T23:06:00\", \"2020-05-21T23:09:00\", \"2020-05-21T23:12:00\", \"2020-05-21T23:15:00\", \"2020-05-21T23:18:00\", \"2020-05-21T23:21:00\", \"2020-05-21T23:24:00\", \"2020-05-21T23:27:00\", \"2020-05-21T23:30:00\", \"2020-05-21T23:33:00\", \"2020-05-21T23:36:00\", \"2020-05-21T23:39:00\", \"2020-05-21T23:42:00\", \"2020-05-21T23:45:00\", \"2020-05-21T23:48:00\", \"2020-05-21T23:51:00\", \"2020-05-21T23:54:00\", \"2020-05-21T23:57:00\", \"2020-05-22T00:00:00\", \"2020-05-22T00:03:00\", \"2020-05-22T00:06:00\", \"2020-05-22T00:09:00\", \"2020-05-22T00:12:00\", \"2020-05-22T00:15:00\", \"2020-05-22T00:18:00\", \"2020-05-22T00:21:00\", \"2020-05-22T00:24:00\", \"2020-05-22T00:27:00\", \"2020-05-22T00:30:00\", \"2020-05-22T00:33:00\", \"2020-05-22T00:36:00\", \"2020-05-22T00:39:00\", \"2020-05-22T00:42:00\", \"2020-05-22T00:45:00\", \"2020-05-22T00:48:00\", \"2020-05-22T00:51:00\", \"2020-05-22T00:54:00\", \"2020-05-22T00:57:00\", \"2020-05-22T01:00:00\", \"2020-05-22T01:03:00\", \"2020-05-22T01:06:00\", \"2020-05-22T01:09:00\", \"2020-05-22T01:12:00\", \"2020-05-22T01:15:00\", \"2020-05-22T01:18:00\", \"2020-05-22T01:21:00\", \"2020-05-22T01:24:00\", \"2020-05-22T01:27:00\", \"2020-05-22T01:30:00\", \"2020-05-22T01:33:00\", \"2020-05-22T01:36:00\", \"2020-05-22T01:39:00\", \"2020-05-22T01:42:00\", \"2020-05-22T01:45:00\", \"2020-05-22T01:48:00\", \"2020-05-22T01:51:00\", \"2020-05-22T01:54:00\", \"2020-05-22T01:57:00\", \"2020-05-22T02:00:00\", \"2020-05-22T02:03:00\", \"2020-05-22T02:06:00\", \"2020-05-22T02:09:00\", \"2020-05-22T02:12:00\", \"2020-05-22T02:15:00\", \"2020-05-22T02:18:00\", \"2020-05-22T02:21:00\", \"2020-05-22T02:24:00\", \"2020-05-22T02:27:00\", \"2020-05-22T02:30:00\", \"2020-05-22T02:33:00\", \"2020-05-22T02:36:00\", \"2020-05-22T02:39:00\", \"2020-05-22T02:42:00\", \"2020-05-22T02:45:00\", \"2020-05-22T02:48:00\", \"2020-05-22T02:51:00\", \"2020-05-22T02:54:00\", \"2020-05-22T02:57:00\", \"2020-05-22T03:00:00\", \"2020-05-22T03:03:00\", \"2020-05-22T03:06:00\", \"2020-05-22T03:09:00\", \"2020-05-22T03:12:00\", \"2020-05-22T03:15:00\", \"2020-05-22T03:18:00\", \"2020-05-22T03:21:00\", \"2020-05-22T03:24:00\", \"2020-05-22T03:27:00\", \"2020-05-22T03:30:00\", \"2020-05-22T03:33:00\", \"2020-05-22T03:36:00\", \"2020-05-22T03:39:00\", \"2020-05-22T03:42:00\", \"2020-05-22T03:45:00\", \"2020-05-22T03:48:00\", \"2020-05-22T03:51:00\", \"2020-05-22T03:54:00\", \"2020-05-22T03:57:00\", \"2020-05-22T04:00:00\", \"2020-05-22T04:03:00\", \"2020-05-22T04:06:00\", \"2020-05-22T04:09:00\", \"2020-05-22T04:12:00\", \"2020-05-22T04:15:00\", \"2020-05-22T04:18:00\", \"2020-05-22T04:21:00\", \"2020-05-22T04:24:00\", \"2020-05-22T04:27:00\", \"2020-05-22T04:30:00\", \"2020-05-22T04:33:00\", \"2020-05-22T04:36:00\", \"2020-05-22T04:39:00\", \"2020-05-22T04:42:00\", \"2020-05-22T04:45:00\", \"2020-05-22T04:48:00\", \"2020-05-22T04:51:00\", \"2020-05-22T04:54:00\", \"2020-05-22T04:57:00\", \"2020-05-22T05:00:00\", \"2020-05-22T05:03:00\", \"2020-05-22T05:06:00\", \"2020-05-22T05:09:00\", \"2020-05-22T05:12:00\", \"2020-05-22T05:15:00\", \"2020-05-22T05:18:00\", \"2020-05-22T05:21:00\", \"2020-05-22T05:24:00\", \"2020-05-22T05:27:00\", \"2020-05-22T05:30:00\", \"2020-05-22T05:33:00\", \"2020-05-22T05:36:00\", \"2020-05-22T05:39:00\", \"2020-05-22T05:42:00\", \"2020-05-22T05:45:00\", \"2020-05-22T05:48:00\", \"2020-05-22T05:51:00\", \"2020-05-22T05:54:00\", \"2020-05-22T05:57:00\", \"2020-05-22T06:00:00\", \"2020-05-22T06:03:00\", \"2020-05-22T06:06:00\", \"2020-05-22T06:09:00\", \"2020-05-22T06:12:00\", \"2020-05-22T06:15:00\", \"2020-05-22T06:18:00\", \"2020-05-22T06:21:00\", \"2020-05-22T06:24:00\", \"2020-05-22T06:27:00\", \"2020-05-22T06:30:00\", \"2020-05-22T06:33:00\", \"2020-05-22T06:36:00\", \"2020-05-22T06:39:00\", \"2020-05-22T06:42:00\", \"2020-05-22T06:45:00\", \"2020-05-22T06:48:00\", \"2020-05-22T06:51:00\", \"2020-05-22T06:54:00\", \"2020-05-22T06:57:00\", \"2020-05-22T07:00:00\", \"2020-05-22T07:03:00\", \"2020-05-22T07:06:00\", \"2020-05-22T07:09:00\", \"2020-05-22T07:12:00\", \"2020-05-22T07:15:00\", \"2020-05-22T07:18:00\", \"2020-05-22T07:21:00\", \"2020-05-22T07:24:00\", \"2020-05-22T07:27:00\", \"2020-05-22T07:30:00\", \"2020-05-22T07:33:00\", \"2020-05-22T07:36:00\", \"2020-05-22T07:39:00\", \"2020-05-22T07:42:00\", \"2020-05-22T07:45:00\", \"2020-05-22T07:48:00\", \"2020-05-22T07:51:00\", \"2020-05-22T07:54:00\", \"2020-05-22T07:57:00\", \"2020-05-22T08:00:00\", \"2020-05-22T08:03:00\", \"2020-05-22T08:06:00\", \"2020-05-22T08:09:00\", \"2020-05-22T08:12:00\", \"2020-05-22T08:15:00\", \"2020-05-22T08:18:00\", \"2020-05-22T08:21:00\", \"2020-05-22T08:24:00\", \"2020-05-22T08:27:00\", \"2020-05-22T08:30:00\", \"2020-05-22T08:33:00\", \"2020-05-22T08:36:00\", \"2020-05-22T08:39:00\", \"2020-05-22T08:42:00\", \"2020-05-22T08:45:00\", \"2020-05-22T08:48:00\", \"2020-05-22T08:51:00\", \"2020-05-22T08:54:00\", \"2020-05-22T08:57:00\", \"2020-05-22T09:00:00\", \"2020-05-22T09:03:00\", \"2020-05-22T09:06:00\", \"2020-05-22T09:09:00\", \"2020-05-22T09:12:00\", \"2020-05-22T09:15:00\", \"2020-05-22T09:18:00\", \"2020-05-22T09:21:00\", \"2020-05-22T09:24:00\", \"2020-05-22T09:27:00\", \"2020-05-22T09:30:00\", \"2020-05-22T09:33:00\", \"2020-05-22T09:36:00\", \"2020-05-22T09:39:00\", \"2020-05-22T09:42:00\", \"2020-05-22T09:45:00\", \"2020-05-22T09:48:00\", \"2020-05-22T09:51:00\", \"2020-05-22T09:54:00\", \"2020-05-22T09:57:00\", \"2020-05-22T10:00:00\", \"2020-05-22T10:03:00\", \"2020-05-22T10:06:00\", \"2020-05-22T10:09:00\", \"2020-05-22T10:12:00\", \"2020-05-22T10:15:00\", \"2020-05-22T10:18:00\", \"2020-05-22T10:21:00\", \"2020-05-22T10:24:00\", \"2020-05-22T10:27:00\", \"2020-05-22T10:30:00\", \"2020-05-22T10:33:00\", \"2020-05-22T10:36:00\", \"2020-05-22T10:39:00\", \"2020-05-22T10:42:00\", \"2020-05-22T10:45:00\", \"2020-05-22T10:48:00\", \"2020-05-22T10:51:00\", \"2020-05-22T10:54:00\", \"2020-05-22T10:57:00\", \"2020-05-22T11:00:00\", \"2020-05-22T11:03:00\", \"2020-05-22T11:06:00\", \"2020-05-22T11:09:00\", \"2020-05-22T11:12:00\", \"2020-05-22T11:15:00\", \"2020-05-22T11:18:00\", \"2020-05-22T11:21:00\", \"2020-05-22T11:24:00\", \"2020-05-22T11:27:00\", \"2020-05-22T11:30:00\", \"2020-05-22T11:33:00\", \"2020-05-22T11:36:00\", \"2020-05-22T11:39:00\", \"2020-05-22T11:42:00\", \"2020-05-22T11:45:00\", \"2020-05-22T11:48:00\", \"2020-05-22T11:51:00\", \"2020-05-22T11:54:00\", \"2020-05-22T11:57:00\", \"2020-05-22T12:00:00\", \"2020-05-22T12:03:00\", \"2020-05-22T12:06:00\", \"2020-05-22T12:09:00\", \"2020-05-22T12:12:00\", \"2020-05-22T12:15:00\", \"2020-05-22T12:18:00\", \"2020-05-22T12:21:00\", \"2020-05-22T12:24:00\", \"2020-05-22T12:27:00\", \"2020-05-22T12:30:00\", \"2020-05-22T12:33:00\", \"2020-05-22T12:36:00\", \"2020-05-22T12:39:00\", \"2020-05-22T12:42:00\", \"2020-05-22T12:45:00\", \"2020-05-22T12:48:00\", \"2020-05-22T12:51:00\", \"2020-05-22T12:54:00\", \"2020-05-22T12:57:00\", \"2020-05-22T13:00:00\", \"2020-05-22T13:03:00\", \"2020-05-22T13:06:00\", \"2020-05-22T13:09:00\", \"2020-05-22T13:12:00\", \"2020-05-22T13:15:00\", \"2020-05-22T13:18:00\", \"2020-05-22T13:21:00\", \"2020-05-22T13:24:00\", \"2020-05-22T13:27:00\", \"2020-05-22T13:30:00\", \"2020-05-22T13:33:00\", \"2020-05-22T13:36:00\", \"2020-05-22T13:39:00\", \"2020-05-22T13:42:00\", \"2020-05-22T13:45:00\", \"2020-05-22T13:48:00\", \"2020-05-22T13:51:00\", \"2020-05-22T13:54:00\", \"2020-05-22T13:57:00\", \"2020-05-22T14:00:00\", \"2020-05-22T14:03:00\", \"2020-05-22T14:06:00\", \"2020-05-22T14:09:00\", \"2020-05-22T14:12:00\", \"2020-05-22T14:15:00\", \"2020-05-22T14:18:00\", \"2020-05-22T14:21:00\", \"2020-05-22T14:24:00\", \"2020-05-22T14:27:00\", \"2020-05-22T14:30:00\", \"2020-05-22T14:33:00\", \"2020-05-22T14:36:00\", \"2020-05-22T14:39:00\", \"2020-05-22T14:42:00\", \"2020-05-22T14:45:00\", \"2020-05-22T14:48:00\", \"2020-05-22T14:51:00\", \"2020-05-22T14:54:00\", \"2020-05-22T14:57:00\", \"2020-05-22T15:00:00\", \"2020-05-22T15:03:00\", \"2020-05-22T15:06:00\", \"2020-05-22T15:09:00\", \"2020-05-22T15:12:00\", \"2020-05-22T15:15:00\", \"2020-05-22T15:18:00\", \"2020-05-22T15:21:00\", \"2020-05-22T15:24:00\", \"2020-05-22T15:27:00\", \"2020-05-22T15:30:00\", \"2020-05-22T15:33:00\", \"2020-05-22T15:36:00\", \"2020-05-22T15:39:00\", \"2020-05-22T15:42:00\", \"2020-05-22T15:45:00\", \"2020-05-22T15:48:00\", \"2020-05-22T15:51:00\", \"2020-05-22T15:54:00\", \"2020-05-22T15:57:00\", \"2020-05-22T16:00:00\", \"2020-05-22T16:03:00\", \"2020-05-22T16:06:00\", \"2020-05-22T16:09:00\", \"2020-05-22T16:12:00\", \"2020-05-22T16:15:00\", \"2020-05-22T16:18:00\", \"2020-05-22T16:21:00\", \"2020-05-22T16:24:00\", \"2020-05-22T16:27:00\", \"2020-05-22T16:30:00\", \"2020-05-22T16:33:00\", \"2020-05-22T16:36:00\", \"2020-05-22T16:39:00\", \"2020-05-22T16:42:00\", \"2020-05-22T16:45:00\", \"2020-05-22T16:48:00\", \"2020-05-22T16:51:00\", \"2020-05-22T16:54:00\", \"2020-05-22T16:57:00\", \"2020-05-22T17:00:00\", \"2020-05-22T17:03:00\", \"2020-05-22T17:06:00\", \"2020-05-22T17:09:00\", \"2020-05-22T17:12:00\", \"2020-05-22T17:15:00\", \"2020-05-22T17:18:00\", \"2020-05-22T17:21:00\", \"2020-05-22T17:24:00\", \"2020-05-22T17:27:00\", \"2020-05-22T17:30:00\", \"2020-05-22T17:33:00\", \"2020-05-22T17:36:00\", \"2020-05-22T17:39:00\", \"2020-05-22T17:42:00\", \"2020-05-22T17:45:00\", \"2020-05-22T17:48:00\", \"2020-05-22T17:51:00\", \"2020-05-22T17:54:00\", \"2020-05-22T17:57:00\", \"2020-05-22T18:00:00\", \"2020-05-22T18:03:00\", \"2020-05-22T18:06:00\", \"2020-05-22T18:09:00\", \"2020-05-22T18:12:00\", \"2020-05-22T18:15:00\", \"2020-05-22T18:18:00\", \"2020-05-22T18:21:00\", \"2020-05-22T18:24:00\", \"2020-05-22T18:27:00\", \"2020-05-22T18:30:00\", \"2020-05-22T18:33:00\", \"2020-05-22T18:36:00\", \"2020-05-22T18:39:00\", \"2020-05-22T18:42:00\", \"2020-05-22T18:45:00\", \"2020-05-22T18:48:00\", \"2020-05-22T18:51:00\", \"2020-05-22T18:54:00\", \"2020-05-22T18:57:00\", \"2020-05-22T19:00:00\", \"2020-05-22T19:03:00\", \"2020-05-22T19:06:00\", \"2020-05-22T19:09:00\", \"2020-05-22T19:12:00\", \"2020-05-22T19:15:00\", \"2020-05-22T19:18:00\", \"2020-05-22T19:21:00\", \"2020-05-22T19:24:00\", \"2020-05-22T19:27:00\", \"2020-05-22T19:30:00\", \"2020-05-22T19:33:00\", \"2020-05-22T19:36:00\", \"2020-05-22T19:39:00\", \"2020-05-22T19:42:00\", \"2020-05-22T19:45:00\", \"2020-05-22T19:48:00\", \"2020-05-22T19:51:00\", \"2020-05-22T19:54:00\", \"2020-05-22T19:57:00\", \"2020-05-22T20:00:00\", \"2020-05-22T20:03:00\", \"2020-05-22T20:06:00\", \"2020-05-22T20:09:00\", \"2020-05-22T20:12:00\", \"2020-05-22T20:15:00\", \"2020-05-22T20:18:00\", \"2020-05-22T20:21:00\", \"2020-05-22T20:24:00\", \"2020-05-22T20:27:00\", \"2020-05-22T20:30:00\", \"2020-05-22T20:33:00\", \"2020-05-22T20:36:00\", \"2020-05-22T20:39:00\", \"2020-05-22T20:42:00\", \"2020-05-22T20:45:00\", \"2020-05-22T20:48:00\", \"2020-05-22T20:51:00\", \"2020-05-22T20:54:00\", \"2020-05-22T20:57:00\", \"2020-05-22T21:00:00\", \"2020-05-22T21:03:00\", \"2020-05-22T21:06:00\", \"2020-05-22T21:09:00\", \"2020-05-22T21:12:00\", \"2020-05-22T21:15:00\", \"2020-05-22T21:18:00\", \"2020-05-22T21:21:00\", \"2020-05-22T21:24:00\", \"2020-05-22T21:27:00\", \"2020-05-22T21:30:00\", \"2020-05-22T21:33:00\", \"2020-05-22T21:36:00\", \"2020-05-22T21:39:00\", \"2020-05-22T21:42:00\", \"2020-05-22T21:45:00\", \"2020-05-22T21:48:00\", \"2020-05-22T21:51:00\", \"2020-05-22T21:54:00\", \"2020-05-22T21:57:00\", \"2020-05-22T22:00:00\", \"2020-05-22T22:03:00\", \"2020-05-22T22:06:00\", \"2020-05-22T22:09:00\", \"2020-05-22T22:12:00\", \"2020-05-22T22:15:00\", \"2020-05-22T22:18:00\", \"2020-05-22T22:21:00\", \"2020-05-22T22:24:00\", \"2020-05-22T22:27:00\", \"2020-05-22T22:30:00\", \"2020-05-22T22:33:00\", \"2020-05-22T22:36:00\", \"2020-05-22T22:39:00\", \"2020-05-22T22:42:00\", \"2020-05-22T22:45:00\", \"2020-05-22T22:48:00\", \"2020-05-22T22:51:00\", \"2020-05-22T22:54:00\", \"2020-05-22T22:57:00\", \"2020-05-22T23:00:00\", \"2020-05-22T23:03:00\", \"2020-05-22T23:06:00\", \"2020-05-22T23:09:00\", \"2020-05-22T23:12:00\", \"2020-05-22T23:15:00\", \"2020-05-22T23:18:00\", \"2020-05-22T23:21:00\", \"2020-05-22T23:24:00\", \"2020-05-22T23:27:00\", \"2020-05-22T23:30:00\", \"2020-05-22T23:33:00\", \"2020-05-22T23:36:00\", \"2020-05-22T23:39:00\", \"2020-05-22T23:42:00\", \"2020-05-22T23:45:00\", \"2020-05-22T23:48:00\", \"2020-05-22T23:51:00\", \"2020-05-22T23:54:00\", \"2020-05-22T23:57:00\", \"2020-05-23T00:00:00\", \"2020-05-23T00:03:00\", \"2020-05-23T00:06:00\", \"2020-05-23T00:09:00\", \"2020-05-23T00:12:00\", \"2020-05-23T00:15:00\", \"2020-05-23T00:18:00\", \"2020-05-23T00:21:00\", \"2020-05-23T00:24:00\", \"2020-05-23T00:27:00\", \"2020-05-23T00:30:00\", \"2020-05-23T00:33:00\", \"2020-05-23T00:36:00\", \"2020-05-23T00:39:00\", \"2020-05-23T00:42:00\", \"2020-05-23T00:45:00\", \"2020-05-23T00:48:00\", \"2020-05-23T00:51:00\", \"2020-05-23T00:54:00\", \"2020-05-23T00:57:00\", \"2020-05-23T01:00:00\", \"2020-05-23T01:03:00\", \"2020-05-23T01:06:00\", \"2020-05-23T01:09:00\", \"2020-05-23T01:12:00\", \"2020-05-23T01:15:00\", \"2020-05-23T01:18:00\", \"2020-05-23T01:21:00\", \"2020-05-23T01:24:00\", \"2020-05-23T01:27:00\", \"2020-05-23T01:30:00\", \"2020-05-23T01:33:00\", \"2020-05-23T01:36:00\", \"2020-05-23T01:39:00\", \"2020-05-23T01:42:00\", \"2020-05-23T01:45:00\", \"2020-05-23T01:48:00\", \"2020-05-23T01:51:00\", \"2020-05-23T01:54:00\", \"2020-05-23T01:57:00\", \"2020-05-23T02:00:00\", \"2020-05-23T02:03:00\", \"2020-05-23T02:06:00\", \"2020-05-23T02:09:00\", \"2020-05-23T02:12:00\", \"2020-05-23T02:15:00\", \"2020-05-23T02:18:00\", \"2020-05-23T02:21:00\", \"2020-05-23T02:24:00\", \"2020-05-23T02:27:00\", \"2020-05-23T02:30:00\", \"2020-05-23T02:33:00\", \"2020-05-23T02:36:00\", \"2020-05-23T02:39:00\", \"2020-05-23T02:42:00\", \"2020-05-23T02:45:00\", \"2020-05-23T02:48:00\", \"2020-05-23T02:51:00\", \"2020-05-23T02:54:00\", \"2020-05-23T02:57:00\", \"2020-05-23T03:00:00\", \"2020-05-23T03:03:00\", \"2020-05-23T03:06:00\", \"2020-05-23T03:09:00\", \"2020-05-23T03:12:00\", \"2020-05-23T03:15:00\", \"2020-05-23T03:18:00\", \"2020-05-23T03:21:00\", \"2020-05-23T03:24:00\", \"2020-05-23T03:27:00\", \"2020-05-23T03:30:00\", \"2020-05-23T03:33:00\", \"2020-05-23T03:36:00\", \"2020-05-23T03:39:00\", \"2020-05-23T03:42:00\", \"2020-05-23T03:45:00\", \"2020-05-23T03:48:00\", \"2020-05-23T03:51:00\", \"2020-05-23T03:54:00\", \"2020-05-23T03:57:00\", \"2020-05-23T04:00:00\", \"2020-05-23T04:03:00\", \"2020-05-23T04:06:00\", \"2020-05-23T04:09:00\", \"2020-05-23T04:12:00\", \"2020-05-23T04:15:00\", \"2020-05-23T04:18:00\", \"2020-05-23T04:21:00\", \"2020-05-23T04:24:00\", \"2020-05-23T04:27:00\", \"2020-05-23T04:30:00\", \"2020-05-23T04:33:00\", \"2020-05-23T04:36:00\", \"2020-05-23T04:39:00\", \"2020-05-23T04:42:00\", \"2020-05-23T04:45:00\", \"2020-05-23T04:48:00\", \"2020-05-23T04:51:00\", \"2020-05-23T04:54:00\", \"2020-05-23T04:57:00\", \"2020-05-23T05:00:00\", \"2020-05-23T05:03:00\", \"2020-05-23T05:06:00\", \"2020-05-23T05:09:00\", \"2020-05-23T05:12:00\", \"2020-05-23T05:15:00\", \"2020-05-23T05:18:00\", \"2020-05-23T05:21:00\", \"2020-05-23T05:24:00\", \"2020-05-23T05:27:00\", \"2020-05-23T05:30:00\", \"2020-05-23T05:33:00\", \"2020-05-23T05:36:00\", \"2020-05-23T05:39:00\", \"2020-05-23T05:42:00\", \"2020-05-23T05:45:00\", \"2020-05-23T05:48:00\", \"2020-05-23T05:51:00\", \"2020-05-23T05:54:00\", \"2020-05-23T05:57:00\", \"2020-05-23T06:00:00\", \"2020-05-23T06:03:00\", \"2020-05-23T06:06:00\", \"2020-05-23T06:09:00\", \"2020-05-23T06:12:00\", \"2020-05-23T06:15:00\", \"2020-05-23T06:18:00\", \"2020-05-23T06:21:00\", \"2020-05-23T06:24:00\", \"2020-05-23T06:27:00\", \"2020-05-23T06:30:00\", \"2020-05-23T06:33:00\", \"2020-05-23T06:36:00\", \"2020-05-23T06:39:00\", \"2020-05-23T06:42:00\", \"2020-05-23T06:45:00\", \"2020-05-23T06:48:00\", \"2020-05-23T06:51:00\", \"2020-05-23T06:54:00\", \"2020-05-23T06:57:00\", \"2020-05-23T07:00:00\", \"2020-05-23T07:03:00\", \"2020-05-23T07:06:00\", \"2020-05-23T07:09:00\", \"2020-05-23T07:12:00\", \"2020-05-23T07:15:00\", \"2020-05-23T07:18:00\", \"2020-05-23T07:21:00\", \"2020-05-23T07:24:00\", \"2020-05-23T07:27:00\", \"2020-05-23T07:30:00\", \"2020-05-23T07:33:00\", \"2020-05-23T07:36:00\", \"2020-05-23T07:39:00\", \"2020-05-23T07:42:00\", \"2020-05-23T07:45:00\", \"2020-05-23T07:48:00\", \"2020-05-23T07:51:00\", \"2020-05-23T07:54:00\", \"2020-05-23T07:57:00\", \"2020-05-23T08:00:00\", \"2020-05-23T08:03:00\", \"2020-05-23T08:06:00\", \"2020-05-23T08:09:00\", \"2020-05-23T08:12:00\", \"2020-05-23T08:15:00\", \"2020-05-23T08:18:00\", \"2020-05-23T08:21:00\", \"2020-05-23T08:24:00\", \"2020-05-23T08:27:00\", \"2020-05-23T08:30:00\", \"2020-05-23T08:33:00\", \"2020-05-23T08:36:00\", \"2020-05-23T08:39:00\", \"2020-05-23T08:42:00\", \"2020-05-23T08:45:00\", \"2020-05-23T08:48:00\", \"2020-05-23T08:51:00\", \"2020-05-23T08:54:00\", \"2020-05-23T08:57:00\", \"2020-05-23T09:00:00\", \"2020-05-23T09:03:00\", \"2020-05-23T09:06:00\", \"2020-05-23T09:09:00\", \"2020-05-23T09:12:00\", \"2020-05-23T09:15:00\", \"2020-05-23T09:18:00\", \"2020-05-23T09:21:00\", \"2020-05-23T09:24:00\", \"2020-05-23T09:27:00\", \"2020-05-23T09:30:00\", \"2020-05-23T09:33:00\", \"2020-05-23T09:36:00\", \"2020-05-23T09:39:00\", \"2020-05-23T09:42:00\", \"2020-05-23T09:45:00\", \"2020-05-23T09:48:00\", \"2020-05-23T09:51:00\", \"2020-05-23T09:54:00\", \"2020-05-23T09:57:00\", \"2020-05-23T10:00:00\", \"2020-05-23T10:03:00\", \"2020-05-23T10:06:00\", \"2020-05-23T10:09:00\", \"2020-05-23T10:12:00\", \"2020-05-23T10:15:00\", \"2020-05-23T10:18:00\", \"2020-05-23T10:21:00\", \"2020-05-23T10:24:00\", \"2020-05-23T10:27:00\", \"2020-05-23T10:30:00\", \"2020-05-23T10:33:00\", \"2020-05-23T10:36:00\", \"2020-05-23T10:39:00\", \"2020-05-23T10:42:00\", \"2020-05-23T10:45:00\", \"2020-05-23T10:48:00\", \"2020-05-23T10:51:00\", \"2020-05-23T10:54:00\", \"2020-05-23T10:57:00\", \"2020-05-23T11:00:00\", \"2020-05-23T11:03:00\", \"2020-05-23T11:06:00\", \"2020-05-23T11:09:00\", \"2020-05-23T11:12:00\", \"2020-05-23T11:15:00\", \"2020-05-23T11:18:00\", \"2020-05-23T11:21:00\", \"2020-05-23T11:24:00\", \"2020-05-23T11:27:00\", \"2020-05-23T11:30:00\", \"2020-05-23T11:33:00\", \"2020-05-23T11:36:00\", \"2020-05-23T11:39:00\", \"2020-05-23T11:42:00\", \"2020-05-23T11:45:00\", \"2020-05-23T11:48:00\", \"2020-05-23T11:51:00\", \"2020-05-23T11:54:00\", \"2020-05-23T11:57:00\", \"2020-05-23T12:00:00\", \"2020-05-23T12:03:00\", \"2020-05-23T12:06:00\", \"2020-05-23T12:09:00\", \"2020-05-23T12:12:00\", \"2020-05-23T12:15:00\", \"2020-05-23T12:18:00\", \"2020-05-23T12:21:00\", \"2020-05-23T12:24:00\", \"2020-05-23T12:27:00\", \"2020-05-23T12:30:00\", \"2020-05-23T12:33:00\", \"2020-05-23T12:36:00\", \"2020-05-23T12:39:00\", \"2020-05-23T12:42:00\", \"2020-05-23T12:45:00\", \"2020-05-23T12:48:00\", \"2020-05-23T12:51:00\", \"2020-05-23T12:54:00\", \"2020-05-23T12:57:00\", \"2020-05-23T13:00:00\", \"2020-05-23T13:03:00\", \"2020-05-23T13:06:00\", \"2020-05-23T13:09:00\", \"2020-05-23T13:12:00\", \"2020-05-23T13:15:00\", \"2020-05-23T13:18:00\", \"2020-05-23T13:21:00\", \"2020-05-23T13:24:00\", \"2020-05-23T13:27:00\", \"2020-05-23T13:30:00\", \"2020-05-23T13:33:00\", \"2020-05-23T13:36:00\", \"2020-05-23T13:39:00\", \"2020-05-23T13:42:00\", \"2020-05-23T13:45:00\", \"2020-05-23T13:48:00\", \"2020-05-23T13:51:00\", \"2020-05-23T13:54:00\", \"2020-05-23T13:57:00\", \"2020-05-23T14:00:00\", \"2020-05-23T14:03:00\", \"2020-05-23T14:06:00\", \"2020-05-23T14:09:00\", \"2020-05-23T14:12:00\", \"2020-05-23T14:15:00\", \"2020-05-23T14:18:00\", \"2020-05-23T14:21:00\", \"2020-05-23T14:24:00\", \"2020-05-23T14:27:00\", \"2020-05-23T14:30:00\", \"2020-05-23T14:33:00\", \"2020-05-23T14:36:00\", \"2020-05-23T14:39:00\", \"2020-05-23T14:42:00\", \"2020-05-23T14:45:00\", \"2020-05-23T14:48:00\", \"2020-05-23T14:51:00\", \"2020-05-23T14:54:00\", \"2020-05-23T14:57:00\", \"2020-05-23T15:00:00\", \"2020-05-23T15:03:00\", \"2020-05-23T15:06:00\", \"2020-05-23T15:09:00\", \"2020-05-23T15:12:00\", \"2020-05-23T15:15:00\", \"2020-05-23T15:18:00\", \"2020-05-23T15:21:00\", \"2020-05-23T15:24:00\", \"2020-05-23T15:27:00\", \"2020-05-23T15:30:00\", \"2020-05-23T15:33:00\", \"2020-05-23T15:36:00\", \"2020-05-23T15:39:00\", \"2020-05-23T15:42:00\", \"2020-05-23T15:45:00\", \"2020-05-23T15:48:00\", \"2020-05-23T15:51:00\", \"2020-05-23T15:54:00\", \"2020-05-23T15:57:00\", \"2020-05-23T16:00:00\", \"2020-05-23T16:03:00\", \"2020-05-23T16:06:00\", \"2020-05-23T16:09:00\", \"2020-05-23T16:12:00\", \"2020-05-23T16:15:00\", \"2020-05-23T16:18:00\", \"2020-05-23T16:21:00\", \"2020-05-23T16:24:00\", \"2020-05-23T16:27:00\", \"2020-05-23T16:30:00\", \"2020-05-23T16:33:00\", \"2020-05-23T16:36:00\", \"2020-05-23T16:39:00\", \"2020-05-23T16:42:00\", \"2020-05-23T16:45:00\", \"2020-05-23T16:48:00\", \"2020-05-23T16:51:00\", \"2020-05-23T16:54:00\", \"2020-05-23T16:57:00\", \"2020-05-23T17:00:00\", \"2020-05-23T17:03:00\", \"2020-05-23T17:06:00\", \"2020-05-23T17:09:00\", \"2020-05-23T17:12:00\", \"2020-05-23T17:15:00\", \"2020-05-23T17:18:00\", \"2020-05-23T17:21:00\", \"2020-05-23T17:24:00\", \"2020-05-23T17:27:00\", \"2020-05-23T17:30:00\", \"2020-05-23T17:33:00\", \"2020-05-23T17:36:00\", \"2020-05-23T17:39:00\", \"2020-05-23T17:42:00\", \"2020-05-23T17:45:00\", \"2020-05-23T17:48:00\", \"2020-05-23T17:51:00\", \"2020-05-23T17:54:00\", \"2020-05-23T17:57:00\", \"2020-05-23T18:00:00\", \"2020-05-23T18:03:00\", \"2020-05-23T18:06:00\", \"2020-05-23T18:09:00\", \"2020-05-23T18:12:00\", \"2020-05-23T18:15:00\", \"2020-05-23T18:18:00\", \"2020-05-23T18:21:00\", \"2020-05-23T18:24:00\", \"2020-05-23T18:27:00\", \"2020-05-23T18:30:00\", \"2020-05-23T18:33:00\", \"2020-05-23T18:36:00\", \"2020-05-23T18:39:00\", \"2020-05-23T18:42:00\", \"2020-05-23T18:45:00\", \"2020-05-23T18:48:00\", \"2020-05-23T18:51:00\", \"2020-05-23T18:54:00\", \"2020-05-23T18:57:00\", \"2020-05-23T19:00:00\", \"2020-05-23T19:03:00\", \"2020-05-23T19:06:00\", \"2020-05-23T19:09:00\", \"2020-05-23T19:12:00\", \"2020-05-23T19:15:00\", \"2020-05-23T19:18:00\", \"2020-05-23T19:21:00\", \"2020-05-23T19:24:00\", \"2020-05-23T19:27:00\", \"2020-05-23T19:30:00\", \"2020-05-23T19:33:00\", \"2020-05-23T19:36:00\", \"2020-05-23T19:39:00\", \"2020-05-23T19:42:00\", \"2020-05-23T19:45:00\", \"2020-05-23T19:48:00\", \"2020-05-23T19:51:00\", \"2020-05-23T19:54:00\", \"2020-05-23T19:57:00\", \"2020-05-23T20:00:00\", \"2020-05-23T20:03:00\", \"2020-05-23T20:06:00\", \"2020-05-23T20:09:00\", \"2020-05-23T20:12:00\", \"2020-05-23T20:15:00\", \"2020-05-23T20:18:00\", \"2020-05-23T20:21:00\", \"2020-05-23T20:24:00\", \"2020-05-23T20:27:00\", \"2020-05-23T20:30:00\", \"2020-05-23T20:33:00\", \"2020-05-23T20:36:00\", \"2020-05-23T20:39:00\", \"2020-05-23T20:42:00\", \"2020-05-23T20:45:00\", \"2020-05-23T20:48:00\", \"2020-05-23T20:51:00\", \"2020-05-23T20:54:00\", \"2020-05-23T20:57:00\", \"2020-05-23T21:00:00\", \"2020-05-23T21:03:00\", \"2020-05-23T21:06:00\", \"2020-05-23T21:09:00\", \"2020-05-23T21:12:00\", \"2020-05-23T21:15:00\", \"2020-05-23T21:18:00\", \"2020-05-23T21:21:00\", \"2020-05-23T21:24:00\", \"2020-05-23T21:27:00\", \"2020-05-23T21:30:00\", \"2020-05-23T21:33:00\", \"2020-05-23T21:36:00\", \"2020-05-23T21:39:00\", \"2020-05-23T21:42:00\", \"2020-05-23T21:45:00\", \"2020-05-23T21:48:00\", \"2020-05-23T21:51:00\", \"2020-05-23T21:54:00\", \"2020-05-23T21:57:00\", \"2020-05-23T22:00:00\", \"2020-05-23T22:03:00\", \"2020-05-23T22:06:00\", \"2020-05-23T22:09:00\", \"2020-05-23T22:12:00\", \"2020-05-23T22:15:00\", \"2020-05-23T22:18:00\", \"2020-05-23T22:21:00\", \"2020-05-23T22:24:00\", \"2020-05-23T22:27:00\", \"2020-05-23T22:30:00\", \"2020-05-23T22:33:00\", \"2020-05-23T22:36:00\", \"2020-05-23T22:39:00\", \"2020-05-23T22:42:00\", \"2020-05-23T22:45:00\", \"2020-05-23T22:48:00\", \"2020-05-23T22:51:00\", \"2020-05-23T22:54:00\", \"2020-05-23T22:57:00\", \"2020-05-23T23:00:00\", \"2020-05-23T23:03:00\", \"2020-05-23T23:06:00\", \"2020-05-23T23:09:00\", \"2020-05-23T23:12:00\", \"2020-05-23T23:15:00\", \"2020-05-23T23:18:00\", \"2020-05-23T23:21:00\", \"2020-05-23T23:24:00\", \"2020-05-23T23:27:00\", \"2020-05-23T23:30:00\", \"2020-05-23T23:33:00\", \"2020-05-23T23:36:00\", \"2020-05-23T23:39:00\", \"2020-05-23T23:42:00\", \"2020-05-23T23:45:00\", \"2020-05-23T23:48:00\", \"2020-05-23T23:51:00\", \"2020-05-23T23:54:00\", \"2020-05-23T23:57:00\", \"2020-05-24T00:00:00\", \"2020-05-24T00:03:00\", \"2020-05-24T00:06:00\", \"2020-05-24T00:09:00\", \"2020-05-24T00:12:00\", \"2020-05-24T00:15:00\", \"2020-05-24T00:18:00\", \"2020-05-24T00:21:00\", \"2020-05-24T00:24:00\", \"2020-05-24T00:27:00\", \"2020-05-24T00:30:00\", \"2020-05-24T00:33:00\", \"2020-05-24T00:36:00\", \"2020-05-24T00:39:00\", \"2020-05-24T00:42:00\", \"2020-05-24T00:45:00\", \"2020-05-24T00:48:00\", \"2020-05-24T00:51:00\", \"2020-05-24T00:54:00\", \"2020-05-24T00:57:00\", \"2020-05-24T01:00:00\", \"2020-05-24T01:03:00\", \"2020-05-24T01:06:00\", \"2020-05-24T01:09:00\", \"2020-05-24T01:12:00\", \"2020-05-24T01:15:00\", \"2020-05-24T01:18:00\", \"2020-05-24T01:21:00\", \"2020-05-24T01:24:00\", \"2020-05-24T01:27:00\", \"2020-05-24T01:30:00\", \"2020-05-24T01:33:00\", \"2020-05-24T01:36:00\", \"2020-05-24T01:39:00\", \"2020-05-24T01:42:00\", \"2020-05-24T01:45:00\", \"2020-05-24T01:48:00\", \"2020-05-24T01:51:00\", \"2020-05-24T01:54:00\", \"2020-05-24T01:57:00\", \"2020-05-24T02:00:00\", \"2020-05-24T02:03:00\", \"2020-05-24T02:06:00\", \"2020-05-24T02:09:00\", \"2020-05-24T02:12:00\", \"2020-05-24T02:15:00\", \"2020-05-24T02:18:00\", \"2020-05-24T02:21:00\", \"2020-05-24T02:24:00\", \"2020-05-24T02:27:00\", \"2020-05-24T02:30:00\", \"2020-05-24T02:33:00\", \"2020-05-24T02:36:00\", \"2020-05-24T02:39:00\", \"2020-05-24T02:42:00\", \"2020-05-24T02:45:00\", \"2020-05-24T02:48:00\", \"2020-05-24T02:51:00\", \"2020-05-24T02:54:00\", \"2020-05-24T02:57:00\", \"2020-05-24T03:00:00\", \"2020-05-24T03:03:00\", \"2020-05-24T03:06:00\", \"2020-05-24T03:09:00\", \"2020-05-24T03:12:00\", \"2020-05-24T03:15:00\", \"2020-05-24T03:18:00\", \"2020-05-24T03:21:00\", \"2020-05-24T03:24:00\", \"2020-05-24T03:27:00\", \"2020-05-24T03:30:00\", \"2020-05-24T03:33:00\", \"2020-05-24T03:36:00\", \"2020-05-24T03:39:00\", \"2020-05-24T03:42:00\", \"2020-05-24T03:45:00\", \"2020-05-24T03:48:00\", \"2020-05-24T03:51:00\", \"2020-05-24T03:54:00\", \"2020-05-24T03:57:00\", \"2020-05-24T04:00:00\", \"2020-05-24T04:03:00\", \"2020-05-24T04:06:00\", \"2020-05-24T04:09:00\", \"2020-05-24T04:12:00\", \"2020-05-24T04:15:00\", \"2020-05-24T04:18:00\", \"2020-05-24T04:21:00\", \"2020-05-24T04:24:00\", \"2020-05-24T04:27:00\", \"2020-05-24T04:30:00\", \"2020-05-24T04:33:00\", \"2020-05-24T04:36:00\", \"2020-05-24T04:39:00\", \"2020-05-24T04:42:00\", \"2020-05-24T04:45:00\", \"2020-05-24T04:48:00\", \"2020-05-24T04:51:00\", \"2020-05-24T04:54:00\", \"2020-05-24T04:57:00\", \"2020-05-24T05:00:00\", \"2020-05-24T05:03:00\", \"2020-05-24T05:06:00\", \"2020-05-24T05:09:00\", \"2020-05-24T05:12:00\", \"2020-05-24T05:15:00\", \"2020-05-24T05:18:00\", \"2020-05-24T05:21:00\", \"2020-05-24T05:24:00\", \"2020-05-24T05:27:00\", \"2020-05-24T05:30:00\", \"2020-05-24T05:33:00\", \"2020-05-24T05:36:00\", \"2020-05-24T05:39:00\", \"2020-05-24T05:42:00\", \"2020-05-24T05:45:00\", \"2020-05-24T05:48:00\", \"2020-05-24T05:51:00\", \"2020-05-24T05:54:00\", \"2020-05-24T05:57:00\", \"2020-05-24T06:00:00\", \"2020-05-24T06:03:00\", \"2020-05-24T06:06:00\", \"2020-05-24T06:09:00\", \"2020-05-24T06:12:00\", \"2020-05-24T06:15:00\", \"2020-05-24T06:18:00\", \"2020-05-24T06:21:00\", \"2020-05-24T06:24:00\", \"2020-05-24T06:27:00\", \"2020-05-24T06:30:00\", \"2020-05-24T06:33:00\", \"2020-05-24T06:36:00\", \"2020-05-24T06:39:00\", \"2020-05-24T06:42:00\", \"2020-05-24T06:45:00\", \"2020-05-24T06:48:00\", \"2020-05-24T06:51:00\", \"2020-05-24T06:54:00\", \"2020-05-24T06:57:00\", \"2020-05-24T07:00:00\", \"2020-05-24T07:03:00\", \"2020-05-24T07:06:00\", \"2020-05-24T07:09:00\", \"2020-05-24T07:12:00\", \"2020-05-24T07:15:00\", \"2020-05-24T07:18:00\", \"2020-05-24T07:21:00\", \"2020-05-24T07:24:00\", \"2020-05-24T07:27:00\", \"2020-05-24T07:30:00\", \"2020-05-24T07:33:00\", \"2020-05-24T07:36:00\", \"2020-05-24T07:39:00\", \"2020-05-24T07:42:00\", \"2020-05-24T07:45:00\", \"2020-05-24T07:48:00\", \"2020-05-24T07:51:00\", \"2020-05-24T07:54:00\", \"2020-05-24T07:57:00\", \"2020-05-24T08:00:00\", \"2020-05-24T08:03:00\", \"2020-05-24T08:06:00\", \"2020-05-24T08:09:00\", \"2020-05-24T08:12:00\", \"2020-05-24T08:15:00\", \"2020-05-24T08:18:00\", \"2020-05-24T08:21:00\", \"2020-05-24T08:24:00\", \"2020-05-24T08:27:00\", \"2020-05-24T08:30:00\", \"2020-05-24T08:33:00\", \"2020-05-24T08:36:00\", \"2020-05-24T08:39:00\", \"2020-05-24T08:42:00\", \"2020-05-24T08:45:00\", \"2020-05-24T08:48:00\", \"2020-05-24T08:51:00\", \"2020-05-24T08:54:00\", \"2020-05-24T08:57:00\", \"2020-05-24T09:00:00\", \"2020-05-24T09:03:00\", \"2020-05-24T09:06:00\", \"2020-05-24T09:09:00\", \"2020-05-24T09:12:00\", \"2020-05-24T09:15:00\", \"2020-05-24T09:18:00\", \"2020-05-24T09:21:00\", \"2020-05-24T09:24:00\", \"2020-05-24T09:27:00\", \"2020-05-24T09:30:00\", \"2020-05-24T09:33:00\", \"2020-05-24T09:36:00\", \"2020-05-24T09:39:00\", \"2020-05-24T09:42:00\", \"2020-05-24T09:45:00\", \"2020-05-24T09:48:00\", \"2020-05-24T09:51:00\", \"2020-05-24T09:54:00\", \"2020-05-24T09:57:00\", \"2020-05-24T10:00:00\", \"2020-05-24T10:03:00\", \"2020-05-24T10:06:00\", \"2020-05-24T10:09:00\", \"2020-05-24T10:12:00\", \"2020-05-24T10:15:00\", \"2020-05-24T10:18:00\", \"2020-05-24T10:21:00\", \"2020-05-24T10:24:00\", \"2020-05-24T10:27:00\", \"2020-05-24T10:30:00\", \"2020-05-24T10:33:00\", \"2020-05-24T10:36:00\", \"2020-05-24T10:39:00\", \"2020-05-24T10:42:00\", \"2020-05-24T10:45:00\", \"2020-05-24T10:48:00\", \"2020-05-24T10:51:00\", \"2020-05-24T10:54:00\", \"2020-05-24T10:57:00\", \"2020-05-24T11:00:00\", \"2020-05-24T11:03:00\", \"2020-05-24T11:06:00\", \"2020-05-24T11:09:00\", \"2020-05-24T11:12:00\", \"2020-05-24T11:15:00\", \"2020-05-24T11:18:00\", \"2020-05-24T11:21:00\", \"2020-05-24T11:24:00\", \"2020-05-24T11:27:00\", \"2020-05-24T11:30:00\", \"2020-05-24T11:33:00\", \"2020-05-24T11:36:00\", \"2020-05-24T11:39:00\", \"2020-05-24T11:42:00\", \"2020-05-24T11:45:00\", \"2020-05-24T11:48:00\", \"2020-05-24T11:51:00\", \"2020-05-24T11:54:00\", \"2020-05-24T11:57:00\", \"2020-05-24T12:00:00\", \"2020-05-24T12:03:00\", \"2020-05-24T12:06:00\", \"2020-05-24T12:09:00\", \"2020-05-24T12:12:00\", \"2020-05-24T12:15:00\", \"2020-05-24T12:18:00\", \"2020-05-24T12:21:00\", \"2020-05-24T12:24:00\", \"2020-05-24T12:27:00\", \"2020-05-24T12:30:00\", \"2020-05-24T12:33:00\", \"2020-05-24T12:36:00\", \"2020-05-24T12:39:00\", \"2020-05-24T12:42:00\", \"2020-05-24T12:45:00\", \"2020-05-24T12:48:00\", \"2020-05-24T12:51:00\", \"2020-05-24T12:54:00\", \"2020-05-24T12:57:00\", \"2020-05-24T13:00:00\", \"2020-05-24T13:03:00\", \"2020-05-24T13:06:00\", \"2020-05-24T13:09:00\", \"2020-05-24T13:12:00\", \"2020-05-24T13:15:00\", \"2020-05-24T13:18:00\", \"2020-05-24T13:21:00\", \"2020-05-24T13:24:00\", \"2020-05-24T13:27:00\", \"2020-05-24T13:30:00\", \"2020-05-24T13:33:00\", \"2020-05-24T13:36:00\", \"2020-05-24T13:39:00\", \"2020-05-24T13:42:00\", \"2020-05-24T13:45:00\", \"2020-05-24T13:48:00\", \"2020-05-24T13:51:00\", \"2020-05-24T13:54:00\", \"2020-05-24T13:57:00\", \"2020-05-24T14:00:00\", \"2020-05-24T14:03:00\", \"2020-05-24T14:06:00\", \"2020-05-24T14:09:00\", \"2020-05-24T14:12:00\", \"2020-05-24T14:15:00\", \"2020-05-24T14:18:00\", \"2020-05-24T14:21:00\", \"2020-05-24T14:24:00\", \"2020-05-24T14:27:00\", \"2020-05-24T14:30:00\", \"2020-05-24T14:33:00\", \"2020-05-24T14:36:00\", \"2020-05-24T14:39:00\", \"2020-05-24T14:42:00\", \"2020-05-24T14:45:00\", \"2020-05-24T14:48:00\", \"2020-05-24T14:51:00\", \"2020-05-24T14:54:00\", \"2020-05-24T14:57:00\", \"2020-05-24T15:00:00\", \"2020-05-24T15:03:00\", \"2020-05-24T15:06:00\", \"2020-05-24T15:09:00\", \"2020-05-24T15:12:00\", \"2020-05-24T15:15:00\", \"2020-05-24T15:18:00\", \"2020-05-24T15:21:00\", \"2020-05-24T15:24:00\", \"2020-05-24T15:27:00\", \"2020-05-24T15:30:00\", \"2020-05-24T15:33:00\", \"2020-05-24T15:36:00\", \"2020-05-24T15:39:00\", \"2020-05-24T15:42:00\", \"2020-05-24T15:45:00\", \"2020-05-24T15:48:00\", \"2020-05-24T15:51:00\", \"2020-05-24T15:54:00\", \"2020-05-24T15:57:00\", \"2020-05-24T16:00:00\", \"2020-05-24T16:03:00\", \"2020-05-24T16:06:00\", \"2020-05-24T16:09:00\", \"2020-05-24T16:12:00\", \"2020-05-24T16:15:00\", \"2020-05-24T16:18:00\", \"2020-05-24T16:21:00\", \"2020-05-24T16:24:00\", \"2020-05-24T16:27:00\", \"2020-05-24T16:30:00\", \"2020-05-24T16:33:00\", \"2020-05-24T16:36:00\", \"2020-05-24T16:39:00\", \"2020-05-24T16:42:00\", \"2020-05-24T16:45:00\", \"2020-05-24T16:48:00\", \"2020-05-24T16:51:00\", \"2020-05-24T16:54:00\", \"2020-05-24T16:57:00\", \"2020-05-24T17:00:00\", \"2020-05-24T17:03:00\", \"2020-05-24T17:06:00\", \"2020-05-24T17:09:00\", \"2020-05-24T17:12:00\", \"2020-05-24T17:15:00\", \"2020-05-24T17:18:00\", \"2020-05-24T17:21:00\", \"2020-05-24T17:24:00\", \"2020-05-24T17:27:00\", \"2020-05-24T17:30:00\", \"2020-05-24T17:33:00\", \"2020-05-24T17:36:00\", \"2020-05-24T17:39:00\", \"2020-05-24T17:42:00\", \"2020-05-24T17:45:00\", \"2020-05-24T17:48:00\", \"2020-05-24T17:51:00\", \"2020-05-24T17:54:00\", \"2020-05-24T17:57:00\", \"2020-05-24T18:00:00\", \"2020-05-24T18:03:00\", \"2020-05-24T18:06:00\", \"2020-05-24T18:09:00\", \"2020-05-24T18:12:00\", \"2020-05-24T18:15:00\", \"2020-05-24T18:18:00\", \"2020-05-24T18:21:00\", \"2020-05-24T18:24:00\", \"2020-05-24T18:27:00\", \"2020-05-24T18:30:00\", \"2020-05-24T18:33:00\", \"2020-05-24T18:36:00\", \"2020-05-24T18:39:00\", \"2020-05-24T18:42:00\", \"2020-05-24T18:45:00\", \"2020-05-24T18:48:00\", \"2020-05-24T18:51:00\", \"2020-05-24T18:54:00\", \"2020-05-24T18:57:00\", \"2020-05-24T19:00:00\", \"2020-05-24T19:03:00\", \"2020-05-24T19:06:00\", \"2020-05-24T19:09:00\", \"2020-05-24T19:12:00\", \"2020-05-24T19:15:00\", \"2020-05-24T19:18:00\", \"2020-05-24T19:21:00\", \"2020-05-24T19:24:00\", \"2020-05-24T19:27:00\", \"2020-05-24T19:30:00\", \"2020-05-24T19:33:00\", \"2020-05-24T19:36:00\", \"2020-05-24T19:39:00\", \"2020-05-24T19:42:00\", \"2020-05-24T19:45:00\", \"2020-05-24T19:48:00\", \"2020-05-24T19:51:00\", \"2020-05-24T19:54:00\", \"2020-05-24T19:57:00\", \"2020-05-24T20:00:00\", \"2020-05-24T20:03:00\", \"2020-05-24T20:06:00\", \"2020-05-24T20:09:00\", \"2020-05-24T20:12:00\", \"2020-05-24T20:15:00\", \"2020-05-24T20:18:00\", \"2020-05-24T20:21:00\", \"2020-05-24T20:24:00\", \"2020-05-24T20:27:00\", \"2020-05-24T20:30:00\", \"2020-05-24T20:33:00\", \"2020-05-24T20:36:00\", \"2020-05-24T20:39:00\", \"2020-05-24T20:42:00\", \"2020-05-24T20:45:00\", \"2020-05-24T20:48:00\", \"2020-05-24T20:51:00\", \"2020-05-24T20:54:00\", \"2020-05-24T20:57:00\", \"2020-05-24T21:00:00\", \"2020-05-24T21:03:00\", \"2020-05-24T21:06:00\", \"2020-05-24T21:09:00\", \"2020-05-24T21:12:00\", \"2020-05-24T21:15:00\", \"2020-05-24T21:18:00\", \"2020-05-24T21:21:00\", \"2020-05-24T21:24:00\", \"2020-05-24T21:27:00\", \"2020-05-24T21:30:00\", \"2020-05-24T21:33:00\", \"2020-05-24T21:36:00\", \"2020-05-24T21:39:00\", \"2020-05-24T21:42:00\", \"2020-05-24T21:45:00\", \"2020-05-24T21:48:00\", \"2020-05-24T21:51:00\", \"2020-05-24T21:54:00\", \"2020-05-24T21:57:00\", \"2020-05-24T22:00:00\", \"2020-05-24T22:03:00\", \"2020-05-24T22:06:00\", \"2020-05-24T22:09:00\", \"2020-05-24T22:12:00\", \"2020-05-24T22:15:00\", \"2020-05-24T22:18:00\", \"2020-05-24T22:21:00\", \"2020-05-24T22:24:00\", \"2020-05-24T22:27:00\", \"2020-05-24T22:30:00\", \"2020-05-24T22:33:00\", \"2020-05-24T22:36:00\", \"2020-05-24T22:39:00\", \"2020-05-24T22:42:00\", \"2020-05-24T22:45:00\", \"2020-05-24T22:48:00\", \"2020-05-24T22:51:00\", \"2020-05-24T22:54:00\", \"2020-05-24T22:57:00\", \"2020-05-24T23:00:00\", \"2020-05-24T23:03:00\", \"2020-05-24T23:06:00\", \"2020-05-24T23:09:00\", \"2020-05-24T23:12:00\", \"2020-05-24T23:15:00\", \"2020-05-24T23:18:00\", \"2020-05-24T23:21:00\", \"2020-05-24T23:24:00\", \"2020-05-24T23:27:00\", \"2020-05-24T23:30:00\", \"2020-05-24T23:33:00\", \"2020-05-24T23:36:00\", \"2020-05-24T23:39:00\", \"2020-05-24T23:42:00\", \"2020-05-24T23:45:00\", \"2020-05-24T23:48:00\", \"2020-05-24T23:51:00\", \"2020-05-24T23:54:00\", \"2020-05-24T23:57:00\", \"2020-05-25T00:00:00\", \"2020-05-25T00:03:00\", \"2020-05-25T00:06:00\", \"2020-05-25T00:09:00\", \"2020-05-25T00:12:00\", \"2020-05-25T00:15:00\", \"2020-05-25T00:18:00\", \"2020-05-25T00:21:00\", \"2020-05-25T00:24:00\", \"2020-05-25T00:27:00\", \"2020-05-25T00:30:00\", \"2020-05-25T00:33:00\", \"2020-05-25T00:36:00\", \"2020-05-25T00:39:00\", \"2020-05-25T00:42:00\", \"2020-05-25T00:45:00\", \"2020-05-25T00:48:00\", \"2020-05-25T00:51:00\", \"2020-05-25T00:54:00\", \"2020-05-25T00:57:00\", \"2020-05-25T01:00:00\", \"2020-05-25T01:03:00\", \"2020-05-25T01:06:00\", \"2020-05-25T01:09:00\", \"2020-05-25T01:12:00\", \"2020-05-25T01:15:00\", \"2020-05-25T01:18:00\", \"2020-05-25T01:21:00\", \"2020-05-25T01:24:00\", \"2020-05-25T01:27:00\", \"2020-05-25T01:30:00\", \"2020-05-25T01:33:00\", \"2020-05-25T01:36:00\", \"2020-05-25T01:39:00\", \"2020-05-25T01:42:00\", \"2020-05-25T01:45:00\", \"2020-05-25T01:48:00\", \"2020-05-25T01:51:00\", \"2020-05-25T01:54:00\", \"2020-05-25T01:57:00\", \"2020-05-25T02:00:00\", \"2020-05-25T02:03:00\", \"2020-05-25T02:06:00\", \"2020-05-25T02:09:00\", \"2020-05-25T02:12:00\", \"2020-05-25T02:15:00\", \"2020-05-25T02:18:00\", \"2020-05-25T02:21:00\", \"2020-05-25T02:24:00\", \"2020-05-25T02:27:00\", \"2020-05-25T02:30:00\", \"2020-05-25T02:33:00\", \"2020-05-25T02:36:00\", \"2020-05-25T02:39:00\", \"2020-05-25T02:42:00\", \"2020-05-25T02:45:00\", \"2020-05-25T02:48:00\", \"2020-05-25T02:51:00\", \"2020-05-25T02:54:00\", \"2020-05-25T02:57:00\", \"2020-05-25T03:00:00\", \"2020-05-25T03:03:00\", \"2020-05-25T03:06:00\", \"2020-05-25T03:09:00\", \"2020-05-25T03:12:00\", \"2020-05-25T03:15:00\", \"2020-05-25T03:18:00\", \"2020-05-25T03:21:00\", \"2020-05-25T03:24:00\", \"2020-05-25T03:27:00\", \"2020-05-25T03:30:00\", \"2020-05-25T03:33:00\", \"2020-05-25T03:36:00\", \"2020-05-25T03:39:00\", \"2020-05-25T03:42:00\", \"2020-05-25T03:45:00\", \"2020-05-25T03:48:00\", \"2020-05-25T03:51:00\", \"2020-05-25T03:54:00\", \"2020-05-25T03:57:00\", \"2020-05-25T04:00:00\", \"2020-05-25T04:03:00\", \"2020-05-25T04:06:00\", \"2020-05-25T04:09:00\", \"2020-05-25T04:12:00\", \"2020-05-25T04:15:00\", \"2020-05-25T04:18:00\", \"2020-05-25T04:21:00\", \"2020-05-25T04:24:00\", \"2020-05-25T04:27:00\", \"2020-05-25T04:30:00\", \"2020-05-25T04:33:00\", \"2020-05-25T04:36:00\", \"2020-05-25T04:39:00\", \"2020-05-25T04:42:00\", \"2020-05-25T04:45:00\", \"2020-05-25T04:48:00\", \"2020-05-25T04:51:00\", \"2020-05-25T04:54:00\", \"2020-05-25T04:57:00\", \"2020-05-25T05:00:00\", \"2020-05-25T05:03:00\", \"2020-05-25T05:06:00\", \"2020-05-25T05:09:00\", \"2020-05-25T05:12:00\", \"2020-05-25T05:15:00\", \"2020-05-25T05:18:00\", \"2020-05-25T05:21:00\", \"2020-05-25T05:24:00\", \"2020-05-25T05:27:00\", \"2020-05-25T05:30:00\", \"2020-05-25T05:33:00\", \"2020-05-25T05:36:00\", \"2020-05-25T05:39:00\", \"2020-05-25T05:42:00\", \"2020-05-25T05:45:00\", \"2020-05-25T05:48:00\", \"2020-05-25T05:51:00\", \"2020-05-25T05:54:00\", \"2020-05-25T05:57:00\", \"2020-05-25T06:00:00\", \"2020-05-25T06:03:00\", \"2020-05-25T06:06:00\", \"2020-05-25T06:09:00\", \"2020-05-25T06:12:00\", \"2020-05-25T06:15:00\", \"2020-05-25T06:18:00\", \"2020-05-25T06:21:00\", \"2020-05-25T06:24:00\", \"2020-05-25T06:27:00\", \"2020-05-25T06:30:00\", \"2020-05-25T06:33:00\", \"2020-05-25T06:36:00\", \"2020-05-25T06:39:00\", \"2020-05-25T06:42:00\", \"2020-05-25T06:45:00\", \"2020-05-25T06:48:00\", \"2020-05-25T06:51:00\", \"2020-05-25T06:54:00\", \"2020-05-25T06:57:00\", \"2020-05-25T07:00:00\", \"2020-05-25T07:03:00\", \"2020-05-25T07:06:00\", \"2020-05-25T07:09:00\", \"2020-05-25T07:12:00\", \"2020-05-25T07:15:00\", \"2020-05-25T07:18:00\", \"2020-05-25T07:21:00\", \"2020-05-25T07:24:00\", \"2020-05-25T07:27:00\", \"2020-05-25T07:30:00\", \"2020-05-25T07:33:00\", \"2020-05-25T07:36:00\", \"2020-05-25T07:39:00\", \"2020-05-25T07:42:00\", \"2020-05-25T07:45:00\", \"2020-05-25T07:48:00\", \"2020-05-25T07:51:00\", \"2020-05-25T07:54:00\", \"2020-05-25T07:57:00\", \"2020-05-25T08:00:00\", \"2020-05-25T08:03:00\", \"2020-05-25T08:06:00\", \"2020-05-25T08:09:00\", \"2020-05-25T08:12:00\", \"2020-05-25T08:15:00\", \"2020-05-25T08:18:00\", \"2020-05-25T08:21:00\", \"2020-05-25T08:24:00\", \"2020-05-25T08:27:00\", \"2020-05-25T08:30:00\", \"2020-05-25T08:33:00\", \"2020-05-25T08:36:00\", \"2020-05-25T08:39:00\", \"2020-05-25T08:42:00\", \"2020-05-25T08:45:00\", \"2020-05-25T08:48:00\", \"2020-05-25T08:51:00\", \"2020-05-25T08:54:00\", \"2020-05-25T08:57:00\", \"2020-05-25T09:00:00\", \"2020-05-25T09:03:00\", \"2020-05-25T09:06:00\", \"2020-05-25T09:09:00\", \"2020-05-25T09:12:00\", \"2020-05-25T09:15:00\", \"2020-05-25T09:18:00\", \"2020-05-25T09:21:00\", \"2020-05-25T09:24:00\", \"2020-05-25T09:27:00\", \"2020-05-25T09:30:00\", \"2020-05-25T09:33:00\", \"2020-05-25T09:36:00\", \"2020-05-25T09:39:00\", \"2020-05-25T09:42:00\", \"2020-05-25T09:45:00\", \"2020-05-25T09:48:00\", \"2020-05-25T09:51:00\", \"2020-05-25T09:54:00\", \"2020-05-25T09:57:00\", \"2020-05-25T10:00:00\", \"2020-05-25T10:03:00\", \"2020-05-25T10:06:00\", \"2020-05-25T10:09:00\", \"2020-05-25T10:12:00\", \"2020-05-25T10:15:00\", \"2020-05-25T10:18:00\", \"2020-05-25T10:21:00\", \"2020-05-25T10:24:00\", \"2020-05-25T10:27:00\", \"2020-05-25T10:30:00\", \"2020-05-25T10:33:00\", \"2020-05-25T10:36:00\", \"2020-05-25T10:39:00\", \"2020-05-25T10:42:00\", \"2020-05-25T10:45:00\", \"2020-05-25T10:48:00\", \"2020-05-25T10:51:00\", \"2020-05-25T10:54:00\", \"2020-05-25T10:57:00\", \"2020-05-25T11:00:00\", \"2020-05-25T11:03:00\", \"2020-05-25T11:06:00\", \"2020-05-25T11:09:00\", \"2020-05-25T11:12:00\", \"2020-05-25T11:15:00\", \"2020-05-25T11:18:00\", \"2020-05-25T11:21:00\", \"2020-05-25T11:24:00\", \"2020-05-25T11:27:00\", \"2020-05-25T11:30:00\", \"2020-05-25T11:33:00\", \"2020-05-25T11:36:00\", \"2020-05-25T11:39:00\", \"2020-05-25T11:42:00\", \"2020-05-25T11:45:00\", \"2020-05-25T11:48:00\", \"2020-05-25T11:51:00\", \"2020-05-25T11:54:00\", \"2020-05-25T11:57:00\", \"2020-05-25T12:00:00\", \"2020-05-25T12:03:00\", \"2020-05-25T12:06:00\", \"2020-05-25T12:09:00\", \"2020-05-25T12:12:00\", \"2020-05-25T12:15:00\", \"2020-05-25T12:18:00\", \"2020-05-25T12:21:00\", \"2020-05-25T12:24:00\", \"2020-05-25T12:27:00\", \"2020-05-25T12:30:00\", \"2020-05-25T12:33:00\", \"2020-05-25T12:36:00\", \"2020-05-25T12:39:00\", \"2020-05-25T12:42:00\", \"2020-05-25T12:45:00\", \"2020-05-25T12:48:00\", \"2020-05-25T12:51:00\", \"2020-05-25T12:54:00\", \"2020-05-25T12:57:00\", \"2020-05-25T13:00:00\", \"2020-05-25T13:03:00\", \"2020-05-25T13:06:00\", \"2020-05-25T13:09:00\", \"2020-05-25T13:12:00\", \"2020-05-25T13:15:00\", \"2020-05-25T13:18:00\", \"2020-05-25T13:21:00\", \"2020-05-25T13:24:00\", \"2020-05-25T13:27:00\", \"2020-05-25T13:30:00\", \"2020-05-25T13:33:00\", \"2020-05-25T13:36:00\", \"2020-05-25T13:39:00\", \"2020-05-25T13:42:00\", \"2020-05-25T13:45:00\", \"2020-05-25T13:48:00\", \"2020-05-25T13:51:00\", \"2020-05-25T13:54:00\", \"2020-05-25T13:57:00\", \"2020-05-25T14:00:00\", \"2020-05-25T14:03:00\", \"2020-05-25T14:06:00\", \"2020-05-25T14:09:00\", \"2020-05-25T14:12:00\", \"2020-05-25T14:15:00\", \"2020-05-25T14:18:00\", \"2020-05-25T14:21:00\", \"2020-05-25T14:24:00\", \"2020-05-25T14:27:00\", \"2020-05-25T14:30:00\", \"2020-05-25T14:33:00\", \"2020-05-25T14:36:00\", \"2020-05-25T14:39:00\", \"2020-05-25T14:42:00\", \"2020-05-25T14:45:00\", \"2020-05-25T14:48:00\", \"2020-05-25T14:51:00\", \"2020-05-25T14:54:00\", \"2020-05-25T14:57:00\", \"2020-05-25T15:00:00\", \"2020-05-25T15:03:00\", \"2020-05-25T15:06:00\", \"2020-05-25T15:09:00\", \"2020-05-25T15:12:00\", \"2020-05-25T15:15:00\", \"2020-05-25T15:18:00\", \"2020-05-25T15:21:00\", \"2020-05-25T15:24:00\", \"2020-05-25T15:27:00\", \"2020-05-25T15:30:00\", \"2020-05-25T15:33:00\", \"2020-05-25T15:36:00\", \"2020-05-25T15:39:00\", \"2020-05-25T15:42:00\", \"2020-05-25T15:45:00\", \"2020-05-25T15:48:00\", \"2020-05-25T15:51:00\", \"2020-05-25T15:54:00\", \"2020-05-25T15:57:00\", \"2020-05-25T16:00:00\", \"2020-05-25T16:03:00\", \"2020-05-25T16:06:00\", \"2020-05-25T16:09:00\", \"2020-05-25T16:12:00\", \"2020-05-25T16:15:00\", \"2020-05-25T16:18:00\", \"2020-05-25T16:21:00\", \"2020-05-25T16:24:00\", \"2020-05-25T16:27:00\", \"2020-05-25T16:30:00\", \"2020-05-25T16:33:00\", \"2020-05-25T16:36:00\", \"2020-05-25T16:39:00\", \"2020-05-25T16:42:00\", \"2020-05-25T16:45:00\", \"2020-05-25T16:48:00\", \"2020-05-25T16:51:00\", \"2020-05-25T16:54:00\", \"2020-05-25T16:57:00\", \"2020-05-25T17:00:00\", \"2020-05-25T17:03:00\", \"2020-05-25T17:06:00\", \"2020-05-25T17:09:00\", \"2020-05-25T17:12:00\", \"2020-05-25T17:15:00\", \"2020-05-25T17:18:00\", \"2020-05-25T17:21:00\", \"2020-05-25T17:24:00\", \"2020-05-25T17:27:00\", \"2020-05-25T17:30:00\", \"2020-05-25T17:33:00\", \"2020-05-25T17:36:00\", \"2020-05-25T17:39:00\", \"2020-05-25T17:42:00\", \"2020-05-25T17:45:00\", \"2020-05-25T17:48:00\", \"2020-05-25T17:51:00\", \"2020-05-25T17:54:00\", \"2020-05-25T17:57:00\", \"2020-05-25T18:00:00\", \"2020-05-25T18:03:00\", \"2020-05-25T18:06:00\", \"2020-05-25T18:09:00\", \"2020-05-25T18:12:00\", \"2020-05-25T18:15:00\", \"2020-05-25T18:18:00\", \"2020-05-25T18:21:00\", \"2020-05-25T18:24:00\", \"2020-05-25T18:27:00\", \"2020-05-25T18:30:00\", \"2020-05-25T18:33:00\", \"2020-05-25T18:36:00\", \"2020-05-25T18:39:00\", \"2020-05-25T18:42:00\", \"2020-05-25T18:45:00\", \"2020-05-25T18:48:00\", \"2020-05-25T18:51:00\", \"2020-05-25T18:54:00\", \"2020-05-25T18:57:00\", \"2020-05-25T19:00:00\", \"2020-05-25T19:03:00\", \"2020-05-25T19:06:00\", \"2020-05-25T19:09:00\", \"2020-05-25T19:12:00\", \"2020-05-25T19:15:00\", \"2020-05-25T19:18:00\", \"2020-05-25T19:21:00\", \"2020-05-25T19:24:00\", \"2020-05-25T19:27:00\", \"2020-05-25T19:30:00\", \"2020-05-25T19:33:00\", \"2020-05-25T19:36:00\", \"2020-05-25T19:39:00\", \"2020-05-25T19:42:00\", \"2020-05-25T19:45:00\", \"2020-05-25T19:48:00\", \"2020-05-25T19:51:00\", \"2020-05-25T19:54:00\", \"2020-05-25T19:57:00\", \"2020-05-25T20:00:00\", \"2020-05-25T20:03:00\", \"2020-05-25T20:06:00\", \"2020-05-25T20:09:00\", \"2020-05-25T20:12:00\", \"2020-05-25T20:15:00\", \"2020-05-25T20:18:00\", \"2020-05-25T20:21:00\", \"2020-05-25T20:24:00\", \"2020-05-25T20:27:00\", \"2020-05-25T20:30:00\", \"2020-05-25T20:33:00\", \"2020-05-25T20:36:00\", \"2020-05-25T20:39:00\", \"2020-05-25T20:42:00\", \"2020-05-25T20:45:00\", \"2020-05-25T20:48:00\", \"2020-05-25T20:51:00\", \"2020-05-25T20:54:00\", \"2020-05-25T20:57:00\", \"2020-05-25T21:00:00\", \"2020-05-25T21:03:00\", \"2020-05-25T21:06:00\", \"2020-05-25T21:09:00\", \"2020-05-25T21:12:00\", \"2020-05-25T21:15:00\", \"2020-05-25T21:18:00\", \"2020-05-25T21:21:00\", \"2020-05-25T21:24:00\", \"2020-05-25T21:27:00\", \"2020-05-25T21:30:00\", \"2020-05-25T21:33:00\", \"2020-05-25T21:36:00\", \"2020-05-25T21:39:00\", \"2020-05-25T21:42:00\", \"2020-05-25T21:45:00\", \"2020-05-25T21:48:00\", \"2020-05-25T21:51:00\", \"2020-05-25T21:54:00\", \"2020-05-25T21:57:00\", \"2020-05-25T22:00:00\", \"2020-05-25T22:03:00\", \"2020-05-25T22:06:00\", \"2020-05-25T22:09:00\", \"2020-05-25T22:12:00\", \"2020-05-25T22:15:00\", \"2020-05-25T22:18:00\", \"2020-05-25T22:21:00\", \"2020-05-25T22:24:00\", \"2020-05-25T22:27:00\", \"2020-05-25T22:30:00\", \"2020-05-25T22:33:00\", \"2020-05-25T22:36:00\", \"2020-05-25T22:39:00\", \"2020-05-25T22:42:00\", \"2020-05-25T22:45:00\", \"2020-05-25T22:48:00\", \"2020-05-25T22:51:00\", \"2020-05-25T22:54:00\", \"2020-05-25T22:57:00\", \"2020-05-25T23:00:00\", \"2020-05-25T23:03:00\", \"2020-05-25T23:06:00\", \"2020-05-25T23:09:00\", \"2020-05-25T23:12:00\", \"2020-05-25T23:15:00\", \"2020-05-25T23:18:00\", \"2020-05-25T23:21:00\", \"2020-05-25T23:24:00\", \"2020-05-25T23:27:00\", \"2020-05-25T23:30:00\", \"2020-05-25T23:33:00\", \"2020-05-25T23:36:00\", \"2020-05-25T23:39:00\", \"2020-05-25T23:42:00\", \"2020-05-25T23:45:00\", \"2020-05-25T23:48:00\", \"2020-05-25T23:51:00\", \"2020-05-25T23:54:00\", \"2020-05-25T23:57:00\", \"2020-05-26T00:00:00\", \"2020-05-26T00:03:00\", \"2020-05-26T00:06:00\", \"2020-05-26T00:09:00\", \"2020-05-26T00:12:00\", \"2020-05-26T00:15:00\", \"2020-05-26T00:18:00\", \"2020-05-26T00:21:00\", \"2020-05-26T00:24:00\", \"2020-05-26T00:27:00\", \"2020-05-26T00:30:00\", \"2020-05-26T00:33:00\", \"2020-05-26T00:36:00\", \"2020-05-26T00:39:00\", \"2020-05-26T00:42:00\", \"2020-05-26T00:45:00\", \"2020-05-26T00:48:00\", \"2020-05-26T00:51:00\", \"2020-05-26T00:54:00\", \"2020-05-26T00:57:00\", \"2020-05-26T01:00:00\", \"2020-05-26T01:03:00\"], \"y\": [25340, 25361, 25365, 25368, 25356, 25354, 25349, 25348, 25329, 25341, 25342, 25355, 25361, 25360, 25373, 25372, 25382, 25384, 25380, 25379, 25375, 25364, 25369, 25355, 25339, 25342, 25356, 25347, 25344, 25363, 25346, 25344, 25342, 25339, 25325, 25343, 25332, 25328, 25326, 25329, 25310, 25319, 25312, 25307, 25307, 25306, 25302, 25310, 25305, 25290, 25301, 25325, 25314, 25323, 25321, 25306, 25310, 25322, 25336, 25345, 25331, 25326, 25323, 25316, 25310, 25315, 25309, 25315, 25320, 25313, 25332, 25332, 25339, 25335, 25328, 25328, 25325, 25336, 25325, 25330, 25343, 25357, 25362, 25369, 25370, 25372, 25381, 25383, 25399, 25392, 25397, 25401, 25412, 25419, 25394, 25387, 25391, 25385, 25378, 25373, 25397, 25393, 25398, 25399, 25390, 25398, 25393, 25388, 25376, 25369, 25379, 25378, 25370, 25371, 25366, 25365, 25359, 25362, 25361, 25360, 25363, 25374, 25378, 25361, 25362, 25361, 25369, 25366, 25367, 25358, 25334, 25325, 25323, 25322, 25330, 25340, 25350, 25351, 25350, 25368, 25373, 25376, 25374, 25367, 25382, 25384, 25380, 25378, 25365, 25367, 25359, 25339, 25347, 25349, 25341, 25348, 25350, 25340, 25356, 25355, 25359, 25363, 25362, 25369, 25374, 25372, 25376, 25386, 25379, 25370, 25379, 25385, 25390, 25415, 25409, 25399, 25402, 25410, 25415, 25428, 25415, 25416, 25408, 25388, 25364, 25353, 25365, 25364, 25377, 25384, 25394, 25400, 25409, 25414, 25411, 25423, 25428, 25428, 25434, 25443, 25460, 25467, 25473, 25478, 25469, 25471, 25497, 25491, 25487, 25473, 25476, 25479, 25472, 25467, 25477, 25475, 25453, 25458, 25435, 25438, 25440, 25455, 25457, 25443, 25448, 25432, 25440, 25462, 25454, 25459, 25453, 25450, 25463, 25472, 25479, 25464, 25470, 25464, 25463, 25462, 25461, 25457, 25450, 25464, 25472, 25478, 25478, 25482, 25491, 25491, 25492, 25503, 25515, 25503, 25516, 25508, 25516, 25516, 25531, 25533, 25521, 25520, 25534, 25538, 25542, 25529, 25537, 25531, 25535, 25554, 25563, 25567, 25552, 25568, 25565, 25569, 25569, 25546, 25553, 25569, 25556, 25543, 25542, 25545, 25549, 25544, 25543, 25546, 25543, 25541, 25551, 25554, 25559, 25545, 25532, 25548, 25543, 25542, 25564, 25567, 25574, 25568, 25565, 25560, 25561, 25570, 25580, 25579, 25574, 25577, 25573, 25564, 25562, 25561, 25564, 25571, 25577, 25579, 25593, 25588, 25573, 25570, 25580, 25581, 25601, 25609, 25614, 25612, 25613, 25615, 25605, 25606, 25620, 25625, 25625, 25620, 25622, 25640, 25639, 25627, 25628, 25626, 25627, 25620, 25638, 25639, 25640, 25650, 25672, 25675, 25683, 25674, 25675, 25676, 25662, 25671, 25664, 25678, 25666, 25654, 25660, 25656, 25650, 25662, 25670, 25672, 25680, 25697, 25685, 25694, 25688, 25687, 25697, 25698, 25697, 25694, 25700, 25712, 25712, 25714, 25702, 25713, 25710, 25720, 25721, 25712, 25719, 25718, 25713, 25707, 25715, 25719, 25713, 25703, 25696, 25694, 25700, 25692, 25694, 25691, 25696, 25697, 25692, 25697, 25685, 25682, 25674, 25684, 25683, 25686, 25680, 25687, 25687, 25694, 25695, 25692, 25698, 25693, 25700, 25714, 25714, 25720, 25709, 25714, 25718, 25715, 25698, 25694, 25701, 25706, 25706, 25693, 25695, 25685, 25676, 25682, 25675, 25690, 25695, 25699, 25703, 25703, 25721, 25732, 25729, 25717, 25723, 25722, 25710, 25716, 25701, 25715, 25717, 25714, 25705, 25711, 25733, 25747, 25744, 25730, 25735, 25744, 25727, 25734, 25740, 25749, 25736, 25725, 25745, 25742, 25758, 25750, 25757, 25761, 25773, 25776, 25767, 25767, 25782, 25788, 25779, 25760, 25774, 25775, 25773, 25770, 25762, 25761, 25757, 25753, 25760, 25778, 25775, 25780, 25790, 25798, 25800, 25806, 25807, 25796, 25807, 25816, 25805, 25808, 25819, 25811, 25810, 25819, 25806, 25819, 25819, 25819, 25834, 25834, 25845, 25843, 25832, 25819, 25821, 25825, 25813, 25820, 25832, 25829, 25835, 25819, 25830, 25837, 25828, 25811, 25803, 25810, 25801, 25807, 25808, 25807, 25819, 25800, 25827, 25837, 25826, 25829, 25830, 25832, 25826, 25818, 25813, 25803, 25802, 25812, 25817, 25811, 25803, 25788, 25783, 25806, 25799, 25795, 25797, 25795, 25794, 25801, 25792, 25800, 25806, 25793, 25796, 25785, 25785, 25789, 25779, 25776, 25774, 25769, 25747, 25756, 25760, 25759, 25765, 25762, 25753, 25754, 25749, 25756, 25759, 25760, 25763, 25759, 25756, 25751, 25761, 25769, 25780, 25786, 25779, 25777, 25779, 25760, 25765, 25752, 25748, 25741, 25738, 25733, 25728, 25720, 25720, 25717, 25702, 25710, 25709, 25714, 25714, 25724, 25713, 25706, 25694, 25699, 25693, 25700, 25702, 25714, 25709, 25705, 25705, 25710, 25719, 25723, 25727, 25732, 25724, 25739, 25741, 25745, 25735, 25745, 25734, 25744, 25742, 25739, 25742, 25746, 25736, 25738, 25741, 25736, 25734, 25729, 25720, 25715, 25720, 25717, 25704, 25715, 25711, 25723, 25719, 25718, 25712, 25725, 25721, 25730, 25741, 25749, 25744, 25747, 25752, 25755, 25748, 25745, 25746, 25741, 25744, 25739, 25744, 25750, 25757, 25754, 25753, 25758, 25757, 25752, 25751, 25744, 25756, 25763, 25758, 25769, 25774, 25779, 25768, 25761, 25772, 25777, 25780, 25781, 25795, 25783, 25786, 25791, 25789, 25789, 25777, 25787, 25791, 25790, 25786, 25771, 25784, 25793, 25781, 25790, 25796, 25807, 25821, 25828, 25825, 25831, 25821, 25841, 25855, 25849, 25842, 25828, 25842, 25823, 25818, 25804, 25795, 25800, 25810, 25811, 25810, 25820, 25821, 25817, 25818, 25807, 25804, 25791, 25798, 25796, 25810, 25810, 25827, 25826, 25829, 25832, 25838, 25834, 25836, 25828, 25821, 25831, 25845, 25841, 25851, 25853, 25849, 25851, 25857, 25853, 25860, 25863, 25856, 25849, 25866, 25867, 25866, 25864, 25875, 25867, 25870, 25863, 25868, 25860, 25864, 25856, 25841, 25843, 25840, 25851, 25855, 25865, 25866, 25857, 25852, 25849, 25823, 25828, 25824, 25813, 25817, 25817, 25818, 25811, 25811, 25817, 25821, 25815, 25826, 25836, 25844, 25853, 25845, 25859, 25852, 25866, 25882, 25883, 25903, 25895, 25888, 25880, 25891, 25905, 25908, 25919, 25922, 25929, 25936, 25947, 25947, 25945, 25940, 25946, 25942, 25950, 25965, 25962, 25966, 25959, 25946, 25929, 25925, 25912, 25922, 25928, 25929, 25917, 25917, 25920, 25919, 25922, 25922, 25924, 25918, 25923, 25919, 25921, 25924, 25934, 25938, 25926, 25939, 25926, 25928, 25914, 25911, 25918, 25913, 25916, 25912, 25920, 25931, 25946, 25932, 25944, 25948, 25945, 25956, 25964, 25975, 25978, 25976, 25977, 25987, 25967, 25956, 25946, 25964, 25972, 25967, 25952, 25945, 25947, 25947, 25942, 25929, 25928, 25935, 25939, 25945, 25946, 25950, 25949, 25959, 25960, 25952, 25948, 25948, 25953, 25963, 25963, 25965, 25964, 25970, 25976, 25987, 25972, 25970, 25972, 25977, 25973, 25970, 25972, 25972, 25975, 25983, 26000, 26006, 26016, 26019, 25996, 25995, 26001, 26012, 26025, 26025, 26042, 26038, 26029, 26022, 26025, 26036, 26020, 26035, 26033, 26055, 26068, 26072, 26073, 26068, 26066, 26062, 26074, 26078, 26073, 26081, 26088, 26087, 26085, 26080, 26073, 26067, 26054, 26050, 26070, 26064, 26068, 26065, 26071, 26069, 26065, 26077, 26070, 26077, 26074, 26076, 26073, 26091, 26086, 26079, 26077, 26083, 26093, 26109, 26100, 26105, 26124, 26121, 26128, 26119, 26109, 26107, 26111, 26111, 26107, 26092, 26092, 26096, 26091, 26100, 26114, 26107, 26113, 26111, 26101, 26097, 26100, 26115, 26115, 26132, 26131, 26137, 26124, 26123, 26124, 26129, 26127, 26122, 26126, 26109, 26097, 26092, 26110, 26112, 26103, 26111, 26115, 26119, 26119, 26120, 26120, 26125, 26114, 26121, 26131, 26123, 26116, 26103, 26119, 26110, 26113, 26111, 26110, 26115, 26107, 26116, 26111, 26100, 26108, 26085, 26101, 26102, 26094, 26092, 26086, 26093, 26095, 26094, 26106, 26106, 26100, 26096, 26101, 26100, 26092, 26093, 26098, 26097, 26092, 26102, 26097, 26090, 26087, 26093, 26093, 26085, 26089, 26088, 26080, 26081, 26088, 26089, 26078, 26073, 26089, 26085, 26076, 26069, 26063, 26052, 26058, 26060, 26080, 26103, 26117, 26122, 26135, 26127, 26135, 26141, 26140, 26143, 26127, 26105, 26099, 26103, 26114, 26111, 26114, 26116, 26122, 26105, 26108, 26119, 26099, 26091, 26098, 26077, 26066, 26062, 26065, 26071, 26078, 26068, 26069, 26057, 26059, 26052, 26058, 26055, 26051, 26064, 26062, 26072, 26076, 26075, 26077, 26062, 26058, 26076, 26089, 26079, 26084, 26090, 26102, 26103, 26110, 26111, 26107, 26095, 26085, 26068, 26056, 26072, 26072, 26067, 26057, 26049, 26035, 26037, 26037, 26033, 26024, 26033, 26047, 26055, 26046, 26042, 26032, 26023, 26038, 26042, 26047, 26042, 26055, 26055, 26043, 26039, 26031, 26048, 26049, 26042, 26041, 26041, 26048, 26052, 26058, 26048, 26043, 26033, 26034, 26026, 26019, 26004, 26006, 26003, 25997, 26003, 26002, 26004, 26001, 26007, 26009, 26012, 26004, 26015, 26015, 26019, 26010, 26009, 25992, 25989, 25979, 25967, 25981, 25969, 25943, 25941, 25937, 25933, 25940, 25938, 25934, 25919, 25918, 25910, 25914, 25919, 25900, 25906, 25916, 25929, 25929, 25924, 25916, 25906, 25893, 25895, 25891, 25897, 25905, 25895, 25892, 25899, 25898, 25894, 25905, 25904, 25900, 25902, 25907, 25899, 25897, 25902, 25913, 25908, 25905, 25886, 25885, 25876, 25882, 25877, 25862, 25871, 25877, 25867, 25865, 25855, 25835, 25827, 25839, 25851, 25873, 25873, 25882, 25886, 25876, 25882, 25902, 25915, 25908, 25905, 25914, 25932, 25952, 25946, 25927, 25921, 25920, 25931, 25930, 25937, 25938, 25937, 25932, 25942, 25934, 25937, 25925, 25912, 25922, 25928, 25917, 25910, 25894, 25906, 25902, 25896, 25898, 25882, 25892, 25902, 25898, 25896, 25893, 25882, 25885, 25872, 25867, 25873, 25881, 25885, 25877, 25876, 25868, 25854, 25852, 25840, 25833, 25836, 25836, 25841, 25846, 25855, 25861, 25864, 25855, 25856, 25861, 25860, 25867, 25870, 25881, 25873, 25878, 25881, 25878, 25867, 25865, 25847, 25847, 25848, 25836, 25846, 25835, 25838, 25820, 25803, 25804, 25799, 25800, 25806, 25813, 25820, 25826, 25822, 25845, 25856, 25862, 25865, 25868, 25873, 25884, 25884, 25886, 25884, 25883, 25892, 25906, 25902, 25895, 25881, 25871, 25882, 25889, 25889, 25887, 25883, 25880, 25887, 25876, 25880, 25899, 25885, 25876, 25873, 25885, 25893, 25894, 25890, 25885, 25888, 25885, 25869, 25869, 25880, 25896, 25895, 25907, 25909, 25912, 25913, 25922, 25928, 25913, 25915, 25930, 25940, 25931, 25933, 25941, 25947, 25950, 25948, 25934, 25937, 25932, 25934, 25925, 25934, 25952, 25967, 25945, 25934, 25938, 25929, 25929, 25916, 25927, 25932, 25938, 25936, 25943, 25962, 25961, 25957, 25962, 25987, 25984, 25988, 25998, 25991, 26002, 25998, 25988, 25996, 25998, 26007, 25988, 25987, 25995, 25981, 25974, 25955, 25944, 25952, 25967, 25960, 25968, 25962, 25960, 25970, 25980, 25997, 25977, 25971, 25954, 25946, 25949, 25946, 25939, 25943, 25931, 25952, 25948, 25939, 25944, 25947, 25935, 25944, 25942, 25948, 25937, 25942, 25942, 25947, 25944, 25960, 25967, 25953, 25962, 25967, 25972, 25985, 25988, 25974, 25994, 25995, 25993, 25991, 26002, 26012, 26007, 26008, 25998, 25997, 25989, 25984, 25996, 25997, 25983, 25991, 26004, 26015, 26023, 26028, 26021, 26031, 26026, 26020, 26023, 26042, 26056, 26051, 26050, 26050, 26055, 26066, 26065, 26048, 26044, 26065, 26067, 26071, 26073, 26075, 26065, 26060, 26075, 26066, 26055, 26047, 26053, 26051, 26055, 26042, 26035, 26053, 26056, 26063, 26063, 26058, 26038, 26036, 26037, 26016, 26016, 26018, 26018, 26008, 25989, 25979, 25963, 25968, 25977, 25969, 25969, 25980, 25975, 25970, 25976, 25969, 25966, 25983, 25980, 25993, 25988, 25995, 25987, 25991, 25979, 25981, 25997, 26002, 26000, 25998, 25999, 25993, 25984, 25997, 25989, 26003, 26024, 26025, 26026, 26037, 26038, 26030, 26024, 26027, 26025, 26032, 26034, 26027, 26033, 26029, 26032, 26020, 26031, 26018, 26019, 26014, 26015, 26024, 26018, 26007, 25992, 25996, 26002, 26004, 26002, 25989, 25984, 25992, 26002, 26025, 26029, 26022, 26033, 26045, 26040, 26055, 26052, 26040, 26046, 26039, 26029, 26026, 26020, 26029, 26021, 26027, 26021, 26031, 26049, 26036, 26029, 26023, 26038, 26017, 26019, 26013, 26006, 26005, 26018, 26010, 26018, 26023, 26031, 26031, 26056, 26047, 26033, 26036, 26031, 26039, 26027, 26023, 26027, 26020, 26020, 26021, 26010, 26016, 26019, 26013, 26006, 26009, 26006, 26004, 26010, 26030, 26048, 26046, 26031, 26030, 26034, 26027, 26038, 26030, 26031, 26041, 26042, 26044, 26043, 26044, 26042, 26036, 26035, 26042, 26056, 26046, 26047, 26032, 26047, 26039, 26018, 26020, 26033, 26028, 26041, 26038, 26042, 26052, 26060, 26064, 26069, 26068, 26066, 26065, 26068, 26058, 26060, 26058, 26051, 26059, 26046, 26047, 26051, 26039, 26028, 26030, 26043, 26051, 26050, 26061, 26073, 26083, 26091, 26084, 26080, 26084, 26089, 26085, 26095, 26093, 26107, 26110, 26125, 26136, 26131, 26142, 26150, 26148, 26151, 26154, 26155, 26155, 26153, 26143, 26148, 26147, 26139, 26130, 26152, 26148, 26152, 26150, 26154, 26152, 26147, 26158, 26166, 26186, 26188, 26189, 26189, 26196, 26199, 26186, 26179, 26162, 26164, 26152, 26150, 26151, 26155, 26166, 26157, 26149, 26151, 26156, 26136, 26124, 26117, 26105, 26100, 26088, 26071, 26075, 26075, 26076, 26071, 26085, 26082, 26091, 26078, 26073, 26066, 26070, 26063, 26081, 26098, 26088, 26085, 26100, 26093, 26085, 26085, 26076, 26090, 26087, 26080, 26081, 26090, 26089, 26091, 26087, 26077, 26089, 26092, 26102, 26095, 26088, 26067, 26074, 26080, 26089, 26086, 26082, 26089, 26074, 26072, 26093, 26088, 26075, 26067, 26063, 26060, 26049, 26040, 26049, 26046, 26034, 26055, 26049, 26047, 26041, 26038, 26038, 26034, 26043, 26052, 26071, 26072, 26078, 26066, 26065, 26076, 26075, 26069, 26058, 26050, 26055, 26070, 26081, 26092, 26088, 26072, 26080, 26089, 26085, 26090, 26097, 26091, 26102, 26109, 26101, 26115, 26105, 26091, 26090, 26102, 26091, 26092, 26072, 26071, 26078, 26065, 26052, 26044, 26047, 26040, 26042, 26041, 26065, 26080, 26084, 26089, 26085, 26095, 26114, 26125, 26131, 26127, 26130, 26130, 26136, 26126, 26121, 26105, 26102, 26107, 26104, 26105, 26100, 26103, 26096, 26099, 26100, 26105, 26101, 26099, 26089, 26101, 26112, 26119, 26120, 26124, 26116, 26106, 26103, 26107, 26107, 26105, 26092, 26102, 26109, 26096, 26077, 26086, 26096, 26079, 26079, 26076, 26073, 26081, 26090, 26105, 26105, 26116, 26106, 26113, 26110, 26117, 26131, 26128, 26124, 26124, 26129, 26124, 26125, 26122, 26123, 26120, 26124, 26131, 26116, 26113, 26131, 26137, 26141, 26143, 26153, 26149, 26147, 26141, 26148, 26152, 26141, 26154, 26149, 26154, 26159, 26157, 26152, 26162, 26150, 26158, 26147, 26144, 26137, 26139, 26140, 26152, 26161, 26167, 26174, 26186, 26184, 26192, 26183, 26181, 26178, 26175, 26186, 26178, 26160, 26152, 26141, 26154, 26152, 26160, 26175, 26167, 26167, 26157, 26157, 26145, 26141, 26146, 26135, 26137, 26136, 26124, 26130, 26132, 26141, 26132, 26128, 26131, 26134, 26157, 26160, 26170, 26175, 26171, 26177, 26168, 26166, 26163, 26171, 26174, 26154, 26151, 26163, 26158, 26154, 26153, 26172, 26176, 26197, 26203, 26205, 26216, 26216, 26210, 26209, 26196, 26201, 26193, 26182, 26184, 26182, 26189, 26180, 26178, 26160, 26183, 26178, 26179, 26170, 26170, 26181, 26184, 26182, 26174, 26174, 26163, 26159, 26157, 26140, 26133, 26130, 26125, 26121, 26128, 26122, 26123, 26132, 26153, 26163, 26172, 26176, 26159, 26156, 26159, 26160, 26150, 26134, 26139, 26128, 26131, 26130, 26134, 26133, 26139, 26133, 26138, 26125, 26131, 26140, 26141, 26137, 26135, 26134, 26146, 26132, 26134, 26127, 26129, 26134, 26149, 26145, 26152, 26158, 26145, 26144, 26152, 26164, 26168, 26170, 26168, 26153, 26166, 26153, 26157, 26161, 26146, 26147, 26151, 26156, 26166, 26162, 26179, 26193, 26193, 26190, 26204, 26191, 26193, 26199, 26209, 26211, 26232, 26226, 26226, 26245, 26238, 26235, 26237, 26237, 26215, 26206, 26213, 26206, 26193, 26193, 26186, 26195, 26200, 26189, 26180, 26183, 26176, 26170, 26177, 26180, 26202, 26197, 26197, 26179, 26184, 26197, 26208, 26197, 26193, 26202, 26222, 26246, 26235, 26238, 26229, 26211, 26213, 26205, 26200, 26186, 26180, 26194, 26180, 26174, 26183, 26198, 26204, 26201, 26202, 26213, 26212, 26218, 26195, 26187, 26195, 26201, 26199, 26208, 26206, 26187, 26190, 26205, 26211, 26209, 26203, 26209, 26204, 26195, 26200, 26200, 26190, 26196, 26211, 26213, 26200, 26193, 26195, 26194, 26191, 26201, 26206, 26217, 26214, 26222, 26232, 26215, 26208, 26214, 26213, 26211, 26208, 26204, 26193, 26193, 26181, 26191, 26200, 26209, 26212, 26215, 26219, 26209, 26221, 26218, 26211, 26212, 26210, 26200, 26220, 26220, 26230, 26238, 26234, 26227, 26237, 26241, 26227, 26217, 26196, 26186, 26179, 26165, 26161, 26175, 26178, 26187, 26184, 26178, 26180, 26172, 26174, 26194, 26207, 26222, 26228, 26224, 26230, 26230, 26240, 26239, 26232, 26219, 26207, 26225, 26219, 26196, 26193, 26184, 26174, 26168, 26163, 26166, 26162, 26182, 26177, 26181, 26167, 26171, 26175, 26188, 26174, 26172, 26191, 26196, 26186, 26189, 26178, 26181, 26172, 26183, 26171, 26179, 26178, 26193, 26187, 26193, 26189, 26185, 26181, 26195, 26209, 26195, 26196, 26198, 26192, 26193, 26199, 26187, 26191, 26192, 26173, 26189, 26195, 26208, 26197, 26200, 26187, 26195, 26190, 26191, 26189, 26198, 26199, 26191, 26191, 26197, 26198, 26191, 26196, 26197, 26182, 26179, 26174, 26163, 26157, 26167, 26158, 26166, 26165, 26159, 26153, 26163, 26168, 26157, 26136, 26143, 26144, 26146, 26142, 26135, 26147, 26148, 26126, 26134, 26145, 26128, 26137, 26127, 26122, 26133, 26117, 26106, 26100, 26103, 26105, 26100, 26099, 26112, 26120, 26128, 26113, 26123, 26133, 26126, 26119, 26113, 26113, 26123, 26117, 26114, 26106, 26102, 26090, 26092, 26094, 26094, 26090, 26101, 26095, 26095, 26092, 26103, 26110, 26109, 26113, 26112, 26108, 26100, 26112, 26122, 26112, 26102, 26096, 26096, 26101, 26116, 26122, 26106, 26102, 26110, 26108, 26101, 26098, 26099, 26104, 26097, 26074, 26064, 26057, 26056, 26052, 26042, 26038, 26027, 26034, 26042, 26057, 26059, 26052, 26039, 26050, 26067, 26054, 26056, 26052, 26043, 26034, 26025, 26033, 26023, 26019, 26032, 26045, 26047, 26054, 26056, 26062, 26068, 26071, 26082, 26072, 26073, 26077, 26080, 26071, 26078, 26066, 26060, 26064, 26078, 26087, 26090, 26094, 26092, 26094, 26085, 26072, 26074, 26079, 26065, 26059, 26037, 26013, 26026, 26022, 26020, 26040, 26038, 26034, 26034, 26027, 26031, 26031, 26052, 26038, 26027, 26041, 26042, 26028, 26029, 26037, 26039, 26036, 26031, 26025, 26037, 26043, 26050, 26060, 26061, 26071, 26081, 26075, 26065, 26066, 26058, 26063, 26077, 26056, 26052, 26065, 26049, 26044, 26047, 26046, 26039, 26029, 26006, 26004, 26007, 26015, 26008, 26009, 26001, 26003, 26008, 26007, 26000, 26015, 26013, 26019, 26022, 26006, 26014, 26015, 26017, 26021, 26016, 26021, 26022, 26029, 26014, 26028, 26020, 26038, 26039, 26035, 26040, 26026, 26006, 26012, 26014, 26015, 26028, 26022, 26027, 26013, 26016, 26029, 26031, 26033, 26035, 26038, 26041, 26038, 26021, 26015, 26020, 26025, 26025, 26023, 26035, 26024, 26022, 26016, 26009, 26015, 26015, 26016, 26004, 26015, 26007, 26002, 26008, 26014, 26014, 25999, 26002, 25997, 25987, 25985, 25976, 25979, 25965, 25979, 25969, 25973, 25965, 25958, 25957, 25957, 25957, 25948, 25949, 25955, 25957, 25954, 25964, 25968, 25955, 25955, 25966, 25976, 25993, 26004, 26012, 25998, 26014, 26023, 26011, 26018, 26005, 26005, 25997, 25999, 25995, 25999, 25997, 25989, 25986, 25976, 25966, 25976, 25973, 25958, 25938, 25920, 25907, 25889, 25900, 25902, 25913, 25912, 25926, 25916, 25931, 25936, 25927, 25935, 25923, 25917, 25908, 25887, 25892, 25896, 25898, 25892, 25897, 25883, 25900, 25912, 25902, 25903, 25898, 25917, 25908, 25894, 25881, 25887, 25879, 25885, 25892, 25893, 25902, 25912, 25911, 25917, 25911, 25916, 25912, 25893, 25889, 25865, 25876, 25879, 25882, 25901, 25918, 25920, 25920, 25913, 25929, 25925, 25930, 25928, 25928, 25910, 25906, 25902, 25925, 25920, 25928, 25927, 25935, 25931, 25929, 25919, 25900, 25907, 25911, 25903, 25894, 25896, 25888, 25887, 25878, 25874, 25877, 25883, 25892, 25884, 25875, 25853, 25870, 25870, 25865, 25858, 25841, 25831, 25836, 25818, 25818, 25812, 25821, 25825, 25818, 25799, 25791, 25793, 25789, 25790, 25805, 25814, 25816, 25809, 25818, 25814, 25815, 25817, 25821, 25818, 25805, 25812, 25823, 25826, 25813, 25836, 25839, 25849, 25857, 25839, 25831, 25837, 25824, 25832, 25822, 25837, 25828, 25827, 25826, 25841, 25842, 25855, 25859, 25862, 25858, 25858, 25855, 25858, 25845, 25851, 25857, 25854, 25863, 25863, 25843, 25850, 25866, 25866, 25859, 25857, 25854, 25859, 25860, 25873, 25876, 25877, 25890, 25906, 25912, 25929, 25928, 25920, 25921, 25946, 25948, 25942, 25953, 25947, 25952, 25971, 25981, 25986, 25972, 25975, 25976, 25993, 25992, 25990, 25992, 25983, 25986, 25990, 25998, 25998, 26005, 26020, 26028, 26025, 26041, 26058, 26058, 26074, 26067, 26071, 26071, 26078, 26074, 26077, 26071, 26061, 26065, 26050, 26034, 26039, 26044, 26060, 26054, 26037, 26029, 26037, 26044, 26052, 26055, 26037, 26027, 26016, 26018, 26005, 26008, 26001, 25988, 25975, 25996, 26002, 26014, 26013, 26026, 26033, 26033, 26034, 26028, 26020, 26038, 26025, 26022, 26024, 26025, 26025, 26038, 26041, 26062, 26054, 26046, 26052, 26049, 26046, 26058, 26044, 26054, 26047, 26042, 26049, 26048, 26063, 26072, 26072, 26084, 26088, 26101, 26103, 26115, 26123, 26119, 26124, 26146, 26146, 26135, 26122, 26118, 26119, 26107, 26111, 26120, 26119, 26116, 26115, 26117, 26111, 26114, 26103, 26101, 26111, 26131, 26131, 26138, 26122, 26138, 26136, 26129, 26136, 26151, 26155, 26147, 26143, 26136, 26149, 26149, 26128, 26121, 26131, 26116, 26097, 26088, 26091, 26091, 26087, 26067, 26057, 26063, 26059, 26056, 26051, 26045, 26043, 26036, 26029, 26013, 26005, 26017, 26021, 26042, 26035, 26029, 26026, 26027, 26025, 26010, 26032, 26051, 26044, 26037, 26045, 26048, 26037, 26041, 26049, 26041, 26049, 26043, 26060, 26081, 26083, 26090, 26095, 26091, 26096, 26113, 26131, 26137, 26139, 26123, 26118, 26112, 26132, 26122, 26129, 26130, 26140, 26157, 26159, 26167, 26172, 26179, 26180, 26187, 26182, 26171, 26180, 26190, 26191, 26187, 26167, 26181, 26193, 26199, 26192, 26205, 26184, 26181, 26190, 26200, 26201, 26214, 26198, 26199, 26207, 26213, 26219, 26220, 26235, 26234, 26236, 26230, 26242, 26226, 26221, 26230, 26225, 26229, 26227, 26243, 26243, 26248, 26259, 26240, 26242, 26245, 26245, 26238, 26225, 26231, 26240, 26245, 26250, 26248, 26233, 26218, 26227, 26220, 26227, 26219, 26202, 26192, 26197, 26188, 26174, 26189, 26195, 26183, 26186, 26188, 26183, 26187, 26171, 26180, 26181, 26200, 26201, 26200, 26220, 26237, 26255, 26267, 26279, 26280, 26289, 26293, 26280, 26292, 26300, 26302, 26307, 26315, 26313, 26322, 26313, 26318, 26315, 26319, 26301, 26309, 26309, 26301, 26300, 26317, 26317, 26331, 26331, 26342, 26350, 26356, 26352, 26350, 26347, 26360, 26364, 26367, 26369, 26368, 26352, 26365, 26354, 26356, 26355, 26371, 26379, 26358, 26356, 26364, 26364, 26356, 26355, 26368, 26361, 26364, 26367, 26370, 26386, 26373, 26374, 26373, 26380, 26365, 26373, 26378, 26371, 26371, 26369, 26364, 26359, 26360, 26348, 26348, 26348, 26336, 26336, 26338, 26322, 26343, 26330, 26322, 26323, 26322, 26331, 26346, 26327, 26319, 26317, 26311, 26320, 26322, 26314, 26317, 26323, 26325, 26312, 26317, 26326, 26322, 26321, 26328, 26332, 26342, 26333, 26328, 26327, 26329, 26320, 26320, 26322, 26332, 26335, 26336, 26327, 26322, 26314, 26308, 26301, 26309, 26311, 26322, 26315, 26321, 26327, 26322, 26313, 26295, 26292, 26293, 26291, 26304, 26301, 26323, 26336, 26321, 26313, 26324, 26315, 26322, 26328, 26317, 26311, 26309, 26305, 26312, 26321, 26340, 26361, 26383, 26384, 26395, 26397, 26389, 26384, 26388, 26395, 26395, 26402, 26401, 26398, 26384, 26387, 26376, 26372, 26377, 26366, 26368, 26378, 26378, 26363, 26355, 26347, 26333, 26337, 26351, 26349, 26361, 26383, 26384, 26383, 26373, 26368, 26368, 26357, 26354, 26353, 26354, 26350, 26362, 26362, 26371, 26370, 26380, 26398, 26393, 26388, 26385, 26384, 26377, 26363, 26361, 26363, 26360, 26378, 26376, 26373, 26364, 26365, 26360, 26369, 26375, 26381, 26382, 26385, 26378, 26355, 26350, 26372, 26378, 26377, 26386, 26387, 26371, 26369, 26363, 26350, 26355, 26344, 26348, 26353, 26354, 26363, 26366, 26375, 26372, 26381, 26381, 26376, 26375, 26373, 26361, 26373, 26370, 26379, 26367, 26366, 26368, 26380, 26386, 26372, 26368, 26380, 26391, 26376, 26381, 26400, 26408, 26414, 26418, 26430, 26450, 26450, 26444, 26442, 26444, 26433, 26426, 26423, 26434, 26428, 26416, 26400, 26420, 26430, 26438, 26423, 26431, 26453, 26442, 26428]}, {\"line\": {\"color\": \"#f4aaa8\"}, \"name\": \"Forecasting\", \"opacity\": 0.8, \"type\": \"scatter\", \"x\": [\"2020-05-26T01:06:00\", \"2020-05-26T01:09:00\", \"2020-05-26T01:12:00\", \"2020-05-26T01:15:00\", \"2020-05-26T01:18:00\", \"2020-05-26T01:21:00\", \"2020-05-26T01:24:00\", \"2020-05-26T01:27:00\", \"2020-05-26T01:30:00\", \"2020-05-26T01:33:00\", \"2020-05-26T01:36:00\", \"2020-05-26T01:39:00\", \"2020-05-26T01:42:00\", \"2020-05-26T01:45:00\", \"2020-05-26T01:48:00\", \"2020-05-26T01:51:00\", \"2020-05-26T01:54:00\", \"2020-05-26T01:57:00\", \"2020-05-26T02:00:00\", \"2020-05-26T02:03:00\", \"2020-05-26T02:06:00\", \"2020-05-26T02:09:00\", \"2020-05-26T02:12:00\", \"2020-05-26T02:15:00\", \"2020-05-26T02:18:00\", \"2020-05-26T02:21:00\", \"2020-05-26T02:24:00\", \"2020-05-26T02:27:00\", \"2020-05-26T02:30:00\", \"2020-05-26T02:33:00\", \"2020-05-26T02:36:00\", \"2020-05-26T02:39:00\", \"2020-05-26T02:42:00\", \"2020-05-26T02:45:00\", \"2020-05-26T02:48:00\", \"2020-05-26T02:51:00\", \"2020-05-26T02:54:00\", \"2020-05-26T02:57:00\", \"2020-05-26T03:00:00\", \"2020-05-26T03:03:00\", \"2020-05-26T03:06:00\", \"2020-05-26T03:09:00\", \"2020-05-26T03:12:00\", \"2020-05-26T03:15:00\", \"2020-05-26T03:18:00\", \"2020-05-26T03:21:00\", \"2020-05-26T03:24:00\", \"2020-05-26T03:27:00\", \"2020-05-26T03:30:00\", \"2020-05-26T03:33:00\", \"2020-05-26T03:36:00\", \"2020-05-26T03:39:00\", \"2020-05-26T03:42:00\", \"2020-05-26T03:45:00\", \"2020-05-26T03:48:00\", \"2020-05-26T03:51:00\", \"2020-05-26T03:54:00\", \"2020-05-26T03:57:00\", \"2020-05-26T04:00:00\", \"2020-05-26T04:03:00\", \"2020-05-26T04:06:00\", \"2020-05-26T04:09:00\", \"2020-05-26T04:12:00\", \"2020-05-26T04:15:00\", \"2020-05-26T04:18:00\", \"2020-05-26T04:21:00\", \"2020-05-26T04:24:00\", \"2020-05-26T04:27:00\", \"2020-05-26T04:30:00\", \"2020-05-26T04:33:00\", \"2020-05-26T04:36:00\", \"2020-05-26T04:39:00\", \"2020-05-26T04:42:00\", \"2020-05-26T04:45:00\", \"2020-05-26T04:48:00\", \"2020-05-26T04:51:00\", \"2020-05-26T04:54:00\", \"2020-05-26T04:57:00\", \"2020-05-26T05:00:00\", \"2020-05-26T05:03:00\", \"2020-05-26T05:06:00\", \"2020-05-26T05:09:00\", \"2020-05-26T05:12:00\", \"2020-05-26T05:15:00\", \"2020-05-26T05:18:00\", \"2020-05-26T05:21:00\", \"2020-05-26T05:24:00\", \"2020-05-26T05:27:00\", \"2020-05-26T05:30:00\", \"2020-05-26T05:33:00\", \"2020-05-26T05:36:00\", \"2020-05-26T05:39:00\", \"2020-05-26T05:42:00\", \"2020-05-26T05:45:00\", \"2020-05-26T05:48:00\", \"2020-05-26T05:51:00\", \"2020-05-26T05:54:00\", \"2020-05-26T05:57:00\", \"2020-05-26T06:00:00\", \"2020-05-26T06:03:00\"], \"y\": [25337.015519016695, 25337.128369499398, 25337.231430746124, 25337.32535631855, 25337.41083013734, 25337.488563639443, 25337.559292873637, 25337.623775539054, 25337.6827879785, 25337.7371221354, 25337.7875824834, 25337.83498293738, 25337.88014375706, 25337.923888449528, 25337.967040683645, 25338.010421222298, 25338.054844883955, 25338.10111754058, 25338.15003316418, 25338.20237092648, 25338.258892363017, 25338.32033861037, 25338.38742772265, 25338.460852076783, 25338.54127587391, 25338.62933274343, 25338.725623457896, 25338.83071376464, 25338.945132340064, 25339.06936887426, 25339.203872289927, 25339.349049099954, 25339.505261911316, 25339.67282807662, 25339.852018500496, 25340.0430565967, 25340.246117411665, 25340.461326904846, 25340.68876139239, 25340.928447157217, 25341.180360224298, 25341.444426304224, 25341.720520899067, 25342.00846957724, 25342.308048413848, 25342.618984592234, 25342.940957167786, 25343.273597993644, 25343.616492796624, 25343.969182412035, 25344.33116416444, 25344.70189339418, 25345.080785123773, 25345.467215858836, 25345.860525522214, 25346.26001950471, 25346.66497084048, 25347.07462249024, 25347.488189726966, 25347.90486262336, 25348.323808625013, 25348.744175203046, 25349.165092585827, 25349.58567655183, 25350.005031285244, 25350.422252266228, 25350.83642921959, 25351.24664908245, 25351.651998992453, 25352.051569295396, 25352.44445655149, 25352.829766542654, 25353.20661725409, 25353.574141842102, 25353.931491567004, 25354.277838682152, 25354.6123792738, 25354.934336044927, 25355.242961024825, 25355.53753820999, 25355.817386115916, 25356.08186024227, 25356.330355432423, 25356.562308130564, 25356.77719852566, 25356.974552569864, 25357.153943875477, 25357.31499547629, 25357.457381450375, 25357.580828399907, 25357.685116782806, 25357.77008208814, 25357.835615859065, 25357.88166655097, 25357.90824022863, 25357.915401095892, 25357.903271856925, 25357.87203390801, 25357.821927356712, 25357.753250870428]}],\n",
              "                        {\"paper_bgcolor\": \"#dec7f2\", \"template\": {\"data\": {\"bar\": [{\"error_x\": {\"color\": \"#2a3f5f\"}, \"error_y\": {\"color\": \"#2a3f5f\"}, \"marker\": {\"line\": {\"color\": \"#E5ECF6\", \"width\": 0.5}}, \"type\": \"bar\"}], \"barpolar\": [{\"marker\": {\"line\": {\"color\": \"#E5ECF6\", \"width\": 0.5}}, \"type\": \"barpolar\"}], \"carpet\": [{\"aaxis\": {\"endlinecolor\": \"#2a3f5f\", \"gridcolor\": \"white\", \"linecolor\": \"white\", \"minorgridcolor\": \"white\", \"startlinecolor\": \"#2a3f5f\"}, \"baxis\": {\"endlinecolor\": \"#2a3f5f\", \"gridcolor\": \"white\", \"linecolor\": \"white\", \"minorgridcolor\": \"white\", \"startlinecolor\": \"#2a3f5f\"}, \"type\": \"carpet\"}], \"choropleth\": [{\"colorbar\": {\"outlinewidth\": 0, \"ticks\": \"\"}, \"type\": \"choropleth\"}], \"contour\": [{\"colorbar\": {\"outlinewidth\": 0, \"ticks\": \"\"}, \"colorscale\": [[0.0, \"#0d0887\"], [0.1111111111111111, \"#46039f\"], [0.2222222222222222, \"#7201a8\"], [0.3333333333333333, \"#9c179e\"], [0.4444444444444444, \"#bd3786\"], [0.5555555555555556, \"#d8576b\"], [0.6666666666666666, \"#ed7953\"], [0.7777777777777778, \"#fb9f3a\"], [0.8888888888888888, \"#fdca26\"], [1.0, \"#f0f921\"]], \"type\": \"contour\"}], \"contourcarpet\": [{\"colorbar\": {\"outlinewidth\": 0, \"ticks\": \"\"}, \"type\": \"contourcarpet\"}], \"heatmap\": [{\"colorbar\": {\"outlinewidth\": 0, \"ticks\": \"\"}, \"colorscale\": [[0.0, \"#0d0887\"], [0.1111111111111111, \"#46039f\"], [0.2222222222222222, \"#7201a8\"], [0.3333333333333333, \"#9c179e\"], [0.4444444444444444, \"#bd3786\"], [0.5555555555555556, \"#d8576b\"], [0.6666666666666666, \"#ed7953\"], [0.7777777777777778, \"#fb9f3a\"], [0.8888888888888888, \"#fdca26\"], [1.0, \"#f0f921\"]], \"type\": \"heatmap\"}], \"heatmapgl\": [{\"colorbar\": {\"outlinewidth\": 0, \"ticks\": \"\"}, \"colorscale\": [[0.0, \"#0d0887\"], [0.1111111111111111, \"#46039f\"], [0.2222222222222222, \"#7201a8\"], [0.3333333333333333, \"#9c179e\"], [0.4444444444444444, \"#bd3786\"], [0.5555555555555556, \"#d8576b\"], [0.6666666666666666, \"#ed7953\"], [0.7777777777777778, \"#fb9f3a\"], [0.8888888888888888, \"#fdca26\"], [1.0, \"#f0f921\"]], \"type\": \"heatmapgl\"}], \"histogram\": [{\"marker\": {\"colorbar\": {\"outlinewidth\": 0, \"ticks\": \"\"}}, \"type\": \"histogram\"}], \"histogram2d\": [{\"colorbar\": {\"outlinewidth\": 0, \"ticks\": \"\"}, \"colorscale\": [[0.0, \"#0d0887\"], [0.1111111111111111, \"#46039f\"], [0.2222222222222222, \"#7201a8\"], [0.3333333333333333, \"#9c179e\"], [0.4444444444444444, \"#bd3786\"], [0.5555555555555556, \"#d8576b\"], [0.6666666666666666, \"#ed7953\"], [0.7777777777777778, \"#fb9f3a\"], [0.8888888888888888, \"#fdca26\"], [1.0, \"#f0f921\"]], \"type\": \"histogram2d\"}], \"histogram2dcontour\": [{\"colorbar\": {\"outlinewidth\": 0, \"ticks\": \"\"}, \"colorscale\": [[0.0, \"#0d0887\"], [0.1111111111111111, \"#46039f\"], [0.2222222222222222, \"#7201a8\"], [0.3333333333333333, \"#9c179e\"], [0.4444444444444444, \"#bd3786\"], [0.5555555555555556, \"#d8576b\"], [0.6666666666666666, \"#ed7953\"], [0.7777777777777778, \"#fb9f3a\"], [0.8888888888888888, \"#fdca26\"], [1.0, \"#f0f921\"]], \"type\": \"histogram2dcontour\"}], \"mesh3d\": [{\"colorbar\": {\"outlinewidth\": 0, \"ticks\": \"\"}, \"type\": \"mesh3d\"}], \"parcoords\": [{\"line\": {\"colorbar\": {\"outlinewidth\": 0, \"ticks\": \"\"}}, \"type\": \"parcoords\"}], \"pie\": [{\"automargin\": true, \"type\": \"pie\"}], \"scatter\": [{\"marker\": {\"colorbar\": {\"outlinewidth\": 0, \"ticks\": \"\"}}, \"type\": \"scatter\"}], \"scatter3d\": [{\"line\": {\"colorbar\": {\"outlinewidth\": 0, \"ticks\": \"\"}}, \"marker\": {\"colorbar\": {\"outlinewidth\": 0, \"ticks\": \"\"}}, \"type\": \"scatter3d\"}], \"scattercarpet\": [{\"marker\": {\"colorbar\": {\"outlinewidth\": 0, \"ticks\": \"\"}}, \"type\": \"scattercarpet\"}], \"scattergeo\": [{\"marker\": {\"colorbar\": {\"outlinewidth\": 0, \"ticks\": \"\"}}, \"type\": \"scattergeo\"}], \"scattergl\": [{\"marker\": {\"colorbar\": {\"outlinewidth\": 0, \"ticks\": \"\"}}, \"type\": \"scattergl\"}], \"scattermapbox\": [{\"marker\": {\"colorbar\": {\"outlinewidth\": 0, \"ticks\": \"\"}}, \"type\": \"scattermapbox\"}], \"scatterpolar\": [{\"marker\": {\"colorbar\": {\"outlinewidth\": 0, \"ticks\": \"\"}}, \"type\": \"scatterpolar\"}], \"scatterpolargl\": [{\"marker\": {\"colorbar\": {\"outlinewidth\": 0, \"ticks\": \"\"}}, \"type\": \"scatterpolargl\"}], \"scatterternary\": [{\"marker\": {\"colorbar\": {\"outlinewidth\": 0, \"ticks\": \"\"}}, \"type\": \"scatterternary\"}], \"surface\": [{\"colorbar\": {\"outlinewidth\": 0, \"ticks\": \"\"}, \"colorscale\": [[0.0, \"#0d0887\"], [0.1111111111111111, \"#46039f\"], [0.2222222222222222, \"#7201a8\"], [0.3333333333333333, \"#9c179e\"], [0.4444444444444444, \"#bd3786\"], [0.5555555555555556, \"#d8576b\"], [0.6666666666666666, \"#ed7953\"], [0.7777777777777778, \"#fb9f3a\"], [0.8888888888888888, \"#fdca26\"], [1.0, \"#f0f921\"]], \"type\": \"surface\"}], \"table\": [{\"cells\": {\"fill\": {\"color\": \"#EBF0F8\"}, \"line\": {\"color\": \"white\"}}, \"header\": {\"fill\": {\"color\": \"#C8D4E3\"}, \"line\": {\"color\": \"white\"}}, \"type\": \"table\"}]}, \"layout\": {\"annotationdefaults\": {\"arrowcolor\": \"#2a3f5f\", \"arrowhead\": 0, \"arrowwidth\": 1}, \"coloraxis\": {\"colorbar\": {\"outlinewidth\": 0, \"ticks\": \"\"}}, \"colorscale\": {\"diverging\": [[0, \"#8e0152\"], [0.1, \"#c51b7d\"], [0.2, \"#de77ae\"], [0.3, \"#f1b6da\"], [0.4, \"#fde0ef\"], [0.5, \"#f7f7f7\"], [0.6, \"#e6f5d0\"], [0.7, \"#b8e186\"], [0.8, \"#7fbc41\"], [0.9, \"#4d9221\"], [1, \"#276419\"]], \"sequential\": [[0.0, \"#0d0887\"], [0.1111111111111111, \"#46039f\"], [0.2222222222222222, \"#7201a8\"], [0.3333333333333333, \"#9c179e\"], [0.4444444444444444, \"#bd3786\"], [0.5555555555555556, \"#d8576b\"], [0.6666666666666666, \"#ed7953\"], [0.7777777777777778, \"#fb9f3a\"], [0.8888888888888888, \"#fdca26\"], [1.0, \"#f0f921\"]], \"sequentialminus\": [[0.0, \"#0d0887\"], [0.1111111111111111, \"#46039f\"], [0.2222222222222222, \"#7201a8\"], [0.3333333333333333, \"#9c179e\"], [0.4444444444444444, \"#bd3786\"], [0.5555555555555556, \"#d8576b\"], [0.6666666666666666, \"#ed7953\"], [0.7777777777777778, \"#fb9f3a\"], [0.8888888888888888, \"#fdca26\"], [1.0, \"#f0f921\"]]}, \"colorway\": [\"#636efa\", \"#EF553B\", \"#00cc96\", \"#ab63fa\", \"#FFA15A\", \"#19d3f3\", \"#FF6692\", \"#B6E880\", \"#FF97FF\", \"#FECB52\"], \"font\": {\"color\": \"#2a3f5f\"}, \"geo\": {\"bgcolor\": \"white\", \"lakecolor\": \"white\", \"landcolor\": \"#E5ECF6\", \"showlakes\": true, \"showland\": true, \"subunitcolor\": \"white\"}, \"hoverlabel\": {\"align\": \"left\"}, \"hovermode\": \"closest\", \"mapbox\": {\"style\": \"light\"}, \"paper_bgcolor\": \"white\", \"plot_bgcolor\": \"#E5ECF6\", \"polar\": {\"angularaxis\": {\"gridcolor\": \"white\", \"linecolor\": \"white\", \"ticks\": \"\"}, \"bgcolor\": \"#E5ECF6\", \"radialaxis\": {\"gridcolor\": \"white\", \"linecolor\": \"white\", \"ticks\": \"\"}}, \"scene\": {\"xaxis\": {\"backgroundcolor\": \"#E5ECF6\", \"gridcolor\": \"white\", \"gridwidth\": 2, \"linecolor\": \"white\", \"showbackground\": true, \"ticks\": \"\", \"zerolinecolor\": \"white\"}, \"yaxis\": {\"backgroundcolor\": \"#E5ECF6\", \"gridcolor\": \"white\", \"gridwidth\": 2, \"linecolor\": \"white\", \"showbackground\": true, \"ticks\": \"\", \"zerolinecolor\": \"white\"}, \"zaxis\": {\"backgroundcolor\": \"#E5ECF6\", \"gridcolor\": \"white\", \"gridwidth\": 2, \"linecolor\": \"white\", \"showbackground\": true, \"ticks\": \"\", \"zerolinecolor\": \"white\"}}, \"shapedefaults\": {\"line\": {\"color\": \"#2a3f5f\"}}, \"ternary\": {\"aaxis\": {\"gridcolor\": \"white\", \"linecolor\": \"white\", \"ticks\": \"\"}, \"baxis\": {\"gridcolor\": \"white\", \"linecolor\": \"white\", \"ticks\": \"\"}, \"bgcolor\": \"#E5ECF6\", \"caxis\": {\"gridcolor\": \"white\", \"linecolor\": \"white\", \"ticks\": \"\"}}, \"title\": {\"x\": 0.05}, \"xaxis\": {\"automargin\": true, \"gridcolor\": \"white\", \"linecolor\": \"white\", \"ticks\": \"\", \"title\": {\"standoff\": 15}, \"zerolinecolor\": \"white\", \"zerolinewidth\": 2}, \"yaxis\": {\"automargin\": true, \"gridcolor\": \"white\", \"linecolor\": \"white\", \"ticks\": \"\", \"title\": {\"standoff\": 15}, \"zerolinecolor\": \"white\", \"zerolinewidth\": 2}}}, \"title\": {\"text\": \"Time series for Actual and Forecasting Value \"}, \"xaxis\": {\"title\": {\"text\": \"Time(sec)\"}}, \"yaxis\": {\"title\": {\"text\": \"Accel norm\"}}},\n",
              "                        {\"responsive\": true}\n",
              "                    ).then(function(){\n",
              "                            \n",
              "var gd = document.getElementById('c2bdcf1a-463e-4b49-9435-8377cecb8718');\n",
              "var x = new MutationObserver(function (mutations, observer) {{\n",
              "        var display = window.getComputedStyle(gd).display;\n",
              "        if (!display || display === 'none') {{\n",
              "            console.log([gd, 'removed!']);\n",
              "            Plotly.purge(gd);\n",
              "            observer.disconnect();\n",
              "        }}\n",
              "}});\n",
              "\n",
              "// Listen for the removal of the full notebook cells\n",
              "var notebookContainer = gd.closest('#notebook-container');\n",
              "if (notebookContainer) {{\n",
              "    x.observe(notebookContainer, {childList: true});\n",
              "}}\n",
              "\n",
              "// Listen for the clearing of the current output cell\n",
              "var outputEl = gd.closest('.output');\n",
              "if (outputEl) {{\n",
              "    x.observe(outputEl, {childList: true});\n",
              "}}\n",
              "\n",
              "                        })\n",
              "                };\n",
              "                \n",
              "            </script>\n",
              "        </div>\n",
              "</body>\n",
              "</html>"
            ]
          },
          "metadata": {
            "tags": []
          }
        }
      ]
    },
    {
      "cell_type": "code",
      "metadata": {
        "id": "swEQHZxbXHSn",
        "colab_type": "code",
        "colab": {}
      },
      "source": [
        "data_output = pd.concat([data, data_predicted], axis = 0)\n",
        "data_output.tail()\n",
        "data_output[['time', 'Value']].to_csv(\"data_output_forecast_100.csv\", index = False)"
      ],
      "execution_count": 0,
      "outputs": []
    },
    {
      "cell_type": "markdown",
      "metadata": {
        "id": "VBBI_83IL1zQ",
        "colab_type": "text"
      },
      "source": [
        "# Prediction using SVR"
      ]
    },
    {
      "cell_type": "code",
      "metadata": {
        "id": "tD4bNmH6L5YM",
        "colab_type": "code",
        "colab": {}
      },
      "source": [
        "import pandas as pd\n",
        "from sklearn.svm import SVR \n",
        "from sklearn.model_selection import GridSearchCV"
      ],
      "execution_count": 0,
      "outputs": []
    },
    {
      "cell_type": "code",
      "metadata": {
        "id": "IAubx2wnMDox",
        "colab_type": "code",
        "outputId": "883a14ca-70a5-4b03-cfeb-337973ab4a0b",
        "colab": {
          "base_uri": "https://localhost:8080/",
          "height": 206
        }
      },
      "source": [
        "data_p = pd.read_csv(\"/content/data_input.csv\")\n",
        "data_p.head()"
      ],
      "execution_count": 37,
      "outputs": [
        {
          "output_type": "execute_result",
          "data": {
            "text/html": [
              "<div>\n",
              "<style scoped>\n",
              "    .dataframe tbody tr th:only-of-type {\n",
              "        vertical-align: middle;\n",
              "    }\n",
              "\n",
              "    .dataframe tbody tr th {\n",
              "        vertical-align: top;\n",
              "    }\n",
              "\n",
              "    .dataframe thead th {\n",
              "        text-align: right;\n",
              "    }\n",
              "</style>\n",
              "<table border=\"1\" class=\"dataframe\">\n",
              "  <thead>\n",
              "    <tr style=\"text-align: right;\">\n",
              "      <th></th>\n",
              "      <th>Timestamp</th>\n",
              "      <th>Value</th>\n",
              "      <th>time</th>\n",
              "    </tr>\n",
              "  </thead>\n",
              "  <tbody>\n",
              "    <tr>\n",
              "      <th>0</th>\n",
              "      <td>20200518451</td>\n",
              "      <td>25340</td>\n",
              "      <td>2020-05-18 22:30:00</td>\n",
              "    </tr>\n",
              "    <tr>\n",
              "      <th>1</th>\n",
              "      <td>20200518452</td>\n",
              "      <td>25361</td>\n",
              "      <td>2020-05-18 22:33:00</td>\n",
              "    </tr>\n",
              "    <tr>\n",
              "      <th>2</th>\n",
              "      <td>20200518453</td>\n",
              "      <td>25365</td>\n",
              "      <td>2020-05-18 22:36:00</td>\n",
              "    </tr>\n",
              "    <tr>\n",
              "      <th>3</th>\n",
              "      <td>20200518454</td>\n",
              "      <td>25368</td>\n",
              "      <td>2020-05-18 22:39:00</td>\n",
              "    </tr>\n",
              "    <tr>\n",
              "      <th>4</th>\n",
              "      <td>20200518455</td>\n",
              "      <td>25356</td>\n",
              "      <td>2020-05-18 22:42:00</td>\n",
              "    </tr>\n",
              "  </tbody>\n",
              "</table>\n",
              "</div>"
            ],
            "text/plain": [
              "     Timestamp  Value                 time\n",
              "0  20200518451  25340  2020-05-18 22:30:00\n",
              "1  20200518452  25361  2020-05-18 22:33:00\n",
              "2  20200518453  25365  2020-05-18 22:36:00\n",
              "3  20200518454  25368  2020-05-18 22:39:00\n",
              "4  20200518455  25356  2020-05-18 22:42:00"
            ]
          },
          "metadata": {
            "tags": []
          },
          "execution_count": 37
        }
      ]
    },
    {
      "cell_type": "code",
      "metadata": {
        "id": "7dp3mFFFMOtY",
        "colab_type": "code",
        "outputId": "05105a87-cbbd-4492-e407-7565b6291f13",
        "colab": {
          "base_uri": "https://localhost:8080/",
          "height": 35
        }
      },
      "source": [
        "column_split = 15 \n",
        "cnt = 0 \n",
        "list_s = []\n",
        "list_l = []\n",
        "\n",
        "# Creating a splitted file\n",
        "for ind, val in enumerate(data_p['Value']):\n",
        "  if (ind+1) % column_split == 0:\n",
        "    list_s.append(val)\n",
        "    list_l.append(list_s)\n",
        "    list_s = []\n",
        "  else:\n",
        "    list_s.append(val)\n",
        "list_l.append(list_s)\n",
        "\n",
        "col_name = []\n",
        "for i in range(1, column_split+1):\n",
        "  col_name.append('C'+str(i))\n",
        "print(col_name)\n",
        "\n",
        "data_trans = pd.DataFrame(list_l, columns=col_name)\n",
        "data_trans.head()\n",
        "data_trans.to_csv(\"data_transposed_input_15_split.csv\", index = False)\n",
        "\n",
        "# DRop Nan\n",
        "data_trans.dropna(inplace = True)"
      ],
      "execution_count": 38,
      "outputs": [
        {
          "output_type": "stream",
          "text": [
            "['C1', 'C2', 'C3', 'C4', 'C5', 'C6', 'C7', 'C8', 'C9', 'C10', 'C11', 'C12', 'C13', 'C14', 'C15']\n"
          ],
          "name": "stdout"
        }
      ]
    },
    {
      "cell_type": "code",
      "metadata": {
        "id": "9z1OBZ3tWzYD",
        "colab_type": "code",
        "outputId": "67cb9e5f-8211-49b6-da41-c09ea06103c7",
        "colab": {
          "base_uri": "https://localhost:8080/",
          "height": 293
        }
      },
      "source": [
        "y = data_trans['C15']\n",
        "X = data_trans.drop('C15', axis = 1)\n",
        "parameters = {'kernel':('linear', 'rbf'), 'C':[1, 10]}\n",
        "svc = SVR()\n",
        "clf = GridSearchCV(svc, parameters)\n",
        "clf.fit(X, y)\n",
        "\n",
        "\n",
        "sorted(clf.cv_results_.keys())"
      ],
      "execution_count": 39,
      "outputs": [
        {
          "output_type": "execute_result",
          "data": {
            "text/plain": [
              "['mean_fit_time',\n",
              " 'mean_score_time',\n",
              " 'mean_test_score',\n",
              " 'param_C',\n",
              " 'param_kernel',\n",
              " 'params',\n",
              " 'rank_test_score',\n",
              " 'split0_test_score',\n",
              " 'split1_test_score',\n",
              " 'split2_test_score',\n",
              " 'split3_test_score',\n",
              " 'split4_test_score',\n",
              " 'std_fit_time',\n",
              " 'std_score_time',\n",
              " 'std_test_score']"
            ]
          },
          "metadata": {
            "tags": []
          },
          "execution_count": 39
        }
      ]
    },
    {
      "cell_type": "code",
      "metadata": {
        "id": "XoeTnvxBZm23",
        "colab_type": "code",
        "colab": {}
      },
      "source": [
        "from sklearn.model_selection import train_test_split\n",
        "\n",
        "X_train, X_test, y_train, y_test = train_test_split(X, y, random_state = 101, test_size = 0.2)\n"
      ],
      "execution_count": 0,
      "outputs": []
    },
    {
      "cell_type": "code",
      "metadata": {
        "id": "13-y0TUKadIt",
        "colab_type": "code",
        "outputId": "ed6b40ee-b954-4717-b5c1-5bdf0cf00fde",
        "colab": {
          "base_uri": "https://localhost:8080/",
          "height": 35
        }
      },
      "source": [
        "from sklearn.model_selection import cross_val_score\n",
        "\n",
        "parameters = {'kernel':('linear', 'rbf'), 'C':[1, 10]}\n",
        "svc = SVR()\n",
        "clf = GridSearchCV(svc, parameters,cv=5)\n",
        "clf.fit(X_train, y_train)\n",
        "# scores\n",
        "clf.best_params_"
      ],
      "execution_count": 41,
      "outputs": [
        {
          "output_type": "execute_result",
          "data": {
            "text/plain": [
              "{'C': 10, 'kernel': 'rbf'}"
            ]
          },
          "metadata": {
            "tags": []
          },
          "execution_count": 41
        }
      ]
    },
    {
      "cell_type": "code",
      "metadata": {
        "id": "ufkXQbabckiX",
        "colab_type": "code",
        "outputId": "ffd86eb6-fb3f-4526-bec7-0017fce46a0c",
        "colab": {
          "base_uri": "https://localhost:8080/",
          "height": 54
        }
      },
      "source": [
        "clf = SVR(kernel='rbf', C=10)\n",
        "scores = cross_val_score(clf, X_train, y_train, cv=5)\n",
        "clf.fit(X_train, y_train)"
      ],
      "execution_count": 42,
      "outputs": [
        {
          "output_type": "execute_result",
          "data": {
            "text/plain": [
              "SVR(C=10, cache_size=200, coef0=0.0, degree=3, epsilon=0.1, gamma='scale',\n",
              "    kernel='rbf', max_iter=-1, shrinking=True, tol=0.001, verbose=False)"
            ]
          },
          "metadata": {
            "tags": []
          },
          "execution_count": 42
        }
      ]
    },
    {
      "cell_type": "code",
      "metadata": {
        "id": "KfClfvtdj5-o",
        "colab_type": "code",
        "colab": {}
      },
      "source": [
        "# Saving model\n",
        "import pickle as pkl\n",
        "filename = 'finalized_model.sav'\n",
        "\n",
        "if 1 == 2 :\n",
        "  pkl.dump(clf, open(filename, 'wb'))\n",
        "else:\n",
        "  clf = pkl.load(open(filename, 'rb'))"
      ],
      "execution_count": 0,
      "outputs": []
    },
    {
      "cell_type": "code",
      "metadata": {
        "id": "uRJ66zKQe7qH",
        "colab_type": "code",
        "outputId": "55c576e8-3e73-4fa2-ec1c-624db6c280cd",
        "colab": {
          "base_uri": "https://localhost:8080/",
          "height": 237
        }
      },
      "source": [
        "pred = clf.predict(X_test)\n",
        "pred"
      ],
      "execution_count": 45,
      "outputs": [
        {
          "output_type": "execute_result",
          "data": {
            "text/plain": [
              "array([26107.59927396, 25918.43535936, 25833.26807659, 25963.52283457,\n",
              "       25818.3013345 , 26037.17385174, 25807.8659192 , 26179.21298487,\n",
              "       26105.10007658, 26109.0167271 , 26114.99111042, 25823.27560129,\n",
              "       25931.36118678, 26004.9619518 , 26157.16649816, 25745.01524778,\n",
              "       26031.96048849, 25926.16131753, 26058.44562876, 26171.39201149,\n",
              "       26173.33818048, 26021.14453061, 26119.68154545, 25828.44175697,\n",
              "       26009.45063529, 25746.8975801 , 26170.71515449, 25839.30701584,\n",
              "       25834.05976539, 26098.71453585, 26017.80322344, 25779.92181676,\n",
              "       25978.25718473, 26118.29535631, 26165.09069198, 25978.50880348,\n",
              "       26083.17898872, 25856.26424517, 25694.26274309, 26035.6194241 ,\n",
              "       26033.18312212, 26177.01718871, 26013.70257806, 25748.71444648,\n",
              "       26026.79140437, 25867.9169425 ])"
            ]
          },
          "metadata": {
            "tags": []
          },
          "execution_count": 45
        }
      ]
    },
    {
      "cell_type": "code",
      "metadata": {
        "id": "Mwmi-8nBfBvz",
        "colab_type": "code",
        "outputId": "2d37171e-4471-46c1-c53f-984c0597421f",
        "colab": {
          "base_uri": "https://localhost:8080/",
          "height": 127
        }
      },
      "source": [
        "y_test.values"
      ],
      "execution_count": 46,
      "outputs": [
        {
          "output_type": "execute_result",
          "data": {
            "text/plain": [
              "array([26092., 25940., 25793., 25938., 25819., 26049., 25789., 26389.,\n",
              "       26057., 26137., 26117., 25837., 25934., 26015., 26152., 25328.,\n",
              "       26029., 25945., 26080., 26214., 26202., 26029., 26420., 25821.,\n",
              "       26015., 25732., 26198., 25827., 25835., 26095., 26020., 25788.,\n",
              "       25969., 26111., 26344., 26023., 26109., 25870., 25462., 26060.,\n",
              "       26029., 26209., 26055., 25707., 26041., 25906.])"
            ]
          },
          "metadata": {
            "tags": []
          },
          "execution_count": 46
        }
      ]
    },
    {
      "cell_type": "code",
      "metadata": {
        "id": "kV9h2d3ygEr4",
        "colab_type": "code",
        "outputId": "6af13e5e-1a02-4ebe-e536-f01446988166",
        "colab": {
          "base_uri": "https://localhost:8080/",
          "height": 164
        }
      },
      "source": [
        "clf.intercept_, clf.support_vectors_"
      ],
      "execution_count": 47,
      "outputs": [
        {
          "output_type": "execute_result",
          "data": {
            "text/plain": [
              "(array([25917.20179948]),\n",
              " array([[26215., 26206., 26213., ..., 26183., 26176., 26170.],\n",
              "        [25346., 25344., 25342., ..., 25319., 25312., 25307.],\n",
              "        [25415., 25416., 25408., ..., 25400., 25409., 25414.],\n",
              "        ...,\n",
              "        [25934., 25919., 25918., ..., 25924., 25916., 25906.],\n",
              "        [25372., 25376., 25386., ..., 25402., 25410., 25415.],\n",
              "        [25945., 25934., 25938., ..., 25962., 25961., 25957.]]))"
            ]
          },
          "metadata": {
            "tags": []
          },
          "execution_count": 47
        }
      ]
    },
    {
      "cell_type": "code",
      "metadata": {
        "id": "uyMr7eygc0YB",
        "colab_type": "code",
        "outputId": "69114f6b-ac73-4a6d-d68c-a82796c04e0f",
        "colab": {
          "base_uri": "https://localhost:8080/",
          "height": 209
        }
      },
      "source": [
        "#Evaluation\n",
        "from sklearn.metrics import accuracy_score\n",
        "np.sqrt(mean_squared_error(y_test, pred))"
      ],
      "execution_count": 48,
      "outputs": [
        {
          "output_type": "error",
          "ename": "NameError",
          "evalue": "ignored",
          "traceback": [
            "\u001b[0;31m---------------------------------------------------------------------------\u001b[0m",
            "\u001b[0;31mNameError\u001b[0m                                 Traceback (most recent call last)",
            "\u001b[0;32m<ipython-input-48-deb97c75f7eb>\u001b[0m in \u001b[0;36m<module>\u001b[0;34m()\u001b[0m\n\u001b[1;32m      1\u001b[0m \u001b[0;31m#Evaluation\u001b[0m\u001b[0;34m\u001b[0m\u001b[0;34m\u001b[0m\u001b[0;34m\u001b[0m\u001b[0m\n\u001b[1;32m      2\u001b[0m \u001b[0;32mfrom\u001b[0m \u001b[0msklearn\u001b[0m\u001b[0;34m.\u001b[0m\u001b[0mmetrics\u001b[0m \u001b[0;32mimport\u001b[0m \u001b[0maccuracy_score\u001b[0m\u001b[0;34m\u001b[0m\u001b[0;34m\u001b[0m\u001b[0m\n\u001b[0;32m----> 3\u001b[0;31m \u001b[0mnp\u001b[0m\u001b[0;34m.\u001b[0m\u001b[0msqrt\u001b[0m\u001b[0;34m(\u001b[0m\u001b[0mmean_squared_error\u001b[0m\u001b[0;34m(\u001b[0m\u001b[0my_test\u001b[0m\u001b[0;34m,\u001b[0m \u001b[0mpred\u001b[0m\u001b[0;34m)\u001b[0m\u001b[0;34m)\u001b[0m\u001b[0;34m\u001b[0m\u001b[0;34m\u001b[0m\u001b[0m\n\u001b[0m",
            "\u001b[0;31mNameError\u001b[0m: name 'mean_squared_error' is not defined"
          ]
        }
      ]
    },
    {
      "cell_type": "code",
      "metadata": {
        "id": "nNfOV5R6lJSA",
        "colab_type": "code",
        "outputId": "3d5f3170-f461-48fe-f148-f62fdc596b6b",
        "colab": {
          "base_uri": "https://localhost:8080/",
          "height": 1000
        }
      },
      "source": [
        "data_prediction = pd.DataFrame(y_test.values, columns = ['Actual'])\n",
        "data_prediction1 = pd.DataFrame(pred, columns = ['Pred'])\n",
        "data_prediction = pd.concat([data_prediction, data_prediction1], axis = 1)\n",
        "data_prediction"
      ],
      "execution_count": 49,
      "outputs": [
        {
          "output_type": "execute_result",
          "data": {
            "text/html": [
              "<div>\n",
              "<style scoped>\n",
              "    .dataframe tbody tr th:only-of-type {\n",
              "        vertical-align: middle;\n",
              "    }\n",
              "\n",
              "    .dataframe tbody tr th {\n",
              "        vertical-align: top;\n",
              "    }\n",
              "\n",
              "    .dataframe thead th {\n",
              "        text-align: right;\n",
              "    }\n",
              "</style>\n",
              "<table border=\"1\" class=\"dataframe\">\n",
              "  <thead>\n",
              "    <tr style=\"text-align: right;\">\n",
              "      <th></th>\n",
              "      <th>Actual</th>\n",
              "      <th>Pred</th>\n",
              "    </tr>\n",
              "  </thead>\n",
              "  <tbody>\n",
              "    <tr>\n",
              "      <th>0</th>\n",
              "      <td>26092.0</td>\n",
              "      <td>26107.599274</td>\n",
              "    </tr>\n",
              "    <tr>\n",
              "      <th>1</th>\n",
              "      <td>25940.0</td>\n",
              "      <td>25918.435359</td>\n",
              "    </tr>\n",
              "    <tr>\n",
              "      <th>2</th>\n",
              "      <td>25793.0</td>\n",
              "      <td>25833.268077</td>\n",
              "    </tr>\n",
              "    <tr>\n",
              "      <th>3</th>\n",
              "      <td>25938.0</td>\n",
              "      <td>25963.522835</td>\n",
              "    </tr>\n",
              "    <tr>\n",
              "      <th>4</th>\n",
              "      <td>25819.0</td>\n",
              "      <td>25818.301335</td>\n",
              "    </tr>\n",
              "    <tr>\n",
              "      <th>5</th>\n",
              "      <td>26049.0</td>\n",
              "      <td>26037.173852</td>\n",
              "    </tr>\n",
              "    <tr>\n",
              "      <th>6</th>\n",
              "      <td>25789.0</td>\n",
              "      <td>25807.865919</td>\n",
              "    </tr>\n",
              "    <tr>\n",
              "      <th>7</th>\n",
              "      <td>26389.0</td>\n",
              "      <td>26179.212985</td>\n",
              "    </tr>\n",
              "    <tr>\n",
              "      <th>8</th>\n",
              "      <td>26057.0</td>\n",
              "      <td>26105.100077</td>\n",
              "    </tr>\n",
              "    <tr>\n",
              "      <th>9</th>\n",
              "      <td>26137.0</td>\n",
              "      <td>26109.016727</td>\n",
              "    </tr>\n",
              "    <tr>\n",
              "      <th>10</th>\n",
              "      <td>26117.0</td>\n",
              "      <td>26114.991110</td>\n",
              "    </tr>\n",
              "    <tr>\n",
              "      <th>11</th>\n",
              "      <td>25837.0</td>\n",
              "      <td>25823.275601</td>\n",
              "    </tr>\n",
              "    <tr>\n",
              "      <th>12</th>\n",
              "      <td>25934.0</td>\n",
              "      <td>25931.361187</td>\n",
              "    </tr>\n",
              "    <tr>\n",
              "      <th>13</th>\n",
              "      <td>26015.0</td>\n",
              "      <td>26004.961952</td>\n",
              "    </tr>\n",
              "    <tr>\n",
              "      <th>14</th>\n",
              "      <td>26152.0</td>\n",
              "      <td>26157.166498</td>\n",
              "    </tr>\n",
              "    <tr>\n",
              "      <th>15</th>\n",
              "      <td>25328.0</td>\n",
              "      <td>25745.015248</td>\n",
              "    </tr>\n",
              "    <tr>\n",
              "      <th>16</th>\n",
              "      <td>26029.0</td>\n",
              "      <td>26031.960488</td>\n",
              "    </tr>\n",
              "    <tr>\n",
              "      <th>17</th>\n",
              "      <td>25945.0</td>\n",
              "      <td>25926.161318</td>\n",
              "    </tr>\n",
              "    <tr>\n",
              "      <th>18</th>\n",
              "      <td>26080.0</td>\n",
              "      <td>26058.445629</td>\n",
              "    </tr>\n",
              "    <tr>\n",
              "      <th>19</th>\n",
              "      <td>26214.0</td>\n",
              "      <td>26171.392011</td>\n",
              "    </tr>\n",
              "    <tr>\n",
              "      <th>20</th>\n",
              "      <td>26202.0</td>\n",
              "      <td>26173.338180</td>\n",
              "    </tr>\n",
              "    <tr>\n",
              "      <th>21</th>\n",
              "      <td>26029.0</td>\n",
              "      <td>26021.144531</td>\n",
              "    </tr>\n",
              "    <tr>\n",
              "      <th>22</th>\n",
              "      <td>26420.0</td>\n",
              "      <td>26119.681545</td>\n",
              "    </tr>\n",
              "    <tr>\n",
              "      <th>23</th>\n",
              "      <td>25821.0</td>\n",
              "      <td>25828.441757</td>\n",
              "    </tr>\n",
              "    <tr>\n",
              "      <th>24</th>\n",
              "      <td>26015.0</td>\n",
              "      <td>26009.450635</td>\n",
              "    </tr>\n",
              "    <tr>\n",
              "      <th>25</th>\n",
              "      <td>25732.0</td>\n",
              "      <td>25746.897580</td>\n",
              "    </tr>\n",
              "    <tr>\n",
              "      <th>26</th>\n",
              "      <td>26198.0</td>\n",
              "      <td>26170.715154</td>\n",
              "    </tr>\n",
              "    <tr>\n",
              "      <th>27</th>\n",
              "      <td>25827.0</td>\n",
              "      <td>25839.307016</td>\n",
              "    </tr>\n",
              "    <tr>\n",
              "      <th>28</th>\n",
              "      <td>25835.0</td>\n",
              "      <td>25834.059765</td>\n",
              "    </tr>\n",
              "    <tr>\n",
              "      <th>29</th>\n",
              "      <td>26095.0</td>\n",
              "      <td>26098.714536</td>\n",
              "    </tr>\n",
              "    <tr>\n",
              "      <th>30</th>\n",
              "      <td>26020.0</td>\n",
              "      <td>26017.803223</td>\n",
              "    </tr>\n",
              "    <tr>\n",
              "      <th>31</th>\n",
              "      <td>25788.0</td>\n",
              "      <td>25779.921817</td>\n",
              "    </tr>\n",
              "    <tr>\n",
              "      <th>32</th>\n",
              "      <td>25969.0</td>\n",
              "      <td>25978.257185</td>\n",
              "    </tr>\n",
              "    <tr>\n",
              "      <th>33</th>\n",
              "      <td>26111.0</td>\n",
              "      <td>26118.295356</td>\n",
              "    </tr>\n",
              "    <tr>\n",
              "      <th>34</th>\n",
              "      <td>26344.0</td>\n",
              "      <td>26165.090692</td>\n",
              "    </tr>\n",
              "    <tr>\n",
              "      <th>35</th>\n",
              "      <td>26023.0</td>\n",
              "      <td>25978.508803</td>\n",
              "    </tr>\n",
              "    <tr>\n",
              "      <th>36</th>\n",
              "      <td>26109.0</td>\n",
              "      <td>26083.178989</td>\n",
              "    </tr>\n",
              "    <tr>\n",
              "      <th>37</th>\n",
              "      <td>25870.0</td>\n",
              "      <td>25856.264245</td>\n",
              "    </tr>\n",
              "    <tr>\n",
              "      <th>38</th>\n",
              "      <td>25462.0</td>\n",
              "      <td>25694.262743</td>\n",
              "    </tr>\n",
              "    <tr>\n",
              "      <th>39</th>\n",
              "      <td>26060.0</td>\n",
              "      <td>26035.619424</td>\n",
              "    </tr>\n",
              "    <tr>\n",
              "      <th>40</th>\n",
              "      <td>26029.0</td>\n",
              "      <td>26033.183122</td>\n",
              "    </tr>\n",
              "    <tr>\n",
              "      <th>41</th>\n",
              "      <td>26209.0</td>\n",
              "      <td>26177.017189</td>\n",
              "    </tr>\n",
              "    <tr>\n",
              "      <th>42</th>\n",
              "      <td>26055.0</td>\n",
              "      <td>26013.702578</td>\n",
              "    </tr>\n",
              "    <tr>\n",
              "      <th>43</th>\n",
              "      <td>25707.0</td>\n",
              "      <td>25748.714446</td>\n",
              "    </tr>\n",
              "    <tr>\n",
              "      <th>44</th>\n",
              "      <td>26041.0</td>\n",
              "      <td>26026.791404</td>\n",
              "    </tr>\n",
              "    <tr>\n",
              "      <th>45</th>\n",
              "      <td>25906.0</td>\n",
              "      <td>25867.916942</td>\n",
              "    </tr>\n",
              "  </tbody>\n",
              "</table>\n",
              "</div>"
            ],
            "text/plain": [
              "     Actual          Pred\n",
              "0   26092.0  26107.599274\n",
              "1   25940.0  25918.435359\n",
              "2   25793.0  25833.268077\n",
              "3   25938.0  25963.522835\n",
              "4   25819.0  25818.301335\n",
              "5   26049.0  26037.173852\n",
              "6   25789.0  25807.865919\n",
              "7   26389.0  26179.212985\n",
              "8   26057.0  26105.100077\n",
              "9   26137.0  26109.016727\n",
              "10  26117.0  26114.991110\n",
              "11  25837.0  25823.275601\n",
              "12  25934.0  25931.361187\n",
              "13  26015.0  26004.961952\n",
              "14  26152.0  26157.166498\n",
              "15  25328.0  25745.015248\n",
              "16  26029.0  26031.960488\n",
              "17  25945.0  25926.161318\n",
              "18  26080.0  26058.445629\n",
              "19  26214.0  26171.392011\n",
              "20  26202.0  26173.338180\n",
              "21  26029.0  26021.144531\n",
              "22  26420.0  26119.681545\n",
              "23  25821.0  25828.441757\n",
              "24  26015.0  26009.450635\n",
              "25  25732.0  25746.897580\n",
              "26  26198.0  26170.715154\n",
              "27  25827.0  25839.307016\n",
              "28  25835.0  25834.059765\n",
              "29  26095.0  26098.714536\n",
              "30  26020.0  26017.803223\n",
              "31  25788.0  25779.921817\n",
              "32  25969.0  25978.257185\n",
              "33  26111.0  26118.295356\n",
              "34  26344.0  26165.090692\n",
              "35  26023.0  25978.508803\n",
              "36  26109.0  26083.178989\n",
              "37  25870.0  25856.264245\n",
              "38  25462.0  25694.262743\n",
              "39  26060.0  26035.619424\n",
              "40  26029.0  26033.183122\n",
              "41  26209.0  26177.017189\n",
              "42  26055.0  26013.702578\n",
              "43  25707.0  25748.714446\n",
              "44  26041.0  26026.791404\n",
              "45  25906.0  25867.916942"
            ]
          },
          "metadata": {
            "tags": []
          },
          "execution_count": 49
        }
      ]
    },
    {
      "cell_type": "code",
      "metadata": {
        "id": "5ub77YaEkmFp",
        "colab_type": "code",
        "outputId": "51f5d1b7-27c3-442b-bc09-5287dd98ac5b",
        "colab": {
          "base_uri": "https://localhost:8080/",
          "height": 542
        }
      },
      "source": [
        "data_prediction['diff']= data_prediction['Actual' ]- data_prediction['Pred' ]\n",
        "data_prediction['diff'].plot()\n",
        "# plt.xlabel('Difference between actual and predicted')"
      ],
      "execution_count": 50,
      "outputs": [
        {
          "output_type": "display_data",
          "data": {
            "text/html": [
              "<html>\n",
              "<head><meta charset=\"utf-8\" /></head>\n",
              "<body>\n",
              "    <div>\n",
              "            <script src=\"https://cdnjs.cloudflare.com/ajax/libs/mathjax/2.7.5/MathJax.js?config=TeX-AMS-MML_SVG\"></script><script type=\"text/javascript\">if (window.MathJax) {MathJax.Hub.Config({SVG: {font: \"STIX-Web\"}});}</script>\n",
              "                <script type=\"text/javascript\">window.PlotlyConfig = {MathJaxConfig: 'local'};</script>\n",
              "        <script src=\"https://cdn.plot.ly/plotly-latest.min.js\"></script>    \n",
              "            <div id=\"32b524c4-827f-4153-ade0-d93258b604db\" class=\"plotly-graph-div\" style=\"height:525px; width:100%;\"></div>\n",
              "            <script type=\"text/javascript\">\n",
              "                \n",
              "                    window.PLOTLYENV=window.PLOTLYENV || {};\n",
              "                    \n",
              "                if (document.getElementById(\"32b524c4-827f-4153-ade0-d93258b604db\")) {\n",
              "                    Plotly.newPlot(\n",
              "                        '32b524c4-827f-4153-ade0-d93258b604db',\n",
              "                        [{\"hovertemplate\": \"variable=diff<br>index=%{x}<br>value=%{y}<extra></extra>\", \"legendgroup\": \"diff\", \"line\": {\"color\": \"#636efa\", \"dash\": \"solid\"}, \"mode\": \"lines\", \"name\": \"diff\", \"orientation\": \"v\", \"showlegend\": true, \"type\": \"scatter\", \"x\": [0, 1, 2, 3, 4, 5, 6, 7, 8, 9, 10, 11, 12, 13, 14, 15, 16, 17, 18, 19, 20, 21, 22, 23, 24, 25, 26, 27, 28, 29, 30, 31, 32, 33, 34, 35, 36, 37, 38, 39, 40, 41, 42, 43, 44, 45], \"xaxis\": \"x\", \"y\": [-15.599273959163838, 21.56464064048123, -40.26807659161568, -25.52283456749865, 0.6986654972643009, 11.826148259304318, -18.865919196534378, 209.78701512912448, -48.1000765757708, 27.983272902445606, 2.0088895847220556, 13.72439870791277, 2.6388132150859747, 10.038048201287893, -5.166498155358568, -417.0152477803167, -2.9604884889813547, 18.838682473222434, 21.554371242287743, 42.60798850534411, 28.661819523469603, 7.855469386442564, 300.3184545485965, -7.441756967436959, 5.549364706126653, -14.897580104207009, 27.284845513389882, -12.307015837835934, 0.940234605121077, -3.7145358547240903, 2.1967765571353084, 8.078183237390476, -9.25718472943845, -7.2953563128794485, 178.9093080215207, 44.49119651662113, 25.82101127855276, 13.735754833680403, -232.26274309240762, 24.38057590342214, -4.183122120146436, 31.982811286332435, 41.29742193799029, -41.71444648151737, 14.208595634390804, 38.08305750339787], \"yaxis\": \"y\"}],\n",
              "                        {\"legend\": {\"title\": {\"text\": \"variable\"}, \"tracegroupgap\": 0}, \"margin\": {\"t\": 60}, \"template\": {\"data\": {\"bar\": [{\"error_x\": {\"color\": \"#2a3f5f\"}, \"error_y\": {\"color\": \"#2a3f5f\"}, \"marker\": {\"line\": {\"color\": \"#E5ECF6\", \"width\": 0.5}}, \"type\": \"bar\"}], \"barpolar\": [{\"marker\": {\"line\": {\"color\": \"#E5ECF6\", \"width\": 0.5}}, \"type\": \"barpolar\"}], \"carpet\": [{\"aaxis\": {\"endlinecolor\": \"#2a3f5f\", \"gridcolor\": \"white\", \"linecolor\": \"white\", \"minorgridcolor\": \"white\", \"startlinecolor\": \"#2a3f5f\"}, \"baxis\": {\"endlinecolor\": \"#2a3f5f\", \"gridcolor\": \"white\", \"linecolor\": \"white\", \"minorgridcolor\": \"white\", \"startlinecolor\": \"#2a3f5f\"}, \"type\": \"carpet\"}], \"choropleth\": [{\"colorbar\": {\"outlinewidth\": 0, \"ticks\": \"\"}, \"type\": \"choropleth\"}], \"contour\": [{\"colorbar\": {\"outlinewidth\": 0, \"ticks\": \"\"}, \"colorscale\": [[0.0, \"#0d0887\"], [0.1111111111111111, \"#46039f\"], [0.2222222222222222, \"#7201a8\"], [0.3333333333333333, \"#9c179e\"], [0.4444444444444444, \"#bd3786\"], [0.5555555555555556, \"#d8576b\"], [0.6666666666666666, \"#ed7953\"], [0.7777777777777778, \"#fb9f3a\"], [0.8888888888888888, \"#fdca26\"], [1.0, \"#f0f921\"]], \"type\": \"contour\"}], \"contourcarpet\": [{\"colorbar\": {\"outlinewidth\": 0, \"ticks\": \"\"}, \"type\": \"contourcarpet\"}], \"heatmap\": [{\"colorbar\": {\"outlinewidth\": 0, \"ticks\": \"\"}, \"colorscale\": [[0.0, \"#0d0887\"], [0.1111111111111111, \"#46039f\"], [0.2222222222222222, \"#7201a8\"], [0.3333333333333333, \"#9c179e\"], [0.4444444444444444, \"#bd3786\"], [0.5555555555555556, \"#d8576b\"], [0.6666666666666666, \"#ed7953\"], [0.7777777777777778, \"#fb9f3a\"], [0.8888888888888888, \"#fdca26\"], [1.0, \"#f0f921\"]], \"type\": \"heatmap\"}], \"heatmapgl\": [{\"colorbar\": {\"outlinewidth\": 0, \"ticks\": \"\"}, \"colorscale\": [[0.0, \"#0d0887\"], [0.1111111111111111, \"#46039f\"], [0.2222222222222222, \"#7201a8\"], [0.3333333333333333, \"#9c179e\"], [0.4444444444444444, \"#bd3786\"], [0.5555555555555556, \"#d8576b\"], [0.6666666666666666, \"#ed7953\"], [0.7777777777777778, \"#fb9f3a\"], [0.8888888888888888, \"#fdca26\"], [1.0, \"#f0f921\"]], \"type\": \"heatmapgl\"}], \"histogram\": [{\"marker\": {\"colorbar\": {\"outlinewidth\": 0, \"ticks\": \"\"}}, \"type\": \"histogram\"}], \"histogram2d\": [{\"colorbar\": {\"outlinewidth\": 0, \"ticks\": \"\"}, \"colorscale\": [[0.0, \"#0d0887\"], [0.1111111111111111, \"#46039f\"], [0.2222222222222222, \"#7201a8\"], [0.3333333333333333, \"#9c179e\"], [0.4444444444444444, \"#bd3786\"], [0.5555555555555556, \"#d8576b\"], [0.6666666666666666, \"#ed7953\"], [0.7777777777777778, \"#fb9f3a\"], [0.8888888888888888, \"#fdca26\"], [1.0, \"#f0f921\"]], \"type\": \"histogram2d\"}], \"histogram2dcontour\": [{\"colorbar\": {\"outlinewidth\": 0, \"ticks\": \"\"}, \"colorscale\": [[0.0, \"#0d0887\"], [0.1111111111111111, \"#46039f\"], [0.2222222222222222, \"#7201a8\"], [0.3333333333333333, \"#9c179e\"], [0.4444444444444444, \"#bd3786\"], [0.5555555555555556, \"#d8576b\"], [0.6666666666666666, \"#ed7953\"], [0.7777777777777778, \"#fb9f3a\"], [0.8888888888888888, \"#fdca26\"], [1.0, \"#f0f921\"]], \"type\": \"histogram2dcontour\"}], \"mesh3d\": [{\"colorbar\": {\"outlinewidth\": 0, \"ticks\": \"\"}, \"type\": \"mesh3d\"}], \"parcoords\": [{\"line\": {\"colorbar\": {\"outlinewidth\": 0, \"ticks\": \"\"}}, \"type\": \"parcoords\"}], \"pie\": [{\"automargin\": true, \"type\": \"pie\"}], \"scatter\": [{\"marker\": {\"colorbar\": {\"outlinewidth\": 0, \"ticks\": \"\"}}, \"type\": \"scatter\"}], \"scatter3d\": [{\"line\": {\"colorbar\": {\"outlinewidth\": 0, \"ticks\": \"\"}}, \"marker\": {\"colorbar\": {\"outlinewidth\": 0, \"ticks\": \"\"}}, \"type\": \"scatter3d\"}], \"scattercarpet\": [{\"marker\": {\"colorbar\": {\"outlinewidth\": 0, \"ticks\": \"\"}}, \"type\": \"scattercarpet\"}], \"scattergeo\": [{\"marker\": {\"colorbar\": {\"outlinewidth\": 0, \"ticks\": \"\"}}, \"type\": \"scattergeo\"}], \"scattergl\": [{\"marker\": {\"colorbar\": {\"outlinewidth\": 0, \"ticks\": \"\"}}, \"type\": \"scattergl\"}], \"scattermapbox\": [{\"marker\": {\"colorbar\": {\"outlinewidth\": 0, \"ticks\": \"\"}}, \"type\": \"scattermapbox\"}], \"scatterpolar\": [{\"marker\": {\"colorbar\": {\"outlinewidth\": 0, \"ticks\": \"\"}}, \"type\": \"scatterpolar\"}], \"scatterpolargl\": [{\"marker\": {\"colorbar\": {\"outlinewidth\": 0, \"ticks\": \"\"}}, \"type\": \"scatterpolargl\"}], \"scatterternary\": [{\"marker\": {\"colorbar\": {\"outlinewidth\": 0, \"ticks\": \"\"}}, \"type\": \"scatterternary\"}], \"surface\": [{\"colorbar\": {\"outlinewidth\": 0, \"ticks\": \"\"}, \"colorscale\": [[0.0, \"#0d0887\"], [0.1111111111111111, \"#46039f\"], [0.2222222222222222, \"#7201a8\"], [0.3333333333333333, \"#9c179e\"], [0.4444444444444444, \"#bd3786\"], [0.5555555555555556, \"#d8576b\"], [0.6666666666666666, \"#ed7953\"], [0.7777777777777778, \"#fb9f3a\"], [0.8888888888888888, \"#fdca26\"], [1.0, \"#f0f921\"]], \"type\": \"surface\"}], \"table\": [{\"cells\": {\"fill\": {\"color\": \"#EBF0F8\"}, \"line\": {\"color\": \"white\"}}, \"header\": {\"fill\": {\"color\": \"#C8D4E3\"}, \"line\": {\"color\": \"white\"}}, \"type\": \"table\"}]}, \"layout\": {\"annotationdefaults\": {\"arrowcolor\": \"#2a3f5f\", \"arrowhead\": 0, \"arrowwidth\": 1}, \"coloraxis\": {\"colorbar\": {\"outlinewidth\": 0, \"ticks\": \"\"}}, \"colorscale\": {\"diverging\": [[0, \"#8e0152\"], [0.1, \"#c51b7d\"], [0.2, \"#de77ae\"], [0.3, \"#f1b6da\"], [0.4, \"#fde0ef\"], [0.5, \"#f7f7f7\"], [0.6, \"#e6f5d0\"], [0.7, \"#b8e186\"], [0.8, \"#7fbc41\"], [0.9, \"#4d9221\"], [1, \"#276419\"]], \"sequential\": [[0.0, \"#0d0887\"], [0.1111111111111111, \"#46039f\"], [0.2222222222222222, \"#7201a8\"], [0.3333333333333333, \"#9c179e\"], [0.4444444444444444, \"#bd3786\"], [0.5555555555555556, \"#d8576b\"], [0.6666666666666666, \"#ed7953\"], [0.7777777777777778, \"#fb9f3a\"], [0.8888888888888888, \"#fdca26\"], [1.0, \"#f0f921\"]], \"sequentialminus\": [[0.0, \"#0d0887\"], [0.1111111111111111, \"#46039f\"], [0.2222222222222222, \"#7201a8\"], [0.3333333333333333, \"#9c179e\"], [0.4444444444444444, \"#bd3786\"], [0.5555555555555556, \"#d8576b\"], [0.6666666666666666, \"#ed7953\"], [0.7777777777777778, \"#fb9f3a\"], [0.8888888888888888, \"#fdca26\"], [1.0, \"#f0f921\"]]}, \"colorway\": [\"#636efa\", \"#EF553B\", \"#00cc96\", \"#ab63fa\", \"#FFA15A\", \"#19d3f3\", \"#FF6692\", \"#B6E880\", \"#FF97FF\", \"#FECB52\"], \"font\": {\"color\": \"#2a3f5f\"}, \"geo\": {\"bgcolor\": \"white\", \"lakecolor\": \"white\", \"landcolor\": \"#E5ECF6\", \"showlakes\": true, \"showland\": true, \"subunitcolor\": \"white\"}, \"hoverlabel\": {\"align\": \"left\"}, \"hovermode\": \"closest\", \"mapbox\": {\"style\": \"light\"}, \"paper_bgcolor\": \"white\", \"plot_bgcolor\": \"#E5ECF6\", \"polar\": {\"angularaxis\": {\"gridcolor\": \"white\", \"linecolor\": \"white\", \"ticks\": \"\"}, \"bgcolor\": \"#E5ECF6\", \"radialaxis\": {\"gridcolor\": \"white\", \"linecolor\": \"white\", \"ticks\": \"\"}}, \"scene\": {\"xaxis\": {\"backgroundcolor\": \"#E5ECF6\", \"gridcolor\": \"white\", \"gridwidth\": 2, \"linecolor\": \"white\", \"showbackground\": true, \"ticks\": \"\", \"zerolinecolor\": \"white\"}, \"yaxis\": {\"backgroundcolor\": \"#E5ECF6\", \"gridcolor\": \"white\", \"gridwidth\": 2, \"linecolor\": \"white\", \"showbackground\": true, \"ticks\": \"\", \"zerolinecolor\": \"white\"}, \"zaxis\": {\"backgroundcolor\": \"#E5ECF6\", \"gridcolor\": \"white\", \"gridwidth\": 2, \"linecolor\": \"white\", \"showbackground\": true, \"ticks\": \"\", \"zerolinecolor\": \"white\"}}, \"shapedefaults\": {\"line\": {\"color\": \"#2a3f5f\"}}, \"ternary\": {\"aaxis\": {\"gridcolor\": \"white\", \"linecolor\": \"white\", \"ticks\": \"\"}, \"baxis\": {\"gridcolor\": \"white\", \"linecolor\": \"white\", \"ticks\": \"\"}, \"bgcolor\": \"#E5ECF6\", \"caxis\": {\"gridcolor\": \"white\", \"linecolor\": \"white\", \"ticks\": \"\"}}, \"title\": {\"x\": 0.05}, \"xaxis\": {\"automargin\": true, \"gridcolor\": \"white\", \"linecolor\": \"white\", \"ticks\": \"\", \"title\": {\"standoff\": 15}, \"zerolinecolor\": \"white\", \"zerolinewidth\": 2}, \"yaxis\": {\"automargin\": true, \"gridcolor\": \"white\", \"linecolor\": \"white\", \"ticks\": \"\", \"title\": {\"standoff\": 15}, \"zerolinecolor\": \"white\", \"zerolinewidth\": 2}}}, \"xaxis\": {\"anchor\": \"y\", \"domain\": [0.0, 1.0], \"title\": {\"text\": \"index\"}}, \"yaxis\": {\"anchor\": \"x\", \"domain\": [0.0, 1.0], \"title\": {\"text\": \"value\"}}},\n",
              "                        {\"responsive\": true}\n",
              "                    ).then(function(){\n",
              "                            \n",
              "var gd = document.getElementById('32b524c4-827f-4153-ade0-d93258b604db');\n",
              "var x = new MutationObserver(function (mutations, observer) {{\n",
              "        var display = window.getComputedStyle(gd).display;\n",
              "        if (!display || display === 'none') {{\n",
              "            console.log([gd, 'removed!']);\n",
              "            Plotly.purge(gd);\n",
              "            observer.disconnect();\n",
              "        }}\n",
              "}});\n",
              "\n",
              "// Listen for the removal of the full notebook cells\n",
              "var notebookContainer = gd.closest('#notebook-container');\n",
              "if (notebookContainer) {{\n",
              "    x.observe(notebookContainer, {childList: true});\n",
              "}}\n",
              "\n",
              "// Listen for the clearing of the current output cell\n",
              "var outputEl = gd.closest('.output');\n",
              "if (outputEl) {{\n",
              "    x.observe(outputEl, {childList: true});\n",
              "}}\n",
              "\n",
              "                        })\n",
              "                };\n",
              "                \n",
              "            </script>\n",
              "        </div>\n",
              "</body>\n",
              "</html>"
            ]
          },
          "metadata": {
            "tags": []
          }
        }
      ]
    },
    {
      "cell_type": "code",
      "metadata": {
        "id": "GOunRVfBo9H5",
        "colab_type": "code",
        "colab": {
          "base_uri": "https://localhost:8080/",
          "height": 237
        },
        "outputId": "ba254a7d-d9be-457e-b1af-e697d4dcfaeb"
      },
      "source": [
        "!apt-get install texlive texlive-xetex texlive-latex-extra pandoc\n",
        "!pip install pypandoc"
      ],
      "execution_count": 51,
      "outputs": [
        {
          "output_type": "stream",
          "text": [
            "Reading package lists... Done\n",
            "Building dependency tree       \n",
            "Reading state information... Done\n",
            "pandoc is already the newest version (1.19.2.4~dfsg-1build4).\n",
            "texlive is already the newest version (2017.20180305-1).\n",
            "texlive-latex-extra is already the newest version (2017.20180305-2).\n",
            "texlive-xetex is already the newest version (2017.20180305-1).\n",
            "0 upgraded, 0 newly installed, 0 to remove and 32 not upgraded.\n",
            "Requirement already satisfied: pypandoc in /usr/local/lib/python3.6/dist-packages (1.5)\n",
            "Requirement already satisfied: wheel>=0.25.0 in /usr/local/lib/python3.6/dist-packages (from pypandoc) (0.34.2)\n",
            "Requirement already satisfied: setuptools in /usr/local/lib/python3.6/dist-packages (from pypandoc) (47.1.1)\n",
            "Requirement already satisfied: pip>=8.1.0 in /usr/local/lib/python3.6/dist-packages (from pypandoc) (19.3.1)\n"
          ],
          "name": "stdout"
        }
      ]
    },
    {
      "cell_type": "markdown",
      "metadata": {
        "id": "lbkzYf5QxuCO",
        "colab_type": "text"
      },
      "source": [
        "# Saving to Drive"
      ]
    },
    {
      "cell_type": "code",
      "metadata": {
        "id": "vEp-oVwNt8SR",
        "colab_type": "code",
        "colab": {
          "base_uri": "https://localhost:8080/",
          "height": 129
        },
        "outputId": "e3dd6a50-1399-4459-e653-348e1749a7fa"
      },
      "source": [
        "##Drive mount \n",
        "from google.colab import drive\n",
        "drive.mount('/content/drive', force_remount=True)"
      ],
      "execution_count": 52,
      "outputs": [
        {
          "output_type": "stream",
          "text": [
            "Go to this URL in a browser: https://accounts.google.com/o/oauth2/auth?client_id=947318989803-6bn6qk8qdgf4n4g3pfee6491hc0brc4i.apps.googleusercontent.com&redirect_uri=urn%3aietf%3awg%3aoauth%3a2.0%3aoob&response_type=code&scope=email%20https%3a%2f%2fwww.googleapis.com%2fauth%2fdocs.test%20https%3a%2f%2fwww.googleapis.com%2fauth%2fdrive%20https%3a%2f%2fwww.googleapis.com%2fauth%2fdrive.photos.readonly%20https%3a%2f%2fwww.googleapis.com%2fauth%2fpeopleapi.readonly\n",
            "\n",
            "Enter your authorization code:\n",
            "··········\n",
            "Mounted at /content/drive\n"
          ],
          "name": "stdout"
        }
      ]
    },
    {
      "cell_type": "code",
      "metadata": {
        "id": "F80a5myjuWXC",
        "colab_type": "code",
        "colab": {
          "base_uri": "https://localhost:8080/",
          "height": 54
        },
        "outputId": "9198a5cf-b982-4e88-e59c-2f7493714889"
      },
      "source": [
        "!cp /content/drive/My\\ Drive/Colab Notebooks/TimeSeriesAnalysis.ipynb ./\n"
      ],
      "execution_count": 53,
      "outputs": [
        {
          "output_type": "stream",
          "text": [
            "cp: cannot stat '/content/drive/My Drive/Colab': No such file or directory\n",
            "cp: cannot stat 'Notebooks/TimeSeriesAnalysis.ipynb': No such file or directory\n"
          ],
          "name": "stdout"
        }
      ]
    },
    {
      "cell_type": "code",
      "metadata": {
        "id": "F8f0tyPmuAQ6",
        "colab_type": "code",
        "colab": {
          "base_uri": "https://localhost:8080/",
          "height": 257
        },
        "outputId": "c63981e5-ac2b-4e46-d0b7-caf5e1f99c34"
      },
      "source": [
        "!jupyter nbconvert --to PDF \"/content/drive/My Drive/Colab Notebooks/TimeSeriesAnalysis.ipynb\""
      ],
      "execution_count": 54,
      "outputs": [
        {
          "output_type": "stream",
          "text": [
            "[NbConvertApp] Converting notebook /content/drive/My Drive/Colab Notebooks/TimeSeriesAnalysis.ipynb to PDF\n",
            "/usr/local/lib/python2.7/dist-packages/nbconvert/filters/datatypefilter.py:41: UserWarning: Your element with mimetype(s) [u'text/html'] is not able to be represented.\n",
            "  mimetypes=output.keys())\n",
            "[NbConvertApp] Support files will be in TimeSeriesAnalysis_files/\n",
            "[NbConvertApp] Making directory ./TimeSeriesAnalysis_files\n",
            "[NbConvertApp] Writing 72414 bytes to ./notebook.tex\n",
            "[NbConvertApp] Building PDF\n",
            "[NbConvertApp] Running xelatex 3 times: [u'xelatex', u'./notebook.tex', '-quiet']\n",
            "[NbConvertApp] Running bibtex 1 time: [u'bibtex', u'./notebook']\n",
            "[NbConvertApp] WARNING | bibtex had problems, most likely because there were no citations\n",
            "[NbConvertApp] PDF successfully created\n",
            "[NbConvertApp] Writing 94206 bytes to /content/drive/My Drive/Colab Notebooks/TimeSeriesAnalysis.pdf\n"
          ],
          "name": "stdout"
        }
      ]
    },
    {
      "cell_type": "code",
      "metadata": {
        "id": "tT8-8K_RuPRC",
        "colab_type": "code",
        "colab": {}
      },
      "source": [
        ""
      ],
      "execution_count": 0,
      "outputs": []
    }
  ]
}