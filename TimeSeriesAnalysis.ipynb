{
  "nbformat": 4,
  "nbformat_minor": 0,
  "metadata": {
    "colab": {
      "name": "TimeSeriesAnalysis.ipynb",
      "provenance": [],
      "toc_visible": true,
      "authorship_tag": "ABX9TyMZGR5fLIiKBNviwSsbatf5",
      "include_colab_link": true
    },
    "kernelspec": {
      "name": "python3",
      "display_name": "Python 3"
    },
    "accelerator": "GPU"
  },
  "cells": [
    {
      "cell_type": "markdown",
      "metadata": {
        "id": "view-in-github",
        "colab_type": "text"
      },
      "source": [
        "<a href=\"https://colab.research.google.com/github/navjotsingh151/Sensor-TimeSeriesAnalysis/blob/master/TimeSeriesAnalysis.ipynb\" target=\"_parent\"><img src=\"https://colab.research.google.com/assets/colab-badge.svg\" alt=\"Open In Colab\"/></a>"
      ]
    },
    {
      "cell_type": "markdown",
      "metadata": {
        "id": "w7axj8PsvY_w",
        "colab_type": "text"
      },
      "source": [
        "## Time Series analysis\n",
        "Data  is collected from sensor A at **3 seconds interval** i.e. 480 cycles per day. Data is gathered for a week time frame "
      ]
    },
    {
      "cell_type": "markdown",
      "metadata": {
        "id": "pVryrg9fHCtL",
        "colab_type": "text"
      },
      "source": [
        "# Data Cleaning"
      ]
    },
    {
      "cell_type": "code",
      "metadata": {
        "id": "0SLjScXjHLxK",
        "colab_type": "code",
        "colab": {}
      },
      "source": [
        "import numpy as np\n",
        "import pandas as pd\n",
        "import matplotlib.pyplot as plt\n",
        "import seaborn as sns\n",
        "from scipy.stats import norm\n",
        "import chart_studio.plotly as py\n",
        "import plotly.graph_objs as go\n",
        "from plotly.offline import init_notebook_mode, plot, iplot"
      ],
      "execution_count": 0,
      "outputs": []
    },
    {
      "cell_type": "code",
      "metadata": {
        "id": "e99vSH6FIVYI",
        "colab_type": "code",
        "colab": {
          "base_uri": "https://localhost:8080/",
          "height": 256
        },
        "outputId": "53408f90-2b9d-40f1-c7ab-f3e22dfc9864"
      },
      "source": [
        "!pip install chart_studio"
      ],
      "execution_count": 167,
      "outputs": [
        {
          "output_type": "stream",
          "text": [
            "Collecting chart_studio\n",
            "\u001b[?25l  Downloading https://files.pythonhosted.org/packages/ca/ce/330794a6b6ca4b9182c38fc69dd2a9cbff60fd49421cb8648ee5fee352dc/chart_studio-1.1.0-py3-none-any.whl (64kB)\n",
            "\u001b[K     |████████████████████████████████| 71kB 2.2MB/s \n",
            "\u001b[?25hRequirement already satisfied: retrying>=1.3.3 in /usr/local/lib/python3.6/dist-packages (from chart_studio) (1.3.3)\n",
            "Requirement already satisfied: requests in /usr/local/lib/python3.6/dist-packages (from chart_studio) (2.23.0)\n",
            "Requirement already satisfied: six in /usr/local/lib/python3.6/dist-packages (from chart_studio) (1.12.0)\n",
            "Requirement already satisfied: plotly in /usr/local/lib/python3.6/dist-packages (from chart_studio) (4.4.1)\n",
            "Requirement already satisfied: chardet<4,>=3.0.2 in /usr/local/lib/python3.6/dist-packages (from requests->chart_studio) (3.0.4)\n",
            "Requirement already satisfied: idna<3,>=2.5 in /usr/local/lib/python3.6/dist-packages (from requests->chart_studio) (2.9)\n",
            "Requirement already satisfied: urllib3!=1.25.0,!=1.25.1,<1.26,>=1.21.1 in /usr/local/lib/python3.6/dist-packages (from requests->chart_studio) (1.24.3)\n",
            "Requirement already satisfied: certifi>=2017.4.17 in /usr/local/lib/python3.6/dist-packages (from requests->chart_studio) (2020.4.5.1)\n",
            "Installing collected packages: chart-studio\n",
            "Successfully installed chart-studio-1.1.0\n"
          ],
          "name": "stdout"
        }
      ]
    },
    {
      "cell_type": "code",
      "metadata": {
        "id": "lBhQv8Dxv89n",
        "colab_type": "code",
        "colab": {}
      },
      "source": [
        "data_a = pd.read_csv(\"https://raw.githubusercontent.com/navjotsingh151/Sensor-TimeSeriesAnalysis/master/Data/Data_A.csv\")\n",
        "data_a.head()\n",
        "data_a.rename(columns={\"Timestamp \":\"Timestamp\"}, inplace=True)"
      ],
      "execution_count": 0,
      "outputs": []
    },
    {
      "cell_type": "code",
      "metadata": {
        "id": "w7U5k09FzwtD",
        "colab_type": "code",
        "colab": {
          "base_uri": "https://localhost:8080/",
          "height": 206
        },
        "outputId": "f243b8eb-8c41-4dc9-c3e3-6cf491b339df"
      },
      "source": [
        "data_a = data_a.sort_values([\"Timestamp\"], ascending = (True))\n",
        "data_a.reset_index(inplace=True)\n",
        "data_a.drop('index', axis = 1, inplace = True)\n",
        "data_a.head()"
      ],
      "execution_count": 153,
      "outputs": [
        {
          "output_type": "execute_result",
          "data": {
            "text/html": [
              "<div>\n",
              "<style scoped>\n",
              "    .dataframe tbody tr th:only-of-type {\n",
              "        vertical-align: middle;\n",
              "    }\n",
              "\n",
              "    .dataframe tbody tr th {\n",
              "        vertical-align: top;\n",
              "    }\n",
              "\n",
              "    .dataframe thead th {\n",
              "        text-align: right;\n",
              "    }\n",
              "</style>\n",
              "<table border=\"1\" class=\"dataframe\">\n",
              "  <thead>\n",
              "    <tr style=\"text-align: right;\">\n",
              "      <th></th>\n",
              "      <th>Date</th>\n",
              "      <th>Timestamp</th>\n",
              "      <th>Value</th>\n",
              "    </tr>\n",
              "  </thead>\n",
              "  <tbody>\n",
              "    <tr>\n",
              "      <th>0</th>\n",
              "      <td>18-May</td>\n",
              "      <td>20200518451</td>\n",
              "      <td>25340</td>\n",
              "    </tr>\n",
              "    <tr>\n",
              "      <th>1</th>\n",
              "      <td>18-May</td>\n",
              "      <td>20200518452</td>\n",
              "      <td>25361</td>\n",
              "    </tr>\n",
              "    <tr>\n",
              "      <th>2</th>\n",
              "      <td>18-May</td>\n",
              "      <td>20200518453</td>\n",
              "      <td>25365</td>\n",
              "    </tr>\n",
              "    <tr>\n",
              "      <th>3</th>\n",
              "      <td>18-May</td>\n",
              "      <td>20200518454</td>\n",
              "      <td>25368</td>\n",
              "    </tr>\n",
              "    <tr>\n",
              "      <th>4</th>\n",
              "      <td>18-May</td>\n",
              "      <td>20200518455</td>\n",
              "      <td>25356</td>\n",
              "    </tr>\n",
              "  </tbody>\n",
              "</table>\n",
              "</div>"
            ],
            "text/plain": [
              "     Date    Timestamp  Value\n",
              "0  18-May  20200518451  25340\n",
              "1  18-May  20200518452  25361\n",
              "2  18-May  20200518453  25365\n",
              "3  18-May  20200518454  25368\n",
              "4  18-May  20200518455  25356"
            ]
          },
          "metadata": {
            "tags": []
          },
          "execution_count": 153
        }
      ]
    },
    {
      "cell_type": "code",
      "metadata": {
        "id": "0JquG5TT1RnM",
        "colab_type": "code",
        "colab": {
          "base_uri": "https://localhost:8080/",
          "height": 201
        },
        "outputId": "79db3570-6eda-45bb-a91e-7ff8b4a13a78"
      },
      "source": [
        "data_a.info()"
      ],
      "execution_count": 154,
      "outputs": [
        {
          "output_type": "stream",
          "text": [
            "<class 'pandas.core.frame.DataFrame'>\n",
            "RangeIndex: 3412 entries, 0 to 3411\n",
            "Data columns (total 3 columns):\n",
            " #   Column     Non-Null Count  Dtype \n",
            "---  ------     --------------  ----- \n",
            " 0   Date       3412 non-null   object\n",
            " 1   Timestamp  3412 non-null   int64 \n",
            " 2   Value      3412 non-null   int64 \n",
            "dtypes: int64(2), object(1)\n",
            "memory usage: 80.1+ KB\n"
          ],
          "name": "stdout"
        }
      ]
    },
    {
      "cell_type": "code",
      "metadata": {
        "id": "gb9AmZko0nct",
        "colab_type": "code",
        "colab": {
          "base_uri": "https://localhost:8080/",
          "height": 206
        },
        "outputId": "a0ce2da6-8e8f-4d99-c8e0-35ce03b25377"
      },
      "source": [
        "data_a['year']= data_a.Timestamp.apply(lambda x : int(str(x)[:4]))\n",
        "data_a['month']= data_a.Timestamp.apply(lambda x : int(str(x)[4:6]))\n",
        "data_a['day']= data_a.Timestamp.apply(lambda x : int(str(x)[6:8]))\n",
        "data_a.head()"
      ],
      "execution_count": 155,
      "outputs": [
        {
          "output_type": "execute_result",
          "data": {
            "text/html": [
              "<div>\n",
              "<style scoped>\n",
              "    .dataframe tbody tr th:only-of-type {\n",
              "        vertical-align: middle;\n",
              "    }\n",
              "\n",
              "    .dataframe tbody tr th {\n",
              "        vertical-align: top;\n",
              "    }\n",
              "\n",
              "    .dataframe thead th {\n",
              "        text-align: right;\n",
              "    }\n",
              "</style>\n",
              "<table border=\"1\" class=\"dataframe\">\n",
              "  <thead>\n",
              "    <tr style=\"text-align: right;\">\n",
              "      <th></th>\n",
              "      <th>Date</th>\n",
              "      <th>Timestamp</th>\n",
              "      <th>Value</th>\n",
              "      <th>year</th>\n",
              "      <th>month</th>\n",
              "      <th>day</th>\n",
              "    </tr>\n",
              "  </thead>\n",
              "  <tbody>\n",
              "    <tr>\n",
              "      <th>0</th>\n",
              "      <td>18-May</td>\n",
              "      <td>20200518451</td>\n",
              "      <td>25340</td>\n",
              "      <td>2020</td>\n",
              "      <td>5</td>\n",
              "      <td>18</td>\n",
              "    </tr>\n",
              "    <tr>\n",
              "      <th>1</th>\n",
              "      <td>18-May</td>\n",
              "      <td>20200518452</td>\n",
              "      <td>25361</td>\n",
              "      <td>2020</td>\n",
              "      <td>5</td>\n",
              "      <td>18</td>\n",
              "    </tr>\n",
              "    <tr>\n",
              "      <th>2</th>\n",
              "      <td>18-May</td>\n",
              "      <td>20200518453</td>\n",
              "      <td>25365</td>\n",
              "      <td>2020</td>\n",
              "      <td>5</td>\n",
              "      <td>18</td>\n",
              "    </tr>\n",
              "    <tr>\n",
              "      <th>3</th>\n",
              "      <td>18-May</td>\n",
              "      <td>20200518454</td>\n",
              "      <td>25368</td>\n",
              "      <td>2020</td>\n",
              "      <td>5</td>\n",
              "      <td>18</td>\n",
              "    </tr>\n",
              "    <tr>\n",
              "      <th>4</th>\n",
              "      <td>18-May</td>\n",
              "      <td>20200518455</td>\n",
              "      <td>25356</td>\n",
              "      <td>2020</td>\n",
              "      <td>5</td>\n",
              "      <td>18</td>\n",
              "    </tr>\n",
              "  </tbody>\n",
              "</table>\n",
              "</div>"
            ],
            "text/plain": [
              "     Date    Timestamp  Value  year  month  day\n",
              "0  18-May  20200518451  25340  2020      5   18\n",
              "1  18-May  20200518452  25361  2020      5   18\n",
              "2  18-May  20200518453  25365  2020      5   18\n",
              "3  18-May  20200518454  25368  2020      5   18\n",
              "4  18-May  20200518455  25356  2020      5   18"
            ]
          },
          "metadata": {
            "tags": []
          },
          "execution_count": 155
        }
      ]
    },
    {
      "cell_type": "code",
      "metadata": {
        "id": "w0vtBMQj18gx",
        "colab_type": "code",
        "colab": {
          "base_uri": "https://localhost:8080/",
          "height": 225
        },
        "outputId": "8b396b5c-a9bc-4f5d-8e80-7ab9381c957c"
      },
      "source": [
        "#Adding time part for 8 days\n",
        "\n",
        "# i = pd.date_range('2020-05-18', periods=480, freq='3S')\n",
        "# s = pd.DataFrame(i)\n",
        "data_timedf = pd.DataFrame()\n",
        "dates = ['2020-05-19', '2020-05-20', '2020-05-21', '2020-05-22', '2020-05-23', '2020-05-24' , '2020-05-25' ]\n",
        "for i in dates:\n",
        "  series_ty = pd.date_range(i, periods=480, freq='3S')\n",
        "  s = pd.DataFrame(series_ty, columns=['time'])\n",
        "  data_timedf = pd.concat([data_timedf, s])\n",
        "\n",
        "print(len(data_timedf))\n",
        "data_timedf.head()\n"
      ],
      "execution_count": 156,
      "outputs": [
        {
          "output_type": "stream",
          "text": [
            "3360\n"
          ],
          "name": "stdout"
        },
        {
          "output_type": "execute_result",
          "data": {
            "text/html": [
              "<div>\n",
              "<style scoped>\n",
              "    .dataframe tbody tr th:only-of-type {\n",
              "        vertical-align: middle;\n",
              "    }\n",
              "\n",
              "    .dataframe tbody tr th {\n",
              "        vertical-align: top;\n",
              "    }\n",
              "\n",
              "    .dataframe thead th {\n",
              "        text-align: right;\n",
              "    }\n",
              "</style>\n",
              "<table border=\"1\" class=\"dataframe\">\n",
              "  <thead>\n",
              "    <tr style=\"text-align: right;\">\n",
              "      <th></th>\n",
              "      <th>time</th>\n",
              "    </tr>\n",
              "  </thead>\n",
              "  <tbody>\n",
              "    <tr>\n",
              "      <th>0</th>\n",
              "      <td>2020-05-19 00:00:00</td>\n",
              "    </tr>\n",
              "    <tr>\n",
              "      <th>1</th>\n",
              "      <td>2020-05-19 00:00:03</td>\n",
              "    </tr>\n",
              "    <tr>\n",
              "      <th>2</th>\n",
              "      <td>2020-05-19 00:00:06</td>\n",
              "    </tr>\n",
              "    <tr>\n",
              "      <th>3</th>\n",
              "      <td>2020-05-19 00:00:09</td>\n",
              "    </tr>\n",
              "    <tr>\n",
              "      <th>4</th>\n",
              "      <td>2020-05-19 00:00:12</td>\n",
              "    </tr>\n",
              "  </tbody>\n",
              "</table>\n",
              "</div>"
            ],
            "text/plain": [
              "                 time\n",
              "0 2020-05-19 00:00:00\n",
              "1 2020-05-19 00:00:03\n",
              "2 2020-05-19 00:00:06\n",
              "3 2020-05-19 00:00:09\n",
              "4 2020-05-19 00:00:12"
            ]
          },
          "metadata": {
            "tags": []
          },
          "execution_count": 156
        }
      ]
    },
    {
      "cell_type": "code",
      "metadata": {
        "id": "H7iv63f96Ubu",
        "colab_type": "code",
        "colab": {
          "base_uri": "https://localhost:8080/",
          "height": 243
        },
        "outputId": "211ac44a-3f46-4de8-f70f-8d7d1f464993"
      },
      "source": [
        "# Time creation for 18- May\n",
        "i = pd.date_range('2020-05-18', periods=480, freq='3S')\n",
        "data_timedf_18 = pd.DataFrame(i, columns=['time'])\n",
        "data_timedf_18 = data_timedf_18.sort_values(['time'], ascending= False)[:30]\n",
        "data_timedf_18 = data_timedf_18.sort_values(['time'], ascending= True)\n",
        "print(len(data_timedf_18))\n",
        "data_timedf_18\n",
        "\n",
        "# Time creation for 26 - May\n",
        "i = pd.date_range('2020-05-26', periods=480, freq='3S')\n",
        "data_timedf_26 = pd.DataFrame(i, columns=['time'])\n",
        "data_timedf_26 = data_timedf_26.sort_values(['time'], ascending= True)[:22]\n",
        "# data_timedf_26 = data_timedf_26.sort_values(['time'], ascending= True)[:22]\n",
        "print(len(data_timedf_26))\n",
        "data_timedf_26.head()\n",
        "\n"
      ],
      "execution_count": 157,
      "outputs": [
        {
          "output_type": "stream",
          "text": [
            "30\n",
            "22\n"
          ],
          "name": "stdout"
        },
        {
          "output_type": "execute_result",
          "data": {
            "text/html": [
              "<div>\n",
              "<style scoped>\n",
              "    .dataframe tbody tr th:only-of-type {\n",
              "        vertical-align: middle;\n",
              "    }\n",
              "\n",
              "    .dataframe tbody tr th {\n",
              "        vertical-align: top;\n",
              "    }\n",
              "\n",
              "    .dataframe thead th {\n",
              "        text-align: right;\n",
              "    }\n",
              "</style>\n",
              "<table border=\"1\" class=\"dataframe\">\n",
              "  <thead>\n",
              "    <tr style=\"text-align: right;\">\n",
              "      <th></th>\n",
              "      <th>time</th>\n",
              "    </tr>\n",
              "  </thead>\n",
              "  <tbody>\n",
              "    <tr>\n",
              "      <th>0</th>\n",
              "      <td>2020-05-26 00:00:00</td>\n",
              "    </tr>\n",
              "    <tr>\n",
              "      <th>1</th>\n",
              "      <td>2020-05-26 00:00:03</td>\n",
              "    </tr>\n",
              "    <tr>\n",
              "      <th>2</th>\n",
              "      <td>2020-05-26 00:00:06</td>\n",
              "    </tr>\n",
              "    <tr>\n",
              "      <th>3</th>\n",
              "      <td>2020-05-26 00:00:09</td>\n",
              "    </tr>\n",
              "    <tr>\n",
              "      <th>4</th>\n",
              "      <td>2020-05-26 00:00:12</td>\n",
              "    </tr>\n",
              "  </tbody>\n",
              "</table>\n",
              "</div>"
            ],
            "text/plain": [
              "                 time\n",
              "0 2020-05-26 00:00:00\n",
              "1 2020-05-26 00:00:03\n",
              "2 2020-05-26 00:00:06\n",
              "3 2020-05-26 00:00:09\n",
              "4 2020-05-26 00:00:12"
            ]
          },
          "metadata": {
            "tags": []
          },
          "execution_count": 157
        }
      ]
    },
    {
      "cell_type": "code",
      "metadata": {
        "id": "yJ5txDmj_fmB",
        "colab_type": "code",
        "colab": {
          "base_uri": "https://localhost:8080/",
          "height": 206
        },
        "outputId": "119a10dd-7ec2-4090-82d1-cd28805665df"
      },
      "source": [
        "## Concatenate all time series \n",
        "\n",
        "data_timedf = pd.concat([data_timedf_18, data_timedf, data_timedf_26], axis = 0, sort=True)\n",
        "data_timedf.sort_values('time', ascending=True)\n",
        "data_timedf.reset_index(inplace=True)\n",
        "data_timedf.drop('index', axis = 1, inplace= True)\n",
        "data_timedf.head()"
      ],
      "execution_count": 158,
      "outputs": [
        {
          "output_type": "execute_result",
          "data": {
            "text/html": [
              "<div>\n",
              "<style scoped>\n",
              "    .dataframe tbody tr th:only-of-type {\n",
              "        vertical-align: middle;\n",
              "    }\n",
              "\n",
              "    .dataframe tbody tr th {\n",
              "        vertical-align: top;\n",
              "    }\n",
              "\n",
              "    .dataframe thead th {\n",
              "        text-align: right;\n",
              "    }\n",
              "</style>\n",
              "<table border=\"1\" class=\"dataframe\">\n",
              "  <thead>\n",
              "    <tr style=\"text-align: right;\">\n",
              "      <th></th>\n",
              "      <th>time</th>\n",
              "    </tr>\n",
              "  </thead>\n",
              "  <tbody>\n",
              "    <tr>\n",
              "      <th>0</th>\n",
              "      <td>2020-05-18 00:22:30</td>\n",
              "    </tr>\n",
              "    <tr>\n",
              "      <th>1</th>\n",
              "      <td>2020-05-18 00:22:33</td>\n",
              "    </tr>\n",
              "    <tr>\n",
              "      <th>2</th>\n",
              "      <td>2020-05-18 00:22:36</td>\n",
              "    </tr>\n",
              "    <tr>\n",
              "      <th>3</th>\n",
              "      <td>2020-05-18 00:22:39</td>\n",
              "    </tr>\n",
              "    <tr>\n",
              "      <th>4</th>\n",
              "      <td>2020-05-18 00:22:42</td>\n",
              "    </tr>\n",
              "  </tbody>\n",
              "</table>\n",
              "</div>"
            ],
            "text/plain": [
              "                 time\n",
              "0 2020-05-18 00:22:30\n",
              "1 2020-05-18 00:22:33\n",
              "2 2020-05-18 00:22:36\n",
              "3 2020-05-18 00:22:39\n",
              "4 2020-05-18 00:22:42"
            ]
          },
          "metadata": {
            "tags": []
          },
          "execution_count": 158
        }
      ]
    },
    {
      "cell_type": "code",
      "metadata": {
        "id": "ttAJaUl19XNa",
        "colab_type": "code",
        "colab": {
          "base_uri": "https://localhost:8080/",
          "height": 206
        },
        "outputId": "0dfd7a95-c0d5-4d3c-b72c-056bd5bf521b"
      },
      "source": [
        "# Making the complete dataset\n",
        "data_a = pd.concat([data_a, data_timedf], axis = 1)\n",
        "data_a.head()"
      ],
      "execution_count": 159,
      "outputs": [
        {
          "output_type": "execute_result",
          "data": {
            "text/html": [
              "<div>\n",
              "<style scoped>\n",
              "    .dataframe tbody tr th:only-of-type {\n",
              "        vertical-align: middle;\n",
              "    }\n",
              "\n",
              "    .dataframe tbody tr th {\n",
              "        vertical-align: top;\n",
              "    }\n",
              "\n",
              "    .dataframe thead th {\n",
              "        text-align: right;\n",
              "    }\n",
              "</style>\n",
              "<table border=\"1\" class=\"dataframe\">\n",
              "  <thead>\n",
              "    <tr style=\"text-align: right;\">\n",
              "      <th></th>\n",
              "      <th>Date</th>\n",
              "      <th>Timestamp</th>\n",
              "      <th>Value</th>\n",
              "      <th>year</th>\n",
              "      <th>month</th>\n",
              "      <th>day</th>\n",
              "      <th>time</th>\n",
              "    </tr>\n",
              "  </thead>\n",
              "  <tbody>\n",
              "    <tr>\n",
              "      <th>0</th>\n",
              "      <td>18-May</td>\n",
              "      <td>20200518451</td>\n",
              "      <td>25340</td>\n",
              "      <td>2020</td>\n",
              "      <td>5</td>\n",
              "      <td>18</td>\n",
              "      <td>2020-05-18 00:22:30</td>\n",
              "    </tr>\n",
              "    <tr>\n",
              "      <th>1</th>\n",
              "      <td>18-May</td>\n",
              "      <td>20200518452</td>\n",
              "      <td>25361</td>\n",
              "      <td>2020</td>\n",
              "      <td>5</td>\n",
              "      <td>18</td>\n",
              "      <td>2020-05-18 00:22:33</td>\n",
              "    </tr>\n",
              "    <tr>\n",
              "      <th>2</th>\n",
              "      <td>18-May</td>\n",
              "      <td>20200518453</td>\n",
              "      <td>25365</td>\n",
              "      <td>2020</td>\n",
              "      <td>5</td>\n",
              "      <td>18</td>\n",
              "      <td>2020-05-18 00:22:36</td>\n",
              "    </tr>\n",
              "    <tr>\n",
              "      <th>3</th>\n",
              "      <td>18-May</td>\n",
              "      <td>20200518454</td>\n",
              "      <td>25368</td>\n",
              "      <td>2020</td>\n",
              "      <td>5</td>\n",
              "      <td>18</td>\n",
              "      <td>2020-05-18 00:22:39</td>\n",
              "    </tr>\n",
              "    <tr>\n",
              "      <th>4</th>\n",
              "      <td>18-May</td>\n",
              "      <td>20200518455</td>\n",
              "      <td>25356</td>\n",
              "      <td>2020</td>\n",
              "      <td>5</td>\n",
              "      <td>18</td>\n",
              "      <td>2020-05-18 00:22:42</td>\n",
              "    </tr>\n",
              "  </tbody>\n",
              "</table>\n",
              "</div>"
            ],
            "text/plain": [
              "     Date    Timestamp  Value  year  month  day                time\n",
              "0  18-May  20200518451  25340  2020      5   18 2020-05-18 00:22:30\n",
              "1  18-May  20200518452  25361  2020      5   18 2020-05-18 00:22:33\n",
              "2  18-May  20200518453  25365  2020      5   18 2020-05-18 00:22:36\n",
              "3  18-May  20200518454  25368  2020      5   18 2020-05-18 00:22:39\n",
              "4  18-May  20200518455  25356  2020      5   18 2020-05-18 00:22:42"
            ]
          },
          "metadata": {
            "tags": []
          },
          "execution_count": 159
        }
      ]
    },
    {
      "cell_type": "code",
      "metadata": {
        "id": "LJvgQsaN9zgN",
        "colab_type": "code",
        "colab": {}
      },
      "source": [
        "data_a.drop(['Date', 'year', 'month', 'day'], axis = 1, inplace = True)\n",
        "data_a['Value'].astype(int)\n",
        "data_a.to_csv(\"data_input.csv\", index = False)"
      ],
      "execution_count": 0,
      "outputs": []
    },
    {
      "cell_type": "markdown",
      "metadata": {
        "id": "BmrtBpkkHPS0",
        "colab_type": "text"
      },
      "source": [
        "# EDA\n"
      ]
    },
    {
      "cell_type": "code",
      "metadata": {
        "id": "CiuSWPvaHSM0",
        "colab_type": "code",
        "colab": {
          "base_uri": "https://localhost:8080/",
          "height": 182
        },
        "outputId": "99653d1d-cde4-456e-ebe0-2884a7202a7c"
      },
      "source": [
        "!pip install auto_ts --no-cache-dir --ignore-installed"
      ],
      "execution_count": 181,
      "outputs": [
        {
          "output_type": "stream",
          "text": [
            "Collecting auto_ts\n",
            "\u001b[?25l  Downloading https://files.pythonhosted.org/packages/51/de/097be4efa63fd711ca338b6d3215a5c4ed15b41a9d595656d1368febf6f3/auto_ts-0.0.19-py3-none-any.whl (40kB)\n",
            "\r\u001b[K     |████████                        | 10kB 13.1MB/s eta 0:00:01\r\u001b[K     |████████████████                | 20kB 2.1MB/s eta 0:00:01\r\u001b[K     |████████████████████████        | 30kB 2.8MB/s eta 0:00:01\r\u001b[K     |████████████████████████████████| 40kB 3.1MB/s eta 0:00:01\r\u001b[K     |████████████████████████████████| 51kB 3.7MB/s \n",
            "\u001b[?25hCollecting jupyter\n",
            "  Downloading https://files.pythonhosted.org/packages/83/df/0f5dd132200728a86190397e1ea87cd76244e42d39ec5e88efd25b2abd7e/jupyter-1.0.0-py2.py3-none-any.whl\n",
            "Collecting statsmodels\n",
            "\u001b[?25l  Downloading https://files.pythonhosted.org/packages/cb/83/540fd83238a18abe6c2d280fa8e489ac5fcefa1f370f0ca1acd16ae1b860/statsmodels-0.11.1-cp36-cp36m-manylinux1_x86_64.whl (8.7MB)\n",
            "\u001b[K     |██████████▏                     | 2.8MB 6.7MB/s eta 0:00:01\n",
            "\u001b[31mERROR: Operation cancelled by user\u001b[0m\n",
            "\u001b[?25h"
          ],
          "name": "stdout"
        }
      ]
    },
    {
      "cell_type": "code",
      "metadata": {
        "id": "29k2FN_YJ-KA",
        "colab_type": "code",
        "colab": {
          "base_uri": "https://localhost:8080/",
          "height": 182
        },
        "outputId": "917216b1-c385-4d46-e31e-f9b13937c1eb"
      },
      "source": [
        "import matplotlib as mpl\n",
        "import matplotlib.pyplot as plt\n",
        "from datetime import datetime\n",
        "import auto_ts as AT \n",
        "import pandas as pd\n",
        "\n",
        "mpl.rcParams['figure.figsize'] = (8,6)\n",
        "mpl.rcParams['axes.grid'] = False\n"
      ],
      "execution_count": 178,
      "outputs": [
        {
          "output_type": "stream",
          "text": [
            "Running Auto Timeseries version: 0.0.19...Call by using:\n",
            "        auto_ts.Auto_Timeseries(traindata, ts_column,\n",
            "                            target, sep,  score_type='rmse', forecast_period=5,\n",
            "                            time_interval='Month', non_seasonal_pdq=None, seasonality=False,\n",
            "                            seasonal_period=12, seasonal_PDQ=None, model_type='stats',\n",
            "                            verbose=1)\n",
            "    To run three models from Stats, ML and FB Prophet, set model_type='best'\n",
            "To remove previous versions, perform 'pip uninstall auto_ts'\n",
            "To get the latest version, perform \"pip install auto_ts --no-cache-dir --ignore-installed\"\n"
          ],
          "name": "stdout"
        }
      ]
    },
    {
      "cell_type": "code",
      "metadata": {
        "id": "Aoq2wP6aJgPz",
        "colab_type": "code",
        "colab": {}
      },
      "source": [
        "\n",
        "data = pd.read_csv(\"/content/data_input.csv\")\n",
        "data.drop('Timestamp', axis = 1, inplace = True)\n",
        "data.head()"
      ],
      "execution_count": 0,
      "outputs": []
    },
    {
      "cell_type": "code",
      "metadata": {
        "id": "8MapwDkpHmbm",
        "colab_type": "code",
        "colab": {
          "base_uri": "https://localhost:8080/",
          "height": 542
        },
        "outputId": "88c87f29-5adf-4b98-ad34-223eb4fd5bc7"
      },
      "source": [
        "trace_1 = go.Scatter(\n",
        "        x=data.time,\n",
        "        y= data['Value'],\n",
        "        name = 'Sensor A',\n",
        "        line = dict(color = '#29f3c9'),\n",
        "        opacity = 0.8)\n",
        "\n",
        "data = [trace_1]\n",
        "# data = [trace_1]\n",
        "layout = dict(\n",
        "        title='Time series for Invalid file 1 and Invalid file 2 ',\n",
        "        xaxis_title='Time(sec)',\n",
        "        yaxis_title='Accel norm',\n",
        "        paper_bgcolor=\"#dec7f2\",\n",
        "#         paper_bgcolor='rgba(0,1,0,0)'\n",
        "        )\n",
        "fig = dict(data=data, layout= layout )\n",
        "iplot(fig)"
      ],
      "execution_count": 176,
      "outputs": [
        {
          "output_type": "display_data",
          "data": {
            "text/html": [
              "<html>\n",
              "<head><meta charset=\"utf-8\" /></head>\n",
              "<body>\n",
              "    <div>\n",
              "            <script src=\"https://cdnjs.cloudflare.com/ajax/libs/mathjax/2.7.5/MathJax.js?config=TeX-AMS-MML_SVG\"></script><script type=\"text/javascript\">if (window.MathJax) {MathJax.Hub.Config({SVG: {font: \"STIX-Web\"}});}</script>\n",
              "                <script type=\"text/javascript\">window.PlotlyConfig = {MathJaxConfig: 'local'};</script>\n",
              "        <script src=\"https://cdn.plot.ly/plotly-latest.min.js\"></script>    \n",
              "            <div id=\"21077a54-67ed-4bd4-86d7-676661514ced\" class=\"plotly-graph-div\" style=\"height:525px; width:100%;\"></div>\n",
              "            <script type=\"text/javascript\">\n",
              "                \n",
              "                    window.PLOTLYENV=window.PLOTLYENV || {};\n",
              "                    \n",
              "                if (document.getElementById(\"21077a54-67ed-4bd4-86d7-676661514ced\")) {\n",
              "                    Plotly.newPlot(\n",
              "                        '21077a54-67ed-4bd4-86d7-676661514ced',\n",
              "                        [{\"line\": {\"color\": \"#29f3c9\"}, \"name\": \"Sensor A\", \"opacity\": 0.8, \"type\": \"scatter\", \"x\": [\"2020-05-18 00:22:30\", \"2020-05-18 00:22:33\", \"2020-05-18 00:22:36\", \"2020-05-18 00:22:39\", \"2020-05-18 00:22:42\", \"2020-05-18 00:22:45\", \"2020-05-18 00:22:48\", \"2020-05-18 00:22:51\", \"2020-05-18 00:22:54\", \"2020-05-18 00:22:57\", \"2020-05-18 00:23:00\", \"2020-05-18 00:23:03\", \"2020-05-18 00:23:06\", \"2020-05-18 00:23:09\", \"2020-05-18 00:23:12\", \"2020-05-18 00:23:15\", \"2020-05-18 00:23:18\", \"2020-05-18 00:23:21\", \"2020-05-18 00:23:24\", \"2020-05-18 00:23:27\", \"2020-05-18 00:23:30\", \"2020-05-18 00:23:33\", \"2020-05-18 00:23:36\", \"2020-05-18 00:23:39\", \"2020-05-18 00:23:42\", \"2020-05-18 00:23:45\", \"2020-05-18 00:23:48\", \"2020-05-18 00:23:51\", \"2020-05-18 00:23:54\", \"2020-05-18 00:23:57\", \"2020-05-19 00:00:00\", \"2020-05-19 00:00:03\", \"2020-05-19 00:00:06\", \"2020-05-19 00:00:09\", \"2020-05-19 00:00:12\", \"2020-05-19 00:00:15\", \"2020-05-19 00:00:18\", \"2020-05-19 00:00:21\", \"2020-05-19 00:00:24\", \"2020-05-19 00:00:27\", \"2020-05-19 00:00:30\", \"2020-05-19 00:00:33\", \"2020-05-19 00:00:36\", \"2020-05-19 00:00:39\", \"2020-05-19 00:00:42\", \"2020-05-19 00:00:45\", \"2020-05-19 00:00:48\", \"2020-05-19 00:00:51\", \"2020-05-19 00:00:54\", \"2020-05-19 00:00:57\", \"2020-05-19 00:01:00\", \"2020-05-19 00:01:03\", \"2020-05-19 00:01:06\", \"2020-05-19 00:01:09\", \"2020-05-19 00:01:12\", \"2020-05-19 00:01:15\", \"2020-05-19 00:01:18\", \"2020-05-19 00:01:21\", \"2020-05-19 00:01:24\", \"2020-05-19 00:01:27\", \"2020-05-19 00:01:30\", \"2020-05-19 00:01:33\", \"2020-05-19 00:01:36\", \"2020-05-19 00:01:39\", \"2020-05-19 00:01:42\", \"2020-05-19 00:01:45\", \"2020-05-19 00:01:48\", \"2020-05-19 00:01:51\", \"2020-05-19 00:01:54\", \"2020-05-19 00:01:57\", \"2020-05-19 00:02:00\", \"2020-05-19 00:02:03\", \"2020-05-19 00:02:06\", \"2020-05-19 00:02:09\", \"2020-05-19 00:02:12\", \"2020-05-19 00:02:15\", \"2020-05-19 00:02:18\", \"2020-05-19 00:02:21\", \"2020-05-19 00:02:24\", \"2020-05-19 00:02:27\", \"2020-05-19 00:02:30\", \"2020-05-19 00:02:33\", \"2020-05-19 00:02:36\", \"2020-05-19 00:02:39\", \"2020-05-19 00:02:42\", \"2020-05-19 00:02:45\", \"2020-05-19 00:02:48\", \"2020-05-19 00:02:51\", \"2020-05-19 00:02:54\", \"2020-05-19 00:02:57\", \"2020-05-19 00:03:00\", \"2020-05-19 00:03:03\", \"2020-05-19 00:03:06\", \"2020-05-19 00:03:09\", \"2020-05-19 00:03:12\", \"2020-05-19 00:03:15\", \"2020-05-19 00:03:18\", \"2020-05-19 00:03:21\", \"2020-05-19 00:03:24\", \"2020-05-19 00:03:27\", \"2020-05-19 00:03:30\", \"2020-05-19 00:03:33\", \"2020-05-19 00:03:36\", \"2020-05-19 00:03:39\", \"2020-05-19 00:03:42\", \"2020-05-19 00:03:45\", \"2020-05-19 00:03:48\", \"2020-05-19 00:03:51\", \"2020-05-19 00:03:54\", \"2020-05-19 00:03:57\", \"2020-05-19 00:04:00\", \"2020-05-19 00:04:03\", \"2020-05-19 00:04:06\", \"2020-05-19 00:04:09\", \"2020-05-19 00:04:12\", \"2020-05-19 00:04:15\", \"2020-05-19 00:04:18\", \"2020-05-19 00:04:21\", \"2020-05-19 00:04:24\", \"2020-05-19 00:04:27\", \"2020-05-19 00:04:30\", \"2020-05-19 00:04:33\", \"2020-05-19 00:04:36\", \"2020-05-19 00:04:39\", \"2020-05-19 00:04:42\", \"2020-05-19 00:04:45\", \"2020-05-19 00:04:48\", \"2020-05-19 00:04:51\", \"2020-05-19 00:04:54\", \"2020-05-19 00:04:57\", \"2020-05-19 00:05:00\", \"2020-05-19 00:05:03\", \"2020-05-19 00:05:06\", \"2020-05-19 00:05:09\", \"2020-05-19 00:05:12\", \"2020-05-19 00:05:15\", \"2020-05-19 00:05:18\", \"2020-05-19 00:05:21\", \"2020-05-19 00:05:24\", \"2020-05-19 00:05:27\", \"2020-05-19 00:05:30\", \"2020-05-19 00:05:33\", \"2020-05-19 00:05:36\", \"2020-05-19 00:05:39\", \"2020-05-19 00:05:42\", \"2020-05-19 00:05:45\", \"2020-05-19 00:05:48\", \"2020-05-19 00:05:51\", \"2020-05-19 00:05:54\", \"2020-05-19 00:05:57\", \"2020-05-19 00:06:00\", \"2020-05-19 00:06:03\", \"2020-05-19 00:06:06\", \"2020-05-19 00:06:09\", \"2020-05-19 00:06:12\", \"2020-05-19 00:06:15\", \"2020-05-19 00:06:18\", \"2020-05-19 00:06:21\", \"2020-05-19 00:06:24\", \"2020-05-19 00:06:27\", \"2020-05-19 00:06:30\", \"2020-05-19 00:06:33\", \"2020-05-19 00:06:36\", \"2020-05-19 00:06:39\", \"2020-05-19 00:06:42\", \"2020-05-19 00:06:45\", \"2020-05-19 00:06:48\", \"2020-05-19 00:06:51\", \"2020-05-19 00:06:54\", \"2020-05-19 00:06:57\", \"2020-05-19 00:07:00\", \"2020-05-19 00:07:03\", \"2020-05-19 00:07:06\", \"2020-05-19 00:07:09\", \"2020-05-19 00:07:12\", \"2020-05-19 00:07:15\", \"2020-05-19 00:07:18\", \"2020-05-19 00:07:21\", \"2020-05-19 00:07:24\", \"2020-05-19 00:07:27\", \"2020-05-19 00:07:30\", \"2020-05-19 00:07:33\", \"2020-05-19 00:07:36\", \"2020-05-19 00:07:39\", \"2020-05-19 00:07:42\", \"2020-05-19 00:07:45\", \"2020-05-19 00:07:48\", \"2020-05-19 00:07:51\", \"2020-05-19 00:07:54\", \"2020-05-19 00:07:57\", \"2020-05-19 00:08:00\", \"2020-05-19 00:08:03\", \"2020-05-19 00:08:06\", \"2020-05-19 00:08:09\", \"2020-05-19 00:08:12\", \"2020-05-19 00:08:15\", \"2020-05-19 00:08:18\", \"2020-05-19 00:08:21\", \"2020-05-19 00:08:24\", \"2020-05-19 00:08:27\", \"2020-05-19 00:08:30\", \"2020-05-19 00:08:33\", \"2020-05-19 00:08:36\", \"2020-05-19 00:08:39\", \"2020-05-19 00:08:42\", \"2020-05-19 00:08:45\", \"2020-05-19 00:08:48\", \"2020-05-19 00:08:51\", \"2020-05-19 00:08:54\", \"2020-05-19 00:08:57\", \"2020-05-19 00:09:00\", \"2020-05-19 00:09:03\", \"2020-05-19 00:09:06\", \"2020-05-19 00:09:09\", \"2020-05-19 00:09:12\", \"2020-05-19 00:09:15\", \"2020-05-19 00:09:18\", \"2020-05-19 00:09:21\", \"2020-05-19 00:09:24\", \"2020-05-19 00:09:27\", \"2020-05-19 00:09:30\", \"2020-05-19 00:09:33\", \"2020-05-19 00:09:36\", \"2020-05-19 00:09:39\", \"2020-05-19 00:09:42\", \"2020-05-19 00:09:45\", \"2020-05-19 00:09:48\", \"2020-05-19 00:09:51\", \"2020-05-19 00:09:54\", \"2020-05-19 00:09:57\", \"2020-05-19 00:10:00\", \"2020-05-19 00:10:03\", \"2020-05-19 00:10:06\", \"2020-05-19 00:10:09\", \"2020-05-19 00:10:12\", \"2020-05-19 00:10:15\", \"2020-05-19 00:10:18\", \"2020-05-19 00:10:21\", \"2020-05-19 00:10:24\", \"2020-05-19 00:10:27\", \"2020-05-19 00:10:30\", \"2020-05-19 00:10:33\", \"2020-05-19 00:10:36\", \"2020-05-19 00:10:39\", \"2020-05-19 00:10:42\", \"2020-05-19 00:10:45\", \"2020-05-19 00:10:48\", \"2020-05-19 00:10:51\", \"2020-05-19 00:10:54\", \"2020-05-19 00:10:57\", \"2020-05-19 00:11:00\", \"2020-05-19 00:11:03\", \"2020-05-19 00:11:06\", \"2020-05-19 00:11:09\", \"2020-05-19 00:11:12\", \"2020-05-19 00:11:15\", \"2020-05-19 00:11:18\", \"2020-05-19 00:11:21\", \"2020-05-19 00:11:24\", \"2020-05-19 00:11:27\", \"2020-05-19 00:11:30\", \"2020-05-19 00:11:33\", \"2020-05-19 00:11:36\", \"2020-05-19 00:11:39\", \"2020-05-19 00:11:42\", \"2020-05-19 00:11:45\", \"2020-05-19 00:11:48\", \"2020-05-19 00:11:51\", \"2020-05-19 00:11:54\", \"2020-05-19 00:11:57\", \"2020-05-19 00:12:00\", \"2020-05-19 00:12:03\", \"2020-05-19 00:12:06\", \"2020-05-19 00:12:09\", \"2020-05-19 00:12:12\", \"2020-05-19 00:12:15\", \"2020-05-19 00:12:18\", \"2020-05-19 00:12:21\", \"2020-05-19 00:12:24\", \"2020-05-19 00:12:27\", \"2020-05-19 00:12:30\", \"2020-05-19 00:12:33\", \"2020-05-19 00:12:36\", \"2020-05-19 00:12:39\", \"2020-05-19 00:12:42\", \"2020-05-19 00:12:45\", \"2020-05-19 00:12:48\", \"2020-05-19 00:12:51\", \"2020-05-19 00:12:54\", \"2020-05-19 00:12:57\", \"2020-05-19 00:13:00\", \"2020-05-19 00:13:03\", \"2020-05-19 00:13:06\", \"2020-05-19 00:13:09\", \"2020-05-19 00:13:12\", \"2020-05-19 00:13:15\", \"2020-05-19 00:13:18\", \"2020-05-19 00:13:21\", \"2020-05-19 00:13:24\", \"2020-05-19 00:13:27\", \"2020-05-19 00:13:30\", \"2020-05-19 00:13:33\", \"2020-05-19 00:13:36\", \"2020-05-19 00:13:39\", \"2020-05-19 00:13:42\", \"2020-05-19 00:13:45\", \"2020-05-19 00:13:48\", \"2020-05-19 00:13:51\", \"2020-05-19 00:13:54\", \"2020-05-19 00:13:57\", \"2020-05-19 00:14:00\", \"2020-05-19 00:14:03\", \"2020-05-19 00:14:06\", \"2020-05-19 00:14:09\", \"2020-05-19 00:14:12\", \"2020-05-19 00:14:15\", \"2020-05-19 00:14:18\", \"2020-05-19 00:14:21\", \"2020-05-19 00:14:24\", \"2020-05-19 00:14:27\", \"2020-05-19 00:14:30\", \"2020-05-19 00:14:33\", \"2020-05-19 00:14:36\", \"2020-05-19 00:14:39\", \"2020-05-19 00:14:42\", \"2020-05-19 00:14:45\", \"2020-05-19 00:14:48\", \"2020-05-19 00:14:51\", \"2020-05-19 00:14:54\", \"2020-05-19 00:14:57\", \"2020-05-19 00:15:00\", \"2020-05-19 00:15:03\", \"2020-05-19 00:15:06\", \"2020-05-19 00:15:09\", \"2020-05-19 00:15:12\", \"2020-05-19 00:15:15\", \"2020-05-19 00:15:18\", \"2020-05-19 00:15:21\", \"2020-05-19 00:15:24\", \"2020-05-19 00:15:27\", \"2020-05-19 00:15:30\", \"2020-05-19 00:15:33\", \"2020-05-19 00:15:36\", \"2020-05-19 00:15:39\", \"2020-05-19 00:15:42\", \"2020-05-19 00:15:45\", \"2020-05-19 00:15:48\", \"2020-05-19 00:15:51\", \"2020-05-19 00:15:54\", \"2020-05-19 00:15:57\", \"2020-05-19 00:16:00\", \"2020-05-19 00:16:03\", \"2020-05-19 00:16:06\", \"2020-05-19 00:16:09\", \"2020-05-19 00:16:12\", \"2020-05-19 00:16:15\", \"2020-05-19 00:16:18\", \"2020-05-19 00:16:21\", \"2020-05-19 00:16:24\", \"2020-05-19 00:16:27\", \"2020-05-19 00:16:30\", \"2020-05-19 00:16:33\", \"2020-05-19 00:16:36\", \"2020-05-19 00:16:39\", \"2020-05-19 00:16:42\", \"2020-05-19 00:16:45\", \"2020-05-19 00:16:48\", \"2020-05-19 00:16:51\", \"2020-05-19 00:16:54\", \"2020-05-19 00:16:57\", \"2020-05-19 00:17:00\", \"2020-05-19 00:17:03\", \"2020-05-19 00:17:06\", \"2020-05-19 00:17:09\", \"2020-05-19 00:17:12\", \"2020-05-19 00:17:15\", \"2020-05-19 00:17:18\", \"2020-05-19 00:17:21\", \"2020-05-19 00:17:24\", \"2020-05-19 00:17:27\", \"2020-05-19 00:17:30\", \"2020-05-19 00:17:33\", \"2020-05-19 00:17:36\", \"2020-05-19 00:17:39\", \"2020-05-19 00:17:42\", \"2020-05-19 00:17:45\", \"2020-05-19 00:17:48\", \"2020-05-19 00:17:51\", \"2020-05-19 00:17:54\", \"2020-05-19 00:17:57\", \"2020-05-19 00:18:00\", \"2020-05-19 00:18:03\", \"2020-05-19 00:18:06\", \"2020-05-19 00:18:09\", \"2020-05-19 00:18:12\", \"2020-05-19 00:18:15\", \"2020-05-19 00:18:18\", \"2020-05-19 00:18:21\", \"2020-05-19 00:18:24\", \"2020-05-19 00:18:27\", \"2020-05-19 00:18:30\", \"2020-05-19 00:18:33\", \"2020-05-19 00:18:36\", \"2020-05-19 00:18:39\", \"2020-05-19 00:18:42\", \"2020-05-19 00:18:45\", \"2020-05-19 00:18:48\", \"2020-05-19 00:18:51\", \"2020-05-19 00:18:54\", \"2020-05-19 00:18:57\", \"2020-05-19 00:19:00\", \"2020-05-19 00:19:03\", \"2020-05-19 00:19:06\", \"2020-05-19 00:19:09\", \"2020-05-19 00:19:12\", \"2020-05-19 00:19:15\", \"2020-05-19 00:19:18\", \"2020-05-19 00:19:21\", \"2020-05-19 00:19:24\", \"2020-05-19 00:19:27\", \"2020-05-19 00:19:30\", \"2020-05-19 00:19:33\", \"2020-05-19 00:19:36\", \"2020-05-19 00:19:39\", \"2020-05-19 00:19:42\", \"2020-05-19 00:19:45\", \"2020-05-19 00:19:48\", \"2020-05-19 00:19:51\", \"2020-05-19 00:19:54\", \"2020-05-19 00:19:57\", \"2020-05-19 00:20:00\", \"2020-05-19 00:20:03\", \"2020-05-19 00:20:06\", \"2020-05-19 00:20:09\", \"2020-05-19 00:20:12\", \"2020-05-19 00:20:15\", \"2020-05-19 00:20:18\", \"2020-05-19 00:20:21\", \"2020-05-19 00:20:24\", \"2020-05-19 00:20:27\", \"2020-05-19 00:20:30\", \"2020-05-19 00:20:33\", \"2020-05-19 00:20:36\", \"2020-05-19 00:20:39\", \"2020-05-19 00:20:42\", \"2020-05-19 00:20:45\", \"2020-05-19 00:20:48\", \"2020-05-19 00:20:51\", \"2020-05-19 00:20:54\", \"2020-05-19 00:20:57\", \"2020-05-19 00:21:00\", \"2020-05-19 00:21:03\", \"2020-05-19 00:21:06\", \"2020-05-19 00:21:09\", \"2020-05-19 00:21:12\", \"2020-05-19 00:21:15\", \"2020-05-19 00:21:18\", \"2020-05-19 00:21:21\", \"2020-05-19 00:21:24\", \"2020-05-19 00:21:27\", \"2020-05-19 00:21:30\", \"2020-05-19 00:21:33\", \"2020-05-19 00:21:36\", \"2020-05-19 00:21:39\", \"2020-05-19 00:21:42\", \"2020-05-19 00:21:45\", \"2020-05-19 00:21:48\", \"2020-05-19 00:21:51\", \"2020-05-19 00:21:54\", \"2020-05-19 00:21:57\", \"2020-05-19 00:22:00\", \"2020-05-19 00:22:03\", \"2020-05-19 00:22:06\", \"2020-05-19 00:22:09\", \"2020-05-19 00:22:12\", \"2020-05-19 00:22:15\", \"2020-05-19 00:22:18\", \"2020-05-19 00:22:21\", \"2020-05-19 00:22:24\", \"2020-05-19 00:22:27\", \"2020-05-19 00:22:30\", \"2020-05-19 00:22:33\", \"2020-05-19 00:22:36\", \"2020-05-19 00:22:39\", \"2020-05-19 00:22:42\", \"2020-05-19 00:22:45\", \"2020-05-19 00:22:48\", \"2020-05-19 00:22:51\", \"2020-05-19 00:22:54\", \"2020-05-19 00:22:57\", \"2020-05-19 00:23:00\", \"2020-05-19 00:23:03\", \"2020-05-19 00:23:06\", \"2020-05-19 00:23:09\", \"2020-05-19 00:23:12\", \"2020-05-19 00:23:15\", \"2020-05-19 00:23:18\", \"2020-05-19 00:23:21\", \"2020-05-19 00:23:24\", \"2020-05-19 00:23:27\", \"2020-05-19 00:23:30\", \"2020-05-19 00:23:33\", \"2020-05-19 00:23:36\", \"2020-05-19 00:23:39\", \"2020-05-19 00:23:42\", \"2020-05-19 00:23:45\", \"2020-05-19 00:23:48\", \"2020-05-19 00:23:51\", \"2020-05-19 00:23:54\", \"2020-05-19 00:23:57\", \"2020-05-20 00:00:00\", \"2020-05-20 00:00:03\", \"2020-05-20 00:00:06\", \"2020-05-20 00:00:09\", \"2020-05-20 00:00:12\", \"2020-05-20 00:00:15\", \"2020-05-20 00:00:18\", \"2020-05-20 00:00:21\", \"2020-05-20 00:00:24\", \"2020-05-20 00:00:27\", \"2020-05-20 00:00:30\", \"2020-05-20 00:00:33\", \"2020-05-20 00:00:36\", \"2020-05-20 00:00:39\", \"2020-05-20 00:00:42\", \"2020-05-20 00:00:45\", \"2020-05-20 00:00:48\", \"2020-05-20 00:00:51\", \"2020-05-20 00:00:54\", \"2020-05-20 00:00:57\", \"2020-05-20 00:01:00\", \"2020-05-20 00:01:03\", \"2020-05-20 00:01:06\", \"2020-05-20 00:01:09\", \"2020-05-20 00:01:12\", \"2020-05-20 00:01:15\", \"2020-05-20 00:01:18\", \"2020-05-20 00:01:21\", \"2020-05-20 00:01:24\", \"2020-05-20 00:01:27\", \"2020-05-20 00:01:30\", \"2020-05-20 00:01:33\", \"2020-05-20 00:01:36\", \"2020-05-20 00:01:39\", \"2020-05-20 00:01:42\", \"2020-05-20 00:01:45\", \"2020-05-20 00:01:48\", \"2020-05-20 00:01:51\", \"2020-05-20 00:01:54\", \"2020-05-20 00:01:57\", \"2020-05-20 00:02:00\", \"2020-05-20 00:02:03\", \"2020-05-20 00:02:06\", \"2020-05-20 00:02:09\", \"2020-05-20 00:02:12\", \"2020-05-20 00:02:15\", \"2020-05-20 00:02:18\", \"2020-05-20 00:02:21\", \"2020-05-20 00:02:24\", \"2020-05-20 00:02:27\", \"2020-05-20 00:02:30\", \"2020-05-20 00:02:33\", \"2020-05-20 00:02:36\", \"2020-05-20 00:02:39\", \"2020-05-20 00:02:42\", \"2020-05-20 00:02:45\", \"2020-05-20 00:02:48\", \"2020-05-20 00:02:51\", \"2020-05-20 00:02:54\", \"2020-05-20 00:02:57\", \"2020-05-20 00:03:00\", \"2020-05-20 00:03:03\", \"2020-05-20 00:03:06\", \"2020-05-20 00:03:09\", \"2020-05-20 00:03:12\", \"2020-05-20 00:03:15\", \"2020-05-20 00:03:18\", \"2020-05-20 00:03:21\", \"2020-05-20 00:03:24\", \"2020-05-20 00:03:27\", \"2020-05-20 00:03:30\", \"2020-05-20 00:03:33\", \"2020-05-20 00:03:36\", \"2020-05-20 00:03:39\", \"2020-05-20 00:03:42\", \"2020-05-20 00:03:45\", \"2020-05-20 00:03:48\", \"2020-05-20 00:03:51\", \"2020-05-20 00:03:54\", \"2020-05-20 00:03:57\", \"2020-05-20 00:04:00\", \"2020-05-20 00:04:03\", \"2020-05-20 00:04:06\", \"2020-05-20 00:04:09\", \"2020-05-20 00:04:12\", \"2020-05-20 00:04:15\", \"2020-05-20 00:04:18\", \"2020-05-20 00:04:21\", \"2020-05-20 00:04:24\", \"2020-05-20 00:04:27\", \"2020-05-20 00:04:30\", \"2020-05-20 00:04:33\", \"2020-05-20 00:04:36\", \"2020-05-20 00:04:39\", \"2020-05-20 00:04:42\", \"2020-05-20 00:04:45\", \"2020-05-20 00:04:48\", \"2020-05-20 00:04:51\", \"2020-05-20 00:04:54\", \"2020-05-20 00:04:57\", \"2020-05-20 00:05:00\", \"2020-05-20 00:05:03\", \"2020-05-20 00:05:06\", \"2020-05-20 00:05:09\", \"2020-05-20 00:05:12\", \"2020-05-20 00:05:15\", \"2020-05-20 00:05:18\", \"2020-05-20 00:05:21\", \"2020-05-20 00:05:24\", \"2020-05-20 00:05:27\", \"2020-05-20 00:05:30\", \"2020-05-20 00:05:33\", \"2020-05-20 00:05:36\", \"2020-05-20 00:05:39\", \"2020-05-20 00:05:42\", \"2020-05-20 00:05:45\", \"2020-05-20 00:05:48\", \"2020-05-20 00:05:51\", \"2020-05-20 00:05:54\", \"2020-05-20 00:05:57\", \"2020-05-20 00:06:00\", \"2020-05-20 00:06:03\", \"2020-05-20 00:06:06\", \"2020-05-20 00:06:09\", \"2020-05-20 00:06:12\", \"2020-05-20 00:06:15\", \"2020-05-20 00:06:18\", \"2020-05-20 00:06:21\", \"2020-05-20 00:06:24\", \"2020-05-20 00:06:27\", \"2020-05-20 00:06:30\", \"2020-05-20 00:06:33\", \"2020-05-20 00:06:36\", \"2020-05-20 00:06:39\", \"2020-05-20 00:06:42\", \"2020-05-20 00:06:45\", \"2020-05-20 00:06:48\", \"2020-05-20 00:06:51\", \"2020-05-20 00:06:54\", \"2020-05-20 00:06:57\", \"2020-05-20 00:07:00\", \"2020-05-20 00:07:03\", \"2020-05-20 00:07:06\", \"2020-05-20 00:07:09\", \"2020-05-20 00:07:12\", \"2020-05-20 00:07:15\", \"2020-05-20 00:07:18\", \"2020-05-20 00:07:21\", \"2020-05-20 00:07:24\", \"2020-05-20 00:07:27\", \"2020-05-20 00:07:30\", \"2020-05-20 00:07:33\", \"2020-05-20 00:07:36\", \"2020-05-20 00:07:39\", \"2020-05-20 00:07:42\", \"2020-05-20 00:07:45\", \"2020-05-20 00:07:48\", \"2020-05-20 00:07:51\", \"2020-05-20 00:07:54\", \"2020-05-20 00:07:57\", \"2020-05-20 00:08:00\", \"2020-05-20 00:08:03\", \"2020-05-20 00:08:06\", \"2020-05-20 00:08:09\", \"2020-05-20 00:08:12\", \"2020-05-20 00:08:15\", \"2020-05-20 00:08:18\", \"2020-05-20 00:08:21\", \"2020-05-20 00:08:24\", \"2020-05-20 00:08:27\", \"2020-05-20 00:08:30\", \"2020-05-20 00:08:33\", \"2020-05-20 00:08:36\", \"2020-05-20 00:08:39\", \"2020-05-20 00:08:42\", \"2020-05-20 00:08:45\", \"2020-05-20 00:08:48\", \"2020-05-20 00:08:51\", \"2020-05-20 00:08:54\", \"2020-05-20 00:08:57\", \"2020-05-20 00:09:00\", \"2020-05-20 00:09:03\", \"2020-05-20 00:09:06\", \"2020-05-20 00:09:09\", \"2020-05-20 00:09:12\", \"2020-05-20 00:09:15\", \"2020-05-20 00:09:18\", \"2020-05-20 00:09:21\", \"2020-05-20 00:09:24\", \"2020-05-20 00:09:27\", \"2020-05-20 00:09:30\", \"2020-05-20 00:09:33\", \"2020-05-20 00:09:36\", \"2020-05-20 00:09:39\", \"2020-05-20 00:09:42\", \"2020-05-20 00:09:45\", \"2020-05-20 00:09:48\", \"2020-05-20 00:09:51\", \"2020-05-20 00:09:54\", \"2020-05-20 00:09:57\", \"2020-05-20 00:10:00\", \"2020-05-20 00:10:03\", \"2020-05-20 00:10:06\", \"2020-05-20 00:10:09\", \"2020-05-20 00:10:12\", \"2020-05-20 00:10:15\", \"2020-05-20 00:10:18\", \"2020-05-20 00:10:21\", \"2020-05-20 00:10:24\", \"2020-05-20 00:10:27\", \"2020-05-20 00:10:30\", \"2020-05-20 00:10:33\", \"2020-05-20 00:10:36\", \"2020-05-20 00:10:39\", \"2020-05-20 00:10:42\", \"2020-05-20 00:10:45\", \"2020-05-20 00:10:48\", \"2020-05-20 00:10:51\", \"2020-05-20 00:10:54\", \"2020-05-20 00:10:57\", \"2020-05-20 00:11:00\", \"2020-05-20 00:11:03\", \"2020-05-20 00:11:06\", \"2020-05-20 00:11:09\", \"2020-05-20 00:11:12\", \"2020-05-20 00:11:15\", \"2020-05-20 00:11:18\", \"2020-05-20 00:11:21\", \"2020-05-20 00:11:24\", \"2020-05-20 00:11:27\", \"2020-05-20 00:11:30\", \"2020-05-20 00:11:33\", \"2020-05-20 00:11:36\", \"2020-05-20 00:11:39\", \"2020-05-20 00:11:42\", \"2020-05-20 00:11:45\", \"2020-05-20 00:11:48\", \"2020-05-20 00:11:51\", \"2020-05-20 00:11:54\", \"2020-05-20 00:11:57\", \"2020-05-20 00:12:00\", \"2020-05-20 00:12:03\", \"2020-05-20 00:12:06\", \"2020-05-20 00:12:09\", \"2020-05-20 00:12:12\", \"2020-05-20 00:12:15\", \"2020-05-20 00:12:18\", \"2020-05-20 00:12:21\", \"2020-05-20 00:12:24\", \"2020-05-20 00:12:27\", \"2020-05-20 00:12:30\", \"2020-05-20 00:12:33\", \"2020-05-20 00:12:36\", \"2020-05-20 00:12:39\", \"2020-05-20 00:12:42\", \"2020-05-20 00:12:45\", \"2020-05-20 00:12:48\", \"2020-05-20 00:12:51\", \"2020-05-20 00:12:54\", \"2020-05-20 00:12:57\", \"2020-05-20 00:13:00\", \"2020-05-20 00:13:03\", \"2020-05-20 00:13:06\", \"2020-05-20 00:13:09\", \"2020-05-20 00:13:12\", \"2020-05-20 00:13:15\", \"2020-05-20 00:13:18\", \"2020-05-20 00:13:21\", \"2020-05-20 00:13:24\", \"2020-05-20 00:13:27\", \"2020-05-20 00:13:30\", \"2020-05-20 00:13:33\", \"2020-05-20 00:13:36\", \"2020-05-20 00:13:39\", \"2020-05-20 00:13:42\", \"2020-05-20 00:13:45\", \"2020-05-20 00:13:48\", \"2020-05-20 00:13:51\", \"2020-05-20 00:13:54\", \"2020-05-20 00:13:57\", \"2020-05-20 00:14:00\", \"2020-05-20 00:14:03\", \"2020-05-20 00:14:06\", \"2020-05-20 00:14:09\", \"2020-05-20 00:14:12\", \"2020-05-20 00:14:15\", \"2020-05-20 00:14:18\", \"2020-05-20 00:14:21\", \"2020-05-20 00:14:24\", \"2020-05-20 00:14:27\", \"2020-05-20 00:14:30\", \"2020-05-20 00:14:33\", \"2020-05-20 00:14:36\", \"2020-05-20 00:14:39\", \"2020-05-20 00:14:42\", \"2020-05-20 00:14:45\", \"2020-05-20 00:14:48\", \"2020-05-20 00:14:51\", \"2020-05-20 00:14:54\", \"2020-05-20 00:14:57\", \"2020-05-20 00:15:00\", \"2020-05-20 00:15:03\", \"2020-05-20 00:15:06\", \"2020-05-20 00:15:09\", \"2020-05-20 00:15:12\", \"2020-05-20 00:15:15\", \"2020-05-20 00:15:18\", \"2020-05-20 00:15:21\", \"2020-05-20 00:15:24\", \"2020-05-20 00:15:27\", \"2020-05-20 00:15:30\", \"2020-05-20 00:15:33\", \"2020-05-20 00:15:36\", \"2020-05-20 00:15:39\", \"2020-05-20 00:15:42\", \"2020-05-20 00:15:45\", \"2020-05-20 00:15:48\", \"2020-05-20 00:15:51\", \"2020-05-20 00:15:54\", \"2020-05-20 00:15:57\", \"2020-05-20 00:16:00\", \"2020-05-20 00:16:03\", \"2020-05-20 00:16:06\", \"2020-05-20 00:16:09\", \"2020-05-20 00:16:12\", \"2020-05-20 00:16:15\", \"2020-05-20 00:16:18\", \"2020-05-20 00:16:21\", \"2020-05-20 00:16:24\", \"2020-05-20 00:16:27\", \"2020-05-20 00:16:30\", \"2020-05-20 00:16:33\", \"2020-05-20 00:16:36\", \"2020-05-20 00:16:39\", \"2020-05-20 00:16:42\", \"2020-05-20 00:16:45\", \"2020-05-20 00:16:48\", \"2020-05-20 00:16:51\", \"2020-05-20 00:16:54\", \"2020-05-20 00:16:57\", \"2020-05-20 00:17:00\", \"2020-05-20 00:17:03\", \"2020-05-20 00:17:06\", \"2020-05-20 00:17:09\", \"2020-05-20 00:17:12\", \"2020-05-20 00:17:15\", \"2020-05-20 00:17:18\", \"2020-05-20 00:17:21\", \"2020-05-20 00:17:24\", \"2020-05-20 00:17:27\", \"2020-05-20 00:17:30\", \"2020-05-20 00:17:33\", \"2020-05-20 00:17:36\", \"2020-05-20 00:17:39\", \"2020-05-20 00:17:42\", \"2020-05-20 00:17:45\", \"2020-05-20 00:17:48\", \"2020-05-20 00:17:51\", \"2020-05-20 00:17:54\", \"2020-05-20 00:17:57\", \"2020-05-20 00:18:00\", \"2020-05-20 00:18:03\", \"2020-05-20 00:18:06\", \"2020-05-20 00:18:09\", \"2020-05-20 00:18:12\", \"2020-05-20 00:18:15\", \"2020-05-20 00:18:18\", \"2020-05-20 00:18:21\", \"2020-05-20 00:18:24\", \"2020-05-20 00:18:27\", \"2020-05-20 00:18:30\", \"2020-05-20 00:18:33\", \"2020-05-20 00:18:36\", \"2020-05-20 00:18:39\", \"2020-05-20 00:18:42\", \"2020-05-20 00:18:45\", \"2020-05-20 00:18:48\", \"2020-05-20 00:18:51\", \"2020-05-20 00:18:54\", \"2020-05-20 00:18:57\", \"2020-05-20 00:19:00\", \"2020-05-20 00:19:03\", \"2020-05-20 00:19:06\", \"2020-05-20 00:19:09\", \"2020-05-20 00:19:12\", \"2020-05-20 00:19:15\", \"2020-05-20 00:19:18\", \"2020-05-20 00:19:21\", \"2020-05-20 00:19:24\", \"2020-05-20 00:19:27\", \"2020-05-20 00:19:30\", \"2020-05-20 00:19:33\", \"2020-05-20 00:19:36\", \"2020-05-20 00:19:39\", \"2020-05-20 00:19:42\", \"2020-05-20 00:19:45\", \"2020-05-20 00:19:48\", \"2020-05-20 00:19:51\", \"2020-05-20 00:19:54\", \"2020-05-20 00:19:57\", \"2020-05-20 00:20:00\", \"2020-05-20 00:20:03\", \"2020-05-20 00:20:06\", \"2020-05-20 00:20:09\", \"2020-05-20 00:20:12\", \"2020-05-20 00:20:15\", \"2020-05-20 00:20:18\", \"2020-05-20 00:20:21\", \"2020-05-20 00:20:24\", \"2020-05-20 00:20:27\", \"2020-05-20 00:20:30\", \"2020-05-20 00:20:33\", \"2020-05-20 00:20:36\", \"2020-05-20 00:20:39\", \"2020-05-20 00:20:42\", \"2020-05-20 00:20:45\", \"2020-05-20 00:20:48\", \"2020-05-20 00:20:51\", \"2020-05-20 00:20:54\", \"2020-05-20 00:20:57\", \"2020-05-20 00:21:00\", \"2020-05-20 00:21:03\", \"2020-05-20 00:21:06\", \"2020-05-20 00:21:09\", \"2020-05-20 00:21:12\", \"2020-05-20 00:21:15\", \"2020-05-20 00:21:18\", \"2020-05-20 00:21:21\", \"2020-05-20 00:21:24\", \"2020-05-20 00:21:27\", \"2020-05-20 00:21:30\", \"2020-05-20 00:21:33\", \"2020-05-20 00:21:36\", \"2020-05-20 00:21:39\", \"2020-05-20 00:21:42\", \"2020-05-20 00:21:45\", \"2020-05-20 00:21:48\", \"2020-05-20 00:21:51\", \"2020-05-20 00:21:54\", \"2020-05-20 00:21:57\", \"2020-05-20 00:22:00\", \"2020-05-20 00:22:03\", \"2020-05-20 00:22:06\", \"2020-05-20 00:22:09\", \"2020-05-20 00:22:12\", \"2020-05-20 00:22:15\", \"2020-05-20 00:22:18\", \"2020-05-20 00:22:21\", \"2020-05-20 00:22:24\", \"2020-05-20 00:22:27\", \"2020-05-20 00:22:30\", \"2020-05-20 00:22:33\", \"2020-05-20 00:22:36\", \"2020-05-20 00:22:39\", \"2020-05-20 00:22:42\", \"2020-05-20 00:22:45\", \"2020-05-20 00:22:48\", \"2020-05-20 00:22:51\", \"2020-05-20 00:22:54\", \"2020-05-20 00:22:57\", \"2020-05-20 00:23:00\", \"2020-05-20 00:23:03\", \"2020-05-20 00:23:06\", \"2020-05-20 00:23:09\", \"2020-05-20 00:23:12\", \"2020-05-20 00:23:15\", \"2020-05-20 00:23:18\", \"2020-05-20 00:23:21\", \"2020-05-20 00:23:24\", \"2020-05-20 00:23:27\", \"2020-05-20 00:23:30\", \"2020-05-20 00:23:33\", \"2020-05-20 00:23:36\", \"2020-05-20 00:23:39\", \"2020-05-20 00:23:42\", \"2020-05-20 00:23:45\", \"2020-05-20 00:23:48\", \"2020-05-20 00:23:51\", \"2020-05-20 00:23:54\", \"2020-05-20 00:23:57\", \"2020-05-21 00:00:00\", \"2020-05-21 00:00:03\", \"2020-05-21 00:00:06\", \"2020-05-21 00:00:09\", \"2020-05-21 00:00:12\", \"2020-05-21 00:00:15\", \"2020-05-21 00:00:18\", \"2020-05-21 00:00:21\", \"2020-05-21 00:00:24\", \"2020-05-21 00:00:27\", \"2020-05-21 00:00:30\", \"2020-05-21 00:00:33\", \"2020-05-21 00:00:36\", \"2020-05-21 00:00:39\", \"2020-05-21 00:00:42\", \"2020-05-21 00:00:45\", \"2020-05-21 00:00:48\", \"2020-05-21 00:00:51\", \"2020-05-21 00:00:54\", \"2020-05-21 00:00:57\", \"2020-05-21 00:01:00\", \"2020-05-21 00:01:03\", \"2020-05-21 00:01:06\", \"2020-05-21 00:01:09\", \"2020-05-21 00:01:12\", \"2020-05-21 00:01:15\", \"2020-05-21 00:01:18\", \"2020-05-21 00:01:21\", \"2020-05-21 00:01:24\", \"2020-05-21 00:01:27\", \"2020-05-21 00:01:30\", \"2020-05-21 00:01:33\", \"2020-05-21 00:01:36\", \"2020-05-21 00:01:39\", \"2020-05-21 00:01:42\", \"2020-05-21 00:01:45\", \"2020-05-21 00:01:48\", \"2020-05-21 00:01:51\", \"2020-05-21 00:01:54\", \"2020-05-21 00:01:57\", \"2020-05-21 00:02:00\", \"2020-05-21 00:02:03\", \"2020-05-21 00:02:06\", \"2020-05-21 00:02:09\", \"2020-05-21 00:02:12\", \"2020-05-21 00:02:15\", \"2020-05-21 00:02:18\", \"2020-05-21 00:02:21\", \"2020-05-21 00:02:24\", \"2020-05-21 00:02:27\", \"2020-05-21 00:02:30\", \"2020-05-21 00:02:33\", \"2020-05-21 00:02:36\", \"2020-05-21 00:02:39\", \"2020-05-21 00:02:42\", \"2020-05-21 00:02:45\", \"2020-05-21 00:02:48\", \"2020-05-21 00:02:51\", \"2020-05-21 00:02:54\", \"2020-05-21 00:02:57\", \"2020-05-21 00:03:00\", \"2020-05-21 00:03:03\", \"2020-05-21 00:03:06\", \"2020-05-21 00:03:09\", \"2020-05-21 00:03:12\", \"2020-05-21 00:03:15\", \"2020-05-21 00:03:18\", \"2020-05-21 00:03:21\", \"2020-05-21 00:03:24\", \"2020-05-21 00:03:27\", \"2020-05-21 00:03:30\", \"2020-05-21 00:03:33\", \"2020-05-21 00:03:36\", \"2020-05-21 00:03:39\", \"2020-05-21 00:03:42\", \"2020-05-21 00:03:45\", \"2020-05-21 00:03:48\", \"2020-05-21 00:03:51\", \"2020-05-21 00:03:54\", \"2020-05-21 00:03:57\", \"2020-05-21 00:04:00\", \"2020-05-21 00:04:03\", \"2020-05-21 00:04:06\", \"2020-05-21 00:04:09\", \"2020-05-21 00:04:12\", \"2020-05-21 00:04:15\", \"2020-05-21 00:04:18\", \"2020-05-21 00:04:21\", \"2020-05-21 00:04:24\", \"2020-05-21 00:04:27\", \"2020-05-21 00:04:30\", \"2020-05-21 00:04:33\", \"2020-05-21 00:04:36\", \"2020-05-21 00:04:39\", \"2020-05-21 00:04:42\", \"2020-05-21 00:04:45\", \"2020-05-21 00:04:48\", \"2020-05-21 00:04:51\", \"2020-05-21 00:04:54\", \"2020-05-21 00:04:57\", \"2020-05-21 00:05:00\", \"2020-05-21 00:05:03\", \"2020-05-21 00:05:06\", \"2020-05-21 00:05:09\", \"2020-05-21 00:05:12\", \"2020-05-21 00:05:15\", \"2020-05-21 00:05:18\", \"2020-05-21 00:05:21\", \"2020-05-21 00:05:24\", \"2020-05-21 00:05:27\", \"2020-05-21 00:05:30\", \"2020-05-21 00:05:33\", \"2020-05-21 00:05:36\", \"2020-05-21 00:05:39\", \"2020-05-21 00:05:42\", \"2020-05-21 00:05:45\", \"2020-05-21 00:05:48\", \"2020-05-21 00:05:51\", \"2020-05-21 00:05:54\", \"2020-05-21 00:05:57\", \"2020-05-21 00:06:00\", \"2020-05-21 00:06:03\", \"2020-05-21 00:06:06\", \"2020-05-21 00:06:09\", \"2020-05-21 00:06:12\", \"2020-05-21 00:06:15\", \"2020-05-21 00:06:18\", \"2020-05-21 00:06:21\", \"2020-05-21 00:06:24\", \"2020-05-21 00:06:27\", \"2020-05-21 00:06:30\", \"2020-05-21 00:06:33\", \"2020-05-21 00:06:36\", \"2020-05-21 00:06:39\", \"2020-05-21 00:06:42\", \"2020-05-21 00:06:45\", \"2020-05-21 00:06:48\", \"2020-05-21 00:06:51\", \"2020-05-21 00:06:54\", \"2020-05-21 00:06:57\", \"2020-05-21 00:07:00\", \"2020-05-21 00:07:03\", \"2020-05-21 00:07:06\", \"2020-05-21 00:07:09\", \"2020-05-21 00:07:12\", \"2020-05-21 00:07:15\", \"2020-05-21 00:07:18\", \"2020-05-21 00:07:21\", \"2020-05-21 00:07:24\", \"2020-05-21 00:07:27\", \"2020-05-21 00:07:30\", \"2020-05-21 00:07:33\", \"2020-05-21 00:07:36\", \"2020-05-21 00:07:39\", \"2020-05-21 00:07:42\", \"2020-05-21 00:07:45\", \"2020-05-21 00:07:48\", \"2020-05-21 00:07:51\", \"2020-05-21 00:07:54\", \"2020-05-21 00:07:57\", \"2020-05-21 00:08:00\", \"2020-05-21 00:08:03\", \"2020-05-21 00:08:06\", \"2020-05-21 00:08:09\", \"2020-05-21 00:08:12\", \"2020-05-21 00:08:15\", \"2020-05-21 00:08:18\", \"2020-05-21 00:08:21\", \"2020-05-21 00:08:24\", \"2020-05-21 00:08:27\", \"2020-05-21 00:08:30\", \"2020-05-21 00:08:33\", \"2020-05-21 00:08:36\", \"2020-05-21 00:08:39\", \"2020-05-21 00:08:42\", \"2020-05-21 00:08:45\", \"2020-05-21 00:08:48\", \"2020-05-21 00:08:51\", \"2020-05-21 00:08:54\", \"2020-05-21 00:08:57\", \"2020-05-21 00:09:00\", \"2020-05-21 00:09:03\", \"2020-05-21 00:09:06\", \"2020-05-21 00:09:09\", \"2020-05-21 00:09:12\", \"2020-05-21 00:09:15\", \"2020-05-21 00:09:18\", \"2020-05-21 00:09:21\", \"2020-05-21 00:09:24\", \"2020-05-21 00:09:27\", \"2020-05-21 00:09:30\", \"2020-05-21 00:09:33\", \"2020-05-21 00:09:36\", \"2020-05-21 00:09:39\", \"2020-05-21 00:09:42\", \"2020-05-21 00:09:45\", \"2020-05-21 00:09:48\", \"2020-05-21 00:09:51\", \"2020-05-21 00:09:54\", \"2020-05-21 00:09:57\", \"2020-05-21 00:10:00\", \"2020-05-21 00:10:03\", \"2020-05-21 00:10:06\", \"2020-05-21 00:10:09\", \"2020-05-21 00:10:12\", \"2020-05-21 00:10:15\", \"2020-05-21 00:10:18\", \"2020-05-21 00:10:21\", \"2020-05-21 00:10:24\", \"2020-05-21 00:10:27\", \"2020-05-21 00:10:30\", \"2020-05-21 00:10:33\", \"2020-05-21 00:10:36\", \"2020-05-21 00:10:39\", \"2020-05-21 00:10:42\", \"2020-05-21 00:10:45\", \"2020-05-21 00:10:48\", \"2020-05-21 00:10:51\", \"2020-05-21 00:10:54\", \"2020-05-21 00:10:57\", \"2020-05-21 00:11:00\", \"2020-05-21 00:11:03\", \"2020-05-21 00:11:06\", \"2020-05-21 00:11:09\", \"2020-05-21 00:11:12\", \"2020-05-21 00:11:15\", \"2020-05-21 00:11:18\", \"2020-05-21 00:11:21\", \"2020-05-21 00:11:24\", \"2020-05-21 00:11:27\", \"2020-05-21 00:11:30\", \"2020-05-21 00:11:33\", \"2020-05-21 00:11:36\", \"2020-05-21 00:11:39\", \"2020-05-21 00:11:42\", \"2020-05-21 00:11:45\", \"2020-05-21 00:11:48\", \"2020-05-21 00:11:51\", \"2020-05-21 00:11:54\", \"2020-05-21 00:11:57\", \"2020-05-21 00:12:00\", \"2020-05-21 00:12:03\", \"2020-05-21 00:12:06\", \"2020-05-21 00:12:09\", \"2020-05-21 00:12:12\", \"2020-05-21 00:12:15\", \"2020-05-21 00:12:18\", \"2020-05-21 00:12:21\", \"2020-05-21 00:12:24\", \"2020-05-21 00:12:27\", \"2020-05-21 00:12:30\", \"2020-05-21 00:12:33\", \"2020-05-21 00:12:36\", \"2020-05-21 00:12:39\", \"2020-05-21 00:12:42\", \"2020-05-21 00:12:45\", \"2020-05-21 00:12:48\", \"2020-05-21 00:12:51\", \"2020-05-21 00:12:54\", \"2020-05-21 00:12:57\", \"2020-05-21 00:13:00\", \"2020-05-21 00:13:03\", \"2020-05-21 00:13:06\", \"2020-05-21 00:13:09\", \"2020-05-21 00:13:12\", \"2020-05-21 00:13:15\", \"2020-05-21 00:13:18\", \"2020-05-21 00:13:21\", \"2020-05-21 00:13:24\", \"2020-05-21 00:13:27\", \"2020-05-21 00:13:30\", \"2020-05-21 00:13:33\", \"2020-05-21 00:13:36\", \"2020-05-21 00:13:39\", \"2020-05-21 00:13:42\", \"2020-05-21 00:13:45\", \"2020-05-21 00:13:48\", \"2020-05-21 00:13:51\", \"2020-05-21 00:13:54\", \"2020-05-21 00:13:57\", \"2020-05-21 00:14:00\", \"2020-05-21 00:14:03\", \"2020-05-21 00:14:06\", \"2020-05-21 00:14:09\", \"2020-05-21 00:14:12\", \"2020-05-21 00:14:15\", \"2020-05-21 00:14:18\", \"2020-05-21 00:14:21\", \"2020-05-21 00:14:24\", \"2020-05-21 00:14:27\", \"2020-05-21 00:14:30\", \"2020-05-21 00:14:33\", \"2020-05-21 00:14:36\", \"2020-05-21 00:14:39\", \"2020-05-21 00:14:42\", \"2020-05-21 00:14:45\", \"2020-05-21 00:14:48\", \"2020-05-21 00:14:51\", \"2020-05-21 00:14:54\", \"2020-05-21 00:14:57\", \"2020-05-21 00:15:00\", \"2020-05-21 00:15:03\", \"2020-05-21 00:15:06\", \"2020-05-21 00:15:09\", \"2020-05-21 00:15:12\", \"2020-05-21 00:15:15\", \"2020-05-21 00:15:18\", \"2020-05-21 00:15:21\", \"2020-05-21 00:15:24\", \"2020-05-21 00:15:27\", \"2020-05-21 00:15:30\", \"2020-05-21 00:15:33\", \"2020-05-21 00:15:36\", \"2020-05-21 00:15:39\", \"2020-05-21 00:15:42\", \"2020-05-21 00:15:45\", \"2020-05-21 00:15:48\", \"2020-05-21 00:15:51\", \"2020-05-21 00:15:54\", \"2020-05-21 00:15:57\", \"2020-05-21 00:16:00\", \"2020-05-21 00:16:03\", \"2020-05-21 00:16:06\", \"2020-05-21 00:16:09\", \"2020-05-21 00:16:12\", \"2020-05-21 00:16:15\", \"2020-05-21 00:16:18\", \"2020-05-21 00:16:21\", \"2020-05-21 00:16:24\", \"2020-05-21 00:16:27\", \"2020-05-21 00:16:30\", \"2020-05-21 00:16:33\", \"2020-05-21 00:16:36\", \"2020-05-21 00:16:39\", \"2020-05-21 00:16:42\", \"2020-05-21 00:16:45\", \"2020-05-21 00:16:48\", \"2020-05-21 00:16:51\", \"2020-05-21 00:16:54\", \"2020-05-21 00:16:57\", \"2020-05-21 00:17:00\", \"2020-05-21 00:17:03\", \"2020-05-21 00:17:06\", \"2020-05-21 00:17:09\", \"2020-05-21 00:17:12\", \"2020-05-21 00:17:15\", \"2020-05-21 00:17:18\", \"2020-05-21 00:17:21\", \"2020-05-21 00:17:24\", \"2020-05-21 00:17:27\", \"2020-05-21 00:17:30\", \"2020-05-21 00:17:33\", \"2020-05-21 00:17:36\", \"2020-05-21 00:17:39\", \"2020-05-21 00:17:42\", \"2020-05-21 00:17:45\", \"2020-05-21 00:17:48\", \"2020-05-21 00:17:51\", \"2020-05-21 00:17:54\", \"2020-05-21 00:17:57\", \"2020-05-21 00:18:00\", \"2020-05-21 00:18:03\", \"2020-05-21 00:18:06\", \"2020-05-21 00:18:09\", \"2020-05-21 00:18:12\", \"2020-05-21 00:18:15\", \"2020-05-21 00:18:18\", \"2020-05-21 00:18:21\", \"2020-05-21 00:18:24\", \"2020-05-21 00:18:27\", \"2020-05-21 00:18:30\", \"2020-05-21 00:18:33\", \"2020-05-21 00:18:36\", \"2020-05-21 00:18:39\", \"2020-05-21 00:18:42\", \"2020-05-21 00:18:45\", \"2020-05-21 00:18:48\", \"2020-05-21 00:18:51\", \"2020-05-21 00:18:54\", \"2020-05-21 00:18:57\", \"2020-05-21 00:19:00\", \"2020-05-21 00:19:03\", \"2020-05-21 00:19:06\", \"2020-05-21 00:19:09\", \"2020-05-21 00:19:12\", \"2020-05-21 00:19:15\", \"2020-05-21 00:19:18\", \"2020-05-21 00:19:21\", \"2020-05-21 00:19:24\", \"2020-05-21 00:19:27\", \"2020-05-21 00:19:30\", \"2020-05-21 00:19:33\", \"2020-05-21 00:19:36\", \"2020-05-21 00:19:39\", \"2020-05-21 00:19:42\", \"2020-05-21 00:19:45\", \"2020-05-21 00:19:48\", \"2020-05-21 00:19:51\", \"2020-05-21 00:19:54\", \"2020-05-21 00:19:57\", \"2020-05-21 00:20:00\", \"2020-05-21 00:20:03\", \"2020-05-21 00:20:06\", \"2020-05-21 00:20:09\", \"2020-05-21 00:20:12\", \"2020-05-21 00:20:15\", \"2020-05-21 00:20:18\", \"2020-05-21 00:20:21\", \"2020-05-21 00:20:24\", \"2020-05-21 00:20:27\", \"2020-05-21 00:20:30\", \"2020-05-21 00:20:33\", \"2020-05-21 00:20:36\", \"2020-05-21 00:20:39\", \"2020-05-21 00:20:42\", \"2020-05-21 00:20:45\", \"2020-05-21 00:20:48\", \"2020-05-21 00:20:51\", \"2020-05-21 00:20:54\", \"2020-05-21 00:20:57\", \"2020-05-21 00:21:00\", \"2020-05-21 00:21:03\", \"2020-05-21 00:21:06\", \"2020-05-21 00:21:09\", \"2020-05-21 00:21:12\", \"2020-05-21 00:21:15\", \"2020-05-21 00:21:18\", \"2020-05-21 00:21:21\", \"2020-05-21 00:21:24\", \"2020-05-21 00:21:27\", \"2020-05-21 00:21:30\", \"2020-05-21 00:21:33\", \"2020-05-21 00:21:36\", \"2020-05-21 00:21:39\", \"2020-05-21 00:21:42\", \"2020-05-21 00:21:45\", \"2020-05-21 00:21:48\", \"2020-05-21 00:21:51\", \"2020-05-21 00:21:54\", \"2020-05-21 00:21:57\", \"2020-05-21 00:22:00\", \"2020-05-21 00:22:03\", \"2020-05-21 00:22:06\", \"2020-05-21 00:22:09\", \"2020-05-21 00:22:12\", \"2020-05-21 00:22:15\", \"2020-05-21 00:22:18\", \"2020-05-21 00:22:21\", \"2020-05-21 00:22:24\", \"2020-05-21 00:22:27\", \"2020-05-21 00:22:30\", \"2020-05-21 00:22:33\", \"2020-05-21 00:22:36\", \"2020-05-21 00:22:39\", \"2020-05-21 00:22:42\", \"2020-05-21 00:22:45\", \"2020-05-21 00:22:48\", \"2020-05-21 00:22:51\", \"2020-05-21 00:22:54\", \"2020-05-21 00:22:57\", \"2020-05-21 00:23:00\", \"2020-05-21 00:23:03\", \"2020-05-21 00:23:06\", \"2020-05-21 00:23:09\", \"2020-05-21 00:23:12\", \"2020-05-21 00:23:15\", \"2020-05-21 00:23:18\", \"2020-05-21 00:23:21\", \"2020-05-21 00:23:24\", \"2020-05-21 00:23:27\", \"2020-05-21 00:23:30\", \"2020-05-21 00:23:33\", \"2020-05-21 00:23:36\", \"2020-05-21 00:23:39\", \"2020-05-21 00:23:42\", \"2020-05-21 00:23:45\", \"2020-05-21 00:23:48\", \"2020-05-21 00:23:51\", \"2020-05-21 00:23:54\", \"2020-05-21 00:23:57\", \"2020-05-22 00:00:00\", \"2020-05-22 00:00:03\", \"2020-05-22 00:00:06\", \"2020-05-22 00:00:09\", \"2020-05-22 00:00:12\", \"2020-05-22 00:00:15\", \"2020-05-22 00:00:18\", \"2020-05-22 00:00:21\", \"2020-05-22 00:00:24\", \"2020-05-22 00:00:27\", \"2020-05-22 00:00:30\", \"2020-05-22 00:00:33\", \"2020-05-22 00:00:36\", \"2020-05-22 00:00:39\", \"2020-05-22 00:00:42\", \"2020-05-22 00:00:45\", \"2020-05-22 00:00:48\", \"2020-05-22 00:00:51\", \"2020-05-22 00:00:54\", \"2020-05-22 00:00:57\", \"2020-05-22 00:01:00\", \"2020-05-22 00:01:03\", \"2020-05-22 00:01:06\", \"2020-05-22 00:01:09\", \"2020-05-22 00:01:12\", \"2020-05-22 00:01:15\", \"2020-05-22 00:01:18\", \"2020-05-22 00:01:21\", \"2020-05-22 00:01:24\", \"2020-05-22 00:01:27\", \"2020-05-22 00:01:30\", \"2020-05-22 00:01:33\", \"2020-05-22 00:01:36\", \"2020-05-22 00:01:39\", \"2020-05-22 00:01:42\", \"2020-05-22 00:01:45\", \"2020-05-22 00:01:48\", \"2020-05-22 00:01:51\", \"2020-05-22 00:01:54\", \"2020-05-22 00:01:57\", \"2020-05-22 00:02:00\", \"2020-05-22 00:02:03\", \"2020-05-22 00:02:06\", \"2020-05-22 00:02:09\", \"2020-05-22 00:02:12\", \"2020-05-22 00:02:15\", \"2020-05-22 00:02:18\", \"2020-05-22 00:02:21\", \"2020-05-22 00:02:24\", \"2020-05-22 00:02:27\", \"2020-05-22 00:02:30\", \"2020-05-22 00:02:33\", \"2020-05-22 00:02:36\", \"2020-05-22 00:02:39\", \"2020-05-22 00:02:42\", \"2020-05-22 00:02:45\", \"2020-05-22 00:02:48\", \"2020-05-22 00:02:51\", \"2020-05-22 00:02:54\", \"2020-05-22 00:02:57\", \"2020-05-22 00:03:00\", \"2020-05-22 00:03:03\", \"2020-05-22 00:03:06\", \"2020-05-22 00:03:09\", \"2020-05-22 00:03:12\", \"2020-05-22 00:03:15\", \"2020-05-22 00:03:18\", \"2020-05-22 00:03:21\", \"2020-05-22 00:03:24\", \"2020-05-22 00:03:27\", \"2020-05-22 00:03:30\", \"2020-05-22 00:03:33\", \"2020-05-22 00:03:36\", \"2020-05-22 00:03:39\", \"2020-05-22 00:03:42\", \"2020-05-22 00:03:45\", \"2020-05-22 00:03:48\", \"2020-05-22 00:03:51\", \"2020-05-22 00:03:54\", \"2020-05-22 00:03:57\", \"2020-05-22 00:04:00\", \"2020-05-22 00:04:03\", \"2020-05-22 00:04:06\", \"2020-05-22 00:04:09\", \"2020-05-22 00:04:12\", \"2020-05-22 00:04:15\", \"2020-05-22 00:04:18\", \"2020-05-22 00:04:21\", \"2020-05-22 00:04:24\", \"2020-05-22 00:04:27\", \"2020-05-22 00:04:30\", \"2020-05-22 00:04:33\", \"2020-05-22 00:04:36\", \"2020-05-22 00:04:39\", \"2020-05-22 00:04:42\", \"2020-05-22 00:04:45\", \"2020-05-22 00:04:48\", \"2020-05-22 00:04:51\", \"2020-05-22 00:04:54\", \"2020-05-22 00:04:57\", \"2020-05-22 00:05:00\", \"2020-05-22 00:05:03\", \"2020-05-22 00:05:06\", \"2020-05-22 00:05:09\", \"2020-05-22 00:05:12\", \"2020-05-22 00:05:15\", \"2020-05-22 00:05:18\", \"2020-05-22 00:05:21\", \"2020-05-22 00:05:24\", \"2020-05-22 00:05:27\", \"2020-05-22 00:05:30\", \"2020-05-22 00:05:33\", \"2020-05-22 00:05:36\", \"2020-05-22 00:05:39\", \"2020-05-22 00:05:42\", \"2020-05-22 00:05:45\", \"2020-05-22 00:05:48\", \"2020-05-22 00:05:51\", \"2020-05-22 00:05:54\", \"2020-05-22 00:05:57\", \"2020-05-22 00:06:00\", \"2020-05-22 00:06:03\", \"2020-05-22 00:06:06\", \"2020-05-22 00:06:09\", \"2020-05-22 00:06:12\", \"2020-05-22 00:06:15\", \"2020-05-22 00:06:18\", \"2020-05-22 00:06:21\", \"2020-05-22 00:06:24\", \"2020-05-22 00:06:27\", \"2020-05-22 00:06:30\", \"2020-05-22 00:06:33\", \"2020-05-22 00:06:36\", \"2020-05-22 00:06:39\", \"2020-05-22 00:06:42\", \"2020-05-22 00:06:45\", \"2020-05-22 00:06:48\", \"2020-05-22 00:06:51\", \"2020-05-22 00:06:54\", \"2020-05-22 00:06:57\", \"2020-05-22 00:07:00\", \"2020-05-22 00:07:03\", \"2020-05-22 00:07:06\", \"2020-05-22 00:07:09\", \"2020-05-22 00:07:12\", \"2020-05-22 00:07:15\", \"2020-05-22 00:07:18\", \"2020-05-22 00:07:21\", \"2020-05-22 00:07:24\", \"2020-05-22 00:07:27\", \"2020-05-22 00:07:30\", \"2020-05-22 00:07:33\", \"2020-05-22 00:07:36\", \"2020-05-22 00:07:39\", \"2020-05-22 00:07:42\", \"2020-05-22 00:07:45\", \"2020-05-22 00:07:48\", \"2020-05-22 00:07:51\", \"2020-05-22 00:07:54\", \"2020-05-22 00:07:57\", \"2020-05-22 00:08:00\", \"2020-05-22 00:08:03\", \"2020-05-22 00:08:06\", \"2020-05-22 00:08:09\", \"2020-05-22 00:08:12\", \"2020-05-22 00:08:15\", \"2020-05-22 00:08:18\", \"2020-05-22 00:08:21\", \"2020-05-22 00:08:24\", \"2020-05-22 00:08:27\", \"2020-05-22 00:08:30\", \"2020-05-22 00:08:33\", \"2020-05-22 00:08:36\", \"2020-05-22 00:08:39\", \"2020-05-22 00:08:42\", \"2020-05-22 00:08:45\", \"2020-05-22 00:08:48\", \"2020-05-22 00:08:51\", \"2020-05-22 00:08:54\", \"2020-05-22 00:08:57\", \"2020-05-22 00:09:00\", \"2020-05-22 00:09:03\", \"2020-05-22 00:09:06\", \"2020-05-22 00:09:09\", \"2020-05-22 00:09:12\", \"2020-05-22 00:09:15\", \"2020-05-22 00:09:18\", \"2020-05-22 00:09:21\", \"2020-05-22 00:09:24\", \"2020-05-22 00:09:27\", \"2020-05-22 00:09:30\", \"2020-05-22 00:09:33\", \"2020-05-22 00:09:36\", \"2020-05-22 00:09:39\", \"2020-05-22 00:09:42\", \"2020-05-22 00:09:45\", \"2020-05-22 00:09:48\", \"2020-05-22 00:09:51\", \"2020-05-22 00:09:54\", \"2020-05-22 00:09:57\", \"2020-05-22 00:10:00\", \"2020-05-22 00:10:03\", \"2020-05-22 00:10:06\", \"2020-05-22 00:10:09\", \"2020-05-22 00:10:12\", \"2020-05-22 00:10:15\", \"2020-05-22 00:10:18\", \"2020-05-22 00:10:21\", \"2020-05-22 00:10:24\", \"2020-05-22 00:10:27\", \"2020-05-22 00:10:30\", \"2020-05-22 00:10:33\", \"2020-05-22 00:10:36\", \"2020-05-22 00:10:39\", \"2020-05-22 00:10:42\", \"2020-05-22 00:10:45\", \"2020-05-22 00:10:48\", \"2020-05-22 00:10:51\", \"2020-05-22 00:10:54\", \"2020-05-22 00:10:57\", \"2020-05-22 00:11:00\", \"2020-05-22 00:11:03\", \"2020-05-22 00:11:06\", \"2020-05-22 00:11:09\", \"2020-05-22 00:11:12\", \"2020-05-22 00:11:15\", \"2020-05-22 00:11:18\", \"2020-05-22 00:11:21\", \"2020-05-22 00:11:24\", \"2020-05-22 00:11:27\", \"2020-05-22 00:11:30\", \"2020-05-22 00:11:33\", \"2020-05-22 00:11:36\", \"2020-05-22 00:11:39\", \"2020-05-22 00:11:42\", \"2020-05-22 00:11:45\", \"2020-05-22 00:11:48\", \"2020-05-22 00:11:51\", \"2020-05-22 00:11:54\", \"2020-05-22 00:11:57\", \"2020-05-22 00:12:00\", \"2020-05-22 00:12:03\", \"2020-05-22 00:12:06\", \"2020-05-22 00:12:09\", \"2020-05-22 00:12:12\", \"2020-05-22 00:12:15\", \"2020-05-22 00:12:18\", \"2020-05-22 00:12:21\", \"2020-05-22 00:12:24\", \"2020-05-22 00:12:27\", \"2020-05-22 00:12:30\", \"2020-05-22 00:12:33\", \"2020-05-22 00:12:36\", \"2020-05-22 00:12:39\", \"2020-05-22 00:12:42\", \"2020-05-22 00:12:45\", \"2020-05-22 00:12:48\", \"2020-05-22 00:12:51\", \"2020-05-22 00:12:54\", \"2020-05-22 00:12:57\", \"2020-05-22 00:13:00\", \"2020-05-22 00:13:03\", \"2020-05-22 00:13:06\", \"2020-05-22 00:13:09\", \"2020-05-22 00:13:12\", \"2020-05-22 00:13:15\", \"2020-05-22 00:13:18\", \"2020-05-22 00:13:21\", \"2020-05-22 00:13:24\", \"2020-05-22 00:13:27\", \"2020-05-22 00:13:30\", \"2020-05-22 00:13:33\", \"2020-05-22 00:13:36\", \"2020-05-22 00:13:39\", \"2020-05-22 00:13:42\", \"2020-05-22 00:13:45\", \"2020-05-22 00:13:48\", \"2020-05-22 00:13:51\", \"2020-05-22 00:13:54\", \"2020-05-22 00:13:57\", \"2020-05-22 00:14:00\", \"2020-05-22 00:14:03\", \"2020-05-22 00:14:06\", \"2020-05-22 00:14:09\", \"2020-05-22 00:14:12\", \"2020-05-22 00:14:15\", \"2020-05-22 00:14:18\", \"2020-05-22 00:14:21\", \"2020-05-22 00:14:24\", \"2020-05-22 00:14:27\", \"2020-05-22 00:14:30\", \"2020-05-22 00:14:33\", \"2020-05-22 00:14:36\", \"2020-05-22 00:14:39\", \"2020-05-22 00:14:42\", \"2020-05-22 00:14:45\", \"2020-05-22 00:14:48\", \"2020-05-22 00:14:51\", \"2020-05-22 00:14:54\", \"2020-05-22 00:14:57\", \"2020-05-22 00:15:00\", \"2020-05-22 00:15:03\", \"2020-05-22 00:15:06\", \"2020-05-22 00:15:09\", \"2020-05-22 00:15:12\", \"2020-05-22 00:15:15\", \"2020-05-22 00:15:18\", \"2020-05-22 00:15:21\", \"2020-05-22 00:15:24\", \"2020-05-22 00:15:27\", \"2020-05-22 00:15:30\", \"2020-05-22 00:15:33\", \"2020-05-22 00:15:36\", \"2020-05-22 00:15:39\", \"2020-05-22 00:15:42\", \"2020-05-22 00:15:45\", \"2020-05-22 00:15:48\", \"2020-05-22 00:15:51\", \"2020-05-22 00:15:54\", \"2020-05-22 00:15:57\", \"2020-05-22 00:16:00\", \"2020-05-22 00:16:03\", \"2020-05-22 00:16:06\", \"2020-05-22 00:16:09\", \"2020-05-22 00:16:12\", \"2020-05-22 00:16:15\", \"2020-05-22 00:16:18\", \"2020-05-22 00:16:21\", \"2020-05-22 00:16:24\", \"2020-05-22 00:16:27\", \"2020-05-22 00:16:30\", \"2020-05-22 00:16:33\", \"2020-05-22 00:16:36\", \"2020-05-22 00:16:39\", \"2020-05-22 00:16:42\", \"2020-05-22 00:16:45\", \"2020-05-22 00:16:48\", \"2020-05-22 00:16:51\", \"2020-05-22 00:16:54\", \"2020-05-22 00:16:57\", \"2020-05-22 00:17:00\", \"2020-05-22 00:17:03\", \"2020-05-22 00:17:06\", \"2020-05-22 00:17:09\", \"2020-05-22 00:17:12\", \"2020-05-22 00:17:15\", \"2020-05-22 00:17:18\", \"2020-05-22 00:17:21\", \"2020-05-22 00:17:24\", \"2020-05-22 00:17:27\", \"2020-05-22 00:17:30\", \"2020-05-22 00:17:33\", \"2020-05-22 00:17:36\", \"2020-05-22 00:17:39\", \"2020-05-22 00:17:42\", \"2020-05-22 00:17:45\", \"2020-05-22 00:17:48\", \"2020-05-22 00:17:51\", \"2020-05-22 00:17:54\", \"2020-05-22 00:17:57\", \"2020-05-22 00:18:00\", \"2020-05-22 00:18:03\", \"2020-05-22 00:18:06\", \"2020-05-22 00:18:09\", \"2020-05-22 00:18:12\", \"2020-05-22 00:18:15\", \"2020-05-22 00:18:18\", \"2020-05-22 00:18:21\", \"2020-05-22 00:18:24\", \"2020-05-22 00:18:27\", \"2020-05-22 00:18:30\", \"2020-05-22 00:18:33\", \"2020-05-22 00:18:36\", \"2020-05-22 00:18:39\", \"2020-05-22 00:18:42\", \"2020-05-22 00:18:45\", \"2020-05-22 00:18:48\", \"2020-05-22 00:18:51\", \"2020-05-22 00:18:54\", \"2020-05-22 00:18:57\", \"2020-05-22 00:19:00\", \"2020-05-22 00:19:03\", \"2020-05-22 00:19:06\", \"2020-05-22 00:19:09\", \"2020-05-22 00:19:12\", \"2020-05-22 00:19:15\", \"2020-05-22 00:19:18\", \"2020-05-22 00:19:21\", \"2020-05-22 00:19:24\", \"2020-05-22 00:19:27\", \"2020-05-22 00:19:30\", \"2020-05-22 00:19:33\", \"2020-05-22 00:19:36\", \"2020-05-22 00:19:39\", \"2020-05-22 00:19:42\", \"2020-05-22 00:19:45\", \"2020-05-22 00:19:48\", \"2020-05-22 00:19:51\", \"2020-05-22 00:19:54\", \"2020-05-22 00:19:57\", \"2020-05-22 00:20:00\", \"2020-05-22 00:20:03\", \"2020-05-22 00:20:06\", \"2020-05-22 00:20:09\", \"2020-05-22 00:20:12\", \"2020-05-22 00:20:15\", \"2020-05-22 00:20:18\", \"2020-05-22 00:20:21\", \"2020-05-22 00:20:24\", \"2020-05-22 00:20:27\", \"2020-05-22 00:20:30\", \"2020-05-22 00:20:33\", \"2020-05-22 00:20:36\", \"2020-05-22 00:20:39\", \"2020-05-22 00:20:42\", \"2020-05-22 00:20:45\", \"2020-05-22 00:20:48\", \"2020-05-22 00:20:51\", \"2020-05-22 00:20:54\", \"2020-05-22 00:20:57\", \"2020-05-22 00:21:00\", \"2020-05-22 00:21:03\", \"2020-05-22 00:21:06\", \"2020-05-22 00:21:09\", \"2020-05-22 00:21:12\", \"2020-05-22 00:21:15\", \"2020-05-22 00:21:18\", \"2020-05-22 00:21:21\", \"2020-05-22 00:21:24\", \"2020-05-22 00:21:27\", \"2020-05-22 00:21:30\", \"2020-05-22 00:21:33\", \"2020-05-22 00:21:36\", \"2020-05-22 00:21:39\", \"2020-05-22 00:21:42\", \"2020-05-22 00:21:45\", \"2020-05-22 00:21:48\", \"2020-05-22 00:21:51\", \"2020-05-22 00:21:54\", \"2020-05-22 00:21:57\", \"2020-05-22 00:22:00\", \"2020-05-22 00:22:03\", \"2020-05-22 00:22:06\", \"2020-05-22 00:22:09\", \"2020-05-22 00:22:12\", \"2020-05-22 00:22:15\", \"2020-05-22 00:22:18\", \"2020-05-22 00:22:21\", \"2020-05-22 00:22:24\", \"2020-05-22 00:22:27\", \"2020-05-22 00:22:30\", \"2020-05-22 00:22:33\", \"2020-05-22 00:22:36\", \"2020-05-22 00:22:39\", \"2020-05-22 00:22:42\", \"2020-05-22 00:22:45\", \"2020-05-22 00:22:48\", \"2020-05-22 00:22:51\", \"2020-05-22 00:22:54\", \"2020-05-22 00:22:57\", \"2020-05-22 00:23:00\", \"2020-05-22 00:23:03\", \"2020-05-22 00:23:06\", \"2020-05-22 00:23:09\", \"2020-05-22 00:23:12\", \"2020-05-22 00:23:15\", \"2020-05-22 00:23:18\", \"2020-05-22 00:23:21\", \"2020-05-22 00:23:24\", \"2020-05-22 00:23:27\", \"2020-05-22 00:23:30\", \"2020-05-22 00:23:33\", \"2020-05-22 00:23:36\", \"2020-05-22 00:23:39\", \"2020-05-22 00:23:42\", \"2020-05-22 00:23:45\", \"2020-05-22 00:23:48\", \"2020-05-22 00:23:51\", \"2020-05-22 00:23:54\", \"2020-05-22 00:23:57\", \"2020-05-23 00:00:00\", \"2020-05-23 00:00:03\", \"2020-05-23 00:00:06\", \"2020-05-23 00:00:09\", \"2020-05-23 00:00:12\", \"2020-05-23 00:00:15\", \"2020-05-23 00:00:18\", \"2020-05-23 00:00:21\", \"2020-05-23 00:00:24\", \"2020-05-23 00:00:27\", \"2020-05-23 00:00:30\", \"2020-05-23 00:00:33\", \"2020-05-23 00:00:36\", \"2020-05-23 00:00:39\", \"2020-05-23 00:00:42\", \"2020-05-23 00:00:45\", \"2020-05-23 00:00:48\", \"2020-05-23 00:00:51\", \"2020-05-23 00:00:54\", \"2020-05-23 00:00:57\", \"2020-05-23 00:01:00\", \"2020-05-23 00:01:03\", \"2020-05-23 00:01:06\", \"2020-05-23 00:01:09\", \"2020-05-23 00:01:12\", \"2020-05-23 00:01:15\", \"2020-05-23 00:01:18\", \"2020-05-23 00:01:21\", \"2020-05-23 00:01:24\", \"2020-05-23 00:01:27\", \"2020-05-23 00:01:30\", \"2020-05-23 00:01:33\", \"2020-05-23 00:01:36\", \"2020-05-23 00:01:39\", \"2020-05-23 00:01:42\", \"2020-05-23 00:01:45\", \"2020-05-23 00:01:48\", \"2020-05-23 00:01:51\", \"2020-05-23 00:01:54\", \"2020-05-23 00:01:57\", \"2020-05-23 00:02:00\", \"2020-05-23 00:02:03\", \"2020-05-23 00:02:06\", \"2020-05-23 00:02:09\", \"2020-05-23 00:02:12\", \"2020-05-23 00:02:15\", \"2020-05-23 00:02:18\", \"2020-05-23 00:02:21\", \"2020-05-23 00:02:24\", \"2020-05-23 00:02:27\", \"2020-05-23 00:02:30\", \"2020-05-23 00:02:33\", \"2020-05-23 00:02:36\", \"2020-05-23 00:02:39\", \"2020-05-23 00:02:42\", \"2020-05-23 00:02:45\", \"2020-05-23 00:02:48\", \"2020-05-23 00:02:51\", \"2020-05-23 00:02:54\", \"2020-05-23 00:02:57\", \"2020-05-23 00:03:00\", \"2020-05-23 00:03:03\", \"2020-05-23 00:03:06\", \"2020-05-23 00:03:09\", \"2020-05-23 00:03:12\", \"2020-05-23 00:03:15\", \"2020-05-23 00:03:18\", \"2020-05-23 00:03:21\", \"2020-05-23 00:03:24\", \"2020-05-23 00:03:27\", \"2020-05-23 00:03:30\", \"2020-05-23 00:03:33\", \"2020-05-23 00:03:36\", \"2020-05-23 00:03:39\", \"2020-05-23 00:03:42\", \"2020-05-23 00:03:45\", \"2020-05-23 00:03:48\", \"2020-05-23 00:03:51\", \"2020-05-23 00:03:54\", \"2020-05-23 00:03:57\", \"2020-05-23 00:04:00\", \"2020-05-23 00:04:03\", \"2020-05-23 00:04:06\", \"2020-05-23 00:04:09\", \"2020-05-23 00:04:12\", \"2020-05-23 00:04:15\", \"2020-05-23 00:04:18\", \"2020-05-23 00:04:21\", \"2020-05-23 00:04:24\", \"2020-05-23 00:04:27\", \"2020-05-23 00:04:30\", \"2020-05-23 00:04:33\", \"2020-05-23 00:04:36\", \"2020-05-23 00:04:39\", \"2020-05-23 00:04:42\", \"2020-05-23 00:04:45\", \"2020-05-23 00:04:48\", \"2020-05-23 00:04:51\", \"2020-05-23 00:04:54\", \"2020-05-23 00:04:57\", \"2020-05-23 00:05:00\", \"2020-05-23 00:05:03\", \"2020-05-23 00:05:06\", \"2020-05-23 00:05:09\", \"2020-05-23 00:05:12\", \"2020-05-23 00:05:15\", \"2020-05-23 00:05:18\", \"2020-05-23 00:05:21\", \"2020-05-23 00:05:24\", \"2020-05-23 00:05:27\", \"2020-05-23 00:05:30\", \"2020-05-23 00:05:33\", \"2020-05-23 00:05:36\", \"2020-05-23 00:05:39\", \"2020-05-23 00:05:42\", \"2020-05-23 00:05:45\", \"2020-05-23 00:05:48\", \"2020-05-23 00:05:51\", \"2020-05-23 00:05:54\", \"2020-05-23 00:05:57\", \"2020-05-23 00:06:00\", \"2020-05-23 00:06:03\", \"2020-05-23 00:06:06\", \"2020-05-23 00:06:09\", \"2020-05-23 00:06:12\", \"2020-05-23 00:06:15\", \"2020-05-23 00:06:18\", \"2020-05-23 00:06:21\", \"2020-05-23 00:06:24\", \"2020-05-23 00:06:27\", \"2020-05-23 00:06:30\", \"2020-05-23 00:06:33\", \"2020-05-23 00:06:36\", \"2020-05-23 00:06:39\", \"2020-05-23 00:06:42\", \"2020-05-23 00:06:45\", \"2020-05-23 00:06:48\", \"2020-05-23 00:06:51\", \"2020-05-23 00:06:54\", \"2020-05-23 00:06:57\", \"2020-05-23 00:07:00\", \"2020-05-23 00:07:03\", \"2020-05-23 00:07:06\", \"2020-05-23 00:07:09\", \"2020-05-23 00:07:12\", \"2020-05-23 00:07:15\", \"2020-05-23 00:07:18\", \"2020-05-23 00:07:21\", \"2020-05-23 00:07:24\", \"2020-05-23 00:07:27\", \"2020-05-23 00:07:30\", \"2020-05-23 00:07:33\", \"2020-05-23 00:07:36\", \"2020-05-23 00:07:39\", \"2020-05-23 00:07:42\", \"2020-05-23 00:07:45\", \"2020-05-23 00:07:48\", \"2020-05-23 00:07:51\", \"2020-05-23 00:07:54\", \"2020-05-23 00:07:57\", \"2020-05-23 00:08:00\", \"2020-05-23 00:08:03\", \"2020-05-23 00:08:06\", \"2020-05-23 00:08:09\", \"2020-05-23 00:08:12\", \"2020-05-23 00:08:15\", \"2020-05-23 00:08:18\", \"2020-05-23 00:08:21\", \"2020-05-23 00:08:24\", \"2020-05-23 00:08:27\", \"2020-05-23 00:08:30\", \"2020-05-23 00:08:33\", \"2020-05-23 00:08:36\", \"2020-05-23 00:08:39\", \"2020-05-23 00:08:42\", \"2020-05-23 00:08:45\", \"2020-05-23 00:08:48\", \"2020-05-23 00:08:51\", \"2020-05-23 00:08:54\", \"2020-05-23 00:08:57\", \"2020-05-23 00:09:00\", \"2020-05-23 00:09:03\", \"2020-05-23 00:09:06\", \"2020-05-23 00:09:09\", \"2020-05-23 00:09:12\", \"2020-05-23 00:09:15\", \"2020-05-23 00:09:18\", \"2020-05-23 00:09:21\", \"2020-05-23 00:09:24\", \"2020-05-23 00:09:27\", \"2020-05-23 00:09:30\", \"2020-05-23 00:09:33\", \"2020-05-23 00:09:36\", \"2020-05-23 00:09:39\", \"2020-05-23 00:09:42\", \"2020-05-23 00:09:45\", \"2020-05-23 00:09:48\", \"2020-05-23 00:09:51\", \"2020-05-23 00:09:54\", \"2020-05-23 00:09:57\", \"2020-05-23 00:10:00\", \"2020-05-23 00:10:03\", \"2020-05-23 00:10:06\", \"2020-05-23 00:10:09\", \"2020-05-23 00:10:12\", \"2020-05-23 00:10:15\", \"2020-05-23 00:10:18\", \"2020-05-23 00:10:21\", \"2020-05-23 00:10:24\", \"2020-05-23 00:10:27\", \"2020-05-23 00:10:30\", \"2020-05-23 00:10:33\", \"2020-05-23 00:10:36\", \"2020-05-23 00:10:39\", \"2020-05-23 00:10:42\", \"2020-05-23 00:10:45\", \"2020-05-23 00:10:48\", \"2020-05-23 00:10:51\", \"2020-05-23 00:10:54\", \"2020-05-23 00:10:57\", \"2020-05-23 00:11:00\", \"2020-05-23 00:11:03\", \"2020-05-23 00:11:06\", \"2020-05-23 00:11:09\", \"2020-05-23 00:11:12\", \"2020-05-23 00:11:15\", \"2020-05-23 00:11:18\", \"2020-05-23 00:11:21\", \"2020-05-23 00:11:24\", \"2020-05-23 00:11:27\", \"2020-05-23 00:11:30\", \"2020-05-23 00:11:33\", \"2020-05-23 00:11:36\", \"2020-05-23 00:11:39\", \"2020-05-23 00:11:42\", \"2020-05-23 00:11:45\", \"2020-05-23 00:11:48\", \"2020-05-23 00:11:51\", \"2020-05-23 00:11:54\", \"2020-05-23 00:11:57\", \"2020-05-23 00:12:00\", \"2020-05-23 00:12:03\", \"2020-05-23 00:12:06\", \"2020-05-23 00:12:09\", \"2020-05-23 00:12:12\", \"2020-05-23 00:12:15\", \"2020-05-23 00:12:18\", \"2020-05-23 00:12:21\", \"2020-05-23 00:12:24\", \"2020-05-23 00:12:27\", \"2020-05-23 00:12:30\", \"2020-05-23 00:12:33\", \"2020-05-23 00:12:36\", \"2020-05-23 00:12:39\", \"2020-05-23 00:12:42\", \"2020-05-23 00:12:45\", \"2020-05-23 00:12:48\", \"2020-05-23 00:12:51\", \"2020-05-23 00:12:54\", \"2020-05-23 00:12:57\", \"2020-05-23 00:13:00\", \"2020-05-23 00:13:03\", \"2020-05-23 00:13:06\", \"2020-05-23 00:13:09\", \"2020-05-23 00:13:12\", \"2020-05-23 00:13:15\", \"2020-05-23 00:13:18\", \"2020-05-23 00:13:21\", \"2020-05-23 00:13:24\", \"2020-05-23 00:13:27\", \"2020-05-23 00:13:30\", \"2020-05-23 00:13:33\", \"2020-05-23 00:13:36\", \"2020-05-23 00:13:39\", \"2020-05-23 00:13:42\", \"2020-05-23 00:13:45\", \"2020-05-23 00:13:48\", \"2020-05-23 00:13:51\", \"2020-05-23 00:13:54\", \"2020-05-23 00:13:57\", \"2020-05-23 00:14:00\", \"2020-05-23 00:14:03\", \"2020-05-23 00:14:06\", \"2020-05-23 00:14:09\", \"2020-05-23 00:14:12\", \"2020-05-23 00:14:15\", \"2020-05-23 00:14:18\", \"2020-05-23 00:14:21\", \"2020-05-23 00:14:24\", \"2020-05-23 00:14:27\", \"2020-05-23 00:14:30\", \"2020-05-23 00:14:33\", \"2020-05-23 00:14:36\", \"2020-05-23 00:14:39\", \"2020-05-23 00:14:42\", \"2020-05-23 00:14:45\", \"2020-05-23 00:14:48\", \"2020-05-23 00:14:51\", \"2020-05-23 00:14:54\", \"2020-05-23 00:14:57\", \"2020-05-23 00:15:00\", \"2020-05-23 00:15:03\", \"2020-05-23 00:15:06\", \"2020-05-23 00:15:09\", \"2020-05-23 00:15:12\", \"2020-05-23 00:15:15\", \"2020-05-23 00:15:18\", \"2020-05-23 00:15:21\", \"2020-05-23 00:15:24\", \"2020-05-23 00:15:27\", \"2020-05-23 00:15:30\", \"2020-05-23 00:15:33\", \"2020-05-23 00:15:36\", \"2020-05-23 00:15:39\", \"2020-05-23 00:15:42\", \"2020-05-23 00:15:45\", \"2020-05-23 00:15:48\", \"2020-05-23 00:15:51\", \"2020-05-23 00:15:54\", \"2020-05-23 00:15:57\", \"2020-05-23 00:16:00\", \"2020-05-23 00:16:03\", \"2020-05-23 00:16:06\", \"2020-05-23 00:16:09\", \"2020-05-23 00:16:12\", \"2020-05-23 00:16:15\", \"2020-05-23 00:16:18\", \"2020-05-23 00:16:21\", \"2020-05-23 00:16:24\", \"2020-05-23 00:16:27\", \"2020-05-23 00:16:30\", \"2020-05-23 00:16:33\", \"2020-05-23 00:16:36\", \"2020-05-23 00:16:39\", \"2020-05-23 00:16:42\", \"2020-05-23 00:16:45\", \"2020-05-23 00:16:48\", \"2020-05-23 00:16:51\", \"2020-05-23 00:16:54\", \"2020-05-23 00:16:57\", \"2020-05-23 00:17:00\", \"2020-05-23 00:17:03\", \"2020-05-23 00:17:06\", \"2020-05-23 00:17:09\", \"2020-05-23 00:17:12\", \"2020-05-23 00:17:15\", \"2020-05-23 00:17:18\", \"2020-05-23 00:17:21\", \"2020-05-23 00:17:24\", \"2020-05-23 00:17:27\", \"2020-05-23 00:17:30\", \"2020-05-23 00:17:33\", \"2020-05-23 00:17:36\", \"2020-05-23 00:17:39\", \"2020-05-23 00:17:42\", \"2020-05-23 00:17:45\", \"2020-05-23 00:17:48\", \"2020-05-23 00:17:51\", \"2020-05-23 00:17:54\", \"2020-05-23 00:17:57\", \"2020-05-23 00:18:00\", \"2020-05-23 00:18:03\", \"2020-05-23 00:18:06\", \"2020-05-23 00:18:09\", \"2020-05-23 00:18:12\", \"2020-05-23 00:18:15\", \"2020-05-23 00:18:18\", \"2020-05-23 00:18:21\", \"2020-05-23 00:18:24\", \"2020-05-23 00:18:27\", \"2020-05-23 00:18:30\", \"2020-05-23 00:18:33\", \"2020-05-23 00:18:36\", \"2020-05-23 00:18:39\", \"2020-05-23 00:18:42\", \"2020-05-23 00:18:45\", \"2020-05-23 00:18:48\", \"2020-05-23 00:18:51\", \"2020-05-23 00:18:54\", \"2020-05-23 00:18:57\", \"2020-05-23 00:19:00\", \"2020-05-23 00:19:03\", \"2020-05-23 00:19:06\", \"2020-05-23 00:19:09\", \"2020-05-23 00:19:12\", \"2020-05-23 00:19:15\", \"2020-05-23 00:19:18\", \"2020-05-23 00:19:21\", \"2020-05-23 00:19:24\", \"2020-05-23 00:19:27\", \"2020-05-23 00:19:30\", \"2020-05-23 00:19:33\", \"2020-05-23 00:19:36\", \"2020-05-23 00:19:39\", \"2020-05-23 00:19:42\", \"2020-05-23 00:19:45\", \"2020-05-23 00:19:48\", \"2020-05-23 00:19:51\", \"2020-05-23 00:19:54\", \"2020-05-23 00:19:57\", \"2020-05-23 00:20:00\", \"2020-05-23 00:20:03\", \"2020-05-23 00:20:06\", \"2020-05-23 00:20:09\", \"2020-05-23 00:20:12\", \"2020-05-23 00:20:15\", \"2020-05-23 00:20:18\", \"2020-05-23 00:20:21\", \"2020-05-23 00:20:24\", \"2020-05-23 00:20:27\", \"2020-05-23 00:20:30\", \"2020-05-23 00:20:33\", \"2020-05-23 00:20:36\", \"2020-05-23 00:20:39\", \"2020-05-23 00:20:42\", \"2020-05-23 00:20:45\", \"2020-05-23 00:20:48\", \"2020-05-23 00:20:51\", \"2020-05-23 00:20:54\", \"2020-05-23 00:20:57\", \"2020-05-23 00:21:00\", \"2020-05-23 00:21:03\", \"2020-05-23 00:21:06\", \"2020-05-23 00:21:09\", \"2020-05-23 00:21:12\", \"2020-05-23 00:21:15\", \"2020-05-23 00:21:18\", \"2020-05-23 00:21:21\", \"2020-05-23 00:21:24\", \"2020-05-23 00:21:27\", \"2020-05-23 00:21:30\", \"2020-05-23 00:21:33\", \"2020-05-23 00:21:36\", \"2020-05-23 00:21:39\", \"2020-05-23 00:21:42\", \"2020-05-23 00:21:45\", \"2020-05-23 00:21:48\", \"2020-05-23 00:21:51\", \"2020-05-23 00:21:54\", \"2020-05-23 00:21:57\", \"2020-05-23 00:22:00\", \"2020-05-23 00:22:03\", \"2020-05-23 00:22:06\", \"2020-05-23 00:22:09\", \"2020-05-23 00:22:12\", \"2020-05-23 00:22:15\", \"2020-05-23 00:22:18\", \"2020-05-23 00:22:21\", \"2020-05-23 00:22:24\", \"2020-05-23 00:22:27\", \"2020-05-23 00:22:30\", \"2020-05-23 00:22:33\", \"2020-05-23 00:22:36\", \"2020-05-23 00:22:39\", \"2020-05-23 00:22:42\", \"2020-05-23 00:22:45\", \"2020-05-23 00:22:48\", \"2020-05-23 00:22:51\", \"2020-05-23 00:22:54\", \"2020-05-23 00:22:57\", \"2020-05-23 00:23:00\", \"2020-05-23 00:23:03\", \"2020-05-23 00:23:06\", \"2020-05-23 00:23:09\", \"2020-05-23 00:23:12\", \"2020-05-23 00:23:15\", \"2020-05-23 00:23:18\", \"2020-05-23 00:23:21\", \"2020-05-23 00:23:24\", \"2020-05-23 00:23:27\", \"2020-05-23 00:23:30\", \"2020-05-23 00:23:33\", \"2020-05-23 00:23:36\", \"2020-05-23 00:23:39\", \"2020-05-23 00:23:42\", \"2020-05-23 00:23:45\", \"2020-05-23 00:23:48\", \"2020-05-23 00:23:51\", \"2020-05-23 00:23:54\", \"2020-05-23 00:23:57\", \"2020-05-24 00:00:00\", \"2020-05-24 00:00:03\", \"2020-05-24 00:00:06\", \"2020-05-24 00:00:09\", \"2020-05-24 00:00:12\", \"2020-05-24 00:00:15\", \"2020-05-24 00:00:18\", \"2020-05-24 00:00:21\", \"2020-05-24 00:00:24\", \"2020-05-24 00:00:27\", \"2020-05-24 00:00:30\", \"2020-05-24 00:00:33\", \"2020-05-24 00:00:36\", \"2020-05-24 00:00:39\", \"2020-05-24 00:00:42\", \"2020-05-24 00:00:45\", \"2020-05-24 00:00:48\", \"2020-05-24 00:00:51\", \"2020-05-24 00:00:54\", \"2020-05-24 00:00:57\", \"2020-05-24 00:01:00\", \"2020-05-24 00:01:03\", \"2020-05-24 00:01:06\", \"2020-05-24 00:01:09\", \"2020-05-24 00:01:12\", \"2020-05-24 00:01:15\", \"2020-05-24 00:01:18\", \"2020-05-24 00:01:21\", \"2020-05-24 00:01:24\", \"2020-05-24 00:01:27\", \"2020-05-24 00:01:30\", \"2020-05-24 00:01:33\", \"2020-05-24 00:01:36\", \"2020-05-24 00:01:39\", \"2020-05-24 00:01:42\", \"2020-05-24 00:01:45\", \"2020-05-24 00:01:48\", \"2020-05-24 00:01:51\", \"2020-05-24 00:01:54\", \"2020-05-24 00:01:57\", \"2020-05-24 00:02:00\", \"2020-05-24 00:02:03\", \"2020-05-24 00:02:06\", \"2020-05-24 00:02:09\", \"2020-05-24 00:02:12\", \"2020-05-24 00:02:15\", \"2020-05-24 00:02:18\", \"2020-05-24 00:02:21\", \"2020-05-24 00:02:24\", \"2020-05-24 00:02:27\", \"2020-05-24 00:02:30\", \"2020-05-24 00:02:33\", \"2020-05-24 00:02:36\", \"2020-05-24 00:02:39\", \"2020-05-24 00:02:42\", \"2020-05-24 00:02:45\", \"2020-05-24 00:02:48\", \"2020-05-24 00:02:51\", \"2020-05-24 00:02:54\", \"2020-05-24 00:02:57\", \"2020-05-24 00:03:00\", \"2020-05-24 00:03:03\", \"2020-05-24 00:03:06\", \"2020-05-24 00:03:09\", \"2020-05-24 00:03:12\", \"2020-05-24 00:03:15\", \"2020-05-24 00:03:18\", \"2020-05-24 00:03:21\", \"2020-05-24 00:03:24\", \"2020-05-24 00:03:27\", \"2020-05-24 00:03:30\", \"2020-05-24 00:03:33\", \"2020-05-24 00:03:36\", \"2020-05-24 00:03:39\", \"2020-05-24 00:03:42\", \"2020-05-24 00:03:45\", \"2020-05-24 00:03:48\", \"2020-05-24 00:03:51\", \"2020-05-24 00:03:54\", \"2020-05-24 00:03:57\", \"2020-05-24 00:04:00\", \"2020-05-24 00:04:03\", \"2020-05-24 00:04:06\", \"2020-05-24 00:04:09\", \"2020-05-24 00:04:12\", \"2020-05-24 00:04:15\", \"2020-05-24 00:04:18\", \"2020-05-24 00:04:21\", \"2020-05-24 00:04:24\", \"2020-05-24 00:04:27\", \"2020-05-24 00:04:30\", \"2020-05-24 00:04:33\", \"2020-05-24 00:04:36\", \"2020-05-24 00:04:39\", \"2020-05-24 00:04:42\", \"2020-05-24 00:04:45\", \"2020-05-24 00:04:48\", \"2020-05-24 00:04:51\", \"2020-05-24 00:04:54\", \"2020-05-24 00:04:57\", \"2020-05-24 00:05:00\", \"2020-05-24 00:05:03\", \"2020-05-24 00:05:06\", \"2020-05-24 00:05:09\", \"2020-05-24 00:05:12\", \"2020-05-24 00:05:15\", \"2020-05-24 00:05:18\", \"2020-05-24 00:05:21\", \"2020-05-24 00:05:24\", \"2020-05-24 00:05:27\", \"2020-05-24 00:05:30\", \"2020-05-24 00:05:33\", \"2020-05-24 00:05:36\", \"2020-05-24 00:05:39\", \"2020-05-24 00:05:42\", \"2020-05-24 00:05:45\", \"2020-05-24 00:05:48\", \"2020-05-24 00:05:51\", \"2020-05-24 00:05:54\", \"2020-05-24 00:05:57\", \"2020-05-24 00:06:00\", \"2020-05-24 00:06:03\", \"2020-05-24 00:06:06\", \"2020-05-24 00:06:09\", \"2020-05-24 00:06:12\", \"2020-05-24 00:06:15\", \"2020-05-24 00:06:18\", \"2020-05-24 00:06:21\", \"2020-05-24 00:06:24\", \"2020-05-24 00:06:27\", \"2020-05-24 00:06:30\", \"2020-05-24 00:06:33\", \"2020-05-24 00:06:36\", \"2020-05-24 00:06:39\", \"2020-05-24 00:06:42\", \"2020-05-24 00:06:45\", \"2020-05-24 00:06:48\", \"2020-05-24 00:06:51\", \"2020-05-24 00:06:54\", \"2020-05-24 00:06:57\", \"2020-05-24 00:07:00\", \"2020-05-24 00:07:03\", \"2020-05-24 00:07:06\", \"2020-05-24 00:07:09\", \"2020-05-24 00:07:12\", \"2020-05-24 00:07:15\", \"2020-05-24 00:07:18\", \"2020-05-24 00:07:21\", \"2020-05-24 00:07:24\", \"2020-05-24 00:07:27\", \"2020-05-24 00:07:30\", \"2020-05-24 00:07:33\", \"2020-05-24 00:07:36\", \"2020-05-24 00:07:39\", \"2020-05-24 00:07:42\", \"2020-05-24 00:07:45\", \"2020-05-24 00:07:48\", \"2020-05-24 00:07:51\", \"2020-05-24 00:07:54\", \"2020-05-24 00:07:57\", \"2020-05-24 00:08:00\", \"2020-05-24 00:08:03\", \"2020-05-24 00:08:06\", \"2020-05-24 00:08:09\", \"2020-05-24 00:08:12\", \"2020-05-24 00:08:15\", \"2020-05-24 00:08:18\", \"2020-05-24 00:08:21\", \"2020-05-24 00:08:24\", \"2020-05-24 00:08:27\", \"2020-05-24 00:08:30\", \"2020-05-24 00:08:33\", \"2020-05-24 00:08:36\", \"2020-05-24 00:08:39\", \"2020-05-24 00:08:42\", \"2020-05-24 00:08:45\", \"2020-05-24 00:08:48\", \"2020-05-24 00:08:51\", \"2020-05-24 00:08:54\", \"2020-05-24 00:08:57\", \"2020-05-24 00:09:00\", \"2020-05-24 00:09:03\", \"2020-05-24 00:09:06\", \"2020-05-24 00:09:09\", \"2020-05-24 00:09:12\", \"2020-05-24 00:09:15\", \"2020-05-24 00:09:18\", \"2020-05-24 00:09:21\", \"2020-05-24 00:09:24\", \"2020-05-24 00:09:27\", \"2020-05-24 00:09:30\", \"2020-05-24 00:09:33\", \"2020-05-24 00:09:36\", \"2020-05-24 00:09:39\", \"2020-05-24 00:09:42\", \"2020-05-24 00:09:45\", \"2020-05-24 00:09:48\", \"2020-05-24 00:09:51\", \"2020-05-24 00:09:54\", \"2020-05-24 00:09:57\", \"2020-05-24 00:10:00\", \"2020-05-24 00:10:03\", \"2020-05-24 00:10:06\", \"2020-05-24 00:10:09\", \"2020-05-24 00:10:12\", \"2020-05-24 00:10:15\", \"2020-05-24 00:10:18\", \"2020-05-24 00:10:21\", \"2020-05-24 00:10:24\", \"2020-05-24 00:10:27\", \"2020-05-24 00:10:30\", \"2020-05-24 00:10:33\", \"2020-05-24 00:10:36\", \"2020-05-24 00:10:39\", \"2020-05-24 00:10:42\", \"2020-05-24 00:10:45\", \"2020-05-24 00:10:48\", \"2020-05-24 00:10:51\", \"2020-05-24 00:10:54\", \"2020-05-24 00:10:57\", \"2020-05-24 00:11:00\", \"2020-05-24 00:11:03\", \"2020-05-24 00:11:06\", \"2020-05-24 00:11:09\", \"2020-05-24 00:11:12\", \"2020-05-24 00:11:15\", \"2020-05-24 00:11:18\", \"2020-05-24 00:11:21\", \"2020-05-24 00:11:24\", \"2020-05-24 00:11:27\", \"2020-05-24 00:11:30\", \"2020-05-24 00:11:33\", \"2020-05-24 00:11:36\", \"2020-05-24 00:11:39\", \"2020-05-24 00:11:42\", \"2020-05-24 00:11:45\", \"2020-05-24 00:11:48\", \"2020-05-24 00:11:51\", \"2020-05-24 00:11:54\", \"2020-05-24 00:11:57\", \"2020-05-24 00:12:00\", \"2020-05-24 00:12:03\", \"2020-05-24 00:12:06\", \"2020-05-24 00:12:09\", \"2020-05-24 00:12:12\", \"2020-05-24 00:12:15\", \"2020-05-24 00:12:18\", \"2020-05-24 00:12:21\", \"2020-05-24 00:12:24\", \"2020-05-24 00:12:27\", \"2020-05-24 00:12:30\", \"2020-05-24 00:12:33\", \"2020-05-24 00:12:36\", \"2020-05-24 00:12:39\", \"2020-05-24 00:12:42\", \"2020-05-24 00:12:45\", \"2020-05-24 00:12:48\", \"2020-05-24 00:12:51\", \"2020-05-24 00:12:54\", \"2020-05-24 00:12:57\", \"2020-05-24 00:13:00\", \"2020-05-24 00:13:03\", \"2020-05-24 00:13:06\", \"2020-05-24 00:13:09\", \"2020-05-24 00:13:12\", \"2020-05-24 00:13:15\", \"2020-05-24 00:13:18\", \"2020-05-24 00:13:21\", \"2020-05-24 00:13:24\", \"2020-05-24 00:13:27\", \"2020-05-24 00:13:30\", \"2020-05-24 00:13:33\", \"2020-05-24 00:13:36\", \"2020-05-24 00:13:39\", \"2020-05-24 00:13:42\", \"2020-05-24 00:13:45\", \"2020-05-24 00:13:48\", \"2020-05-24 00:13:51\", \"2020-05-24 00:13:54\", \"2020-05-24 00:13:57\", \"2020-05-24 00:14:00\", \"2020-05-24 00:14:03\", \"2020-05-24 00:14:06\", \"2020-05-24 00:14:09\", \"2020-05-24 00:14:12\", \"2020-05-24 00:14:15\", \"2020-05-24 00:14:18\", \"2020-05-24 00:14:21\", \"2020-05-24 00:14:24\", \"2020-05-24 00:14:27\", \"2020-05-24 00:14:30\", \"2020-05-24 00:14:33\", \"2020-05-24 00:14:36\", \"2020-05-24 00:14:39\", \"2020-05-24 00:14:42\", \"2020-05-24 00:14:45\", \"2020-05-24 00:14:48\", \"2020-05-24 00:14:51\", \"2020-05-24 00:14:54\", \"2020-05-24 00:14:57\", \"2020-05-24 00:15:00\", \"2020-05-24 00:15:03\", \"2020-05-24 00:15:06\", \"2020-05-24 00:15:09\", \"2020-05-24 00:15:12\", \"2020-05-24 00:15:15\", \"2020-05-24 00:15:18\", \"2020-05-24 00:15:21\", \"2020-05-24 00:15:24\", \"2020-05-24 00:15:27\", \"2020-05-24 00:15:30\", \"2020-05-24 00:15:33\", \"2020-05-24 00:15:36\", \"2020-05-24 00:15:39\", \"2020-05-24 00:15:42\", \"2020-05-24 00:15:45\", \"2020-05-24 00:15:48\", \"2020-05-24 00:15:51\", \"2020-05-24 00:15:54\", \"2020-05-24 00:15:57\", \"2020-05-24 00:16:00\", \"2020-05-24 00:16:03\", \"2020-05-24 00:16:06\", \"2020-05-24 00:16:09\", \"2020-05-24 00:16:12\", \"2020-05-24 00:16:15\", \"2020-05-24 00:16:18\", \"2020-05-24 00:16:21\", \"2020-05-24 00:16:24\", \"2020-05-24 00:16:27\", \"2020-05-24 00:16:30\", \"2020-05-24 00:16:33\", \"2020-05-24 00:16:36\", \"2020-05-24 00:16:39\", \"2020-05-24 00:16:42\", \"2020-05-24 00:16:45\", \"2020-05-24 00:16:48\", \"2020-05-24 00:16:51\", \"2020-05-24 00:16:54\", \"2020-05-24 00:16:57\", \"2020-05-24 00:17:00\", \"2020-05-24 00:17:03\", \"2020-05-24 00:17:06\", \"2020-05-24 00:17:09\", \"2020-05-24 00:17:12\", \"2020-05-24 00:17:15\", \"2020-05-24 00:17:18\", \"2020-05-24 00:17:21\", \"2020-05-24 00:17:24\", \"2020-05-24 00:17:27\", \"2020-05-24 00:17:30\", \"2020-05-24 00:17:33\", \"2020-05-24 00:17:36\", \"2020-05-24 00:17:39\", \"2020-05-24 00:17:42\", \"2020-05-24 00:17:45\", \"2020-05-24 00:17:48\", \"2020-05-24 00:17:51\", \"2020-05-24 00:17:54\", \"2020-05-24 00:17:57\", \"2020-05-24 00:18:00\", \"2020-05-24 00:18:03\", \"2020-05-24 00:18:06\", \"2020-05-24 00:18:09\", \"2020-05-24 00:18:12\", \"2020-05-24 00:18:15\", \"2020-05-24 00:18:18\", \"2020-05-24 00:18:21\", \"2020-05-24 00:18:24\", \"2020-05-24 00:18:27\", \"2020-05-24 00:18:30\", \"2020-05-24 00:18:33\", \"2020-05-24 00:18:36\", \"2020-05-24 00:18:39\", \"2020-05-24 00:18:42\", \"2020-05-24 00:18:45\", \"2020-05-24 00:18:48\", \"2020-05-24 00:18:51\", \"2020-05-24 00:18:54\", \"2020-05-24 00:18:57\", \"2020-05-24 00:19:00\", \"2020-05-24 00:19:03\", \"2020-05-24 00:19:06\", \"2020-05-24 00:19:09\", \"2020-05-24 00:19:12\", \"2020-05-24 00:19:15\", \"2020-05-24 00:19:18\", \"2020-05-24 00:19:21\", \"2020-05-24 00:19:24\", \"2020-05-24 00:19:27\", \"2020-05-24 00:19:30\", \"2020-05-24 00:19:33\", \"2020-05-24 00:19:36\", \"2020-05-24 00:19:39\", \"2020-05-24 00:19:42\", \"2020-05-24 00:19:45\", \"2020-05-24 00:19:48\", \"2020-05-24 00:19:51\", \"2020-05-24 00:19:54\", \"2020-05-24 00:19:57\", \"2020-05-24 00:20:00\", \"2020-05-24 00:20:03\", \"2020-05-24 00:20:06\", \"2020-05-24 00:20:09\", \"2020-05-24 00:20:12\", \"2020-05-24 00:20:15\", \"2020-05-24 00:20:18\", \"2020-05-24 00:20:21\", \"2020-05-24 00:20:24\", \"2020-05-24 00:20:27\", \"2020-05-24 00:20:30\", \"2020-05-24 00:20:33\", \"2020-05-24 00:20:36\", \"2020-05-24 00:20:39\", \"2020-05-24 00:20:42\", \"2020-05-24 00:20:45\", \"2020-05-24 00:20:48\", \"2020-05-24 00:20:51\", \"2020-05-24 00:20:54\", \"2020-05-24 00:20:57\", \"2020-05-24 00:21:00\", \"2020-05-24 00:21:03\", \"2020-05-24 00:21:06\", \"2020-05-24 00:21:09\", \"2020-05-24 00:21:12\", \"2020-05-24 00:21:15\", \"2020-05-24 00:21:18\", \"2020-05-24 00:21:21\", \"2020-05-24 00:21:24\", \"2020-05-24 00:21:27\", \"2020-05-24 00:21:30\", \"2020-05-24 00:21:33\", \"2020-05-24 00:21:36\", \"2020-05-24 00:21:39\", \"2020-05-24 00:21:42\", \"2020-05-24 00:21:45\", \"2020-05-24 00:21:48\", \"2020-05-24 00:21:51\", \"2020-05-24 00:21:54\", \"2020-05-24 00:21:57\", \"2020-05-24 00:22:00\", \"2020-05-24 00:22:03\", \"2020-05-24 00:22:06\", \"2020-05-24 00:22:09\", \"2020-05-24 00:22:12\", \"2020-05-24 00:22:15\", \"2020-05-24 00:22:18\", \"2020-05-24 00:22:21\", \"2020-05-24 00:22:24\", \"2020-05-24 00:22:27\", \"2020-05-24 00:22:30\", \"2020-05-24 00:22:33\", \"2020-05-24 00:22:36\", \"2020-05-24 00:22:39\", \"2020-05-24 00:22:42\", \"2020-05-24 00:22:45\", \"2020-05-24 00:22:48\", \"2020-05-24 00:22:51\", \"2020-05-24 00:22:54\", \"2020-05-24 00:22:57\", \"2020-05-24 00:23:00\", \"2020-05-24 00:23:03\", \"2020-05-24 00:23:06\", \"2020-05-24 00:23:09\", \"2020-05-24 00:23:12\", \"2020-05-24 00:23:15\", \"2020-05-24 00:23:18\", \"2020-05-24 00:23:21\", \"2020-05-24 00:23:24\", \"2020-05-24 00:23:27\", \"2020-05-24 00:23:30\", \"2020-05-24 00:23:33\", \"2020-05-24 00:23:36\", \"2020-05-24 00:23:39\", \"2020-05-24 00:23:42\", \"2020-05-24 00:23:45\", \"2020-05-24 00:23:48\", \"2020-05-24 00:23:51\", \"2020-05-24 00:23:54\", \"2020-05-24 00:23:57\", \"2020-05-25 00:00:00\", \"2020-05-25 00:00:03\", \"2020-05-25 00:00:06\", \"2020-05-25 00:00:09\", \"2020-05-25 00:00:12\", \"2020-05-25 00:00:15\", \"2020-05-25 00:00:18\", \"2020-05-25 00:00:21\", \"2020-05-25 00:00:24\", \"2020-05-25 00:00:27\", \"2020-05-25 00:00:30\", \"2020-05-25 00:00:33\", \"2020-05-25 00:00:36\", \"2020-05-25 00:00:39\", \"2020-05-25 00:00:42\", \"2020-05-25 00:00:45\", \"2020-05-25 00:00:48\", \"2020-05-25 00:00:51\", \"2020-05-25 00:00:54\", \"2020-05-25 00:00:57\", \"2020-05-25 00:01:00\", \"2020-05-25 00:01:03\", \"2020-05-25 00:01:06\", \"2020-05-25 00:01:09\", \"2020-05-25 00:01:12\", \"2020-05-25 00:01:15\", \"2020-05-25 00:01:18\", \"2020-05-25 00:01:21\", \"2020-05-25 00:01:24\", \"2020-05-25 00:01:27\", \"2020-05-25 00:01:30\", \"2020-05-25 00:01:33\", \"2020-05-25 00:01:36\", \"2020-05-25 00:01:39\", \"2020-05-25 00:01:42\", \"2020-05-25 00:01:45\", \"2020-05-25 00:01:48\", \"2020-05-25 00:01:51\", \"2020-05-25 00:01:54\", \"2020-05-25 00:01:57\", \"2020-05-25 00:02:00\", \"2020-05-25 00:02:03\", \"2020-05-25 00:02:06\", \"2020-05-25 00:02:09\", \"2020-05-25 00:02:12\", \"2020-05-25 00:02:15\", \"2020-05-25 00:02:18\", \"2020-05-25 00:02:21\", \"2020-05-25 00:02:24\", \"2020-05-25 00:02:27\", \"2020-05-25 00:02:30\", \"2020-05-25 00:02:33\", \"2020-05-25 00:02:36\", \"2020-05-25 00:02:39\", \"2020-05-25 00:02:42\", \"2020-05-25 00:02:45\", \"2020-05-25 00:02:48\", \"2020-05-25 00:02:51\", \"2020-05-25 00:02:54\", \"2020-05-25 00:02:57\", \"2020-05-25 00:03:00\", \"2020-05-25 00:03:03\", \"2020-05-25 00:03:06\", \"2020-05-25 00:03:09\", \"2020-05-25 00:03:12\", \"2020-05-25 00:03:15\", \"2020-05-25 00:03:18\", \"2020-05-25 00:03:21\", \"2020-05-25 00:03:24\", \"2020-05-25 00:03:27\", \"2020-05-25 00:03:30\", \"2020-05-25 00:03:33\", \"2020-05-25 00:03:36\", \"2020-05-25 00:03:39\", \"2020-05-25 00:03:42\", \"2020-05-25 00:03:45\", \"2020-05-25 00:03:48\", \"2020-05-25 00:03:51\", \"2020-05-25 00:03:54\", \"2020-05-25 00:03:57\", \"2020-05-25 00:04:00\", \"2020-05-25 00:04:03\", \"2020-05-25 00:04:06\", \"2020-05-25 00:04:09\", \"2020-05-25 00:04:12\", \"2020-05-25 00:04:15\", \"2020-05-25 00:04:18\", \"2020-05-25 00:04:21\", \"2020-05-25 00:04:24\", \"2020-05-25 00:04:27\", \"2020-05-25 00:04:30\", \"2020-05-25 00:04:33\", \"2020-05-25 00:04:36\", \"2020-05-25 00:04:39\", \"2020-05-25 00:04:42\", \"2020-05-25 00:04:45\", \"2020-05-25 00:04:48\", \"2020-05-25 00:04:51\", \"2020-05-25 00:04:54\", \"2020-05-25 00:04:57\", \"2020-05-25 00:05:00\", \"2020-05-25 00:05:03\", \"2020-05-25 00:05:06\", \"2020-05-25 00:05:09\", \"2020-05-25 00:05:12\", \"2020-05-25 00:05:15\", \"2020-05-25 00:05:18\", \"2020-05-25 00:05:21\", \"2020-05-25 00:05:24\", \"2020-05-25 00:05:27\", \"2020-05-25 00:05:30\", \"2020-05-25 00:05:33\", \"2020-05-25 00:05:36\", \"2020-05-25 00:05:39\", \"2020-05-25 00:05:42\", \"2020-05-25 00:05:45\", \"2020-05-25 00:05:48\", \"2020-05-25 00:05:51\", \"2020-05-25 00:05:54\", \"2020-05-25 00:05:57\", \"2020-05-25 00:06:00\", \"2020-05-25 00:06:03\", \"2020-05-25 00:06:06\", \"2020-05-25 00:06:09\", \"2020-05-25 00:06:12\", \"2020-05-25 00:06:15\", \"2020-05-25 00:06:18\", \"2020-05-25 00:06:21\", \"2020-05-25 00:06:24\", \"2020-05-25 00:06:27\", \"2020-05-25 00:06:30\", \"2020-05-25 00:06:33\", \"2020-05-25 00:06:36\", \"2020-05-25 00:06:39\", \"2020-05-25 00:06:42\", \"2020-05-25 00:06:45\", \"2020-05-25 00:06:48\", \"2020-05-25 00:06:51\", \"2020-05-25 00:06:54\", \"2020-05-25 00:06:57\", \"2020-05-25 00:07:00\", \"2020-05-25 00:07:03\", \"2020-05-25 00:07:06\", \"2020-05-25 00:07:09\", \"2020-05-25 00:07:12\", \"2020-05-25 00:07:15\", \"2020-05-25 00:07:18\", \"2020-05-25 00:07:21\", \"2020-05-25 00:07:24\", \"2020-05-25 00:07:27\", \"2020-05-25 00:07:30\", \"2020-05-25 00:07:33\", \"2020-05-25 00:07:36\", \"2020-05-25 00:07:39\", \"2020-05-25 00:07:42\", \"2020-05-25 00:07:45\", \"2020-05-25 00:07:48\", \"2020-05-25 00:07:51\", \"2020-05-25 00:07:54\", \"2020-05-25 00:07:57\", \"2020-05-25 00:08:00\", \"2020-05-25 00:08:03\", \"2020-05-25 00:08:06\", \"2020-05-25 00:08:09\", \"2020-05-25 00:08:12\", \"2020-05-25 00:08:15\", \"2020-05-25 00:08:18\", \"2020-05-25 00:08:21\", \"2020-05-25 00:08:24\", \"2020-05-25 00:08:27\", \"2020-05-25 00:08:30\", \"2020-05-25 00:08:33\", \"2020-05-25 00:08:36\", \"2020-05-25 00:08:39\", \"2020-05-25 00:08:42\", \"2020-05-25 00:08:45\", \"2020-05-25 00:08:48\", \"2020-05-25 00:08:51\", \"2020-05-25 00:08:54\", \"2020-05-25 00:08:57\", \"2020-05-25 00:09:00\", \"2020-05-25 00:09:03\", \"2020-05-25 00:09:06\", \"2020-05-25 00:09:09\", \"2020-05-25 00:09:12\", \"2020-05-25 00:09:15\", \"2020-05-25 00:09:18\", \"2020-05-25 00:09:21\", \"2020-05-25 00:09:24\", \"2020-05-25 00:09:27\", \"2020-05-25 00:09:30\", \"2020-05-25 00:09:33\", \"2020-05-25 00:09:36\", \"2020-05-25 00:09:39\", \"2020-05-25 00:09:42\", \"2020-05-25 00:09:45\", \"2020-05-25 00:09:48\", \"2020-05-25 00:09:51\", \"2020-05-25 00:09:54\", \"2020-05-25 00:09:57\", \"2020-05-25 00:10:00\", \"2020-05-25 00:10:03\", \"2020-05-25 00:10:06\", \"2020-05-25 00:10:09\", \"2020-05-25 00:10:12\", \"2020-05-25 00:10:15\", \"2020-05-25 00:10:18\", \"2020-05-25 00:10:21\", \"2020-05-25 00:10:24\", \"2020-05-25 00:10:27\", \"2020-05-25 00:10:30\", \"2020-05-25 00:10:33\", \"2020-05-25 00:10:36\", \"2020-05-25 00:10:39\", \"2020-05-25 00:10:42\", \"2020-05-25 00:10:45\", \"2020-05-25 00:10:48\", \"2020-05-25 00:10:51\", \"2020-05-25 00:10:54\", \"2020-05-25 00:10:57\", \"2020-05-25 00:11:00\", \"2020-05-25 00:11:03\", \"2020-05-25 00:11:06\", \"2020-05-25 00:11:09\", \"2020-05-25 00:11:12\", \"2020-05-25 00:11:15\", \"2020-05-25 00:11:18\", \"2020-05-25 00:11:21\", \"2020-05-25 00:11:24\", \"2020-05-25 00:11:27\", \"2020-05-25 00:11:30\", \"2020-05-25 00:11:33\", \"2020-05-25 00:11:36\", \"2020-05-25 00:11:39\", \"2020-05-25 00:11:42\", \"2020-05-25 00:11:45\", \"2020-05-25 00:11:48\", \"2020-05-25 00:11:51\", \"2020-05-25 00:11:54\", \"2020-05-25 00:11:57\", \"2020-05-25 00:12:00\", \"2020-05-25 00:12:03\", \"2020-05-25 00:12:06\", \"2020-05-25 00:12:09\", \"2020-05-25 00:12:12\", \"2020-05-25 00:12:15\", \"2020-05-25 00:12:18\", \"2020-05-25 00:12:21\", \"2020-05-25 00:12:24\", \"2020-05-25 00:12:27\", \"2020-05-25 00:12:30\", \"2020-05-25 00:12:33\", \"2020-05-25 00:12:36\", \"2020-05-25 00:12:39\", \"2020-05-25 00:12:42\", \"2020-05-25 00:12:45\", \"2020-05-25 00:12:48\", \"2020-05-25 00:12:51\", \"2020-05-25 00:12:54\", \"2020-05-25 00:12:57\", \"2020-05-25 00:13:00\", \"2020-05-25 00:13:03\", \"2020-05-25 00:13:06\", \"2020-05-25 00:13:09\", \"2020-05-25 00:13:12\", \"2020-05-25 00:13:15\", \"2020-05-25 00:13:18\", \"2020-05-25 00:13:21\", \"2020-05-25 00:13:24\", \"2020-05-25 00:13:27\", \"2020-05-25 00:13:30\", \"2020-05-25 00:13:33\", \"2020-05-25 00:13:36\", \"2020-05-25 00:13:39\", \"2020-05-25 00:13:42\", \"2020-05-25 00:13:45\", \"2020-05-25 00:13:48\", \"2020-05-25 00:13:51\", \"2020-05-25 00:13:54\", \"2020-05-25 00:13:57\", \"2020-05-25 00:14:00\", \"2020-05-25 00:14:03\", \"2020-05-25 00:14:06\", \"2020-05-25 00:14:09\", \"2020-05-25 00:14:12\", \"2020-05-25 00:14:15\", \"2020-05-25 00:14:18\", \"2020-05-25 00:14:21\", \"2020-05-25 00:14:24\", \"2020-05-25 00:14:27\", \"2020-05-25 00:14:30\", \"2020-05-25 00:14:33\", \"2020-05-25 00:14:36\", \"2020-05-25 00:14:39\", \"2020-05-25 00:14:42\", \"2020-05-25 00:14:45\", \"2020-05-25 00:14:48\", \"2020-05-25 00:14:51\", \"2020-05-25 00:14:54\", \"2020-05-25 00:14:57\", \"2020-05-25 00:15:00\", \"2020-05-25 00:15:03\", \"2020-05-25 00:15:06\", \"2020-05-25 00:15:09\", \"2020-05-25 00:15:12\", \"2020-05-25 00:15:15\", \"2020-05-25 00:15:18\", \"2020-05-25 00:15:21\", \"2020-05-25 00:15:24\", \"2020-05-25 00:15:27\", \"2020-05-25 00:15:30\", \"2020-05-25 00:15:33\", \"2020-05-25 00:15:36\", \"2020-05-25 00:15:39\", \"2020-05-25 00:15:42\", \"2020-05-25 00:15:45\", \"2020-05-25 00:15:48\", \"2020-05-25 00:15:51\", \"2020-05-25 00:15:54\", \"2020-05-25 00:15:57\", \"2020-05-25 00:16:00\", \"2020-05-25 00:16:03\", \"2020-05-25 00:16:06\", \"2020-05-25 00:16:09\", \"2020-05-25 00:16:12\", \"2020-05-25 00:16:15\", \"2020-05-25 00:16:18\", \"2020-05-25 00:16:21\", \"2020-05-25 00:16:24\", \"2020-05-25 00:16:27\", \"2020-05-25 00:16:30\", \"2020-05-25 00:16:33\", \"2020-05-25 00:16:36\", \"2020-05-25 00:16:39\", \"2020-05-25 00:16:42\", \"2020-05-25 00:16:45\", \"2020-05-25 00:16:48\", \"2020-05-25 00:16:51\", \"2020-05-25 00:16:54\", \"2020-05-25 00:16:57\", \"2020-05-25 00:17:00\", \"2020-05-25 00:17:03\", \"2020-05-25 00:17:06\", \"2020-05-25 00:17:09\", \"2020-05-25 00:17:12\", \"2020-05-25 00:17:15\", \"2020-05-25 00:17:18\", \"2020-05-25 00:17:21\", \"2020-05-25 00:17:24\", \"2020-05-25 00:17:27\", \"2020-05-25 00:17:30\", \"2020-05-25 00:17:33\", \"2020-05-25 00:17:36\", \"2020-05-25 00:17:39\", \"2020-05-25 00:17:42\", \"2020-05-25 00:17:45\", \"2020-05-25 00:17:48\", \"2020-05-25 00:17:51\", \"2020-05-25 00:17:54\", \"2020-05-25 00:17:57\", \"2020-05-25 00:18:00\", \"2020-05-25 00:18:03\", \"2020-05-25 00:18:06\", \"2020-05-25 00:18:09\", \"2020-05-25 00:18:12\", \"2020-05-25 00:18:15\", \"2020-05-25 00:18:18\", \"2020-05-25 00:18:21\", \"2020-05-25 00:18:24\", \"2020-05-25 00:18:27\", \"2020-05-25 00:18:30\", \"2020-05-25 00:18:33\", \"2020-05-25 00:18:36\", \"2020-05-25 00:18:39\", \"2020-05-25 00:18:42\", \"2020-05-25 00:18:45\", \"2020-05-25 00:18:48\", \"2020-05-25 00:18:51\", \"2020-05-25 00:18:54\", \"2020-05-25 00:18:57\", \"2020-05-25 00:19:00\", \"2020-05-25 00:19:03\", \"2020-05-25 00:19:06\", \"2020-05-25 00:19:09\", \"2020-05-25 00:19:12\", \"2020-05-25 00:19:15\", \"2020-05-25 00:19:18\", \"2020-05-25 00:19:21\", \"2020-05-25 00:19:24\", \"2020-05-25 00:19:27\", \"2020-05-25 00:19:30\", \"2020-05-25 00:19:33\", \"2020-05-25 00:19:36\", \"2020-05-25 00:19:39\", \"2020-05-25 00:19:42\", \"2020-05-25 00:19:45\", \"2020-05-25 00:19:48\", \"2020-05-25 00:19:51\", \"2020-05-25 00:19:54\", \"2020-05-25 00:19:57\", \"2020-05-25 00:20:00\", \"2020-05-25 00:20:03\", \"2020-05-25 00:20:06\", \"2020-05-25 00:20:09\", \"2020-05-25 00:20:12\", \"2020-05-25 00:20:15\", \"2020-05-25 00:20:18\", \"2020-05-25 00:20:21\", \"2020-05-25 00:20:24\", \"2020-05-25 00:20:27\", \"2020-05-25 00:20:30\", \"2020-05-25 00:20:33\", \"2020-05-25 00:20:36\", \"2020-05-25 00:20:39\", \"2020-05-25 00:20:42\", \"2020-05-25 00:20:45\", \"2020-05-25 00:20:48\", \"2020-05-25 00:20:51\", \"2020-05-25 00:20:54\", \"2020-05-25 00:20:57\", \"2020-05-25 00:21:00\", \"2020-05-25 00:21:03\", \"2020-05-25 00:21:06\", \"2020-05-25 00:21:09\", \"2020-05-25 00:21:12\", \"2020-05-25 00:21:15\", \"2020-05-25 00:21:18\", \"2020-05-25 00:21:21\", \"2020-05-25 00:21:24\", \"2020-05-25 00:21:27\", \"2020-05-25 00:21:30\", \"2020-05-25 00:21:33\", \"2020-05-25 00:21:36\", \"2020-05-25 00:21:39\", \"2020-05-25 00:21:42\", \"2020-05-25 00:21:45\", \"2020-05-25 00:21:48\", \"2020-05-25 00:21:51\", \"2020-05-25 00:21:54\", \"2020-05-25 00:21:57\", \"2020-05-25 00:22:00\", \"2020-05-25 00:22:03\", \"2020-05-25 00:22:06\", \"2020-05-25 00:22:09\", \"2020-05-25 00:22:12\", \"2020-05-25 00:22:15\", \"2020-05-25 00:22:18\", \"2020-05-25 00:22:21\", \"2020-05-25 00:22:24\", \"2020-05-25 00:22:27\", \"2020-05-25 00:22:30\", \"2020-05-25 00:22:33\", \"2020-05-25 00:22:36\", \"2020-05-25 00:22:39\", \"2020-05-25 00:22:42\", \"2020-05-25 00:22:45\", \"2020-05-25 00:22:48\", \"2020-05-25 00:22:51\", \"2020-05-25 00:22:54\", \"2020-05-25 00:22:57\", \"2020-05-25 00:23:00\", \"2020-05-25 00:23:03\", \"2020-05-25 00:23:06\", \"2020-05-25 00:23:09\", \"2020-05-25 00:23:12\", \"2020-05-25 00:23:15\", \"2020-05-25 00:23:18\", \"2020-05-25 00:23:21\", \"2020-05-25 00:23:24\", \"2020-05-25 00:23:27\", \"2020-05-25 00:23:30\", \"2020-05-25 00:23:33\", \"2020-05-25 00:23:36\", \"2020-05-25 00:23:39\", \"2020-05-25 00:23:42\", \"2020-05-25 00:23:45\", \"2020-05-25 00:23:48\", \"2020-05-25 00:23:51\", \"2020-05-25 00:23:54\", \"2020-05-25 00:23:57\", \"2020-05-26 00:00:00\", \"2020-05-26 00:00:03\", \"2020-05-26 00:00:06\", \"2020-05-26 00:00:09\", \"2020-05-26 00:00:12\", \"2020-05-26 00:00:15\", \"2020-05-26 00:00:18\", \"2020-05-26 00:00:21\", \"2020-05-26 00:00:24\", \"2020-05-26 00:00:27\", \"2020-05-26 00:00:30\", \"2020-05-26 00:00:33\", \"2020-05-26 00:00:36\", \"2020-05-26 00:00:39\", \"2020-05-26 00:00:42\", \"2020-05-26 00:00:45\", \"2020-05-26 00:00:48\", \"2020-05-26 00:00:51\", \"2020-05-26 00:00:54\", \"2020-05-26 00:00:57\", \"2020-05-26 00:01:00\", \"2020-05-26 00:01:03\"], \"y\": [25340, 25361, 25365, 25368, 25356, 25354, 25349, 25348, 25329, 25341, 25342, 25355, 25361, 25360, 25373, 25372, 25382, 25384, 25380, 25379, 25375, 25364, 25369, 25355, 25339, 25342, 25356, 25347, 25344, 25363, 25346, 25344, 25342, 25339, 25325, 25343, 25332, 25328, 25326, 25329, 25310, 25319, 25312, 25307, 25307, 25306, 25302, 25310, 25305, 25290, 25301, 25325, 25314, 25323, 25321, 25306, 25310, 25322, 25336, 25345, 25331, 25326, 25323, 25316, 25310, 25315, 25309, 25315, 25320, 25313, 25332, 25332, 25339, 25335, 25328, 25328, 25325, 25336, 25325, 25330, 25343, 25357, 25362, 25369, 25370, 25372, 25381, 25383, 25399, 25392, 25397, 25401, 25412, 25419, 25394, 25387, 25391, 25385, 25378, 25373, 25397, 25393, 25398, 25399, 25390, 25398, 25393, 25388, 25376, 25369, 25379, 25378, 25370, 25371, 25366, 25365, 25359, 25362, 25361, 25360, 25363, 25374, 25378, 25361, 25362, 25361, 25369, 25366, 25367, 25358, 25334, 25325, 25323, 25322, 25330, 25340, 25350, 25351, 25350, 25368, 25373, 25376, 25374, 25367, 25382, 25384, 25380, 25378, 25365, 25367, 25359, 25339, 25347, 25349, 25341, 25348, 25350, 25340, 25356, 25355, 25359, 25363, 25362, 25369, 25374, 25372, 25376, 25386, 25379, 25370, 25379, 25385, 25390, 25415, 25409, 25399, 25402, 25410, 25415, 25428, 25415, 25416, 25408, 25388, 25364, 25353, 25365, 25364, 25377, 25384, 25394, 25400, 25409, 25414, 25411, 25423, 25428, 25428, 25434, 25443, 25460, 25467, 25473, 25478, 25469, 25471, 25497, 25491, 25487, 25473, 25476, 25479, 25472, 25467, 25477, 25475, 25453, 25458, 25435, 25438, 25440, 25455, 25457, 25443, 25448, 25432, 25440, 25462, 25454, 25459, 25453, 25450, 25463, 25472, 25479, 25464, 25470, 25464, 25463, 25462, 25461, 25457, 25450, 25464, 25472, 25478, 25478, 25482, 25491, 25491, 25492, 25503, 25515, 25503, 25516, 25508, 25516, 25516, 25531, 25533, 25521, 25520, 25534, 25538, 25542, 25529, 25537, 25531, 25535, 25554, 25563, 25567, 25552, 25568, 25565, 25569, 25569, 25546, 25553, 25569, 25556, 25543, 25542, 25545, 25549, 25544, 25543, 25546, 25543, 25541, 25551, 25554, 25559, 25545, 25532, 25548, 25543, 25542, 25564, 25567, 25574, 25568, 25565, 25560, 25561, 25570, 25580, 25579, 25574, 25577, 25573, 25564, 25562, 25561, 25564, 25571, 25577, 25579, 25593, 25588, 25573, 25570, 25580, 25581, 25601, 25609, 25614, 25612, 25613, 25615, 25605, 25606, 25620, 25625, 25625, 25620, 25622, 25640, 25639, 25627, 25628, 25626, 25627, 25620, 25638, 25639, 25640, 25650, 25672, 25675, 25683, 25674, 25675, 25676, 25662, 25671, 25664, 25678, 25666, 25654, 25660, 25656, 25650, 25662, 25670, 25672, 25680, 25697, 25685, 25694, 25688, 25687, 25697, 25698, 25697, 25694, 25700, 25712, 25712, 25714, 25702, 25713, 25710, 25720, 25721, 25712, 25719, 25718, 25713, 25707, 25715, 25719, 25713, 25703, 25696, 25694, 25700, 25692, 25694, 25691, 25696, 25697, 25692, 25697, 25685, 25682, 25674, 25684, 25683, 25686, 25680, 25687, 25687, 25694, 25695, 25692, 25698, 25693, 25700, 25714, 25714, 25720, 25709, 25714, 25718, 25715, 25698, 25694, 25701, 25706, 25706, 25693, 25695, 25685, 25676, 25682, 25675, 25690, 25695, 25699, 25703, 25703, 25721, 25732, 25729, 25717, 25723, 25722, 25710, 25716, 25701, 25715, 25717, 25714, 25705, 25711, 25733, 25747, 25744, 25730, 25735, 25744, 25727, 25734, 25740, 25749, 25736, 25725, 25745, 25742, 25758, 25750, 25757, 25761, 25773, 25776, 25767, 25767, 25782, 25788, 25779, 25760, 25774, 25775, 25773, 25770, 25762, 25761, 25757, 25753, 25760, 25778, 25775, 25780, 25790, 25798, 25800, 25806, 25807, 25796, 25807, 25816, 25805, 25808, 25819, 25811, 25810, 25819, 25806, 25819, 25819, 25819, 25834, 25834, 25845, 25843, 25832, 25819, 25821, 25825, 25813, 25820, 25832, 25829, 25835, 25819, 25830, 25837, 25828, 25811, 25803, 25810, 25801, 25807, 25808, 25807, 25819, 25800, 25827, 25837, 25826, 25829, 25830, 25832, 25826, 25818, 25813, 25803, 25802, 25812, 25817, 25811, 25803, 25788, 25783, 25806, 25799, 25795, 25797, 25795, 25794, 25801, 25792, 25800, 25806, 25793, 25796, 25785, 25785, 25789, 25779, 25776, 25774, 25769, 25747, 25756, 25760, 25759, 25765, 25762, 25753, 25754, 25749, 25756, 25759, 25760, 25763, 25759, 25756, 25751, 25761, 25769, 25780, 25786, 25779, 25777, 25779, 25760, 25765, 25752, 25748, 25741, 25738, 25733, 25728, 25720, 25720, 25717, 25702, 25710, 25709, 25714, 25714, 25724, 25713, 25706, 25694, 25699, 25693, 25700, 25702, 25714, 25709, 25705, 25705, 25710, 25719, 25723, 25727, 25732, 25724, 25739, 25741, 25745, 25735, 25745, 25734, 25744, 25742, 25739, 25742, 25746, 25736, 25738, 25741, 25736, 25734, 25729, 25720, 25715, 25720, 25717, 25704, 25715, 25711, 25723, 25719, 25718, 25712, 25725, 25721, 25730, 25741, 25749, 25744, 25747, 25752, 25755, 25748, 25745, 25746, 25741, 25744, 25739, 25744, 25750, 25757, 25754, 25753, 25758, 25757, 25752, 25751, 25744, 25756, 25763, 25758, 25769, 25774, 25779, 25768, 25761, 25772, 25777, 25780, 25781, 25795, 25783, 25786, 25791, 25789, 25789, 25777, 25787, 25791, 25790, 25786, 25771, 25784, 25793, 25781, 25790, 25796, 25807, 25821, 25828, 25825, 25831, 25821, 25841, 25855, 25849, 25842, 25828, 25842, 25823, 25818, 25804, 25795, 25800, 25810, 25811, 25810, 25820, 25821, 25817, 25818, 25807, 25804, 25791, 25798, 25796, 25810, 25810, 25827, 25826, 25829, 25832, 25838, 25834, 25836, 25828, 25821, 25831, 25845, 25841, 25851, 25853, 25849, 25851, 25857, 25853, 25860, 25863, 25856, 25849, 25866, 25867, 25866, 25864, 25875, 25867, 25870, 25863, 25868, 25860, 25864, 25856, 25841, 25843, 25840, 25851, 25855, 25865, 25866, 25857, 25852, 25849, 25823, 25828, 25824, 25813, 25817, 25817, 25818, 25811, 25811, 25817, 25821, 25815, 25826, 25836, 25844, 25853, 25845, 25859, 25852, 25866, 25882, 25883, 25903, 25895, 25888, 25880, 25891, 25905, 25908, 25919, 25922, 25929, 25936, 25947, 25947, 25945, 25940, 25946, 25942, 25950, 25965, 25962, 25966, 25959, 25946, 25929, 25925, 25912, 25922, 25928, 25929, 25917, 25917, 25920, 25919, 25922, 25922, 25924, 25918, 25923, 25919, 25921, 25924, 25934, 25938, 25926, 25939, 25926, 25928, 25914, 25911, 25918, 25913, 25916, 25912, 25920, 25931, 25946, 25932, 25944, 25948, 25945, 25956, 25964, 25975, 25978, 25976, 25977, 25987, 25967, 25956, 25946, 25964, 25972, 25967, 25952, 25945, 25947, 25947, 25942, 25929, 25928, 25935, 25939, 25945, 25946, 25950, 25949, 25959, 25960, 25952, 25948, 25948, 25953, 25963, 25963, 25965, 25964, 25970, 25976, 25987, 25972, 25970, 25972, 25977, 25973, 25970, 25972, 25972, 25975, 25983, 26000, 26006, 26016, 26019, 25996, 25995, 26001, 26012, 26025, 26025, 26042, 26038, 26029, 26022, 26025, 26036, 26020, 26035, 26033, 26055, 26068, 26072, 26073, 26068, 26066, 26062, 26074, 26078, 26073, 26081, 26088, 26087, 26085, 26080, 26073, 26067, 26054, 26050, 26070, 26064, 26068, 26065, 26071, 26069, 26065, 26077, 26070, 26077, 26074, 26076, 26073, 26091, 26086, 26079, 26077, 26083, 26093, 26109, 26100, 26105, 26124, 26121, 26128, 26119, 26109, 26107, 26111, 26111, 26107, 26092, 26092, 26096, 26091, 26100, 26114, 26107, 26113, 26111, 26101, 26097, 26100, 26115, 26115, 26132, 26131, 26137, 26124, 26123, 26124, 26129, 26127, 26122, 26126, 26109, 26097, 26092, 26110, 26112, 26103, 26111, 26115, 26119, 26119, 26120, 26120, 26125, 26114, 26121, 26131, 26123, 26116, 26103, 26119, 26110, 26113, 26111, 26110, 26115, 26107, 26116, 26111, 26100, 26108, 26085, 26101, 26102, 26094, 26092, 26086, 26093, 26095, 26094, 26106, 26106, 26100, 26096, 26101, 26100, 26092, 26093, 26098, 26097, 26092, 26102, 26097, 26090, 26087, 26093, 26093, 26085, 26089, 26088, 26080, 26081, 26088, 26089, 26078, 26073, 26089, 26085, 26076, 26069, 26063, 26052, 26058, 26060, 26080, 26103, 26117, 26122, 26135, 26127, 26135, 26141, 26140, 26143, 26127, 26105, 26099, 26103, 26114, 26111, 26114, 26116, 26122, 26105, 26108, 26119, 26099, 26091, 26098, 26077, 26066, 26062, 26065, 26071, 26078, 26068, 26069, 26057, 26059, 26052, 26058, 26055, 26051, 26064, 26062, 26072, 26076, 26075, 26077, 26062, 26058, 26076, 26089, 26079, 26084, 26090, 26102, 26103, 26110, 26111, 26107, 26095, 26085, 26068, 26056, 26072, 26072, 26067, 26057, 26049, 26035, 26037, 26037, 26033, 26024, 26033, 26047, 26055, 26046, 26042, 26032, 26023, 26038, 26042, 26047, 26042, 26055, 26055, 26043, 26039, 26031, 26048, 26049, 26042, 26041, 26041, 26048, 26052, 26058, 26048, 26043, 26033, 26034, 26026, 26019, 26004, 26006, 26003, 25997, 26003, 26002, 26004, 26001, 26007, 26009, 26012, 26004, 26015, 26015, 26019, 26010, 26009, 25992, 25989, 25979, 25967, 25981, 25969, 25943, 25941, 25937, 25933, 25940, 25938, 25934, 25919, 25918, 25910, 25914, 25919, 25900, 25906, 25916, 25929, 25929, 25924, 25916, 25906, 25893, 25895, 25891, 25897, 25905, 25895, 25892, 25899, 25898, 25894, 25905, 25904, 25900, 25902, 25907, 25899, 25897, 25902, 25913, 25908, 25905, 25886, 25885, 25876, 25882, 25877, 25862, 25871, 25877, 25867, 25865, 25855, 25835, 25827, 25839, 25851, 25873, 25873, 25882, 25886, 25876, 25882, 25902, 25915, 25908, 25905, 25914, 25932, 25952, 25946, 25927, 25921, 25920, 25931, 25930, 25937, 25938, 25937, 25932, 25942, 25934, 25937, 25925, 25912, 25922, 25928, 25917, 25910, 25894, 25906, 25902, 25896, 25898, 25882, 25892, 25902, 25898, 25896, 25893, 25882, 25885, 25872, 25867, 25873, 25881, 25885, 25877, 25876, 25868, 25854, 25852, 25840, 25833, 25836, 25836, 25841, 25846, 25855, 25861, 25864, 25855, 25856, 25861, 25860, 25867, 25870, 25881, 25873, 25878, 25881, 25878, 25867, 25865, 25847, 25847, 25848, 25836, 25846, 25835, 25838, 25820, 25803, 25804, 25799, 25800, 25806, 25813, 25820, 25826, 25822, 25845, 25856, 25862, 25865, 25868, 25873, 25884, 25884, 25886, 25884, 25883, 25892, 25906, 25902, 25895, 25881, 25871, 25882, 25889, 25889, 25887, 25883, 25880, 25887, 25876, 25880, 25899, 25885, 25876, 25873, 25885, 25893, 25894, 25890, 25885, 25888, 25885, 25869, 25869, 25880, 25896, 25895, 25907, 25909, 25912, 25913, 25922, 25928, 25913, 25915, 25930, 25940, 25931, 25933, 25941, 25947, 25950, 25948, 25934, 25937, 25932, 25934, 25925, 25934, 25952, 25967, 25945, 25934, 25938, 25929, 25929, 25916, 25927, 25932, 25938, 25936, 25943, 25962, 25961, 25957, 25962, 25987, 25984, 25988, 25998, 25991, 26002, 25998, 25988, 25996, 25998, 26007, 25988, 25987, 25995, 25981, 25974, 25955, 25944, 25952, 25967, 25960, 25968, 25962, 25960, 25970, 25980, 25997, 25977, 25971, 25954, 25946, 25949, 25946, 25939, 25943, 25931, 25952, 25948, 25939, 25944, 25947, 25935, 25944, 25942, 25948, 25937, 25942, 25942, 25947, 25944, 25960, 25967, 25953, 25962, 25967, 25972, 25985, 25988, 25974, 25994, 25995, 25993, 25991, 26002, 26012, 26007, 26008, 25998, 25997, 25989, 25984, 25996, 25997, 25983, 25991, 26004, 26015, 26023, 26028, 26021, 26031, 26026, 26020, 26023, 26042, 26056, 26051, 26050, 26050, 26055, 26066, 26065, 26048, 26044, 26065, 26067, 26071, 26073, 26075, 26065, 26060, 26075, 26066, 26055, 26047, 26053, 26051, 26055, 26042, 26035, 26053, 26056, 26063, 26063, 26058, 26038, 26036, 26037, 26016, 26016, 26018, 26018, 26008, 25989, 25979, 25963, 25968, 25977, 25969, 25969, 25980, 25975, 25970, 25976, 25969, 25966, 25983, 25980, 25993, 25988, 25995, 25987, 25991, 25979, 25981, 25997, 26002, 26000, 25998, 25999, 25993, 25984, 25997, 25989, 26003, 26024, 26025, 26026, 26037, 26038, 26030, 26024, 26027, 26025, 26032, 26034, 26027, 26033, 26029, 26032, 26020, 26031, 26018, 26019, 26014, 26015, 26024, 26018, 26007, 25992, 25996, 26002, 26004, 26002, 25989, 25984, 25992, 26002, 26025, 26029, 26022, 26033, 26045, 26040, 26055, 26052, 26040, 26046, 26039, 26029, 26026, 26020, 26029, 26021, 26027, 26021, 26031, 26049, 26036, 26029, 26023, 26038, 26017, 26019, 26013, 26006, 26005, 26018, 26010, 26018, 26023, 26031, 26031, 26056, 26047, 26033, 26036, 26031, 26039, 26027, 26023, 26027, 26020, 26020, 26021, 26010, 26016, 26019, 26013, 26006, 26009, 26006, 26004, 26010, 26030, 26048, 26046, 26031, 26030, 26034, 26027, 26038, 26030, 26031, 26041, 26042, 26044, 26043, 26044, 26042, 26036, 26035, 26042, 26056, 26046, 26047, 26032, 26047, 26039, 26018, 26020, 26033, 26028, 26041, 26038, 26042, 26052, 26060, 26064, 26069, 26068, 26066, 26065, 26068, 26058, 26060, 26058, 26051, 26059, 26046, 26047, 26051, 26039, 26028, 26030, 26043, 26051, 26050, 26061, 26073, 26083, 26091, 26084, 26080, 26084, 26089, 26085, 26095, 26093, 26107, 26110, 26125, 26136, 26131, 26142, 26150, 26148, 26151, 26154, 26155, 26155, 26153, 26143, 26148, 26147, 26139, 26130, 26152, 26148, 26152, 26150, 26154, 26152, 26147, 26158, 26166, 26186, 26188, 26189, 26189, 26196, 26199, 26186, 26179, 26162, 26164, 26152, 26150, 26151, 26155, 26166, 26157, 26149, 26151, 26156, 26136, 26124, 26117, 26105, 26100, 26088, 26071, 26075, 26075, 26076, 26071, 26085, 26082, 26091, 26078, 26073, 26066, 26070, 26063, 26081, 26098, 26088, 26085, 26100, 26093, 26085, 26085, 26076, 26090, 26087, 26080, 26081, 26090, 26089, 26091, 26087, 26077, 26089, 26092, 26102, 26095, 26088, 26067, 26074, 26080, 26089, 26086, 26082, 26089, 26074, 26072, 26093, 26088, 26075, 26067, 26063, 26060, 26049, 26040, 26049, 26046, 26034, 26055, 26049, 26047, 26041, 26038, 26038, 26034, 26043, 26052, 26071, 26072, 26078, 26066, 26065, 26076, 26075, 26069, 26058, 26050, 26055, 26070, 26081, 26092, 26088, 26072, 26080, 26089, 26085, 26090, 26097, 26091, 26102, 26109, 26101, 26115, 26105, 26091, 26090, 26102, 26091, 26092, 26072, 26071, 26078, 26065, 26052, 26044, 26047, 26040, 26042, 26041, 26065, 26080, 26084, 26089, 26085, 26095, 26114, 26125, 26131, 26127, 26130, 26130, 26136, 26126, 26121, 26105, 26102, 26107, 26104, 26105, 26100, 26103, 26096, 26099, 26100, 26105, 26101, 26099, 26089, 26101, 26112, 26119, 26120, 26124, 26116, 26106, 26103, 26107, 26107, 26105, 26092, 26102, 26109, 26096, 26077, 26086, 26096, 26079, 26079, 26076, 26073, 26081, 26090, 26105, 26105, 26116, 26106, 26113, 26110, 26117, 26131, 26128, 26124, 26124, 26129, 26124, 26125, 26122, 26123, 26120, 26124, 26131, 26116, 26113, 26131, 26137, 26141, 26143, 26153, 26149, 26147, 26141, 26148, 26152, 26141, 26154, 26149, 26154, 26159, 26157, 26152, 26162, 26150, 26158, 26147, 26144, 26137, 26139, 26140, 26152, 26161, 26167, 26174, 26186, 26184, 26192, 26183, 26181, 26178, 26175, 26186, 26178, 26160, 26152, 26141, 26154, 26152, 26160, 26175, 26167, 26167, 26157, 26157, 26145, 26141, 26146, 26135, 26137, 26136, 26124, 26130, 26132, 26141, 26132, 26128, 26131, 26134, 26157, 26160, 26170, 26175, 26171, 26177, 26168, 26166, 26163, 26171, 26174, 26154, 26151, 26163, 26158, 26154, 26153, 26172, 26176, 26197, 26203, 26205, 26216, 26216, 26210, 26209, 26196, 26201, 26193, 26182, 26184, 26182, 26189, 26180, 26178, 26160, 26183, 26178, 26179, 26170, 26170, 26181, 26184, 26182, 26174, 26174, 26163, 26159, 26157, 26140, 26133, 26130, 26125, 26121, 26128, 26122, 26123, 26132, 26153, 26163, 26172, 26176, 26159, 26156, 26159, 26160, 26150, 26134, 26139, 26128, 26131, 26130, 26134, 26133, 26139, 26133, 26138, 26125, 26131, 26140, 26141, 26137, 26135, 26134, 26146, 26132, 26134, 26127, 26129, 26134, 26149, 26145, 26152, 26158, 26145, 26144, 26152, 26164, 26168, 26170, 26168, 26153, 26166, 26153, 26157, 26161, 26146, 26147, 26151, 26156, 26166, 26162, 26179, 26193, 26193, 26190, 26204, 26191, 26193, 26199, 26209, 26211, 26232, 26226, 26226, 26245, 26238, 26235, 26237, 26237, 26215, 26206, 26213, 26206, 26193, 26193, 26186, 26195, 26200, 26189, 26180, 26183, 26176, 26170, 26177, 26180, 26202, 26197, 26197, 26179, 26184, 26197, 26208, 26197, 26193, 26202, 26222, 26246, 26235, 26238, 26229, 26211, 26213, 26205, 26200, 26186, 26180, 26194, 26180, 26174, 26183, 26198, 26204, 26201, 26202, 26213, 26212, 26218, 26195, 26187, 26195, 26201, 26199, 26208, 26206, 26187, 26190, 26205, 26211, 26209, 26203, 26209, 26204, 26195, 26200, 26200, 26190, 26196, 26211, 26213, 26200, 26193, 26195, 26194, 26191, 26201, 26206, 26217, 26214, 26222, 26232, 26215, 26208, 26214, 26213, 26211, 26208, 26204, 26193, 26193, 26181, 26191, 26200, 26209, 26212, 26215, 26219, 26209, 26221, 26218, 26211, 26212, 26210, 26200, 26220, 26220, 26230, 26238, 26234, 26227, 26237, 26241, 26227, 26217, 26196, 26186, 26179, 26165, 26161, 26175, 26178, 26187, 26184, 26178, 26180, 26172, 26174, 26194, 26207, 26222, 26228, 26224, 26230, 26230, 26240, 26239, 26232, 26219, 26207, 26225, 26219, 26196, 26193, 26184, 26174, 26168, 26163, 26166, 26162, 26182, 26177, 26181, 26167, 26171, 26175, 26188, 26174, 26172, 26191, 26196, 26186, 26189, 26178, 26181, 26172, 26183, 26171, 26179, 26178, 26193, 26187, 26193, 26189, 26185, 26181, 26195, 26209, 26195, 26196, 26198, 26192, 26193, 26199, 26187, 26191, 26192, 26173, 26189, 26195, 26208, 26197, 26200, 26187, 26195, 26190, 26191, 26189, 26198, 26199, 26191, 26191, 26197, 26198, 26191, 26196, 26197, 26182, 26179, 26174, 26163, 26157, 26167, 26158, 26166, 26165, 26159, 26153, 26163, 26168, 26157, 26136, 26143, 26144, 26146, 26142, 26135, 26147, 26148, 26126, 26134, 26145, 26128, 26137, 26127, 26122, 26133, 26117, 26106, 26100, 26103, 26105, 26100, 26099, 26112, 26120, 26128, 26113, 26123, 26133, 26126, 26119, 26113, 26113, 26123, 26117, 26114, 26106, 26102, 26090, 26092, 26094, 26094, 26090, 26101, 26095, 26095, 26092, 26103, 26110, 26109, 26113, 26112, 26108, 26100, 26112, 26122, 26112, 26102, 26096, 26096, 26101, 26116, 26122, 26106, 26102, 26110, 26108, 26101, 26098, 26099, 26104, 26097, 26074, 26064, 26057, 26056, 26052, 26042, 26038, 26027, 26034, 26042, 26057, 26059, 26052, 26039, 26050, 26067, 26054, 26056, 26052, 26043, 26034, 26025, 26033, 26023, 26019, 26032, 26045, 26047, 26054, 26056, 26062, 26068, 26071, 26082, 26072, 26073, 26077, 26080, 26071, 26078, 26066, 26060, 26064, 26078, 26087, 26090, 26094, 26092, 26094, 26085, 26072, 26074, 26079, 26065, 26059, 26037, 26013, 26026, 26022, 26020, 26040, 26038, 26034, 26034, 26027, 26031, 26031, 26052, 26038, 26027, 26041, 26042, 26028, 26029, 26037, 26039, 26036, 26031, 26025, 26037, 26043, 26050, 26060, 26061, 26071, 26081, 26075, 26065, 26066, 26058, 26063, 26077, 26056, 26052, 26065, 26049, 26044, 26047, 26046, 26039, 26029, 26006, 26004, 26007, 26015, 26008, 26009, 26001, 26003, 26008, 26007, 26000, 26015, 26013, 26019, 26022, 26006, 26014, 26015, 26017, 26021, 26016, 26021, 26022, 26029, 26014, 26028, 26020, 26038, 26039, 26035, 26040, 26026, 26006, 26012, 26014, 26015, 26028, 26022, 26027, 26013, 26016, 26029, 26031, 26033, 26035, 26038, 26041, 26038, 26021, 26015, 26020, 26025, 26025, 26023, 26035, 26024, 26022, 26016, 26009, 26015, 26015, 26016, 26004, 26015, 26007, 26002, 26008, 26014, 26014, 25999, 26002, 25997, 25987, 25985, 25976, 25979, 25965, 25979, 25969, 25973, 25965, 25958, 25957, 25957, 25957, 25948, 25949, 25955, 25957, 25954, 25964, 25968, 25955, 25955, 25966, 25976, 25993, 26004, 26012, 25998, 26014, 26023, 26011, 26018, 26005, 26005, 25997, 25999, 25995, 25999, 25997, 25989, 25986, 25976, 25966, 25976, 25973, 25958, 25938, 25920, 25907, 25889, 25900, 25902, 25913, 25912, 25926, 25916, 25931, 25936, 25927, 25935, 25923, 25917, 25908, 25887, 25892, 25896, 25898, 25892, 25897, 25883, 25900, 25912, 25902, 25903, 25898, 25917, 25908, 25894, 25881, 25887, 25879, 25885, 25892, 25893, 25902, 25912, 25911, 25917, 25911, 25916, 25912, 25893, 25889, 25865, 25876, 25879, 25882, 25901, 25918, 25920, 25920, 25913, 25929, 25925, 25930, 25928, 25928, 25910, 25906, 25902, 25925, 25920, 25928, 25927, 25935, 25931, 25929, 25919, 25900, 25907, 25911, 25903, 25894, 25896, 25888, 25887, 25878, 25874, 25877, 25883, 25892, 25884, 25875, 25853, 25870, 25870, 25865, 25858, 25841, 25831, 25836, 25818, 25818, 25812, 25821, 25825, 25818, 25799, 25791, 25793, 25789, 25790, 25805, 25814, 25816, 25809, 25818, 25814, 25815, 25817, 25821, 25818, 25805, 25812, 25823, 25826, 25813, 25836, 25839, 25849, 25857, 25839, 25831, 25837, 25824, 25832, 25822, 25837, 25828, 25827, 25826, 25841, 25842, 25855, 25859, 25862, 25858, 25858, 25855, 25858, 25845, 25851, 25857, 25854, 25863, 25863, 25843, 25850, 25866, 25866, 25859, 25857, 25854, 25859, 25860, 25873, 25876, 25877, 25890, 25906, 25912, 25929, 25928, 25920, 25921, 25946, 25948, 25942, 25953, 25947, 25952, 25971, 25981, 25986, 25972, 25975, 25976, 25993, 25992, 25990, 25992, 25983, 25986, 25990, 25998, 25998, 26005, 26020, 26028, 26025, 26041, 26058, 26058, 26074, 26067, 26071, 26071, 26078, 26074, 26077, 26071, 26061, 26065, 26050, 26034, 26039, 26044, 26060, 26054, 26037, 26029, 26037, 26044, 26052, 26055, 26037, 26027, 26016, 26018, 26005, 26008, 26001, 25988, 25975, 25996, 26002, 26014, 26013, 26026, 26033, 26033, 26034, 26028, 26020, 26038, 26025, 26022, 26024, 26025, 26025, 26038, 26041, 26062, 26054, 26046, 26052, 26049, 26046, 26058, 26044, 26054, 26047, 26042, 26049, 26048, 26063, 26072, 26072, 26084, 26088, 26101, 26103, 26115, 26123, 26119, 26124, 26146, 26146, 26135, 26122, 26118, 26119, 26107, 26111, 26120, 26119, 26116, 26115, 26117, 26111, 26114, 26103, 26101, 26111, 26131, 26131, 26138, 26122, 26138, 26136, 26129, 26136, 26151, 26155, 26147, 26143, 26136, 26149, 26149, 26128, 26121, 26131, 26116, 26097, 26088, 26091, 26091, 26087, 26067, 26057, 26063, 26059, 26056, 26051, 26045, 26043, 26036, 26029, 26013, 26005, 26017, 26021, 26042, 26035, 26029, 26026, 26027, 26025, 26010, 26032, 26051, 26044, 26037, 26045, 26048, 26037, 26041, 26049, 26041, 26049, 26043, 26060, 26081, 26083, 26090, 26095, 26091, 26096, 26113, 26131, 26137, 26139, 26123, 26118, 26112, 26132, 26122, 26129, 26130, 26140, 26157, 26159, 26167, 26172, 26179, 26180, 26187, 26182, 26171, 26180, 26190, 26191, 26187, 26167, 26181, 26193, 26199, 26192, 26205, 26184, 26181, 26190, 26200, 26201, 26214, 26198, 26199, 26207, 26213, 26219, 26220, 26235, 26234, 26236, 26230, 26242, 26226, 26221, 26230, 26225, 26229, 26227, 26243, 26243, 26248, 26259, 26240, 26242, 26245, 26245, 26238, 26225, 26231, 26240, 26245, 26250, 26248, 26233, 26218, 26227, 26220, 26227, 26219, 26202, 26192, 26197, 26188, 26174, 26189, 26195, 26183, 26186, 26188, 26183, 26187, 26171, 26180, 26181, 26200, 26201, 26200, 26220, 26237, 26255, 26267, 26279, 26280, 26289, 26293, 26280, 26292, 26300, 26302, 26307, 26315, 26313, 26322, 26313, 26318, 26315, 26319, 26301, 26309, 26309, 26301, 26300, 26317, 26317, 26331, 26331, 26342, 26350, 26356, 26352, 26350, 26347, 26360, 26364, 26367, 26369, 26368, 26352, 26365, 26354, 26356, 26355, 26371, 26379, 26358, 26356, 26364, 26364, 26356, 26355, 26368, 26361, 26364, 26367, 26370, 26386, 26373, 26374, 26373, 26380, 26365, 26373, 26378, 26371, 26371, 26369, 26364, 26359, 26360, 26348, 26348, 26348, 26336, 26336, 26338, 26322, 26343, 26330, 26322, 26323, 26322, 26331, 26346, 26327, 26319, 26317, 26311, 26320, 26322, 26314, 26317, 26323, 26325, 26312, 26317, 26326, 26322, 26321, 26328, 26332, 26342, 26333, 26328, 26327, 26329, 26320, 26320, 26322, 26332, 26335, 26336, 26327, 26322, 26314, 26308, 26301, 26309, 26311, 26322, 26315, 26321, 26327, 26322, 26313, 26295, 26292, 26293, 26291, 26304, 26301, 26323, 26336, 26321, 26313, 26324, 26315, 26322, 26328, 26317, 26311, 26309, 26305, 26312, 26321, 26340, 26361, 26383, 26384, 26395, 26397, 26389, 26384, 26388, 26395, 26395, 26402, 26401, 26398, 26384, 26387, 26376, 26372, 26377, 26366, 26368, 26378, 26378, 26363, 26355, 26347, 26333, 26337, 26351, 26349, 26361, 26383, 26384, 26383, 26373, 26368, 26368, 26357, 26354, 26353, 26354, 26350, 26362, 26362, 26371, 26370, 26380, 26398, 26393, 26388, 26385, 26384, 26377, 26363, 26361, 26363, 26360, 26378, 26376, 26373, 26364, 26365, 26360, 26369, 26375, 26381, 26382, 26385, 26378, 26355, 26350, 26372, 26378, 26377, 26386, 26387, 26371, 26369, 26363, 26350, 26355, 26344, 26348, 26353, 26354, 26363, 26366, 26375, 26372, 26381, 26381, 26376, 26375, 26373, 26361, 26373, 26370, 26379, 26367, 26366, 26368, 26380, 26386, 26372, 26368, 26380, 26391, 26376, 26381, 26400, 26408, 26414, 26418, 26430, 26450, 26450, 26444, 26442, 26444, 26433, 26426, 26423, 26434, 26428, 26416, 26400, 26420, 26430, 26438, 26423, 26431, 26453, 26442, 26428]}],\n",
              "                        {\"paper_bgcolor\": \"#dec7f2\", \"template\": {\"data\": {\"bar\": [{\"error_x\": {\"color\": \"#2a3f5f\"}, \"error_y\": {\"color\": \"#2a3f5f\"}, \"marker\": {\"line\": {\"color\": \"#E5ECF6\", \"width\": 0.5}}, \"type\": \"bar\"}], \"barpolar\": [{\"marker\": {\"line\": {\"color\": \"#E5ECF6\", \"width\": 0.5}}, \"type\": \"barpolar\"}], \"carpet\": [{\"aaxis\": {\"endlinecolor\": \"#2a3f5f\", \"gridcolor\": \"white\", \"linecolor\": \"white\", \"minorgridcolor\": \"white\", \"startlinecolor\": \"#2a3f5f\"}, \"baxis\": {\"endlinecolor\": \"#2a3f5f\", \"gridcolor\": \"white\", \"linecolor\": \"white\", \"minorgridcolor\": \"white\", \"startlinecolor\": \"#2a3f5f\"}, \"type\": \"carpet\"}], \"choropleth\": [{\"colorbar\": {\"outlinewidth\": 0, \"ticks\": \"\"}, \"type\": \"choropleth\"}], \"contour\": [{\"colorbar\": {\"outlinewidth\": 0, \"ticks\": \"\"}, \"colorscale\": [[0.0, \"#0d0887\"], [0.1111111111111111, \"#46039f\"], [0.2222222222222222, \"#7201a8\"], [0.3333333333333333, \"#9c179e\"], [0.4444444444444444, \"#bd3786\"], [0.5555555555555556, \"#d8576b\"], [0.6666666666666666, \"#ed7953\"], [0.7777777777777778, \"#fb9f3a\"], [0.8888888888888888, \"#fdca26\"], [1.0, \"#f0f921\"]], \"type\": \"contour\"}], \"contourcarpet\": [{\"colorbar\": {\"outlinewidth\": 0, \"ticks\": \"\"}, \"type\": \"contourcarpet\"}], \"heatmap\": [{\"colorbar\": {\"outlinewidth\": 0, \"ticks\": \"\"}, \"colorscale\": [[0.0, \"#0d0887\"], [0.1111111111111111, \"#46039f\"], [0.2222222222222222, \"#7201a8\"], [0.3333333333333333, \"#9c179e\"], [0.4444444444444444, \"#bd3786\"], [0.5555555555555556, \"#d8576b\"], [0.6666666666666666, \"#ed7953\"], [0.7777777777777778, \"#fb9f3a\"], [0.8888888888888888, \"#fdca26\"], [1.0, \"#f0f921\"]], \"type\": \"heatmap\"}], \"heatmapgl\": [{\"colorbar\": {\"outlinewidth\": 0, \"ticks\": \"\"}, \"colorscale\": [[0.0, \"#0d0887\"], [0.1111111111111111, \"#46039f\"], [0.2222222222222222, \"#7201a8\"], [0.3333333333333333, \"#9c179e\"], [0.4444444444444444, \"#bd3786\"], [0.5555555555555556, \"#d8576b\"], [0.6666666666666666, \"#ed7953\"], [0.7777777777777778, \"#fb9f3a\"], [0.8888888888888888, \"#fdca26\"], [1.0, \"#f0f921\"]], \"type\": \"heatmapgl\"}], \"histogram\": [{\"marker\": {\"colorbar\": {\"outlinewidth\": 0, \"ticks\": \"\"}}, \"type\": \"histogram\"}], \"histogram2d\": [{\"colorbar\": {\"outlinewidth\": 0, \"ticks\": \"\"}, \"colorscale\": [[0.0, \"#0d0887\"], [0.1111111111111111, \"#46039f\"], [0.2222222222222222, \"#7201a8\"], [0.3333333333333333, \"#9c179e\"], [0.4444444444444444, \"#bd3786\"], [0.5555555555555556, \"#d8576b\"], [0.6666666666666666, \"#ed7953\"], [0.7777777777777778, \"#fb9f3a\"], [0.8888888888888888, \"#fdca26\"], [1.0, \"#f0f921\"]], \"type\": \"histogram2d\"}], \"histogram2dcontour\": [{\"colorbar\": {\"outlinewidth\": 0, \"ticks\": \"\"}, \"colorscale\": [[0.0, \"#0d0887\"], [0.1111111111111111, \"#46039f\"], [0.2222222222222222, \"#7201a8\"], [0.3333333333333333, \"#9c179e\"], [0.4444444444444444, \"#bd3786\"], [0.5555555555555556, \"#d8576b\"], [0.6666666666666666, \"#ed7953\"], [0.7777777777777778, \"#fb9f3a\"], [0.8888888888888888, \"#fdca26\"], [1.0, \"#f0f921\"]], \"type\": \"histogram2dcontour\"}], \"mesh3d\": [{\"colorbar\": {\"outlinewidth\": 0, \"ticks\": \"\"}, \"type\": \"mesh3d\"}], \"parcoords\": [{\"line\": {\"colorbar\": {\"outlinewidth\": 0, \"ticks\": \"\"}}, \"type\": \"parcoords\"}], \"pie\": [{\"automargin\": true, \"type\": \"pie\"}], \"scatter\": [{\"marker\": {\"colorbar\": {\"outlinewidth\": 0, \"ticks\": \"\"}}, \"type\": \"scatter\"}], \"scatter3d\": [{\"line\": {\"colorbar\": {\"outlinewidth\": 0, \"ticks\": \"\"}}, \"marker\": {\"colorbar\": {\"outlinewidth\": 0, \"ticks\": \"\"}}, \"type\": \"scatter3d\"}], \"scattercarpet\": [{\"marker\": {\"colorbar\": {\"outlinewidth\": 0, \"ticks\": \"\"}}, \"type\": \"scattercarpet\"}], \"scattergeo\": [{\"marker\": {\"colorbar\": {\"outlinewidth\": 0, \"ticks\": \"\"}}, \"type\": \"scattergeo\"}], \"scattergl\": [{\"marker\": {\"colorbar\": {\"outlinewidth\": 0, \"ticks\": \"\"}}, \"type\": \"scattergl\"}], \"scattermapbox\": [{\"marker\": {\"colorbar\": {\"outlinewidth\": 0, \"ticks\": \"\"}}, \"type\": \"scattermapbox\"}], \"scatterpolar\": [{\"marker\": {\"colorbar\": {\"outlinewidth\": 0, \"ticks\": \"\"}}, \"type\": \"scatterpolar\"}], \"scatterpolargl\": [{\"marker\": {\"colorbar\": {\"outlinewidth\": 0, \"ticks\": \"\"}}, \"type\": \"scatterpolargl\"}], \"scatterternary\": [{\"marker\": {\"colorbar\": {\"outlinewidth\": 0, \"ticks\": \"\"}}, \"type\": \"scatterternary\"}], \"surface\": [{\"colorbar\": {\"outlinewidth\": 0, \"ticks\": \"\"}, \"colorscale\": [[0.0, \"#0d0887\"], [0.1111111111111111, \"#46039f\"], [0.2222222222222222, \"#7201a8\"], [0.3333333333333333, \"#9c179e\"], [0.4444444444444444, \"#bd3786\"], [0.5555555555555556, \"#d8576b\"], [0.6666666666666666, \"#ed7953\"], [0.7777777777777778, \"#fb9f3a\"], [0.8888888888888888, \"#fdca26\"], [1.0, \"#f0f921\"]], \"type\": \"surface\"}], \"table\": [{\"cells\": {\"fill\": {\"color\": \"#EBF0F8\"}, \"line\": {\"color\": \"white\"}}, \"header\": {\"fill\": {\"color\": \"#C8D4E3\"}, \"line\": {\"color\": \"white\"}}, \"type\": \"table\"}]}, \"layout\": {\"annotationdefaults\": {\"arrowcolor\": \"#2a3f5f\", \"arrowhead\": 0, \"arrowwidth\": 1}, \"coloraxis\": {\"colorbar\": {\"outlinewidth\": 0, \"ticks\": \"\"}}, \"colorscale\": {\"diverging\": [[0, \"#8e0152\"], [0.1, \"#c51b7d\"], [0.2, \"#de77ae\"], [0.3, \"#f1b6da\"], [0.4, \"#fde0ef\"], [0.5, \"#f7f7f7\"], [0.6, \"#e6f5d0\"], [0.7, \"#b8e186\"], [0.8, \"#7fbc41\"], [0.9, \"#4d9221\"], [1, \"#276419\"]], \"sequential\": [[0.0, \"#0d0887\"], [0.1111111111111111, \"#46039f\"], [0.2222222222222222, \"#7201a8\"], [0.3333333333333333, \"#9c179e\"], [0.4444444444444444, \"#bd3786\"], [0.5555555555555556, \"#d8576b\"], [0.6666666666666666, \"#ed7953\"], [0.7777777777777778, \"#fb9f3a\"], [0.8888888888888888, \"#fdca26\"], [1.0, \"#f0f921\"]], \"sequentialminus\": [[0.0, \"#0d0887\"], [0.1111111111111111, \"#46039f\"], [0.2222222222222222, \"#7201a8\"], [0.3333333333333333, \"#9c179e\"], [0.4444444444444444, \"#bd3786\"], [0.5555555555555556, \"#d8576b\"], [0.6666666666666666, \"#ed7953\"], [0.7777777777777778, \"#fb9f3a\"], [0.8888888888888888, \"#fdca26\"], [1.0, \"#f0f921\"]]}, \"colorway\": [\"#636efa\", \"#EF553B\", \"#00cc96\", \"#ab63fa\", \"#FFA15A\", \"#19d3f3\", \"#FF6692\", \"#B6E880\", \"#FF97FF\", \"#FECB52\"], \"font\": {\"color\": \"#2a3f5f\"}, \"geo\": {\"bgcolor\": \"white\", \"lakecolor\": \"white\", \"landcolor\": \"#E5ECF6\", \"showlakes\": true, \"showland\": true, \"subunitcolor\": \"white\"}, \"hoverlabel\": {\"align\": \"left\"}, \"hovermode\": \"closest\", \"mapbox\": {\"style\": \"light\"}, \"paper_bgcolor\": \"white\", \"plot_bgcolor\": \"#E5ECF6\", \"polar\": {\"angularaxis\": {\"gridcolor\": \"white\", \"linecolor\": \"white\", \"ticks\": \"\"}, \"bgcolor\": \"#E5ECF6\", \"radialaxis\": {\"gridcolor\": \"white\", \"linecolor\": \"white\", \"ticks\": \"\"}}, \"scene\": {\"xaxis\": {\"backgroundcolor\": \"#E5ECF6\", \"gridcolor\": \"white\", \"gridwidth\": 2, \"linecolor\": \"white\", \"showbackground\": true, \"ticks\": \"\", \"zerolinecolor\": \"white\"}, \"yaxis\": {\"backgroundcolor\": \"#E5ECF6\", \"gridcolor\": \"white\", \"gridwidth\": 2, \"linecolor\": \"white\", \"showbackground\": true, \"ticks\": \"\", \"zerolinecolor\": \"white\"}, \"zaxis\": {\"backgroundcolor\": \"#E5ECF6\", \"gridcolor\": \"white\", \"gridwidth\": 2, \"linecolor\": \"white\", \"showbackground\": true, \"ticks\": \"\", \"zerolinecolor\": \"white\"}}, \"shapedefaults\": {\"line\": {\"color\": \"#2a3f5f\"}}, \"ternary\": {\"aaxis\": {\"gridcolor\": \"white\", \"linecolor\": \"white\", \"ticks\": \"\"}, \"baxis\": {\"gridcolor\": \"white\", \"linecolor\": \"white\", \"ticks\": \"\"}, \"bgcolor\": \"#E5ECF6\", \"caxis\": {\"gridcolor\": \"white\", \"linecolor\": \"white\", \"ticks\": \"\"}}, \"title\": {\"x\": 0.05}, \"xaxis\": {\"automargin\": true, \"gridcolor\": \"white\", \"linecolor\": \"white\", \"ticks\": \"\", \"title\": {\"standoff\": 15}, \"zerolinecolor\": \"white\", \"zerolinewidth\": 2}, \"yaxis\": {\"automargin\": true, \"gridcolor\": \"white\", \"linecolor\": \"white\", \"ticks\": \"\", \"title\": {\"standoff\": 15}, \"zerolinecolor\": \"white\", \"zerolinewidth\": 2}}}, \"title\": {\"text\": \"Time series for Invalid file 1 and Invalid file 2 \"}, \"xaxis\": {\"title\": {\"text\": \"Time(sec)\"}}, \"yaxis\": {\"title\": {\"text\": \"Accel norm\"}}},\n",
              "                        {\"responsive\": true}\n",
              "                    ).then(function(){\n",
              "                            \n",
              "var gd = document.getElementById('21077a54-67ed-4bd4-86d7-676661514ced');\n",
              "var x = new MutationObserver(function (mutations, observer) {{\n",
              "        var display = window.getComputedStyle(gd).display;\n",
              "        if (!display || display === 'none') {{\n",
              "            console.log([gd, 'removed!']);\n",
              "            Plotly.purge(gd);\n",
              "            observer.disconnect();\n",
              "        }}\n",
              "}});\n",
              "\n",
              "// Listen for the removal of the full notebook cells\n",
              "var notebookContainer = gd.closest('#notebook-container');\n",
              "if (notebookContainer) {{\n",
              "    x.observe(notebookContainer, {childList: true});\n",
              "}}\n",
              "\n",
              "// Listen for the clearing of the current output cell\n",
              "var outputEl = gd.closest('.output');\n",
              "if (outputEl) {{\n",
              "    x.observe(outputEl, {childList: true});\n",
              "}}\n",
              "\n",
              "                        })\n",
              "                };\n",
              "                \n",
              "            </script>\n",
              "        </div>\n",
              "</body>\n",
              "</html>"
            ]
          },
          "metadata": {
            "tags": []
          }
        }
      ]
    },
    {
      "cell_type": "code",
      "metadata": {
        "id": "nYzeDcPUIOd5",
        "colab_type": "code",
        "colab": {}
      },
      "source": [
        ""
      ],
      "execution_count": 0,
      "outputs": []
    }
  ]
}